{
 "cells": [
  {
   "cell_type": "markdown",
   "metadata": {},
   "source": [
    "Test of LLAMA API using replicate\n",
    "\n",
    "I am a bit confused about the LLama model because I've seen tutorials using the replicate library to run the requests remotely. Which would mean, that the LLama model otherwise runs locally? \n",
    "Therefore, I dont even know, whether this library is necessary. Also, you have to get a second token to be able to use replicate, meaning you not only pay for the LLama usage, but also the computational power of the replicate ressources? \n",
    "\n",
    "LLama_test2 does not use this library, but since I implemented the code already, we might still be able to learn something from it. "
   ]
  },
  {
   "cell_type": "code",
   "execution_count": 2,
   "metadata": {},
   "outputs": [],
   "source": [
    "import replicate\n",
    "import os\n",
    "\n",
    "# Set API Key\n",
    "REPLICATE_API_TOKEN = os.environ[\"REPLICATE_API_TOKEN\"] # not useful, just setting environment variable is sufficient I think "
   ]
  },
  {
   "cell_type": "code",
   "execution_count": 6,
   "metadata": {},
   "outputs": [
    {
     "name": "stdout",
     "output_type": "stream",
     "text": [
      "<generator object Prediction.output_iterator at 0x000001F3FEF8B5B0>\n"
     ]
    }
   ],
   "source": [
    "response = \"\"\n",
    "\n",
    "for i in range(10):\n",
    "  output = replicate.run(\n",
    "    \"meta/llama-2-70b-chat:02e509c789964a7ea8736978a43525956ef40397be9033abf9fd2badfe68c9e3\",\n",
    "    \"temperature\": 0.5, \"max_length\": 2, \n",
    "    input={\n",
    "      \"prompt\": \"\"\"You are presented with the following subscription alternatives for the \"The Economist\" magazine:\n",
    "          A: One-year subscription to Economist.com. Includes online access to all articles from The Economist since 1997, priced at 59$.\n",
    "          B: One-year subscription to the print edition of The Economist, priced at 125$.\n",
    "          C: One-year subscription to the print edition of The Economist and online access to all articles from The Economist since 1997, priced at 125$.\n",
    "          Which alternative would you choose? Please answer by only giving the letter of the alternative you would choose without any reasoning.\"\"\"\n",
    "    }\n",
    "  )\n",
    "  \n",
    "  for item in output:\n",
    "    response = response + item[\"text\"] + \"\\n\""
   ]
  },
  {
   "cell_type": "code",
   "execution_count": 7,
   "metadata": {},
   "outputs": [
    {
     "name": "stdout",
     "output_type": "stream",
     "text": [
      " C\n"
     ]
    }
   ],
   "source": [
    "full_response = \"\"\n",
    "\n",
    "for item in output:\n",
    "    full_response = full_response + item \n",
    "print(full_response)"
   ]
  },
  {
   "cell_type": "code",
   "execution_count": null,
   "metadata": {},
   "outputs": [],
   "source": []
  }
 ],
 "metadata": {
  "kernelspec": {
   "display_name": "Python 3",
   "language": "python",
   "name": "python3"
  },
  "language_info": {
   "codemirror_mode": {
    "name": "ipython",
    "version": 3
   },
   "file_extension": ".py",
   "mimetype": "text/x-python",
   "name": "python",
   "nbconvert_exporter": "python",
   "pygments_lexer": "ipython3",
   "version": "3.11.6"
  }
 },
 "nbformat": 4,
 "nbformat_minor": 2
}
