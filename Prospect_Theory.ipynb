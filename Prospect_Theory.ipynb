{
 "cells": [
  {
   "cell_type": "markdown",
   "metadata": {},
   "source": [
    "## Prospect Theory\n",
    "\n",
    "This notebook aims to recreate some of the findings of **Thaler, Richard (1985), “Mental Accounting and Consumer Choice,” Marketing Science, 4 (3), 199–214.** Specifically, we try to see if LLMs like **ChatGPT** abide by some rules of Mental Accounting and Prospect Theory.\n",
    "\n",
    "\n",
    "Maybe change it to was in every prompt? Who WAS happier? (original phrasing)"
   ]
  },
  {
   "cell_type": "markdown",
   "metadata": {},
   "source": [
    "## Original study: \n",
    "\n",
    "### Scenario 1: Segragation of gains\n",
    "- Mr. A was given tickets to lotteries involving the World Series. He won $50 in one lottery and $25 in the other.\n",
    "- Mr. B was given a ticket to a single, larger World Series lottery. He won $75. Who is happier?\n",
    "\n",
    "| Answer option | Frequency |\n",
    "|--------------|-----------|\n",
    "| A            | 56        |\n",
    "| B            | 16        |\n",
    "| No difference | 15      |\n",
    "\n",
    "(empirical results from the 1985 study) -> No segregation of gains for B\n",
    "\n",
    "### Scenario 2: Integration of losses\n",
    "- Mr. A received a letter from the IRS saying that he made a minor arithmetical mistake on his\n",
    "tax return and owed $100. He received a similar letter the same day from his state income tax\n",
    "authority saying he owed $50. There were no other repercussions from either mistake.\n",
    "- Mr. B received a letter from the IRS saying that he made a minor arithmetical mistake on his tax\n",
    "return and owed $150. There were no other repercussions from his mistake. Who was more upset?\n",
    "\n",
    "| Answer option | Frequency |\n",
    "|--------------|-----------|\n",
    "| A            | 66        |\n",
    "| B            | 14        |\n",
    "| No difference | 7      |\n",
    "\n",
    "(empirical results from the 1985 study) -> No integration of losses for B\n",
    "\n",
    "#### Scenario 3: Cancellation of losses against larger gains\n",
    "- Mr. A bought his first New York State lottery ticket and won $100. Also, in a freak accident,\n",
    "he damaged the rug in his apartment and had to pay the landlord $80.\n",
    "- Mr. B bought his first New York State lottery ticket and won $20? Who is happier?\n",
    "\n",
    "| Answer option | Frequency |\n",
    "|--------------|-----------|\n",
    "| A            | 22        |\n",
    "| B            | 61        |\n",
    "| No difference | 4      |\n",
    "\n",
    "(empirical results from the 1985 study) -> No cancellation of losses against larger gains for A\n",
    "\n",
    "\n",
    "#### Scenario 4: Segregation of \"silver linings\"\n",
    "- Mr. A's car was damaged in a parking lot. He had to spend $200 to repair the damage. The\n",
    "same day the car was damaged, he won $25 in the office football pool.\n",
    "- Mr. B's car was damaged in a parking lot. He had to spend $175 to repair the damage.\n",
    "Who was more upset?\n",
    "\n",
    "| Answer option | Frequency |\n",
    "|--------------|-----------|\n",
    "| A            | 19        |\n",
    "| B            | 63        |\n",
    "| No difference | 5      |\n",
    "\n",
    "(empirical results from the 1985 study) -> No segregation of \"silver linings\" for B.\n",
    "\n"
   ]
  },
  {
   "cell_type": "markdown",
   "metadata": {},
   "source": [
    "------------------------------------"
   ]
  },
  {
   "cell_type": "code",
   "execution_count": 5,
   "metadata": {},
   "outputs": [],
   "source": [
    "from openai import OpenAI\n",
    "import openai\n",
    "import matplotlib.pyplot as plt\n",
    "import os \n",
    "import numpy as np\n",
    "import pandas as pd\n",
    "from tqdm import tqdm\n",
    "import replicate"
   ]
  },
  {
   "cell_type": "code",
   "execution_count": 6,
   "metadata": {},
   "outputs": [],
   "source": [
    "# Get openAI API key (previously saved as environmental variable)\n",
    "openai.api_key = os.environ[\"OPENAI_API_KEY\"]\n",
    "\n",
    "# Set client\n",
    "client = OpenAI()\n",
    "\n",
    "# Set global plot style\n",
    "plt.style.use('seaborn-v0_8')\n",
    "\n",
    "# Set plots to be displayed in notebook\n",
    "%matplotlib inline"
   ]
  },
  {
   "cell_type": "code",
   "execution_count": 7,
   "metadata": {},
   "outputs": [],
   "source": [
    "# To make our results comparable to the original study, we compute original answer probabilities\n",
    "p_scenario1 = [f\"p(A): {round((56/(56+16+15)*100), 2)}%\", f\"p(B): {round((16/(56+16+15)*100), 2)}%\", f\"p(C): {round((15/(56+16+15)*100), 2)}%\"]\n",
    "p_scenario2 = [f\"p(A): {round((66/(66+14+7)*100), 2)}%\", f\"p(B): {round((14/(66+14+7)*100), 2)}%\", f\"p(C): {round((7/(66+14+7)*100), 2)}%\"]\n",
    "p_scenario3 = [f\"p(A): {round((22/(22+61+4)*100), 2)}%\", f\"p(B): {round((61/(22+61+4)*100), 2)}%\", f\"p(C): {round((4/(22+61+4)*100), 2)}%\"]\n",
    "p_scenario4 = [f\"p(A): {round((19/(19+63+5)*100), 2)}%\", f\"p(B): {round((63/(19+63+5)*100), 2)}%\", f\"p(C): {round((5/(19+63+5)*100), 2)}%\"]"
   ]
  },
  {
   "cell_type": "markdown",
   "metadata": {},
   "source": [
    "---------------------------"
   ]
  },
  {
   "cell_type": "markdown",
   "metadata": {},
   "source": [
    "#### Setting up the prompts used for the experiment\n",
    "\n",
    "We now formulate 8 different prompts: \n",
    "\n",
    "The first four prompts all describe different scenarios in which 2 people, Mister A and Mister B, each lose or win money. Most importantly, in every scenario, the monetary value they both lost or gained is the same. However, this is where Prospect Theory comes into play. Some of the gains/losses are separated or integrated and the four marketing implications of prospect theory arise: Segregation of gains, Integration of losses, cancellation of losses against larger gains and the segregation of \"silver linings\".\n",
    "\n",
    "The last four prompts describe the same situations as before. However, we now instruct the model to take the role of a market researcher that knows about the implications of Prospect Theory.\n",
    "\n",
    "(Since prompt formatting matters, for now we will not insert a line break mid-sentence and try to keep a scenario description for A/B in the same line)"
   ]
  },
  {
   "cell_type": "markdown",
   "metadata": {},
   "source": [
    "- Prompt 1: Segregation of gains (unprimed)"
   ]
  },
  {
   "cell_type": "code",
   "execution_count": 8,
   "metadata": {},
   "outputs": [],
   "source": [
    "prompt_1 = \"\"\"Mr. A was given tickets involving the World Series. He won 50$ in one lottery and $25 in the other. \n",
    "          Mr. B was given a ticket to a single, larger World Series lottery. He won $75. Based solely on this information, Who is happier? \n",
    "          A: Mister A\n",
    "          B: Mister B\n",
    "          C: No difference.         \n",
    "          Which option would you choose? Please answer by only giving the letter of the alternative you would choose without any reasoning.\"\"\"\n",
    "\n",
    "# Who is happier?"
   ]
  },
  {
   "cell_type": "markdown",
   "metadata": {},
   "source": [
    "- Prompt 2: Integration of losses (unprimed)"
   ]
  },
  {
   "cell_type": "code",
   "execution_count": 9,
   "metadata": {},
   "outputs": [],
   "source": [
    "prompt_2 = \"\"\"Mr. A received a letter from the IRS saying that he made a minor arithmetical mistake on his tax return and owed $100. \n",
    "         He received a similar letter the same day from his state income tax authority saying he owed $50. There were no other repercussions from either mistake. \n",
    "         Mr. B received a letter from the IRS saying that he made a minor arithmetical mistake on his tax return and owed $150. There were no other repercussions from his mistake. \n",
    "         Based solely on this information, who was more upset? \n",
    "         A: Mister A\n",
    "         B: Mister B\n",
    "         C: No difference.\n",
    "         Which option would you choose? Please answer by only giving the letter of the alternative you would choose without any reasoning.\"\"\"\n",
    "\n",
    "# Who is more upset?"
   ]
  },
  {
   "cell_type": "markdown",
   "metadata": {},
   "source": [
    "- Prompt 3: Cancellation of losses against larger gains (unprimed) # Add info about same day?"
   ]
  },
  {
   "cell_type": "code",
   "execution_count": 10,
   "metadata": {},
   "outputs": [],
   "source": [
    "prompt_3 = \"\"\"Mr. A bought his first New York State lottery ticket and won $100. Also, in a freak accident, he damaged the rug in his apartment and had to pay the landlord $80.\n",
    "         Mr. B bought his first New York State lottery ticket and won $20. Based solely on this information, who is happier? \n",
    "         A: Mister A\n",
    "         B: Mister B\n",
    "         C: No difference.\n",
    "         Which option would you choose? Please answer by only giving the letter of the alternative you would choose without any reasoning.\"\"\"\n",
    "\n",
    "# Who is happier?"
   ]
  },
  {
   "cell_type": "markdown",
   "metadata": {},
   "source": [
    "- Prompt 4: Segregation of \"silver linings\" (unprimed)"
   ]
  },
  {
   "cell_type": "code",
   "execution_count": 11,
   "metadata": {},
   "outputs": [],
   "source": [
    "prompt_4 = \"\"\"Mr. A's car was damaged in a parking lot. He had to spend $200 to repair the damage. The same day the car was damaged, he won $25 in the office football pool.\n",
    "         Mr. B's car was damaged in a parking lot. He had to spend $175 to repair the damage. Based solely on this information, who is more upset?\n",
    "         A: Mister A\n",
    "         B: Mister B\n",
    "         C: No difference.\n",
    "         Which option would you choose? Please answer by only giving the letter of the alternative you would choose without any reasoning.\"\"\"\n",
    "\n",
    "# Who is more upset?"
   ]
  },
  {
   "cell_type": "markdown",
   "metadata": {},
   "source": [
    "- Prompt 5: Segregation of gains (primed)"
   ]
  },
  {
   "cell_type": "code",
   "execution_count": 12,
   "metadata": {},
   "outputs": [],
   "source": [
    "prompt_5 = \"\"\"You are a market researcher and focus on Prospect Theory and Mental Accounting. In a survey you are presented the following situation: \n",
    "          Mr. A was given tickets involving the World Series. He won 50$ in one lottery and 25$ in the other. \n",
    "          Mr. B was given a ticket to a single, larger World Series lottery. He won 75$. Based solely on this information, who is happier?\n",
    "          A: Mister A\n",
    "          B: Mister B\n",
    "          C: No difference.\n",
    "          Which option would you choose? Please answer by only giving the letter of the alternative you would choose without any reasoning.\"\"\"\n",
    "\n",
    "# Who is happier?"
   ]
  },
  {
   "cell_type": "markdown",
   "metadata": {},
   "source": [
    "- Prompt 6: Integration of losses (primed)"
   ]
  },
  {
   "cell_type": "code",
   "execution_count": 13,
   "metadata": {},
   "outputs": [],
   "source": [
    "prompt_6 = \"\"\"You are a market researcher and focus on Prospect Theory and Mental Accounting. In a survey you are presented the following situation:\n",
    "         Mr. A received a letter from the IRS saying that he made a minor arithmetical mistake on his tax return and owed $100. \n",
    "         He received a similar letter the same day from his state income tax authority saying he owed $50. There were no other repercussions from either mistake. \n",
    "         Mr. B received a letter from the IRS saying that he made a minor arithmetical mistake on his tax return and owed $150. There were no other repercussions from his mistake. \n",
    "         Based solely on this information, who was more upset? \n",
    "         A: Mister A\n",
    "         B: Mister B\n",
    "         C: No difference.\n",
    "         Which option would you choose? Please answer by only giving the letter of the alternative you would choose without any reasoning.\"\"\"\n",
    "\n",
    "# Who is more upset?"
   ]
  },
  {
   "cell_type": "markdown",
   "metadata": {},
   "source": [
    "-  Prompt 7: Cancellation of losses against larger gains (primed) # Add info about same day?"
   ]
  },
  {
   "cell_type": "code",
   "execution_count": 14,
   "metadata": {},
   "outputs": [],
   "source": [
    "prompt_7 = \"\"\"You are a market researcher and focus on Prospect Theory and Mental Accounting. In a survey you are presented the following situation:\n",
    "         Mr. A bought his first New York State lottery ticket and won $100. Also, in a freak accident, he damaged the rug in his apartment and had to pay the landlord $80.\n",
    "         Mr. B bought his first New York State lottery ticket and won $20? Based solely on this information, who is happier?\n",
    "         A: Mister A\n",
    "         B: Mister B\n",
    "         C: No difference.\n",
    "         Which option would you choose? Please answer by only giving the letter of the alternative you would choose without any reasoning.\"\"\"\n",
    "\n",
    "# Who is happier?"
   ]
  },
  {
   "cell_type": "markdown",
   "metadata": {},
   "source": [
    "- Prompt 8: Segregation of \"silver linings\" (primed)"
   ]
  },
  {
   "cell_type": "code",
   "execution_count": 15,
   "metadata": {},
   "outputs": [],
   "source": [
    "prompt_8 = \"\"\"You are a market researcher and focus on Prospect Theory and Mental Accounting. In a survey you are presented the following situation:\n",
    "         Mr. A's car was damaged in a parking lot. He had to spend $200 to repair the damage. The same day the car was damaged, he won $25 in the office football pool.\n",
    "         Mr. B's car was damaged in a parking lot. He had to spend $175 to repair the damage. Based solely on this information, who is more upset?\n",
    "         A: Mister A\n",
    "         B: Mister B\n",
    "         C: No difference.\n",
    "         Which option would you choose? Please answer by only giving the letter of the alternative you would choose without any reasoning.\"\"\"\n",
    "# Who is more upset?"
   ]
  },
  {
   "cell_type": "markdown",
   "metadata": {},
   "source": [
    "------------------------------"
   ]
  },
  {
   "cell_type": "markdown",
   "metadata": {},
   "source": [
    "- Helpful dictionaries \n",
    "\n",
    "The experiments we will run in this notebook are very similar in study design, and for same cases, also similar in the results we expect. We therefore need to make sure, that we associate the results with the correct study design. That is why the following dictionaries are implemented to look up e.g. what model was used for an experiment.\n",
    "\n",
    "They will also be used inside the functions that call the API multiple times and output some information about the experiment in order to identify it correctly. "
   ]
  },
  {
   "cell_type": "code",
   "execution_count": 16,
   "metadata": {},
   "outputs": [],
   "source": [
    "# Dictionary that returns the literal prompt for a given experiment id (used in function call). key: experiment_id, value: prompt\n",
    "experiment_prompts_dict = {\n",
    "    \"1_1\": prompt_1,\n",
    "    \"1_2\": prompt_2,\n",
    "    \"1_3\": prompt_3,\n",
    "    \"1_4\": prompt_4,\n",
    "    \"1_5\": prompt_5,\n",
    "    \"1_6\": prompt_6,\n",
    "    \"1_7\": prompt_7,\n",
    "    \"1_8\": prompt_8,\n",
    "    \"2_1\": prompt_1,\n",
    "    \"2_2\": prompt_2,\n",
    "    \"2_3\": prompt_3,\n",
    "    \"2_4\": prompt_4,\n",
    "    \"2_5\": prompt_5,\n",
    "    \"2_6\": prompt_6,\n",
    "    \"2_7\": prompt_7,\n",
    "    \"2_8\": prompt_8,\n",
    "    \"3_1\": prompt_1,\n",
    "    \"3_2\": prompt_2,\n",
    "    \"3_3\": prompt_3,\n",
    "    \"3_4\": prompt_4,\n",
    "    \"3_5\": prompt_5,\n",
    "    \"3_6\": prompt_6,\n",
    "    \"3_7\": prompt_7,\n",
    "    \"3_8\": prompt_8,\n",
    "}\n",
    "\n",
    "# The following dictionary is only used for a check in the function calls.\n",
    "# It returns the variable name of the prompt that was used in the experiment. key: experiment_id, value: prompt_name\n",
    "prompt_ids_dict = {\n",
    "    \"1_1\": \"prompt_1\",\n",
    "    \"1_2\": \"prompt_2\",\n",
    "    \"1_3\": \"prompt_3\",\n",
    "    \"1_4\": \"prompt_4\",\n",
    "    \"1_5\": \"prompt_5\",\n",
    "    \"1_6\": \"prompt_6\",\n",
    "    \"1_7\": \"prompt_7\",\n",
    "    \"1_8\": \"prompt_8\",\n",
    "    \"2_1\": \"prompt_1\",\n",
    "    \"2_2\": \"prompt_2\",\n",
    "    \"2_3\": \"prompt_3\",\n",
    "    \"2_4\": \"prompt_4\",\n",
    "    \"2_5\": \"prompt_5\",\n",
    "    \"2_6\": \"prompt_6\",\n",
    "    \"2_7\": \"prompt_7\",\n",
    "    \"2_8\": \"prompt_8\",\n",
    "    \"3_1\": \"prompt_1\",\n",
    "    \"3_2\": \"prompt_2\",\n",
    "    \"3_3\": \"prompt_3\",\n",
    "    \"3_4\": \"prompt_4\",\n",
    "    \"3_5\": \"prompt_5\",\n",
    "    \"3_6\": \"prompt_6\",\n",
    "    \"3_7\": \"prompt_7\",\n",
    "    \"3_8\": \"prompt_8\",\n",
    "}\n",
    "\n",
    "# Dictionary to look up which model to use for a given experiment id (used in function call). key: experiment id, value: model name\n",
    "model_dict = {\n",
    "    \"1_1\": \"gpt-3.5-turbo\",\n",
    "    \"1_2\": \"gpt-3.5-turbo\",\n",
    "    \"1_3\": \"gpt-3.5-turbo\",\n",
    "    \"1_4\": \"gpt-3.5-turbo\",\n",
    "    \"1_5\": \"gpt-3.5-turbo\",\n",
    "    \"1_6\": \"gpt-3.5-turbo\",\n",
    "    \"1_7\": \"gpt-3.5-turbo\",\n",
    "    \"1_8\": \"gpt-3.5-turbo\",\n",
    "    \"2_1\": \"gpt-4-1106-preview\",\n",
    "    \"2_2\": \"gpt-4-1106-preview\",\n",
    "    \"2_3\": \"gpt-4-1106-preview\",\n",
    "    \"2_4\": \"gpt-4-1106-preview\",\n",
    "    \"2_5\": \"gpt-4-1106-preview\",\n",
    "    \"2_6\": \"gpt-4-1106-preview\",\n",
    "    \"2_7\": \"gpt-4-1106-preview\",\n",
    "    \"2_8\": \"gpt-4-1106-preview\",\n",
    "    \"3_1\": 'meta/llama-2-70b-chat:02e509c789964a7ea8736978a43525956ef40397be9033abf9fd2badfe68c9e3',\n",
    "    \"3_2\": 'meta/llama-2-70b-chat:02e509c789964a7ea8736978a43525956ef40397be9033abf9fd2badfe68c9e3',\n",
    "    \"3_3\": 'meta/llama-2-70b-chat:02e509c789964a7ea8736978a43525956ef40397be9033abf9fd2badfe68c9e3',\n",
    "    \"3_4\": 'meta/llama-2-70b-chat:02e509c789964a7ea8736978a43525956ef40397be9033abf9fd2badfe68c9e3',\n",
    "    \"3_5\": 'meta/llama-2-70b-chat:02e509c789964a7ea8736978a43525956ef40397be9033abf9fd2badfe68c9e3',\n",
    "    \"3_6\": 'meta/llama-2-70b-chat:02e509c789964a7ea8736978a43525956ef40397be9033abf9fd2badfe68c9e3',\n",
    "    \"3_7\": 'meta/llama-2-70b-chat:02e509c789964a7ea8736978a43525956ef40397be9033abf9fd2badfe68c9e3',\n",
    "    \"3_8\": 'meta/llama-2-70b-chat:02e509c789964a7ea8736978a43525956ef40397be9033abf9fd2badfe68c9e3',\n",
    "    }\n",
    "\n",
    "# Dictionary to look up, what the study design of each experiment was. key: experiment id, value: experiment design \n",
    "experiment_dict = {\n",
    "    \"1_1\": f\"Experiment 1_1 uses {model_dict['1_1']}, deals with the segregation of gains and is unprimed.\",\n",
    "    \"1_2\": f\"Experiment 1_2 uses {model_dict['1_2']}, deals with the integration of losses and is unprimed.\",\n",
    "    \"1_3\": f\"Experiment 1_3 uses {model_dict['1_3']}, deals with the cancellation of losses against larger gains and is unprimed.\",\n",
    "    \"1_4\": f\"Experiment 1_4 uses {model_dict['1_4']}, deals with the segrgation of *silver linings* and is unprimed.\",\n",
    "    \"1_5\": f\"Experiment 1_5 uses {model_dict['1_5']}, deals with the segregation of gains and is primed.\",\n",
    "    \"1_6\": f\"Experiment 1_6 uses {model_dict['1_6']}, deals with the integration of losses and is primed.\",\n",
    "    \"1_7\": f\"Experiment 1_7 uses {model_dict['1_7']}, deals with the cancellation of losses against larger gains and is primed.\",\n",
    "    \"1_8\": f\"Experiment 1_8 uses {model_dict['1_8']}, deals with the segregation of *silver linings*, and is primed.\",\n",
    "    \"2_1\": f\"Experiment 1_1 uses {model_dict['2_1']}, deals with the segregation of gains and is unprimed.\",\n",
    "    \"2_2\": f\"Experiment 1_2 uses {model_dict['2_2']}, deals with the integration of losses and is unprimed.\",\n",
    "    \"2_3\": f\"Experiment 1_3 uses {model_dict['2_3']}, deals with the cancellation of losses against larger gains and is unprimed.\",\n",
    "    \"2_4\": f\"Experiment 1_4 uses {model_dict['2_4']}, deals with the segrgation of *silver linings* and is unprimed.\",\n",
    "    \"2_5\": f\"Experiment 1_5 uses {model_dict['2_5']}, deals with the segregation of gains and is primed.\",\n",
    "    \"2_6\": f\"Experiment 1_6 uses {model_dict['2_6']}, deals with the integration of losses and is primed.\",\n",
    "    \"2_7\": f\"Experiment 1_7 uses {model_dict['2_7']}, deals with the cancellation of losses against larger gains and is primed.\",\n",
    "    \"2_8\": f\"Experiment 1_8 uses {model_dict['2_8']}, deals with the segregation of *silver linings*, and is primed.\",\n",
    "    \"3_1\": f\"Experiment 1_1 uses {model_dict['3_1']}, deals with the segregation of gains and is unprimed.\",\n",
    "    \"3_2\": f\"Experiment 1_2 uses {model_dict['3_2']}, deals with the integration of losses and is unprimed.\",\n",
    "    \"3_3\": f\"Experiment 1_3 uses {model_dict['3_3']}, deals with the cancellation of losses against larger gains and is unprimed.\",\n",
    "    \"3_4\": f\"Experiment 1_4 uses {model_dict['3_4']}, deals with the segrgation of *silver linings* and is unprimed.\",\n",
    "    \"3_5\": f\"Experiment 1_5 uses {model_dict['3_5']}, deals with the segregation of gains and is primed.\",\n",
    "    \"3_6\": f\"Experiment 1_6 uses {model_dict['3_6']}, deals with the integration of losses and is primed.\",\n",
    "    \"3_7\": f\"Experiment 1_7 uses {model_dict['3_7']}, deals with the cancellation of losses against larger gains and is primed.\",\n",
    "    \"3_8\": f\"Experiment 1_8 uses {model_dict['3_8']}, deals with the segregation of *silver linings*, and is primed.\",\n",
    "}\n",
    "\n",
    "# Dictionary to look up the original results of the experiments. key: experiment id, value: original result\n",
    "results_dict = {\n",
    "    \"1_1\": p_scenario1,\n",
    "    \"1_2\": p_scenario2,\n",
    "    \"1_3\": p_scenario3,\n",
    "    \"1_4\": p_scenario4,\n",
    "    \"1_5\": p_scenario1,\n",
    "    \"1_6\": p_scenario2,\n",
    "    \"1_7\": p_scenario3,\n",
    "    \"1_8\": p_scenario4,\n",
    "    \"2_1\": p_scenario1,\n",
    "    \"2_2\": p_scenario2,\n",
    "    \"2_3\": p_scenario3,\n",
    "    \"2_4\": p_scenario4,\n",
    "    \"2_5\": p_scenario1,\n",
    "    \"2_6\": p_scenario2,\n",
    "    \"2_7\": p_scenario3,\n",
    "    \"2_8\": p_scenario4,\n",
    "    \"3_1\": p_scenario1,\n",
    "    \"3_2\": p_scenario2,\n",
    "    \"3_3\": p_scenario3,\n",
    "    \"3_4\": p_scenario4,\n",
    "    \"3_5\": p_scenario1,\n",
    "    \"3_6\": p_scenario2,\n",
    "    \"3_7\": p_scenario3,\n",
    "    \"3_8\": p_scenario4,\n",
    "}\n",
    "\n",
    "# Dictionary to look up the scenario number of a given experiment ID. key: experiment id, value: scenario number\n",
    "scenario_dict = {\n",
    "    \"1_1\": 1,\n",
    "    \"1_2\": 2,\n",
    "    \"1_3\": 3,\n",
    "    \"1_4\": 4,\n",
    "    \"1_5\": 1,\n",
    "    \"1_6\": 2,\n",
    "    \"1_7\": 3,\n",
    "    \"1_8\": 4,\n",
    "    \"2_1\": 1,\n",
    "    \"2_2\": 2,\n",
    "    \"2_3\": 3,\n",
    "    \"2_4\": 4,\n",
    "    \"2_5\": 1,\n",
    "    \"2_6\": 2,\n",
    "    \"2_7\": 3,\n",
    "    \"2_8\": 4,\n",
    "    \"3_1\": 1,\n",
    "    \"3_2\": 2,\n",
    "    \"3_3\": 3,\n",
    "    \"3_4\": 4,\n",
    "    \"3_5\": 1,\n",
    "    \"3_6\": 2,\n",
    "    \"3_7\": 3,\n",
    "    \"3_8\": 4,\n",
    "}   "
   ]
  },
  {
   "cell_type": "markdown",
   "metadata": {},
   "source": [
    "---------------------------------"
   ]
  },
  {
   "cell_type": "markdown",
   "metadata": {},
   "source": [
    "#### Setting up functions to repeatedly prompt ChatGPT\n",
    "\n",
    "- Functions to query 1 prompt n times"
   ]
  },
  {
   "cell_type": "code",
   "execution_count": 17,
   "metadata": {},
   "outputs": [],
   "source": [
    "def run_experiment(experiment_id, n, progress_bar, temperature):\n",
    "\n",
    "    \"\"\"\n",
    "    Function to query ChatGPT multiple times with a survey having answers designed as: A, B, C.\n",
    "    \n",
    "    Args:\n",
    "        experiment_id (str): ID of the experiment to be run. Contains info about prompt and model\n",
    "        n (int): Number of queries to be made\n",
    "        temperature (int): Degree of randomness with range 0 (deterministic) to 2 (random)\n",
    "        max_tokens (int): Maximum number of tokens in response object\n",
    "        \n",
    "    Returns:\n",
    "        results (list): List containing count of answers for each option, also containing experiment_id, temperature and number of observations\n",
    "        probs (list): List containing probability of each option being chosen, also containing experiment_id, temeperature and number of observations\n",
    "    \"\"\"\n",
    "    \n",
    "    answers = []\n",
    "    for _ in range(n): \n",
    "        response = client.chat.completions.create(\n",
    "            model = model_dict[experiment_id], \n",
    "            max_tokens = 1,\n",
    "            temperature = temperature, # range is 0 to 2\n",
    "            messages = [\n",
    "            {\"role\": \"system\", \"content\": \"Only answer with the letter of the alternative you would choose without any reasoning.\"},        \n",
    "            {\"role\": \"user\", \"content\": experiment_prompts_dict[experiment_id]},\n",
    "                   ])\n",
    "\n",
    "        # Store the answer in the list\n",
    "        answer = response.choices[0].message.content\n",
    "        answers.append(answer.strip())\n",
    "        # Update progress bar (given from either temperature loop, or set locally)\n",
    "        progress_bar.update(1)\n",
    "\n",
    "    # Counting results\n",
    "    A = answers.count(\"A\")\n",
    "    B = answers.count(\"B\")\n",
    "    C = answers.count(\"C\")\n",
    "\n",
    "    # Count of \"correct\" answers, sums over indicator function thack checks if answer is either A, B or C\n",
    "    len_correct = sum(1 for ans in answers if ans in [\"A\", \"B\", \"C\"])\n",
    "\n",
    "    # Collecting results in a list\n",
    "    results = [experiment_id, temperature, A, B, C, len_correct, model_dict[experiment_id], scenario_dict[experiment_id]]\n",
    "\n",
    "    # Getting percentage each answer\n",
    "    p_a = f\"{(A / len_correct) * 100:.2f}%\"\n",
    "    p_b = f\"{(B / len_correct) * 100:.2f}%\"\n",
    "    p_c = f\"{(C / len_correct) * 100:.2f}%\"\n",
    "\n",
    "    # Collect probabilities in a dataframe\n",
    "    probs = [experiment_id, temperature, p_a, p_b, p_c, len_correct, model_dict[experiment_id], scenario_dict[experiment_id]]\n",
    "    \n",
    "    # Give out results\n",
    "    return results, probs"
   ]
  },
  {
   "cell_type": "markdown",
   "metadata": {},
   "source": [
    "- Function to query 1 prompt n times (LLama)"
   ]
  },
  {
   "cell_type": "code",
   "execution_count": null,
   "metadata": {},
   "outputs": [],
   "source": [
    "def run_experiment_llama(experiment_id, n, progress_bar, temperature):\n",
    "    answers = []\n",
    "    for _ in range(n):\n",
    "        response = replicate.run(\n",
    "            model_dict[experiment_id],\n",
    "            input = {\n",
    "                \"system_prompt\": \"Only answer with the letter of the alternative you would choose without any reasoning.\",\n",
    "                \"temperature\": temperature,\n",
    "                \"max_new_tokens\": 2, \n",
    "                \"prompt\": experiment_prompts_dict[experiment_id]\n",
    "            }\n",
    "        )\n",
    "        # Grab answer and append to list\n",
    "        answer = \"\" # Set to empty string, otherwise it would append the previous answer to the new one\n",
    "        for item in response:\n",
    "            answer = answer + item\n",
    "        answers.append(answer.strip())\n",
    "\n",
    "        # Update progress bar\n",
    "        progress_bar.update(1)\n",
    "\n",
    "    # Counting results\n",
    "    A = answers.count(\"A\") # set to Q\n",
    "    B = answers.count(\"B\") # set to X\n",
    "    C = answers.count(\"C\") # set to Y\n",
    "\n",
    "    # Count of \"correct\" answers, sums over indicator function thack checks if answer is either A, B or C\n",
    "    len_correct = sum(1 for ans in answers if ans in [\"A\", \"B\", \"C\"])\n",
    "\n",
    "    # Collecting results in a list\n",
    "    results = [experiment_id, temperature, A, B, C, len_correct, model_dict[experiment_id], scenario_dict[experiment_id]]\n",
    "\n",
    "    # Getting percentage each answer\n",
    "    p_a = f\"{(A / len_correct) * 100:.2f}%\"\n",
    "    p_b = f\"{(B / len_correct) * 100:.2f}%\"\n",
    "    p_c = f\"{(C / len_correct) * 100:.2f}%\"\n",
    "\n",
    "    # Collect probabilities in a dataframe\n",
    "    probs = [experiment_id, temperature, p_a, p_b, p_c, len_correct, model_dict[experiment_id], scenario_dict[experiment_id]]\n",
    "    \n",
    "    # Give out results\n",
    "    return results, probs"
   ]
  },
  {
   "cell_type": "markdown",
   "metadata": {},
   "source": [
    "- Function to loop run_experiment() over a list of temperature values"
   ]
  },
  {
   "cell_type": "code",
   "execution_count": 28,
   "metadata": {},
   "outputs": [],
   "source": [
    "def temperature_loop(function, experiment_id, temperature_list = [0, 0.5, 1, 1.5, 2], n = 50):\n",
    "    \"\"\"\n",
    "    Function to run an experiment with different temperature values.\n",
    "    \n",
    "    Args:\n",
    "        function (function): Function to be used for querying ChatGPT i.e. run_experiment()\n",
    "        experiment_id (str): ID of th e experiment to be run. Contains info about prompt and model\n",
    "        temperature_list (list): List of temperature values to be looped over\n",
    "        n: Number of requests for each prompt per temperature value\n",
    "        max_tokens: Maximum number of tokens in response object\n",
    "        \n",
    "    Returns:\n",
    "        results_df: Dataframe with experiment results\n",
    "        probs_df: Dataframe with answer probabilities\n",
    "    \"\"\"    \n",
    "    # Empty lists for storing results\n",
    "    results_list = []\n",
    "    probs_list = []\n",
    "    # Initialize progress bar -> used as input for run_experiment()\n",
    "    progress_bar = tqdm(range(n*len(temperature_list)))\n",
    "\n",
    "    # Loop over different temperature values, calling the input function n times each (i.e. queriyng ChatGPT n times)\n",
    "    for temperature in temperature_list:\n",
    "        results, probs = function(experiment_id = experiment_id, n = n, temperature = temperature, progress_bar = progress_bar) \n",
    "        results_list.append(results)\n",
    "        probs_list.append(probs)\n",
    "\n",
    "    # Horizontally concatenate the results, transpose, and set index\n",
    "    results_df = pd.DataFrame(results_list).transpose().set_index(pd.Index([\"Experiment\", \"Temp\", \"p(A)\", \"p(B)\", \"p(C)\", \"Obs.\", \"Model\", \"Scenario\"]))\n",
    "    probs_df = pd.DataFrame(probs_list).transpose().set_index(pd.Index([\"Experiment\", \"Temp\", \"p(A)\", \"p(B)\", \"p(C)\", \"Obs.\", \"Model\", \"Scenario\"]))\n",
    "   \n",
    "    # Return some information about the experiment as a check\n",
    "    check = f\"{experiment_dict[experiment_id]} In this run, a total of {n*len(temperature_list)} requests were made using {prompt_ids_dict[experiment_id]}.\"\n",
    "    # Print information about the experiment\n",
    "    print(check)\n",
    "    # Print original results \n",
    "    print(f\"The original results were {results_dict[experiment_id]}.\")\n",
    "\n",
    "    return results_df, probs_df"
   ]
  },
  {
   "cell_type": "markdown",
   "metadata": {},
   "source": [
    "- Function to plot distribution of answer probabilities"
   ]
  },
  {
   "cell_type": "code",
   "execution_count": 15,
   "metadata": {},
   "outputs": [],
   "source": [
    "def plot_results(df):\n",
    "    \n",
    "    # Get experiment id and model name for plot title from dictionaries\n",
    "    experiment_id = df.iloc[0, 0]\n",
    "    model = model_dict[experiment_id]\n",
    "    \n",
    "    X = df.loc[\"Temp\"]\n",
    "    p_a = df.loc[\"p(A)\"].str.rstrip('%').astype('float')  # Convert percentages to float\n",
    "    p_b = df.loc[\"p(B)\"].str.rstrip('%').astype('float')\n",
    "    p_c = df.loc[\"p(C)\"].str.rstrip('%').astype('float')\n",
    "\n",
    "    X_axis = np.arange(len(X)) \n",
    "\n",
    "    plt.figure(figsize = (10, 5))\n",
    "    ax = plt.gca()\n",
    "    ax.bar(X_axis- 0.25, p_a, 0.25, label = 'p(A)', color = \"#8C1515\") \n",
    "    ax.bar(X_axis, p_b, 0.25,  label = 'p(B)', color = \"#507FAB\") \n",
    "    ax.bar(X_axis+ 0.25 , p_c,  0.25, label = 'p(C)', color = '#D9A84A')\n",
    "\n",
    "    ax.set_xticks(X_axis, X)\n",
    "    ax.set_xlabel(\"Temperature\")\n",
    "    ax.set_ylabel(\"Probability (%)\")\n",
    "    ax.set_ylim(0, 110)\n",
    "    ax.set_title(f\"Distribution of answers per temperature value for experiment {experiment_id} using {model}\")\n",
    "    ax.legend()  \n",
    "    plt.show()"
   ]
  },
  {
   "cell_type": "markdown",
   "metadata": {},
   "source": [
    "-------------"
   ]
  },
  {
   "cell_type": "markdown",
   "metadata": {},
   "source": [
    "## Comparing different LLMs\n",
    "\n",
    "The results variables will be structured as: results_model-id_prompt-id.\n",
    "\n",
    "We will refer to \"GPT-3.5-turbo\" as model 1 and \"GPT-4-1106-preview\" as model 2."
   ]
  },
  {
   "cell_type": "markdown",
   "metadata": {},
   "source": [
    "#### Model 1: GPT-3.5-Turbo (Model training ended in September 2021)"
   ]
  },
  {
   "cell_type": "markdown",
   "metadata": {},
   "source": [
    "- Simple test of repeated prompting function for fixed temperature"
   ]
  },
  {
   "cell_type": "code",
   "execution_count": null,
   "metadata": {},
   "outputs": [],
   "source": [
    "test_results, test_probs = run_experiment(experiment_id = \"1_5\", n = 20, temperature = 1)\n",
    "\n",
    "print(experiment_dict)\n",
    "print(results_dict[\"1_1\"])\n",
    "test_probs\n",
    "# Experiment_id, temperature, p_a, p_b, p_c, n_observations"
   ]
  },
  {
   "cell_type": "markdown",
   "metadata": {},
   "source": [
    "- Simple test of function to loop over temperature values"
   ]
  },
  {
   "cell_type": "code",
   "execution_count": null,
   "metadata": {},
   "outputs": [],
   "source": [
    "# Call the function \n",
    "results, probs = temperature_loop(run_experiment, experiment_id = \"1_1\", temperature_list = [0, 0.5, 1, 1.5, 2], n = 5)\n",
    "\n",
    "# Display probability dataframe\n",
    "probs"
   ]
  },
  {
   "cell_type": "markdown",
   "metadata": {},
   "source": [
    "- Prompt 1: Segregation of gains (unprimed)"
   ]
  },
  {
   "cell_type": "code",
   "execution_count": null,
   "metadata": {},
   "outputs": [],
   "source": [
    "# Set number of requests per temperature value\n",
    "N = 100"
   ]
  },
  {
   "cell_type": "code",
   "execution_count": 15,
   "metadata": {},
   "outputs": [
    {
     "name": "stderr",
     "output_type": "stream",
     "text": [
      "  0%|          | 0/250 [00:00<?, ?it/s]"
     ]
    },
    {
     "name": "stderr",
     "output_type": "stream",
     "text": [
      "100%|██████████| 250/250 [03:07<00:00,  1.33it/s]"
     ]
    },
    {
     "name": "stdout",
     "output_type": "stream",
     "text": [
      "Experiment 1_1 uses gpt-3.5-turbo, deals with the segregation of gains and is unprimed. In this run, a total of 250 requests were made using prompt_1.\n",
      "The original results were ['p(A): 64.37%', 'p(B): 18.39%', 'p(C): 17.24%'].\n"
     ]
    },
    {
     "name": "stderr",
     "output_type": "stream",
     "text": [
      "\n"
     ]
    },
    {
     "data": {
      "text/html": [
       "<div>\n",
       "<style scoped>\n",
       "    .dataframe tbody tr th:only-of-type {\n",
       "        vertical-align: middle;\n",
       "    }\n",
       "\n",
       "    .dataframe tbody tr th {\n",
       "        vertical-align: top;\n",
       "    }\n",
       "\n",
       "    .dataframe thead th {\n",
       "        text-align: right;\n",
       "    }\n",
       "</style>\n",
       "<table border=\"1\" class=\"dataframe\">\n",
       "  <thead>\n",
       "    <tr style=\"text-align: right;\">\n",
       "      <th></th>\n",
       "      <th>0</th>\n",
       "      <th>1</th>\n",
       "      <th>2</th>\n",
       "      <th>3</th>\n",
       "      <th>4</th>\n",
       "    </tr>\n",
       "  </thead>\n",
       "  <tbody>\n",
       "    <tr>\n",
       "      <th>Experiment</th>\n",
       "      <td>1_1</td>\n",
       "      <td>1_1</td>\n",
       "      <td>1_1</td>\n",
       "      <td>1_1</td>\n",
       "      <td>1_1</td>\n",
       "    </tr>\n",
       "    <tr>\n",
       "      <th>Temp</th>\n",
       "      <td>0.0</td>\n",
       "      <td>0.5</td>\n",
       "      <td>1.0</td>\n",
       "      <td>1.5</td>\n",
       "      <td>2.0</td>\n",
       "    </tr>\n",
       "    <tr>\n",
       "      <th>p(A)</th>\n",
       "      <td>100.00%</td>\n",
       "      <td>92.00%</td>\n",
       "      <td>84.00%</td>\n",
       "      <td>60.00%</td>\n",
       "      <td>48.94%</td>\n",
       "    </tr>\n",
       "    <tr>\n",
       "      <th>p(B)</th>\n",
       "      <td>0.00%</td>\n",
       "      <td>6.00%</td>\n",
       "      <td>12.00%</td>\n",
       "      <td>32.00%</td>\n",
       "      <td>14.89%</td>\n",
       "    </tr>\n",
       "    <tr>\n",
       "      <th>p(C)</th>\n",
       "      <td>0.00%</td>\n",
       "      <td>2.00%</td>\n",
       "      <td>4.00%</td>\n",
       "      <td>8.00%</td>\n",
       "      <td>36.17%</td>\n",
       "    </tr>\n",
       "    <tr>\n",
       "      <th>Obs.</th>\n",
       "      <td>50</td>\n",
       "      <td>50</td>\n",
       "      <td>50</td>\n",
       "      <td>50</td>\n",
       "      <td>47</td>\n",
       "    </tr>\n",
       "  </tbody>\n",
       "</table>\n",
       "</div>"
      ],
      "text/plain": [
       "                  0       1       2       3       4\n",
       "Experiment      1_1     1_1     1_1     1_1     1_1\n",
       "Temp            0.0     0.5     1.0     1.5     2.0\n",
       "p(A)        100.00%  92.00%  84.00%  60.00%  48.94%\n",
       "p(B)          0.00%   6.00%  12.00%  32.00%  14.89%\n",
       "p(C)          0.00%   2.00%   4.00%   8.00%  36.17%\n",
       "Obs.             50      50      50      50      47"
      ]
     },
     "execution_count": 15,
     "metadata": {},
     "output_type": "execute_result"
    }
   ],
   "source": [
    "results_1_1, probs_1_1 = temperature_loop(run_experiment, experiment_id = \"1_1\", temperature_list = [0, 0.5, 1, 1.5, 2], n = N)\n",
    "probs_1_1"
   ]
  },
  {
   "cell_type": "markdown",
   "metadata": {},
   "source": [
    "- Prompt 2: Integration of losses (unprimed)"
   ]
  },
  {
   "cell_type": "code",
   "execution_count": 16,
   "metadata": {},
   "outputs": [
    {
     "name": "stderr",
     "output_type": "stream",
     "text": [
      "100%|██████████| 250/250 [02:44<00:00,  1.52it/s]"
     ]
    },
    {
     "name": "stdout",
     "output_type": "stream",
     "text": [
      "Experiment 1_2 uses gpt-3.5-turbo, deals with the integration of losses and is unprimed. In this run, a total of 250 requests were made using prompt_2.\n",
      "The original results were ['p(A): 75.86%', 'p(B): 16.09%', 'p(C): 8.05%'].\n"
     ]
    },
    {
     "name": "stderr",
     "output_type": "stream",
     "text": [
      "\n"
     ]
    },
    {
     "data": {
      "text/html": [
       "<div>\n",
       "<style scoped>\n",
       "    .dataframe tbody tr th:only-of-type {\n",
       "        vertical-align: middle;\n",
       "    }\n",
       "\n",
       "    .dataframe tbody tr th {\n",
       "        vertical-align: top;\n",
       "    }\n",
       "\n",
       "    .dataframe thead th {\n",
       "        text-align: right;\n",
       "    }\n",
       "</style>\n",
       "<table border=\"1\" class=\"dataframe\">\n",
       "  <thead>\n",
       "    <tr style=\"text-align: right;\">\n",
       "      <th></th>\n",
       "      <th>0</th>\n",
       "      <th>1</th>\n",
       "      <th>2</th>\n",
       "      <th>3</th>\n",
       "      <th>4</th>\n",
       "    </tr>\n",
       "  </thead>\n",
       "  <tbody>\n",
       "    <tr>\n",
       "      <th>Experiment</th>\n",
       "      <td>1_2</td>\n",
       "      <td>1_2</td>\n",
       "      <td>1_2</td>\n",
       "      <td>1_2</td>\n",
       "      <td>1_2</td>\n",
       "    </tr>\n",
       "    <tr>\n",
       "      <th>Temp</th>\n",
       "      <td>0.0</td>\n",
       "      <td>0.5</td>\n",
       "      <td>1.0</td>\n",
       "      <td>1.5</td>\n",
       "      <td>2.0</td>\n",
       "    </tr>\n",
       "    <tr>\n",
       "      <th>p(A)</th>\n",
       "      <td>100.00%</td>\n",
       "      <td>54.00%</td>\n",
       "      <td>50.00%</td>\n",
       "      <td>50.00%</td>\n",
       "      <td>34.78%</td>\n",
       "    </tr>\n",
       "    <tr>\n",
       "      <th>p(B)</th>\n",
       "      <td>0.00%</td>\n",
       "      <td>8.00%</td>\n",
       "      <td>8.00%</td>\n",
       "      <td>12.00%</td>\n",
       "      <td>26.09%</td>\n",
       "    </tr>\n",
       "    <tr>\n",
       "      <th>p(C)</th>\n",
       "      <td>0.00%</td>\n",
       "      <td>38.00%</td>\n",
       "      <td>42.00%</td>\n",
       "      <td>38.00%</td>\n",
       "      <td>39.13%</td>\n",
       "    </tr>\n",
       "    <tr>\n",
       "      <th>Obs.</th>\n",
       "      <td>50</td>\n",
       "      <td>50</td>\n",
       "      <td>50</td>\n",
       "      <td>50</td>\n",
       "      <td>46</td>\n",
       "    </tr>\n",
       "  </tbody>\n",
       "</table>\n",
       "</div>"
      ],
      "text/plain": [
       "                  0       1       2       3       4\n",
       "Experiment      1_2     1_2     1_2     1_2     1_2\n",
       "Temp            0.0     0.5     1.0     1.5     2.0\n",
       "p(A)        100.00%  54.00%  50.00%  50.00%  34.78%\n",
       "p(B)          0.00%   8.00%   8.00%  12.00%  26.09%\n",
       "p(C)          0.00%  38.00%  42.00%  38.00%  39.13%\n",
       "Obs.             50      50      50      50      46"
      ]
     },
     "execution_count": 16,
     "metadata": {},
     "output_type": "execute_result"
    }
   ],
   "source": [
    "results_1_2, probs_1_2 = temperature_loop(run_experiment, experiment_id = \"1_2\", temperature_list = [0, 0.5, 1, 1.5, 2], n = N)\n",
    "probs_1_2"
   ]
  },
  {
   "cell_type": "markdown",
   "metadata": {},
   "source": [
    "- Prompt 3: Cancellation of losses against larger gains (unprimed)"
   ]
  },
  {
   "cell_type": "code",
   "execution_count": 17,
   "metadata": {},
   "outputs": [
    {
     "name": "stderr",
     "output_type": "stream",
     "text": [
      "100%|██████████| 250/250 [02:55<00:00,  1.43it/s]"
     ]
    },
    {
     "name": "stdout",
     "output_type": "stream",
     "text": [
      "Experiment 1_3 uses gpt-3.5-turbo, deals with the cancellation of losses against larger gains and is unprimed. In this run, a total of 250 requests were made using prompt_3.\n",
      "The original results were ['p(A): 25.29%', 'p(B): 70.11%', 'p(C): 4.6%'].\n"
     ]
    },
    {
     "name": "stderr",
     "output_type": "stream",
     "text": [
      "\n"
     ]
    },
    {
     "data": {
      "text/html": [
       "<div>\n",
       "<style scoped>\n",
       "    .dataframe tbody tr th:only-of-type {\n",
       "        vertical-align: middle;\n",
       "    }\n",
       "\n",
       "    .dataframe tbody tr th {\n",
       "        vertical-align: top;\n",
       "    }\n",
       "\n",
       "    .dataframe thead th {\n",
       "        text-align: right;\n",
       "    }\n",
       "</style>\n",
       "<table border=\"1\" class=\"dataframe\">\n",
       "  <thead>\n",
       "    <tr style=\"text-align: right;\">\n",
       "      <th></th>\n",
       "      <th>0</th>\n",
       "      <th>1</th>\n",
       "      <th>2</th>\n",
       "      <th>3</th>\n",
       "      <th>4</th>\n",
       "    </tr>\n",
       "  </thead>\n",
       "  <tbody>\n",
       "    <tr>\n",
       "      <th>Experiment</th>\n",
       "      <td>1_3</td>\n",
       "      <td>1_3</td>\n",
       "      <td>1_3</td>\n",
       "      <td>1_3</td>\n",
       "      <td>1_3</td>\n",
       "    </tr>\n",
       "    <tr>\n",
       "      <th>Temp</th>\n",
       "      <td>0.0</td>\n",
       "      <td>0.5</td>\n",
       "      <td>1.0</td>\n",
       "      <td>1.5</td>\n",
       "      <td>2.0</td>\n",
       "    </tr>\n",
       "    <tr>\n",
       "      <th>p(A)</th>\n",
       "      <td>100.00%</td>\n",
       "      <td>98.00%</td>\n",
       "      <td>78.00%</td>\n",
       "      <td>68.00%</td>\n",
       "      <td>65.91%</td>\n",
       "    </tr>\n",
       "    <tr>\n",
       "      <th>p(B)</th>\n",
       "      <td>0.00%</td>\n",
       "      <td>0.00%</td>\n",
       "      <td>8.00%</td>\n",
       "      <td>14.00%</td>\n",
       "      <td>9.09%</td>\n",
       "    </tr>\n",
       "    <tr>\n",
       "      <th>p(C)</th>\n",
       "      <td>0.00%</td>\n",
       "      <td>2.00%</td>\n",
       "      <td>14.00%</td>\n",
       "      <td>18.00%</td>\n",
       "      <td>25.00%</td>\n",
       "    </tr>\n",
       "    <tr>\n",
       "      <th>Obs.</th>\n",
       "      <td>50</td>\n",
       "      <td>50</td>\n",
       "      <td>50</td>\n",
       "      <td>50</td>\n",
       "      <td>44</td>\n",
       "    </tr>\n",
       "  </tbody>\n",
       "</table>\n",
       "</div>"
      ],
      "text/plain": [
       "                  0       1       2       3       4\n",
       "Experiment      1_3     1_3     1_3     1_3     1_3\n",
       "Temp            0.0     0.5     1.0     1.5     2.0\n",
       "p(A)        100.00%  98.00%  78.00%  68.00%  65.91%\n",
       "p(B)          0.00%   0.00%   8.00%  14.00%   9.09%\n",
       "p(C)          0.00%   2.00%  14.00%  18.00%  25.00%\n",
       "Obs.             50      50      50      50      44"
      ]
     },
     "execution_count": 17,
     "metadata": {},
     "output_type": "execute_result"
    }
   ],
   "source": [
    "results_1_3, probs_1_3 = temperature_loop(run_experiment, experiment_id = \"1_3\", temperature_list = [0, 0.5, 1, 1.5, 2], n = N)\n",
    "probs_1_3"
   ]
  },
  {
   "cell_type": "markdown",
   "metadata": {},
   "source": [
    "- Prompt 4: Segregation of \"silver linings\" (unprimed)"
   ]
  },
  {
   "cell_type": "code",
   "execution_count": 18,
   "metadata": {},
   "outputs": [
    {
     "name": "stderr",
     "output_type": "stream",
     "text": [
      "100%|██████████| 250/250 [12:59<00:00,  3.12s/it]   "
     ]
    },
    {
     "name": "stdout",
     "output_type": "stream",
     "text": [
      "Experiment 1_4 uses gpt-3.5-turbo, deals with the segrgation of *silver linings* and is unprimed. In this run, a total of 250 requests were made using prompt_4.\n",
      "The original results were ['p(A): 21.84%', 'p(B): 72.41%', 'p(C): 5.75%'].\n"
     ]
    },
    {
     "name": "stderr",
     "output_type": "stream",
     "text": [
      "\n"
     ]
    },
    {
     "data": {
      "text/html": [
       "<div>\n",
       "<style scoped>\n",
       "    .dataframe tbody tr th:only-of-type {\n",
       "        vertical-align: middle;\n",
       "    }\n",
       "\n",
       "    .dataframe tbody tr th {\n",
       "        vertical-align: top;\n",
       "    }\n",
       "\n",
       "    .dataframe thead th {\n",
       "        text-align: right;\n",
       "    }\n",
       "</style>\n",
       "<table border=\"1\" class=\"dataframe\">\n",
       "  <thead>\n",
       "    <tr style=\"text-align: right;\">\n",
       "      <th></th>\n",
       "      <th>0</th>\n",
       "      <th>1</th>\n",
       "      <th>2</th>\n",
       "      <th>3</th>\n",
       "      <th>4</th>\n",
       "    </tr>\n",
       "  </thead>\n",
       "  <tbody>\n",
       "    <tr>\n",
       "      <th>Experiment</th>\n",
       "      <td>1_4</td>\n",
       "      <td>1_4</td>\n",
       "      <td>1_4</td>\n",
       "      <td>1_4</td>\n",
       "      <td>1_4</td>\n",
       "    </tr>\n",
       "    <tr>\n",
       "      <th>Temp</th>\n",
       "      <td>0.0</td>\n",
       "      <td>0.5</td>\n",
       "      <td>1.0</td>\n",
       "      <td>1.5</td>\n",
       "      <td>2.0</td>\n",
       "    </tr>\n",
       "    <tr>\n",
       "      <th>p(A)</th>\n",
       "      <td>100.00%</td>\n",
       "      <td>96.00%</td>\n",
       "      <td>98.00%</td>\n",
       "      <td>72.00%</td>\n",
       "      <td>68.09%</td>\n",
       "    </tr>\n",
       "    <tr>\n",
       "      <th>p(B)</th>\n",
       "      <td>0.00%</td>\n",
       "      <td>2.00%</td>\n",
       "      <td>2.00%</td>\n",
       "      <td>12.00%</td>\n",
       "      <td>19.15%</td>\n",
       "    </tr>\n",
       "    <tr>\n",
       "      <th>p(C)</th>\n",
       "      <td>0.00%</td>\n",
       "      <td>2.00%</td>\n",
       "      <td>0.00%</td>\n",
       "      <td>16.00%</td>\n",
       "      <td>12.77%</td>\n",
       "    </tr>\n",
       "    <tr>\n",
       "      <th>Obs.</th>\n",
       "      <td>50</td>\n",
       "      <td>50</td>\n",
       "      <td>50</td>\n",
       "      <td>50</td>\n",
       "      <td>47</td>\n",
       "    </tr>\n",
       "  </tbody>\n",
       "</table>\n",
       "</div>"
      ],
      "text/plain": [
       "                  0       1       2       3       4\n",
       "Experiment      1_4     1_4     1_4     1_4     1_4\n",
       "Temp            0.0     0.5     1.0     1.5     2.0\n",
       "p(A)        100.00%  96.00%  98.00%  72.00%  68.09%\n",
       "p(B)          0.00%   2.00%   2.00%  12.00%  19.15%\n",
       "p(C)          0.00%   2.00%   0.00%  16.00%  12.77%\n",
       "Obs.             50      50      50      50      47"
      ]
     },
     "execution_count": 18,
     "metadata": {},
     "output_type": "execute_result"
    }
   ],
   "source": [
    "results_1_4, probs_1_4 = temperature_loop(run_experiment, experiment_id = \"1_4\", temperature_list = [0, 0.5, 1, 1.5, 2], n = N)\n",
    "probs_1_4"
   ]
  },
  {
   "cell_type": "markdown",
   "metadata": {},
   "source": [
    "- Prompt 5: Segregation of gains (primed)"
   ]
  },
  {
   "cell_type": "code",
   "execution_count": 19,
   "metadata": {},
   "outputs": [
    {
     "name": "stderr",
     "output_type": "stream",
     "text": [
      "100%|██████████| 250/250 [02:41<00:00,  1.54it/s]"
     ]
    },
    {
     "name": "stdout",
     "output_type": "stream",
     "text": [
      "Experiment 1_5 uses gpt-3.5-turbo, deals with the segregation of gains and is primed. In this run, a total of 250 requests were made using prompt_5.\n",
      "The original results were ['p(A): 64.37%', 'p(B): 18.39%', 'p(C): 17.24%'].\n"
     ]
    },
    {
     "name": "stderr",
     "output_type": "stream",
     "text": [
      "\n"
     ]
    },
    {
     "data": {
      "text/html": [
       "<div>\n",
       "<style scoped>\n",
       "    .dataframe tbody tr th:only-of-type {\n",
       "        vertical-align: middle;\n",
       "    }\n",
       "\n",
       "    .dataframe tbody tr th {\n",
       "        vertical-align: top;\n",
       "    }\n",
       "\n",
       "    .dataframe thead th {\n",
       "        text-align: right;\n",
       "    }\n",
       "</style>\n",
       "<table border=\"1\" class=\"dataframe\">\n",
       "  <thead>\n",
       "    <tr style=\"text-align: right;\">\n",
       "      <th></th>\n",
       "      <th>0</th>\n",
       "      <th>1</th>\n",
       "      <th>2</th>\n",
       "      <th>3</th>\n",
       "      <th>4</th>\n",
       "    </tr>\n",
       "  </thead>\n",
       "  <tbody>\n",
       "    <tr>\n",
       "      <th>Experiment</th>\n",
       "      <td>1_5</td>\n",
       "      <td>1_5</td>\n",
       "      <td>1_5</td>\n",
       "      <td>1_5</td>\n",
       "      <td>1_5</td>\n",
       "    </tr>\n",
       "    <tr>\n",
       "      <th>Temp</th>\n",
       "      <td>0.0</td>\n",
       "      <td>0.5</td>\n",
       "      <td>1.0</td>\n",
       "      <td>1.5</td>\n",
       "      <td>2.0</td>\n",
       "    </tr>\n",
       "    <tr>\n",
       "      <th>p(A)</th>\n",
       "      <td>100.00%</td>\n",
       "      <td>70.00%</td>\n",
       "      <td>50.00%</td>\n",
       "      <td>46.00%</td>\n",
       "      <td>42.86%</td>\n",
       "    </tr>\n",
       "    <tr>\n",
       "      <th>p(B)</th>\n",
       "      <td>0.00%</td>\n",
       "      <td>4.00%</td>\n",
       "      <td>18.00%</td>\n",
       "      <td>22.00%</td>\n",
       "      <td>18.37%</td>\n",
       "    </tr>\n",
       "    <tr>\n",
       "      <th>p(C)</th>\n",
       "      <td>0.00%</td>\n",
       "      <td>26.00%</td>\n",
       "      <td>32.00%</td>\n",
       "      <td>32.00%</td>\n",
       "      <td>38.78%</td>\n",
       "    </tr>\n",
       "    <tr>\n",
       "      <th>Obs.</th>\n",
       "      <td>50</td>\n",
       "      <td>50</td>\n",
       "      <td>50</td>\n",
       "      <td>50</td>\n",
       "      <td>49</td>\n",
       "    </tr>\n",
       "  </tbody>\n",
       "</table>\n",
       "</div>"
      ],
      "text/plain": [
       "                  0       1       2       3       4\n",
       "Experiment      1_5     1_5     1_5     1_5     1_5\n",
       "Temp            0.0     0.5     1.0     1.5     2.0\n",
       "p(A)        100.00%  70.00%  50.00%  46.00%  42.86%\n",
       "p(B)          0.00%   4.00%  18.00%  22.00%  18.37%\n",
       "p(C)          0.00%  26.00%  32.00%  32.00%  38.78%\n",
       "Obs.             50      50      50      50      49"
      ]
     },
     "execution_count": 19,
     "metadata": {},
     "output_type": "execute_result"
    }
   ],
   "source": [
    "results_1_5, probs_1_5 = temperature_loop(run_experiment, experiment_id = \"1_5\", temperature_list = [0, 0.5, 1, 1.5, 2], n = N)\n",
    "probs_1_5"
   ]
  },
  {
   "cell_type": "markdown",
   "metadata": {},
   "source": [
    "- Prompt 6: Integration of losses (primed)"
   ]
  },
  {
   "cell_type": "code",
   "execution_count": 20,
   "metadata": {},
   "outputs": [
    {
     "name": "stderr",
     "output_type": "stream",
     "text": [
      "100%|██████████| 250/250 [22:45<00:00,  5.46s/it]   "
     ]
    },
    {
     "name": "stdout",
     "output_type": "stream",
     "text": [
      "Experiment 1_6 uses gpt-3.5-turbo, deals with the integration of losses and is primed. In this run, a total of 250 requests were made using prompt_6.\n",
      "The original results were ['p(A): 75.86%', 'p(B): 16.09%', 'p(C): 8.05%'].\n"
     ]
    },
    {
     "name": "stderr",
     "output_type": "stream",
     "text": [
      "\n"
     ]
    },
    {
     "data": {
      "text/html": [
       "<div>\n",
       "<style scoped>\n",
       "    .dataframe tbody tr th:only-of-type {\n",
       "        vertical-align: middle;\n",
       "    }\n",
       "\n",
       "    .dataframe tbody tr th {\n",
       "        vertical-align: top;\n",
       "    }\n",
       "\n",
       "    .dataframe thead th {\n",
       "        text-align: right;\n",
       "    }\n",
       "</style>\n",
       "<table border=\"1\" class=\"dataframe\">\n",
       "  <thead>\n",
       "    <tr style=\"text-align: right;\">\n",
       "      <th></th>\n",
       "      <th>0</th>\n",
       "      <th>1</th>\n",
       "      <th>2</th>\n",
       "      <th>3</th>\n",
       "      <th>4</th>\n",
       "    </tr>\n",
       "  </thead>\n",
       "  <tbody>\n",
       "    <tr>\n",
       "      <th>Experiment</th>\n",
       "      <td>1_6</td>\n",
       "      <td>1_6</td>\n",
       "      <td>1_6</td>\n",
       "      <td>1_6</td>\n",
       "      <td>1_6</td>\n",
       "    </tr>\n",
       "    <tr>\n",
       "      <th>Temp</th>\n",
       "      <td>0.0</td>\n",
       "      <td>0.5</td>\n",
       "      <td>1.0</td>\n",
       "      <td>1.5</td>\n",
       "      <td>2.0</td>\n",
       "    </tr>\n",
       "    <tr>\n",
       "      <th>p(A)</th>\n",
       "      <td>100.00%</td>\n",
       "      <td>84.00%</td>\n",
       "      <td>56.00%</td>\n",
       "      <td>50.00%</td>\n",
       "      <td>36.36%</td>\n",
       "    </tr>\n",
       "    <tr>\n",
       "      <th>p(B)</th>\n",
       "      <td>0.00%</td>\n",
       "      <td>0.00%</td>\n",
       "      <td>8.00%</td>\n",
       "      <td>10.00%</td>\n",
       "      <td>22.73%</td>\n",
       "    </tr>\n",
       "    <tr>\n",
       "      <th>p(C)</th>\n",
       "      <td>0.00%</td>\n",
       "      <td>16.00%</td>\n",
       "      <td>36.00%</td>\n",
       "      <td>40.00%</td>\n",
       "      <td>40.91%</td>\n",
       "    </tr>\n",
       "    <tr>\n",
       "      <th>Obs.</th>\n",
       "      <td>50</td>\n",
       "      <td>50</td>\n",
       "      <td>50</td>\n",
       "      <td>50</td>\n",
       "      <td>44</td>\n",
       "    </tr>\n",
       "  </tbody>\n",
       "</table>\n",
       "</div>"
      ],
      "text/plain": [
       "                  0       1       2       3       4\n",
       "Experiment      1_6     1_6     1_6     1_6     1_6\n",
       "Temp            0.0     0.5     1.0     1.5     2.0\n",
       "p(A)        100.00%  84.00%  56.00%  50.00%  36.36%\n",
       "p(B)          0.00%   0.00%   8.00%  10.00%  22.73%\n",
       "p(C)          0.00%  16.00%  36.00%  40.00%  40.91%\n",
       "Obs.             50      50      50      50      44"
      ]
     },
     "execution_count": 20,
     "metadata": {},
     "output_type": "execute_result"
    }
   ],
   "source": [
    "results_1_6, probs_1_6 = temperature_loop(run_experiment, experiment_id = \"1_6\", temperature_list = [0, 0.5, 1, 1.5, 2], n = N)\n",
    "probs_1_6"
   ]
  },
  {
   "cell_type": "markdown",
   "metadata": {},
   "source": [
    "-  Prompt 7: Cancellation of losses against larger gains (primed)"
   ]
  },
  {
   "cell_type": "code",
   "execution_count": 21,
   "metadata": {},
   "outputs": [
    {
     "name": "stderr",
     "output_type": "stream",
     "text": [
      "100%|██████████| 250/250 [12:22<00:00,  2.97s/it]   "
     ]
    },
    {
     "name": "stdout",
     "output_type": "stream",
     "text": [
      "Experiment 1_7 uses gpt-3.5-turbo, deals with the cancellation of losses against larger gains and is primed. In this run, a total of 250 requests were made using prompt_7.\n",
      "The original results were ['p(A): 25.29%', 'p(B): 70.11%', 'p(C): 4.6%'].\n"
     ]
    },
    {
     "name": "stderr",
     "output_type": "stream",
     "text": [
      "\n"
     ]
    },
    {
     "data": {
      "text/html": [
       "<div>\n",
       "<style scoped>\n",
       "    .dataframe tbody tr th:only-of-type {\n",
       "        vertical-align: middle;\n",
       "    }\n",
       "\n",
       "    .dataframe tbody tr th {\n",
       "        vertical-align: top;\n",
       "    }\n",
       "\n",
       "    .dataframe thead th {\n",
       "        text-align: right;\n",
       "    }\n",
       "</style>\n",
       "<table border=\"1\" class=\"dataframe\">\n",
       "  <thead>\n",
       "    <tr style=\"text-align: right;\">\n",
       "      <th></th>\n",
       "      <th>0</th>\n",
       "      <th>1</th>\n",
       "      <th>2</th>\n",
       "      <th>3</th>\n",
       "      <th>4</th>\n",
       "    </tr>\n",
       "  </thead>\n",
       "  <tbody>\n",
       "    <tr>\n",
       "      <th>Experiment</th>\n",
       "      <td>1_7</td>\n",
       "      <td>1_7</td>\n",
       "      <td>1_7</td>\n",
       "      <td>1_7</td>\n",
       "      <td>1_7</td>\n",
       "    </tr>\n",
       "    <tr>\n",
       "      <th>Temp</th>\n",
       "      <td>0.0</td>\n",
       "      <td>0.5</td>\n",
       "      <td>1.0</td>\n",
       "      <td>1.5</td>\n",
       "      <td>2.0</td>\n",
       "    </tr>\n",
       "    <tr>\n",
       "      <th>p(A)</th>\n",
       "      <td>100.00%</td>\n",
       "      <td>62.00%</td>\n",
       "      <td>56.00%</td>\n",
       "      <td>43.75%</td>\n",
       "      <td>44.68%</td>\n",
       "    </tr>\n",
       "    <tr>\n",
       "      <th>p(B)</th>\n",
       "      <td>0.00%</td>\n",
       "      <td>0.00%</td>\n",
       "      <td>2.00%</td>\n",
       "      <td>10.42%</td>\n",
       "      <td>14.89%</td>\n",
       "    </tr>\n",
       "    <tr>\n",
       "      <th>p(C)</th>\n",
       "      <td>0.00%</td>\n",
       "      <td>38.00%</td>\n",
       "      <td>42.00%</td>\n",
       "      <td>45.83%</td>\n",
       "      <td>40.43%</td>\n",
       "    </tr>\n",
       "    <tr>\n",
       "      <th>Obs.</th>\n",
       "      <td>50</td>\n",
       "      <td>50</td>\n",
       "      <td>50</td>\n",
       "      <td>48</td>\n",
       "      <td>47</td>\n",
       "    </tr>\n",
       "  </tbody>\n",
       "</table>\n",
       "</div>"
      ],
      "text/plain": [
       "                  0       1       2       3       4\n",
       "Experiment      1_7     1_7     1_7     1_7     1_7\n",
       "Temp            0.0     0.5     1.0     1.5     2.0\n",
       "p(A)        100.00%  62.00%  56.00%  43.75%  44.68%\n",
       "p(B)          0.00%   0.00%   2.00%  10.42%  14.89%\n",
       "p(C)          0.00%  38.00%  42.00%  45.83%  40.43%\n",
       "Obs.             50      50      50      48      47"
      ]
     },
     "execution_count": 21,
     "metadata": {},
     "output_type": "execute_result"
    }
   ],
   "source": [
    "results_1_7, probs_1_7 = temperature_loop(run_experiment, experiment_id = \"1_7\", temperature_list = [0, 0.5, 1, 1.5, 2], n = N)\n",
    "probs_1_7"
   ]
  },
  {
   "cell_type": "markdown",
   "metadata": {},
   "source": [
    "- Prompt 8: Segregation of \"silver linings\" (primed)"
   ]
  },
  {
   "cell_type": "code",
   "execution_count": 22,
   "metadata": {},
   "outputs": [
    {
     "name": "stderr",
     "output_type": "stream",
     "text": [
      "100%|██████████| 250/250 [32:20<00:00,  7.76s/it]   "
     ]
    },
    {
     "name": "stdout",
     "output_type": "stream",
     "text": [
      "Experiment 1_8 uses gpt-3.5-turbo, deals with the segregation of *silver linings*, and is primed. In this run, a total of 250 requests were made using prompt_8.\n",
      "The original results were ['p(A): 21.84%', 'p(B): 72.41%', 'p(C): 5.75%'].\n"
     ]
    },
    {
     "name": "stderr",
     "output_type": "stream",
     "text": [
      "\n"
     ]
    },
    {
     "data": {
      "text/html": [
       "<div>\n",
       "<style scoped>\n",
       "    .dataframe tbody tr th:only-of-type {\n",
       "        vertical-align: middle;\n",
       "    }\n",
       "\n",
       "    .dataframe tbody tr th {\n",
       "        vertical-align: top;\n",
       "    }\n",
       "\n",
       "    .dataframe thead th {\n",
       "        text-align: right;\n",
       "    }\n",
       "</style>\n",
       "<table border=\"1\" class=\"dataframe\">\n",
       "  <thead>\n",
       "    <tr style=\"text-align: right;\">\n",
       "      <th></th>\n",
       "      <th>0</th>\n",
       "      <th>1</th>\n",
       "      <th>2</th>\n",
       "      <th>3</th>\n",
       "      <th>4</th>\n",
       "    </tr>\n",
       "  </thead>\n",
       "  <tbody>\n",
       "    <tr>\n",
       "      <th>Experiment</th>\n",
       "      <td>1_8</td>\n",
       "      <td>1_8</td>\n",
       "      <td>1_8</td>\n",
       "      <td>1_8</td>\n",
       "      <td>1_8</td>\n",
       "    </tr>\n",
       "    <tr>\n",
       "      <th>Temp</th>\n",
       "      <td>0.0</td>\n",
       "      <td>0.5</td>\n",
       "      <td>1.0</td>\n",
       "      <td>1.5</td>\n",
       "      <td>2.0</td>\n",
       "    </tr>\n",
       "    <tr>\n",
       "      <th>p(A)</th>\n",
       "      <td>100.00%</td>\n",
       "      <td>88.00%</td>\n",
       "      <td>72.00%</td>\n",
       "      <td>68.00%</td>\n",
       "      <td>57.14%</td>\n",
       "    </tr>\n",
       "    <tr>\n",
       "      <th>p(B)</th>\n",
       "      <td>0.00%</td>\n",
       "      <td>2.00%</td>\n",
       "      <td>2.00%</td>\n",
       "      <td>14.00%</td>\n",
       "      <td>16.67%</td>\n",
       "    </tr>\n",
       "    <tr>\n",
       "      <th>p(C)</th>\n",
       "      <td>0.00%</td>\n",
       "      <td>10.00%</td>\n",
       "      <td>26.00%</td>\n",
       "      <td>18.00%</td>\n",
       "      <td>26.19%</td>\n",
       "    </tr>\n",
       "    <tr>\n",
       "      <th>Obs.</th>\n",
       "      <td>50</td>\n",
       "      <td>50</td>\n",
       "      <td>50</td>\n",
       "      <td>50</td>\n",
       "      <td>42</td>\n",
       "    </tr>\n",
       "  </tbody>\n",
       "</table>\n",
       "</div>"
      ],
      "text/plain": [
       "                  0       1       2       3       4\n",
       "Experiment      1_8     1_8     1_8     1_8     1_8\n",
       "Temp            0.0     0.5     1.0     1.5     2.0\n",
       "p(A)        100.00%  88.00%  72.00%  68.00%  57.14%\n",
       "p(B)          0.00%   2.00%   2.00%  14.00%  16.67%\n",
       "p(C)          0.00%  10.00%  26.00%  18.00%  26.19%\n",
       "Obs.             50      50      50      50      42"
      ]
     },
     "execution_count": 22,
     "metadata": {},
     "output_type": "execute_result"
    }
   ],
   "source": [
    "results_1_8, probs_1_8 = temperature_loop(run_experiment, experiment_id = \"1_8\", temperature_list = [0, 0.5, 1, 1.5, 2], n = N)\n",
    "probs_1_8"
   ]
  },
  {
   "cell_type": "markdown",
   "metadata": {},
   "source": [
    "------------------------------------------"
   ]
  },
  {
   "cell_type": "markdown",
   "metadata": {},
   "source": [
    "#### Model 2: GPT-4-1106-preview (Model training ended in April 2023)\n",
    "\n",
    "Since prompting GPT4 is much more expensive, we will only use 50 requests per temperature value instead of 100, as we did for GPT3."
   ]
  },
  {
   "cell_type": "code",
   "execution_count": null,
   "metadata": {},
   "outputs": [],
   "source": [
    "# Set number of requests per temperature value\n",
    "N = 50"
   ]
  },
  {
   "cell_type": "markdown",
   "metadata": {},
   "source": [
    "- Prompt 1: Segregation of gains (unprimed)"
   ]
  },
  {
   "cell_type": "code",
   "execution_count": 23,
   "metadata": {},
   "outputs": [
    {
     "name": "stderr",
     "output_type": "stream",
     "text": [
      "100%|██████████| 250/250 [01:56<00:00,  2.14it/s]"
     ]
    },
    {
     "name": "stdout",
     "output_type": "stream",
     "text": [
      "Experiment 1_1 uses gpt-4-1106-preview, deals with the segregation of gains and is unprimed. In this run, a total of 250 requests were made using prompt_1.\n",
      "The original results were ['p(A): 64.37%', 'p(B): 18.39%', 'p(C): 17.24%'].\n"
     ]
    },
    {
     "name": "stderr",
     "output_type": "stream",
     "text": [
      "\n"
     ]
    },
    {
     "data": {
      "text/html": [
       "<div>\n",
       "<style scoped>\n",
       "    .dataframe tbody tr th:only-of-type {\n",
       "        vertical-align: middle;\n",
       "    }\n",
       "\n",
       "    .dataframe tbody tr th {\n",
       "        vertical-align: top;\n",
       "    }\n",
       "\n",
       "    .dataframe thead th {\n",
       "        text-align: right;\n",
       "    }\n",
       "</style>\n",
       "<table border=\"1\" class=\"dataframe\">\n",
       "  <thead>\n",
       "    <tr style=\"text-align: right;\">\n",
       "      <th></th>\n",
       "      <th>0</th>\n",
       "      <th>1</th>\n",
       "      <th>2</th>\n",
       "      <th>3</th>\n",
       "      <th>4</th>\n",
       "    </tr>\n",
       "  </thead>\n",
       "  <tbody>\n",
       "    <tr>\n",
       "      <th>Experiment</th>\n",
       "      <td>2_1</td>\n",
       "      <td>2_1</td>\n",
       "      <td>2_1</td>\n",
       "      <td>2_1</td>\n",
       "      <td>2_1</td>\n",
       "    </tr>\n",
       "    <tr>\n",
       "      <th>Temp</th>\n",
       "      <td>0.0</td>\n",
       "      <td>0.5</td>\n",
       "      <td>1.0</td>\n",
       "      <td>1.5</td>\n",
       "      <td>2.0</td>\n",
       "    </tr>\n",
       "    <tr>\n",
       "      <th>p(A)</th>\n",
       "      <td>0.00%</td>\n",
       "      <td>0.00%</td>\n",
       "      <td>0.00%</td>\n",
       "      <td>2.00%</td>\n",
       "      <td>6.00%</td>\n",
       "    </tr>\n",
       "    <tr>\n",
       "      <th>p(B)</th>\n",
       "      <td>0.00%</td>\n",
       "      <td>0.00%</td>\n",
       "      <td>0.00%</td>\n",
       "      <td>0.00%</td>\n",
       "      <td>2.00%</td>\n",
       "    </tr>\n",
       "    <tr>\n",
       "      <th>p(C)</th>\n",
       "      <td>100.00%</td>\n",
       "      <td>100.00%</td>\n",
       "      <td>100.00%</td>\n",
       "      <td>98.00%</td>\n",
       "      <td>92.00%</td>\n",
       "    </tr>\n",
       "    <tr>\n",
       "      <th>Obs.</th>\n",
       "      <td>50</td>\n",
       "      <td>50</td>\n",
       "      <td>50</td>\n",
       "      <td>50</td>\n",
       "      <td>50</td>\n",
       "    </tr>\n",
       "  </tbody>\n",
       "</table>\n",
       "</div>"
      ],
      "text/plain": [
       "                  0        1        2       3       4\n",
       "Experiment      2_1      2_1      2_1     2_1     2_1\n",
       "Temp            0.0      0.5      1.0     1.5     2.0\n",
       "p(A)          0.00%    0.00%    0.00%   2.00%   6.00%\n",
       "p(B)          0.00%    0.00%    0.00%   0.00%   2.00%\n",
       "p(C)        100.00%  100.00%  100.00%  98.00%  92.00%\n",
       "Obs.             50       50       50      50      50"
      ]
     },
     "execution_count": 23,
     "metadata": {},
     "output_type": "execute_result"
    }
   ],
   "source": [
    "results_2_1, probs_2_1 = temperature_loop(run_experiment, experiment_id = \"2_1\", temperature_list = [0, 0.5, 1, 1.5, 2], n = N)\n",
    "probs_2_1"
   ]
  },
  {
   "cell_type": "markdown",
   "metadata": {},
   "source": [
    "- Prompt 2: Integration of losses (unprimed)"
   ]
  },
  {
   "cell_type": "code",
   "execution_count": 24,
   "metadata": {},
   "outputs": [
    {
     "name": "stderr",
     "output_type": "stream",
     "text": [
      "100%|██████████| 250/250 [12:12<00:00,  2.93s/it] "
     ]
    },
    {
     "name": "stdout",
     "output_type": "stream",
     "text": [
      "Experiment 1_2 uses gpt-4-1106-preview, deals with the integration of losses and is unprimed. In this run, a total of 250 requests were made using prompt_2.\n",
      "The original results were ['p(A): 75.86%', 'p(B): 16.09%', 'p(C): 8.05%'].\n"
     ]
    },
    {
     "name": "stderr",
     "output_type": "stream",
     "text": [
      "\n"
     ]
    },
    {
     "data": {
      "text/html": [
       "<div>\n",
       "<style scoped>\n",
       "    .dataframe tbody tr th:only-of-type {\n",
       "        vertical-align: middle;\n",
       "    }\n",
       "\n",
       "    .dataframe tbody tr th {\n",
       "        vertical-align: top;\n",
       "    }\n",
       "\n",
       "    .dataframe thead th {\n",
       "        text-align: right;\n",
       "    }\n",
       "</style>\n",
       "<table border=\"1\" class=\"dataframe\">\n",
       "  <thead>\n",
       "    <tr style=\"text-align: right;\">\n",
       "      <th></th>\n",
       "      <th>0</th>\n",
       "      <th>1</th>\n",
       "      <th>2</th>\n",
       "      <th>3</th>\n",
       "      <th>4</th>\n",
       "    </tr>\n",
       "  </thead>\n",
       "  <tbody>\n",
       "    <tr>\n",
       "      <th>Experiment</th>\n",
       "      <td>2_2</td>\n",
       "      <td>2_2</td>\n",
       "      <td>2_2</td>\n",
       "      <td>2_2</td>\n",
       "      <td>2_2</td>\n",
       "    </tr>\n",
       "    <tr>\n",
       "      <th>Temp</th>\n",
       "      <td>0.0</td>\n",
       "      <td>0.5</td>\n",
       "      <td>1.0</td>\n",
       "      <td>1.5</td>\n",
       "      <td>2.0</td>\n",
       "    </tr>\n",
       "    <tr>\n",
       "      <th>p(A)</th>\n",
       "      <td>0.00%</td>\n",
       "      <td>0.00%</td>\n",
       "      <td>0.00%</td>\n",
       "      <td>0.00%</td>\n",
       "      <td>4.08%</td>\n",
       "    </tr>\n",
       "    <tr>\n",
       "      <th>p(B)</th>\n",
       "      <td>0.00%</td>\n",
       "      <td>0.00%</td>\n",
       "      <td>0.00%</td>\n",
       "      <td>2.00%</td>\n",
       "      <td>0.00%</td>\n",
       "    </tr>\n",
       "    <tr>\n",
       "      <th>p(C)</th>\n",
       "      <td>100.00%</td>\n",
       "      <td>100.00%</td>\n",
       "      <td>100.00%</td>\n",
       "      <td>98.00%</td>\n",
       "      <td>95.92%</td>\n",
       "    </tr>\n",
       "    <tr>\n",
       "      <th>Obs.</th>\n",
       "      <td>50</td>\n",
       "      <td>50</td>\n",
       "      <td>50</td>\n",
       "      <td>50</td>\n",
       "      <td>49</td>\n",
       "    </tr>\n",
       "  </tbody>\n",
       "</table>\n",
       "</div>"
      ],
      "text/plain": [
       "                  0        1        2       3       4\n",
       "Experiment      2_2      2_2      2_2     2_2     2_2\n",
       "Temp            0.0      0.5      1.0     1.5     2.0\n",
       "p(A)          0.00%    0.00%    0.00%   0.00%   4.08%\n",
       "p(B)          0.00%    0.00%    0.00%   2.00%   0.00%\n",
       "p(C)        100.00%  100.00%  100.00%  98.00%  95.92%\n",
       "Obs.             50       50       50      50      49"
      ]
     },
     "execution_count": 24,
     "metadata": {},
     "output_type": "execute_result"
    }
   ],
   "source": [
    "results_2_2, probs_2_2 = temperature_loop(run_experiment, experiment_id = \"2_2\", temperature_list = [0, 0.5, 1, 1.5, 2], n = N)\n",
    "probs_2_2"
   ]
  },
  {
   "cell_type": "markdown",
   "metadata": {},
   "source": [
    "- Prompt 3: Cancellation of losses against larger gains (unprimed)"
   ]
  },
  {
   "cell_type": "code",
   "execution_count": 25,
   "metadata": {},
   "outputs": [
    {
     "name": "stderr",
     "output_type": "stream",
     "text": [
      "100%|██████████| 250/250 [12:23<00:00,  2.97s/it]   "
     ]
    },
    {
     "name": "stdout",
     "output_type": "stream",
     "text": [
      "Experiment 1_3 uses gpt-4-1106-preview, deals with the cancellation of losses against larger gains and is unprimed. In this run, a total of 250 requests were made using prompt_3.\n",
      "The original results were ['p(A): 25.29%', 'p(B): 70.11%', 'p(C): 4.6%'].\n"
     ]
    },
    {
     "name": "stderr",
     "output_type": "stream",
     "text": [
      "\n"
     ]
    },
    {
     "data": {
      "text/html": [
       "<div>\n",
       "<style scoped>\n",
       "    .dataframe tbody tr th:only-of-type {\n",
       "        vertical-align: middle;\n",
       "    }\n",
       "\n",
       "    .dataframe tbody tr th {\n",
       "        vertical-align: top;\n",
       "    }\n",
       "\n",
       "    .dataframe thead th {\n",
       "        text-align: right;\n",
       "    }\n",
       "</style>\n",
       "<table border=\"1\" class=\"dataframe\">\n",
       "  <thead>\n",
       "    <tr style=\"text-align: right;\">\n",
       "      <th></th>\n",
       "      <th>0</th>\n",
       "      <th>1</th>\n",
       "      <th>2</th>\n",
       "      <th>3</th>\n",
       "      <th>4</th>\n",
       "    </tr>\n",
       "  </thead>\n",
       "  <tbody>\n",
       "    <tr>\n",
       "      <th>Experiment</th>\n",
       "      <td>2_3</td>\n",
       "      <td>2_3</td>\n",
       "      <td>2_3</td>\n",
       "      <td>2_3</td>\n",
       "      <td>2_3</td>\n",
       "    </tr>\n",
       "    <tr>\n",
       "      <th>Temp</th>\n",
       "      <td>0.0</td>\n",
       "      <td>0.5</td>\n",
       "      <td>1.0</td>\n",
       "      <td>1.5</td>\n",
       "      <td>2.0</td>\n",
       "    </tr>\n",
       "    <tr>\n",
       "      <th>p(A)</th>\n",
       "      <td>0.00%</td>\n",
       "      <td>0.00%</td>\n",
       "      <td>0.00%</td>\n",
       "      <td>2.04%</td>\n",
       "      <td>0.00%</td>\n",
       "    </tr>\n",
       "    <tr>\n",
       "      <th>p(B)</th>\n",
       "      <td>0.00%</td>\n",
       "      <td>0.00%</td>\n",
       "      <td>0.00%</td>\n",
       "      <td>0.00%</td>\n",
       "      <td>6.38%</td>\n",
       "    </tr>\n",
       "    <tr>\n",
       "      <th>p(C)</th>\n",
       "      <td>100.00%</td>\n",
       "      <td>100.00%</td>\n",
       "      <td>100.00%</td>\n",
       "      <td>97.96%</td>\n",
       "      <td>93.62%</td>\n",
       "    </tr>\n",
       "    <tr>\n",
       "      <th>Obs.</th>\n",
       "      <td>50</td>\n",
       "      <td>50</td>\n",
       "      <td>50</td>\n",
       "      <td>49</td>\n",
       "      <td>47</td>\n",
       "    </tr>\n",
       "  </tbody>\n",
       "</table>\n",
       "</div>"
      ],
      "text/plain": [
       "                  0        1        2       3       4\n",
       "Experiment      2_3      2_3      2_3     2_3     2_3\n",
       "Temp            0.0      0.5      1.0     1.5     2.0\n",
       "p(A)          0.00%    0.00%    0.00%   2.04%   0.00%\n",
       "p(B)          0.00%    0.00%    0.00%   0.00%   6.38%\n",
       "p(C)        100.00%  100.00%  100.00%  97.96%  93.62%\n",
       "Obs.             50       50       50      49      47"
      ]
     },
     "execution_count": 25,
     "metadata": {},
     "output_type": "execute_result"
    }
   ],
   "source": [
    "results_2_3, probs_2_3 = temperature_loop(run_experiment, experiment_id = \"2_3\", temperature_list = [0, 0.5, 1, 1.5, 2], n = N)\n",
    "probs_2_3"
   ]
  },
  {
   "cell_type": "markdown",
   "metadata": {},
   "source": [
    "- Prompt 4: Segregation of \"silver linings\" (unprimed)"
   ]
  },
  {
   "cell_type": "code",
   "execution_count": 26,
   "metadata": {},
   "outputs": [
    {
     "name": "stderr",
     "output_type": "stream",
     "text": [
      "100%|██████████| 250/250 [22:09<00:00,  5.32s/it]   "
     ]
    },
    {
     "name": "stdout",
     "output_type": "stream",
     "text": [
      "Experiment 1_4 uses gpt-4-1106-preview, deals with the segrgation of *silver linings* and is unprimed. In this run, a total of 250 requests were made using prompt_4.\n",
      "The original results were ['p(A): 21.84%', 'p(B): 72.41%', 'p(C): 5.75%'].\n"
     ]
    },
    {
     "name": "stderr",
     "output_type": "stream",
     "text": [
      "\n"
     ]
    },
    {
     "data": {
      "text/html": [
       "<div>\n",
       "<style scoped>\n",
       "    .dataframe tbody tr th:only-of-type {\n",
       "        vertical-align: middle;\n",
       "    }\n",
       "\n",
       "    .dataframe tbody tr th {\n",
       "        vertical-align: top;\n",
       "    }\n",
       "\n",
       "    .dataframe thead th {\n",
       "        text-align: right;\n",
       "    }\n",
       "</style>\n",
       "<table border=\"1\" class=\"dataframe\">\n",
       "  <thead>\n",
       "    <tr style=\"text-align: right;\">\n",
       "      <th></th>\n",
       "      <th>0</th>\n",
       "      <th>1</th>\n",
       "      <th>2</th>\n",
       "      <th>3</th>\n",
       "      <th>4</th>\n",
       "    </tr>\n",
       "  </thead>\n",
       "  <tbody>\n",
       "    <tr>\n",
       "      <th>Experiment</th>\n",
       "      <td>2_4</td>\n",
       "      <td>2_4</td>\n",
       "      <td>2_4</td>\n",
       "      <td>2_4</td>\n",
       "      <td>2_4</td>\n",
       "    </tr>\n",
       "    <tr>\n",
       "      <th>Temp</th>\n",
       "      <td>0.0</td>\n",
       "      <td>0.5</td>\n",
       "      <td>1.0</td>\n",
       "      <td>1.5</td>\n",
       "      <td>2.0</td>\n",
       "    </tr>\n",
       "    <tr>\n",
       "      <th>p(A)</th>\n",
       "      <td>0.00%</td>\n",
       "      <td>0.00%</td>\n",
       "      <td>0.00%</td>\n",
       "      <td>0.00%</td>\n",
       "      <td>0.00%</td>\n",
       "    </tr>\n",
       "    <tr>\n",
       "      <th>p(B)</th>\n",
       "      <td>0.00%</td>\n",
       "      <td>0.00%</td>\n",
       "      <td>0.00%</td>\n",
       "      <td>0.00%</td>\n",
       "      <td>0.00%</td>\n",
       "    </tr>\n",
       "    <tr>\n",
       "      <th>p(C)</th>\n",
       "      <td>100.00%</td>\n",
       "      <td>100.00%</td>\n",
       "      <td>100.00%</td>\n",
       "      <td>100.00%</td>\n",
       "      <td>100.00%</td>\n",
       "    </tr>\n",
       "    <tr>\n",
       "      <th>Obs.</th>\n",
       "      <td>50</td>\n",
       "      <td>50</td>\n",
       "      <td>50</td>\n",
       "      <td>50</td>\n",
       "      <td>49</td>\n",
       "    </tr>\n",
       "  </tbody>\n",
       "</table>\n",
       "</div>"
      ],
      "text/plain": [
       "                  0        1        2        3        4\n",
       "Experiment      2_4      2_4      2_4      2_4      2_4\n",
       "Temp            0.0      0.5      1.0      1.5      2.0\n",
       "p(A)          0.00%    0.00%    0.00%    0.00%    0.00%\n",
       "p(B)          0.00%    0.00%    0.00%    0.00%    0.00%\n",
       "p(C)        100.00%  100.00%  100.00%  100.00%  100.00%\n",
       "Obs.             50       50       50       50       49"
      ]
     },
     "execution_count": 26,
     "metadata": {},
     "output_type": "execute_result"
    }
   ],
   "source": [
    "results_2_4, probs_2_4 = temperature_loop(run_experiment, experiment_id = \"2_4\", temperature_list = [0, 0.5, 1, 1.5, 2], n = N)\n",
    "probs_2_4"
   ]
  },
  {
   "cell_type": "markdown",
   "metadata": {},
   "source": [
    "- Prompt 5: Segregation of gains (primed)"
   ]
  },
  {
   "cell_type": "code",
   "execution_count": 27,
   "metadata": {},
   "outputs": [
    {
     "name": "stderr",
     "output_type": "stream",
     "text": [
      "100%|██████████| 250/250 [02:09<00:00,  1.93it/s]"
     ]
    },
    {
     "name": "stdout",
     "output_type": "stream",
     "text": [
      "Experiment 1_5 uses gpt-4-1106-preview, deals with the segregation of gains and is primed. In this run, a total of 250 requests were made using prompt_5.\n",
      "The original results were ['p(A): 64.37%', 'p(B): 18.39%', 'p(C): 17.24%'].\n"
     ]
    },
    {
     "name": "stderr",
     "output_type": "stream",
     "text": [
      "\n"
     ]
    },
    {
     "data": {
      "text/html": [
       "<div>\n",
       "<style scoped>\n",
       "    .dataframe tbody tr th:only-of-type {\n",
       "        vertical-align: middle;\n",
       "    }\n",
       "\n",
       "    .dataframe tbody tr th {\n",
       "        vertical-align: top;\n",
       "    }\n",
       "\n",
       "    .dataframe thead th {\n",
       "        text-align: right;\n",
       "    }\n",
       "</style>\n",
       "<table border=\"1\" class=\"dataframe\">\n",
       "  <thead>\n",
       "    <tr style=\"text-align: right;\">\n",
       "      <th></th>\n",
       "      <th>0</th>\n",
       "      <th>1</th>\n",
       "      <th>2</th>\n",
       "      <th>3</th>\n",
       "      <th>4</th>\n",
       "    </tr>\n",
       "  </thead>\n",
       "  <tbody>\n",
       "    <tr>\n",
       "      <th>Experiment</th>\n",
       "      <td>2_5</td>\n",
       "      <td>2_5</td>\n",
       "      <td>2_5</td>\n",
       "      <td>2_5</td>\n",
       "      <td>2_5</td>\n",
       "    </tr>\n",
       "    <tr>\n",
       "      <th>Temp</th>\n",
       "      <td>0.0</td>\n",
       "      <td>0.5</td>\n",
       "      <td>1.0</td>\n",
       "      <td>1.5</td>\n",
       "      <td>2.0</td>\n",
       "    </tr>\n",
       "    <tr>\n",
       "      <th>p(A)</th>\n",
       "      <td>94.00%</td>\n",
       "      <td>70.00%</td>\n",
       "      <td>60.00%</td>\n",
       "      <td>60.00%</td>\n",
       "      <td>57.14%</td>\n",
       "    </tr>\n",
       "    <tr>\n",
       "      <th>p(B)</th>\n",
       "      <td>0.00%</td>\n",
       "      <td>0.00%</td>\n",
       "      <td>0.00%</td>\n",
       "      <td>0.00%</td>\n",
       "      <td>0.00%</td>\n",
       "    </tr>\n",
       "    <tr>\n",
       "      <th>p(C)</th>\n",
       "      <td>6.00%</td>\n",
       "      <td>30.00%</td>\n",
       "      <td>40.00%</td>\n",
       "      <td>40.00%</td>\n",
       "      <td>42.86%</td>\n",
       "    </tr>\n",
       "    <tr>\n",
       "      <th>Obs.</th>\n",
       "      <td>50</td>\n",
       "      <td>50</td>\n",
       "      <td>50</td>\n",
       "      <td>50</td>\n",
       "      <td>49</td>\n",
       "    </tr>\n",
       "  </tbody>\n",
       "</table>\n",
       "</div>"
      ],
      "text/plain": [
       "                 0       1       2       3       4\n",
       "Experiment     2_5     2_5     2_5     2_5     2_5\n",
       "Temp           0.0     0.5     1.0     1.5     2.0\n",
       "p(A)        94.00%  70.00%  60.00%  60.00%  57.14%\n",
       "p(B)         0.00%   0.00%   0.00%   0.00%   0.00%\n",
       "p(C)         6.00%  30.00%  40.00%  40.00%  42.86%\n",
       "Obs.            50      50      50      50      49"
      ]
     },
     "execution_count": 27,
     "metadata": {},
     "output_type": "execute_result"
    }
   ],
   "source": [
    "results_2_5, probs_2_5 = temperature_loop(run_experiment, experiment_id = \"2_5\", temperature_list = [0, 0.5, 1, 1.5, 2], n = N)\n",
    "probs_2_5"
   ]
  },
  {
   "cell_type": "markdown",
   "metadata": {},
   "source": [
    "- Prompt 6: Integration of losses (primed)"
   ]
  },
  {
   "cell_type": "code",
   "execution_count": 28,
   "metadata": {},
   "outputs": [
    {
     "name": "stderr",
     "output_type": "stream",
     "text": [
      "100%|██████████| 250/250 [22:41<00:00,  5.45s/it]   "
     ]
    },
    {
     "name": "stdout",
     "output_type": "stream",
     "text": [
      "Experiment 1_6 uses gpt-4-1106-preview, deals with the integration of losses and is primed. In this run, a total of 250 requests were made using prompt_6.\n",
      "The original results were ['p(A): 75.86%', 'p(B): 16.09%', 'p(C): 8.05%'].\n"
     ]
    },
    {
     "name": "stderr",
     "output_type": "stream",
     "text": [
      "\n"
     ]
    },
    {
     "data": {
      "text/html": [
       "<div>\n",
       "<style scoped>\n",
       "    .dataframe tbody tr th:only-of-type {\n",
       "        vertical-align: middle;\n",
       "    }\n",
       "\n",
       "    .dataframe tbody tr th {\n",
       "        vertical-align: top;\n",
       "    }\n",
       "\n",
       "    .dataframe thead th {\n",
       "        text-align: right;\n",
       "    }\n",
       "</style>\n",
       "<table border=\"1\" class=\"dataframe\">\n",
       "  <thead>\n",
       "    <tr style=\"text-align: right;\">\n",
       "      <th></th>\n",
       "      <th>0</th>\n",
       "      <th>1</th>\n",
       "      <th>2</th>\n",
       "      <th>3</th>\n",
       "      <th>4</th>\n",
       "    </tr>\n",
       "  </thead>\n",
       "  <tbody>\n",
       "    <tr>\n",
       "      <th>Experiment</th>\n",
       "      <td>2_6</td>\n",
       "      <td>2_6</td>\n",
       "      <td>2_6</td>\n",
       "      <td>2_6</td>\n",
       "      <td>2_6</td>\n",
       "    </tr>\n",
       "    <tr>\n",
       "      <th>Temp</th>\n",
       "      <td>0.0</td>\n",
       "      <td>0.5</td>\n",
       "      <td>1.0</td>\n",
       "      <td>1.5</td>\n",
       "      <td>2.0</td>\n",
       "    </tr>\n",
       "    <tr>\n",
       "      <th>p(A)</th>\n",
       "      <td>98.00%</td>\n",
       "      <td>96.00%</td>\n",
       "      <td>88.00%</td>\n",
       "      <td>84.00%</td>\n",
       "      <td>75.51%</td>\n",
       "    </tr>\n",
       "    <tr>\n",
       "      <th>p(B)</th>\n",
       "      <td>0.00%</td>\n",
       "      <td>0.00%</td>\n",
       "      <td>0.00%</td>\n",
       "      <td>2.00%</td>\n",
       "      <td>0.00%</td>\n",
       "    </tr>\n",
       "    <tr>\n",
       "      <th>p(C)</th>\n",
       "      <td>2.00%</td>\n",
       "      <td>4.00%</td>\n",
       "      <td>12.00%</td>\n",
       "      <td>14.00%</td>\n",
       "      <td>24.49%</td>\n",
       "    </tr>\n",
       "    <tr>\n",
       "      <th>Obs.</th>\n",
       "      <td>50</td>\n",
       "      <td>50</td>\n",
       "      <td>50</td>\n",
       "      <td>50</td>\n",
       "      <td>49</td>\n",
       "    </tr>\n",
       "  </tbody>\n",
       "</table>\n",
       "</div>"
      ],
      "text/plain": [
       "                 0       1       2       3       4\n",
       "Experiment     2_6     2_6     2_6     2_6     2_6\n",
       "Temp           0.0     0.5     1.0     1.5     2.0\n",
       "p(A)        98.00%  96.00%  88.00%  84.00%  75.51%\n",
       "p(B)         0.00%   0.00%   0.00%   2.00%   0.00%\n",
       "p(C)         2.00%   4.00%  12.00%  14.00%  24.49%\n",
       "Obs.            50      50      50      50      49"
      ]
     },
     "execution_count": 28,
     "metadata": {},
     "output_type": "execute_result"
    }
   ],
   "source": [
    "results_2_6, probs_2_6 = temperature_loop(run_experiment, experiment_id = \"2_6\", temperature_list = [0, 0.5, 1, 1.5, 2], n = N)\n",
    "probs_2_6"
   ]
  },
  {
   "cell_type": "markdown",
   "metadata": {},
   "source": [
    "-  Prompt 7: Cancellation of losses against larger gains (primed)"
   ]
  },
  {
   "cell_type": "code",
   "execution_count": 29,
   "metadata": {},
   "outputs": [
    {
     "name": "stderr",
     "output_type": "stream",
     "text": [
      "100%|██████████| 250/250 [02:08<00:00,  1.94it/s]"
     ]
    },
    {
     "name": "stdout",
     "output_type": "stream",
     "text": [
      "Experiment 1_7 uses gpt-4-1106-preview, deals with the cancellation of losses against larger gains and is primed. In this run, a total of 250 requests were made using prompt_7.\n",
      "The original results were ['p(A): 25.29%', 'p(B): 70.11%', 'p(C): 4.6%'].\n"
     ]
    },
    {
     "name": "stderr",
     "output_type": "stream",
     "text": [
      "\n"
     ]
    },
    {
     "data": {
      "text/html": [
       "<div>\n",
       "<style scoped>\n",
       "    .dataframe tbody tr th:only-of-type {\n",
       "        vertical-align: middle;\n",
       "    }\n",
       "\n",
       "    .dataframe tbody tr th {\n",
       "        vertical-align: top;\n",
       "    }\n",
       "\n",
       "    .dataframe thead th {\n",
       "        text-align: right;\n",
       "    }\n",
       "</style>\n",
       "<table border=\"1\" class=\"dataframe\">\n",
       "  <thead>\n",
       "    <tr style=\"text-align: right;\">\n",
       "      <th></th>\n",
       "      <th>0</th>\n",
       "      <th>1</th>\n",
       "      <th>2</th>\n",
       "      <th>3</th>\n",
       "      <th>4</th>\n",
       "    </tr>\n",
       "  </thead>\n",
       "  <tbody>\n",
       "    <tr>\n",
       "      <th>Experiment</th>\n",
       "      <td>2_7</td>\n",
       "      <td>2_7</td>\n",
       "      <td>2_7</td>\n",
       "      <td>2_7</td>\n",
       "      <td>2_7</td>\n",
       "    </tr>\n",
       "    <tr>\n",
       "      <th>Temp</th>\n",
       "      <td>0.0</td>\n",
       "      <td>0.5</td>\n",
       "      <td>1.0</td>\n",
       "      <td>1.5</td>\n",
       "      <td>2.0</td>\n",
       "    </tr>\n",
       "    <tr>\n",
       "      <th>p(A)</th>\n",
       "      <td>30.00%</td>\n",
       "      <td>54.00%</td>\n",
       "      <td>44.00%</td>\n",
       "      <td>46.94%</td>\n",
       "      <td>38.00%</td>\n",
       "    </tr>\n",
       "    <tr>\n",
       "      <th>p(B)</th>\n",
       "      <td>0.00%</td>\n",
       "      <td>0.00%</td>\n",
       "      <td>0.00%</td>\n",
       "      <td>2.04%</td>\n",
       "      <td>10.00%</td>\n",
       "    </tr>\n",
       "    <tr>\n",
       "      <th>p(C)</th>\n",
       "      <td>70.00%</td>\n",
       "      <td>46.00%</td>\n",
       "      <td>56.00%</td>\n",
       "      <td>51.02%</td>\n",
       "      <td>52.00%</td>\n",
       "    </tr>\n",
       "    <tr>\n",
       "      <th>Obs.</th>\n",
       "      <td>50</td>\n",
       "      <td>50</td>\n",
       "      <td>50</td>\n",
       "      <td>49</td>\n",
       "      <td>50</td>\n",
       "    </tr>\n",
       "  </tbody>\n",
       "</table>\n",
       "</div>"
      ],
      "text/plain": [
       "                 0       1       2       3       4\n",
       "Experiment     2_7     2_7     2_7     2_7     2_7\n",
       "Temp           0.0     0.5     1.0     1.5     2.0\n",
       "p(A)        30.00%  54.00%  44.00%  46.94%  38.00%\n",
       "p(B)         0.00%   0.00%   0.00%   2.04%  10.00%\n",
       "p(C)        70.00%  46.00%  56.00%  51.02%  52.00%\n",
       "Obs.            50      50      50      49      50"
      ]
     },
     "execution_count": 29,
     "metadata": {},
     "output_type": "execute_result"
    }
   ],
   "source": [
    "results_2_7, probs_2_7 = temperature_loop(run_experiment, experiment_id = \"2_7\", temperature_list = [0, 0.5, 1, 1.5, 2], n = N)\n",
    "probs_2_7"
   ]
  },
  {
   "cell_type": "markdown",
   "metadata": {},
   "source": [
    "- Prompt 8: Segregation of \"silver linings\" (primed)"
   ]
  },
  {
   "cell_type": "code",
   "execution_count": 30,
   "metadata": {},
   "outputs": [
    {
     "name": "stderr",
     "output_type": "stream",
     "text": [
      "100%|██████████| 250/250 [02:10<00:00,  1.91it/s]"
     ]
    },
    {
     "name": "stdout",
     "output_type": "stream",
     "text": [
      "Experiment 1_8 uses gpt-4-1106-preview, deals with the segregation of *silver linings*, and is primed. In this run, a total of 250 requests were made using prompt_8.\n",
      "The original results were ['p(A): 21.84%', 'p(B): 72.41%', 'p(C): 5.75%'].\n"
     ]
    },
    {
     "name": "stderr",
     "output_type": "stream",
     "text": [
      "\n"
     ]
    },
    {
     "data": {
      "text/html": [
       "<div>\n",
       "<style scoped>\n",
       "    .dataframe tbody tr th:only-of-type {\n",
       "        vertical-align: middle;\n",
       "    }\n",
       "\n",
       "    .dataframe tbody tr th {\n",
       "        vertical-align: top;\n",
       "    }\n",
       "\n",
       "    .dataframe thead th {\n",
       "        text-align: right;\n",
       "    }\n",
       "</style>\n",
       "<table border=\"1\" class=\"dataframe\">\n",
       "  <thead>\n",
       "    <tr style=\"text-align: right;\">\n",
       "      <th></th>\n",
       "      <th>0</th>\n",
       "      <th>1</th>\n",
       "      <th>2</th>\n",
       "      <th>3</th>\n",
       "      <th>4</th>\n",
       "    </tr>\n",
       "  </thead>\n",
       "  <tbody>\n",
       "    <tr>\n",
       "      <th>Experiment</th>\n",
       "      <td>2_8</td>\n",
       "      <td>2_8</td>\n",
       "      <td>2_8</td>\n",
       "      <td>2_8</td>\n",
       "      <td>2_8</td>\n",
       "    </tr>\n",
       "    <tr>\n",
       "      <th>Temp</th>\n",
       "      <td>0.0</td>\n",
       "      <td>0.5</td>\n",
       "      <td>1.0</td>\n",
       "      <td>1.5</td>\n",
       "      <td>2.0</td>\n",
       "    </tr>\n",
       "    <tr>\n",
       "      <th>p(A)</th>\n",
       "      <td>0.00%</td>\n",
       "      <td>2.00%</td>\n",
       "      <td>8.00%</td>\n",
       "      <td>16.00%</td>\n",
       "      <td>23.40%</td>\n",
       "    </tr>\n",
       "    <tr>\n",
       "      <th>p(B)</th>\n",
       "      <td>0.00%</td>\n",
       "      <td>0.00%</td>\n",
       "      <td>0.00%</td>\n",
       "      <td>2.00%</td>\n",
       "      <td>8.51%</td>\n",
       "    </tr>\n",
       "    <tr>\n",
       "      <th>p(C)</th>\n",
       "      <td>100.00%</td>\n",
       "      <td>98.00%</td>\n",
       "      <td>92.00%</td>\n",
       "      <td>82.00%</td>\n",
       "      <td>68.09%</td>\n",
       "    </tr>\n",
       "    <tr>\n",
       "      <th>Obs.</th>\n",
       "      <td>50</td>\n",
       "      <td>50</td>\n",
       "      <td>50</td>\n",
       "      <td>50</td>\n",
       "      <td>47</td>\n",
       "    </tr>\n",
       "  </tbody>\n",
       "</table>\n",
       "</div>"
      ],
      "text/plain": [
       "                  0       1       2       3       4\n",
       "Experiment      2_8     2_8     2_8     2_8     2_8\n",
       "Temp            0.0     0.5     1.0     1.5     2.0\n",
       "p(A)          0.00%   2.00%   8.00%  16.00%  23.40%\n",
       "p(B)          0.00%   0.00%   0.00%   2.00%   8.51%\n",
       "p(C)        100.00%  98.00%  92.00%  82.00%  68.09%\n",
       "Obs.             50      50      50      50      47"
      ]
     },
     "execution_count": 30,
     "metadata": {},
     "output_type": "execute_result"
    }
   ],
   "source": [
    "results_2_8, probs_2_8 = temperature_loop(run_experiment, experiment_id = \"2_8\", temperature_list = [0, 0.5, 1, 1.5, 2], n = N)\n",
    "probs_2_8"
   ]
  },
  {
   "cell_type": "markdown",
   "metadata": {},
   "source": [
    "--------------------------------------------"
   ]
  },
  {
   "cell_type": "markdown",
   "metadata": {},
   "source": [
    "#### Model 3: LLama-2-70b\n",
    "\n",
    "!!! Use max_new_tokens of at least 2, as llama tends to begin answers with a blank space !!!"
   ]
  },
  {
   "cell_type": "code",
   "execution_count": 2,
   "metadata": {},
   "outputs": [],
   "source": [
    "import replicate\n",
    "# models = ['meta/llama-2-70b-chat:02e509c789964a7ea8736978a43525956ef40397be9033abf9fd2badfe68c9e3'] # possibility to add further llama models \n",
    "temperature_list = [0.01, 0.5, 1, 1.5, 2] # LLama wont take 0 as temperature\n",
    "N = 50 # number of requests per temperature value "
   ]
  },
  {
   "cell_type": "code",
   "execution_count": 35,
   "metadata": {},
   "outputs": [
    {
     "data": {
      "text/html": [
       "<div>\n",
       "<style scoped>\n",
       "    .dataframe tbody tr th:only-of-type {\n",
       "        vertical-align: middle;\n",
       "    }\n",
       "\n",
       "    .dataframe tbody tr th {\n",
       "        vertical-align: top;\n",
       "    }\n",
       "\n",
       "    .dataframe thead th {\n",
       "        text-align: right;\n",
       "    }\n",
       "</style>\n",
       "<table border=\"1\" class=\"dataframe\">\n",
       "  <thead>\n",
       "    <tr style=\"text-align: right;\">\n",
       "      <th></th>\n",
       "      <th>Experiment</th>\n",
       "      <th>Temp</th>\n",
       "      <th>p(A)</th>\n",
       "      <th>p(B)</th>\n",
       "      <th>p(C)</th>\n",
       "      <th>Obs.</th>\n",
       "      <th>Model</th>\n",
       "      <th>Scenario</th>\n",
       "    </tr>\n",
       "  </thead>\n",
       "  <tbody>\n",
       "    <tr>\n",
       "      <th>0</th>\n",
       "      <td>3_1</td>\n",
       "      <td>0.01</td>\n",
       "      <td>0.00%</td>\n",
       "      <td>100.00%</td>\n",
       "      <td>0.00%</td>\n",
       "      <td>5</td>\n",
       "      <td>llama-2-70b</td>\n",
       "      <td>1</td>\n",
       "    </tr>\n",
       "    <tr>\n",
       "      <th>1</th>\n",
       "      <td>3_1</td>\n",
       "      <td>0.5</td>\n",
       "      <td>0.00%</td>\n",
       "      <td>100.00%</td>\n",
       "      <td>0.00%</td>\n",
       "      <td>5</td>\n",
       "      <td>llama-2-70b</td>\n",
       "      <td>1</td>\n",
       "    </tr>\n",
       "    <tr>\n",
       "      <th>2</th>\n",
       "      <td>3_1</td>\n",
       "      <td>1.0</td>\n",
       "      <td>0.00%</td>\n",
       "      <td>100.00%</td>\n",
       "      <td>0.00%</td>\n",
       "      <td>5</td>\n",
       "      <td>llama-2-70b</td>\n",
       "      <td>1</td>\n",
       "    </tr>\n",
       "    <tr>\n",
       "      <th>3</th>\n",
       "      <td>3_1</td>\n",
       "      <td>1.5</td>\n",
       "      <td>20.00%</td>\n",
       "      <td>80.00%</td>\n",
       "      <td>0.00%</td>\n",
       "      <td>5</td>\n",
       "      <td>llama-2-70b</td>\n",
       "      <td>1</td>\n",
       "    </tr>\n",
       "    <tr>\n",
       "      <th>4</th>\n",
       "      <td>3_1</td>\n",
       "      <td>2.0</td>\n",
       "      <td>20.00%</td>\n",
       "      <td>80.00%</td>\n",
       "      <td>0.00%</td>\n",
       "      <td>5</td>\n",
       "      <td>llama-2-70b</td>\n",
       "      <td>1</td>\n",
       "    </tr>\n",
       "  </tbody>\n",
       "</table>\n",
       "</div>"
      ],
      "text/plain": [
       "  Experiment  Temp    p(A)     p(B)   p(C) Obs.        Model Scenario\n",
       "0        3_1  0.01   0.00%  100.00%  0.00%    5  llama-2-70b        1\n",
       "1        3_1   0.5   0.00%  100.00%  0.00%    5  llama-2-70b        1\n",
       "2        3_1   1.0   0.00%  100.00%  0.00%    5  llama-2-70b        1\n",
       "3        3_1   1.5  20.00%   80.00%  0.00%    5  llama-2-70b        1\n",
       "4        3_1   2.0  20.00%   80.00%  0.00%    5  llama-2-70b        1"
      ]
     },
     "execution_count": 35,
     "metadata": {},
     "output_type": "execute_result"
    }
   ],
   "source": [
    "#test_results, test_probs = temperature_loop(run_experiment_llama, experiment_id = \"3_1\", temperature_list = [0.01, 0.5, 1, 1.5, 2], n = 5)\n",
    "test_probs = test_probs.transpose()\n",
    "test_probs['Model'] = test_probs['Model'].replace('meta/llama-2-70b-chat:02e509c789964a7ea8736978a43525956ef40397be9033abf9fd2badfe68c9e3', 'llama-2-70b')\n",
    "test_probs"
   ]
  },
  {
   "cell_type": "markdown",
   "metadata": {},
   "source": [
    "- Prompt 1: Segregation of gains (unprimed)"
   ]
  },
  {
   "cell_type": "code",
   "execution_count": null,
   "metadata": {},
   "outputs": [],
   "source": [
    "results_3_1, probs_3_1 = temperature_loop(run_experiment_llama, experiment_id = \"3_1\", temperature_list = [0.01, 0.5, 1, 1.5, 2], n = N)\n",
    "probs_3_1"
   ]
  },
  {
   "cell_type": "markdown",
   "metadata": {},
   "source": [
    "- Prompt 2: Integration of losses (unprimed)"
   ]
  },
  {
   "cell_type": "code",
   "execution_count": null,
   "metadata": {},
   "outputs": [],
   "source": [
    "results_3_2, probs_3_2 = temperature_loop(run_experiment_llama, experiment_id = \"3_2\", temperature_list = [0.01, 0.5, 1, 1.5, 2], n = N)\n",
    "probs_3_2"
   ]
  },
  {
   "cell_type": "markdown",
   "metadata": {},
   "source": [
    "- Prompt 3: Cancellation of losses against larger gains (unprimed)"
   ]
  },
  {
   "cell_type": "code",
   "execution_count": null,
   "metadata": {},
   "outputs": [],
   "source": [
    "results_3_3, probs_3_3 = temperature_loop(run_experiment_llama, experiment_id = \"3_3\", temperature_list = [0.01, 0.5, 1, 1.5, 2], n = N)    \n",
    "probs_3_3"
   ]
  },
  {
   "cell_type": "markdown",
   "metadata": {},
   "source": [
    "- Prompt 4: Segregation of silver linings (unprimed)"
   ]
  },
  {
   "cell_type": "code",
   "execution_count": null,
   "metadata": {},
   "outputs": [],
   "source": [
    "results_3_4, probs_3_4 = temperature_loop(run_experiment_llama, experiment_id = \"3_4\", temperature_list = [0.01, 0.5, 1, 1.5, 2], n = N)\n",
    "probs_3_4"
   ]
  },
  {
   "cell_type": "markdown",
   "metadata": {},
   "source": [
    "- Prompt 5: Segregation of gains (primed)"
   ]
  },
  {
   "cell_type": "code",
   "execution_count": null,
   "metadata": {},
   "outputs": [],
   "source": [
    "results_3_5, probs_3_5 = temperature_loop(run_experiment_llama, experiment_id = \"3_5\", temperature_list = [0.01, 0.5, 1, 1.5, 2], n = N)\n",
    "probs_3_5"
   ]
  },
  {
   "cell_type": "markdown",
   "metadata": {},
   "source": [
    "- Prompt 6: Integration of losses (primed)"
   ]
  },
  {
   "cell_type": "code",
   "execution_count": null,
   "metadata": {},
   "outputs": [],
   "source": [
    "results_3_6, probs_3_6 = temperature_loop(run_experiment_llama, experiment_id = \"3_6\", temperature_list = [0.01, 0.5, 1, 1.5, 2], n = N)\n",
    "probs_3_6"
   ]
  },
  {
   "cell_type": "markdown",
   "metadata": {},
   "source": [
    "- Prompt 7: Cancellation of losses against larger gains (primed)"
   ]
  },
  {
   "cell_type": "code",
   "execution_count": null,
   "metadata": {},
   "outputs": [],
   "source": [
    "results_3_7, probs_3_7 = temperature_loop(run_experiment_llama, experiment_id = \"3_7\", temperature_list = [0.01, 0.5, 1, 1.5, 2], n = N)\n",
    "probs_3_7"
   ]
  },
  {
   "cell_type": "markdown",
   "metadata": {},
   "source": [
    "- Prompt 8: Segregation of silver linings (primed)"
   ]
  },
  {
   "cell_type": "code",
   "execution_count": null,
   "metadata": {},
   "outputs": [],
   "source": [
    "results_3_8, probs_3_8 = temperature_loop(run_experiment_llama, experiment_id = \"3_8\", temperature_list = [0.01, 0.5, 1, 1.5, 2], n = N)\n",
    "probs_3_8"
   ]
  },
  {
   "cell_type": "markdown",
   "metadata": {},
   "source": [
    "---"
   ]
  },
  {
   "cell_type": "markdown",
   "metadata": {},
   "source": [
    "- Save the results\n",
    "\n",
    "The dataframes above were constructed to be illustrative and easily interpretable. For further processing however, we need the data in another (longer) format. Therefore, the following transformations need to be applied. (Right now performed in df_conversion.ipynb)"
   ]
  },
  {
   "cell_type": "code",
   "execution_count": 31,
   "metadata": {},
   "outputs": [
    {
     "name": "stdout",
     "output_type": "stream",
     "text": [
      "Folder PT_probs_dfs successfully created.\n"
     ]
    }
   ],
   "source": [
    "# Set folder name to save results to\n",
    "folder_name = \"Output/PT_probs_dfs\"\n",
    "\n",
    "# Check if path already exists, only create folder if not \n",
    "if not os.path.exists(folder_name):\n",
    "    os.mkdir(folder_name)\n",
    "    print(f\"Folder {folder_name} successfully created.\")\n",
    "else:\n",
    "    print(f\"Folder {folder_name} already exists in current directory.\")\n",
    "\n",
    "# Save dataframes with their respective experiment id as file name\n",
    "for i in np.arange(1,3):\n",
    "    for j in np.arange(1,9):\n",
    "        exec(f\"probs_{i}_{j}.to_csv('{folder_name}\\PT_probs_{i}_{j}.csv')\")"
   ]
  }
 ],
 "metadata": {
  "kernelspec": {
   "display_name": "Python 3 (ipykernel)",
   "language": "python",
   "name": "python3"
  },
  "language_info": {
   "codemirror_mode": {
    "name": "ipython",
    "version": 3
   },
   "file_extension": ".py",
   "mimetype": "text/x-python",
   "name": "python",
   "nbconvert_exporter": "python",
   "pygments_lexer": "ipython3",
   "version": "3.11.7"
  }
 },
 "nbformat": 4,
 "nbformat_minor": 2
}
