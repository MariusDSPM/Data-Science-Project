{
 "cells": [
  {
   "cell_type": "markdown",
   "id": "de93018a",
   "metadata": {},
   "source": [
    "## Mental Accounting"
   ]
  },
  {
   "cell_type": "markdown",
   "id": "e7d95526",
   "metadata": {},
   "source": [
    "This notebook aims to recreate some of the findings of **Thaler, Richard (1985), “Mental Accounting and Consumer Choice,” Marketing Science, 4 (3), 199–214.** Specifically, we try to see if LLMs like **ChatGPT** abide by some rules of Mental Accounting and Prospect Theory.\n",
    "\n",
    "As of right now, this is just a 101 example, since the results differ significantly for identical requests and have to be made somewhat reliable first before advancing. "
   ]
  },
  {
   "cell_type": "code",
   "execution_count": 1,
   "id": "f5a445e7",
   "metadata": {},
   "outputs": [],
   "source": [
    "import openai\n",
    "import time\n",
    "import matplotlib.pyplot as plt\n",
    "import os "
   ]
  },
  {
   "cell_type": "code",
   "execution_count": 2,
   "id": "6aaca770",
   "metadata": {},
   "outputs": [],
   "source": [
    "# Get API key (previously saved as environmental variable)\n",
    "openai.api_key = os.environ[\"OPENAI_API_KEY\"]"
   ]
  },
  {
   "cell_type": "code",
   "execution_count": 3,
   "id": "a8f7d7a0",
   "metadata": {},
   "outputs": [],
   "source": [
    "answers = []\n",
    "for _ in range(10): # original experiment had 87 answers\n",
    "    response = openai.ChatCompletion.create(\n",
    "        model = \"gpt-3.5-turbo\",\n",
    "        max_tokens = 1,\n",
    "        temperature = 0.5,\n",
    "        messages = [\n",
    "        {\"role\": \"user\", \"content\": \"\"\"You are a market researcher and focus on Prospect Theory and Mental Accounting.\n",
    "          Mister A wins 100$ in a lottery. The same day he spills something on the carpet in \n",
    "          his apartment and has to pay his landlord 80$ for cleaning. Mister B wins 20$ in the lottery.\n",
    "          Who is happier? Reply with one letter only: A for Mister A and B for Mister B.\"\"\"},\n",
    "                   ])\n",
    "\n",
    "    # Store the answer in the list\n",
    "    answer = response['choices'][0]['message']['content']\n",
    "    answers.append(answer.strip())\n",
    "    "
   ]
  },
  {
   "cell_type": "markdown",
   "id": "c3d19ad4",
   "metadata": {},
   "source": [
    "With *system* role"
   ]
  },
  {
   "cell_type": "code",
   "execution_count": 151,
   "id": "017a3ef0",
   "metadata": {},
   "outputs": [],
   "source": [
    "answers = []\n",
    "for _ in range(50): # original experiment had 87 answers\n",
    "    response = openai.ChatCompletion.create(\n",
    "        model = \"gpt-3.5-turbo\",\n",
    "        max_tokens = 1,\n",
    "        temperature = 0.6,\n",
    "        messages = [\n",
    "        {\"role\": \"user\", \"content\": \"\"\"Mister A wins 100$ in a lottery. The same day he spills something on the carpet in \n",
    "          his apartment and has to pay his landlord 80$ for cleaning. Mister B wins 20$ in the lottery.\n",
    "          Who is happier? Reply with one letter only: A for Mister A and B for Mister B.\"\"\"},\n",
    "        #{\"role\": \"system\", \"content\": \"\"\"You are a market researcher and focus on Prospect Theory and Mental Accounting.\n",
    "    #   Please answer only with 1 letter: A for Mister A, B for Mister B.\"\"\"}\n",
    "                   ])\n",
    "\n",
    "    # Store the answer in the list\n",
    "    answer = response['choices'][0]['message']['content']\n",
    "    answers.append(answer.strip())\n",
    "    "
   ]
  },
  {
   "cell_type": "code",
   "execution_count": null,
   "id": "cedd3b23",
   "metadata": {},
   "outputs": [],
   "source": [
    "B = answers.count(\"B\")\n",
    "A = answers.count(\"A\")\n",
    "C = answers.count(\"C\")\n",
    "print(f\"The answer A was chosen {A} times, while B was chosen {B} times. Equally happy was stated {C} times.\")"
   ]
  },
  {
   "cell_type": "markdown",
   "id": "c6c258fc",
   "metadata": {},
   "source": [
    "### Plotting the results"
   ]
  },
  {
   "cell_type": "code",
   "execution_count": null,
   "id": "1d30502f",
   "metadata": {},
   "outputs": [],
   "source": [
    "# Set labels\n",
    "labels = ['Mister A', 'Mister B', 'Equally happy']\n",
    "\n",
    "# Create a bar graph\n",
    "plt.bar(labels, [A, B, C])\n",
    "\n",
    "# Add labels and a title\n",
    "plt.xlabel('Happier Person')\n",
    "plt.ylabel('Total answers')\n",
    "plt.title('Distribution of answers')\n",
    "\n",
    "# Show the plot\n",
    "plt.show()\n"
   ]
  },
  {
   "cell_type": "markdown",
   "id": "19f361f7",
   "metadata": {},
   "source": [
    "Playing around with the *temperature* parameter I found out, that for lower values our results are as desired, whereas \n",
    "for higher values, no real systematic trend appeared to be present. The results were rather random.\n",
    "Also I am not yet sure, if setting a context with the *system* role really worked."
   ]
  },
  {
   "cell_type": "code",
   "execution_count": null,
   "id": "59f627e3",
   "metadata": {},
   "outputs": [],
   "source": []
  }
 ],
 "metadata": {
  "kernelspec": {
   "display_name": "Python 3 (ipykernel)",
   "language": "python",
   "name": "python3"
  },
  "language_info": {
   "codemirror_mode": {
    "name": "ipython",
    "version": 3
   },
   "file_extension": ".py",
   "mimetype": "text/x-python",
   "name": "python",
   "nbconvert_exporter": "python",
   "pygments_lexer": "ipython3",
   "version": "3.11.5"
  }
 },
 "nbformat": 4,
 "nbformat_minor": 5
}
