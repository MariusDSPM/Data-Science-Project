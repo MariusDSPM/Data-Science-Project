{
 "cells": [
  {
   "cell_type": "markdown",
   "metadata": {},
   "source": [
    "### Decoy Effect"
   ]
  },
  {
   "cell_type": "markdown",
   "metadata": {},
   "source": [
    "This notebook aims to recreate some findings concerning the **Decoy Effect**. Specifically, we recreate the event described in https://thestrategystory.com/2020/10/02/economist-magazine-a-story-of-clever-decoy-pricing/ with numbers taken from https://en.wikipedia.org/wiki/Decoy_effect.\n",
    "\n",
    "As of right now, the LLM does not know about the Decoy Effect and mostly chooses the answer option which comes with the most features. One certain aspect to be researched might be the determination of a threshold after which A becomes the dominant option. Although this threshold would not really hold any informative meaning. \n",
    "When priming the model as a market researcher and mentioning the Decoy Effect, some distribution amongst the answers can be observed. However, the degree to which the answers change once the decoy product is removed does not resemble the previous empirical findings. \n",
    "\n",
    "This is still a very simple, yet illustrative approach analogous to the *Mental Accounting* notebook."
   ]
  },
  {
   "cell_type": "code",
   "execution_count": 240,
   "metadata": {},
   "outputs": [],
   "source": [
    "from openai import OpenAI\n",
    "import openai\n",
    "import matplotlib.pyplot as plt\n",
    "import os \n",
    "import numpy as np\n",
    "import pandas as pd"
   ]
  },
  {
   "cell_type": "code",
   "execution_count": 262,
   "metadata": {},
   "outputs": [],
   "source": [
    "# Get API key (previously saved as environmental variable)\n",
    "openai.api_key = os.environ[\"OPENAI_API_KEY\"]\n",
    "\n",
    "# Set client\n",
    "client = OpenAI()\n",
    "\n",
    "# Set global plot style\n",
    "plt.style.use('seaborn-v0_8')"
   ]
  },
  {
   "cell_type": "markdown",
   "metadata": {},
   "source": [
    "|Answer option          | Scenario 1 | Scenario 2 (no 2nd option)|\n",
    "|-----------------------|--------------|-----------|\n",
    "| Online subscription   |     16%      |  68%       |\n",
    "| Print subscribtion    |      0%     | 0%        |\n",
    "| Combination           |     84%   | 32%        |\n"
   ]
  },
  {
   "cell_type": "code",
   "execution_count": 242,
   "metadata": {},
   "outputs": [],
   "source": [
    "answers = []\n",
    "for _ in range(100): \n",
    "    response = client.chat.completions.create(\n",
    "        model = \"gpt-4-1106-preview\", # model = \"gpt-3.5-turbo\", \"gpt-4\", \"gpt-4-1106-preview\"\n",
    "        max_tokens = 1,\n",
    "        temperature = 1, # range is 0 to 2\n",
    "        messages = [\n",
    "        {\"role\": \"user\", \"content\": \"\"\"You are presented with three different subsciption alternatives for the \"The Economist\" magazine:\n",
    "         A: 1-year Economist.com subscription for $59.00, including access to all articles from 1997 onwards.\n",
    "         B: 1-year Print subscription to The Economist for $125.00.\n",
    "         C: Print & web subscription for 125$: 1-year subscription to the print edition of The Econnomist and online access to all articles from 1997 onwards.\n",
    "         Which alternative would you choose? Please answer by only giving the letter of the alternative you would choose without any reasoning. \n",
    "         \"\"\"},\n",
    "                   ])\n",
    "\n",
    "    # Store the answer in the list\n",
    "    answer = response.choices[0].message.content\n",
    "    answers.append(answer.strip())"
   ]
  },
  {
   "cell_type": "code",
   "execution_count": 243,
   "metadata": {},
   "outputs": [],
   "source": [
    "# Collecting results without priming\n",
    "A = answers.count(\"A\")\n",
    "B = answers.count(\"B\")\n",
    "C = answers.count(\"C\")\n",
    "\n",
    "# Getting percentage of answers\n",
    "p_a_1 = f\"{(A / len(answers)) * 100:.2f}%\"\n",
    "p_b_1 = f\"{(B / len(answers)) * 100:.2f}%\"\n",
    "p_c_1 = f\"{(C / len(answers)) * 100:.2f}%\"\n",
    "\n",
    "plt.style.use('classic')"
   ]
  },
  {
   "cell_type": "code",
   "execution_count": 263,
   "metadata": {},
   "outputs": [
    {
     "data": {
      "image/png": "[encoded data removed]",
      "text/plain": [
       "<Figure size 640x440 with 1 Axes>"
      ]
     },
     "metadata": {},
     "output_type": "display_data"
    }
   ],
   "source": [
    "# Set labels\n",
    "labels = ['Web only', 'Print only', 'Combination']\n",
    "\n",
    "# Create a bar graph\n",
    "plt.bar(labels, [A, B, C])\n",
    "\n",
    "# Add labels and a title\n",
    "plt.xlabel('Chosen Subscription')\n",
    "plt.ylabel('Total answers')\n",
    "plt.title('Distribution of answers in scenario 1')\n",
    "\n",
    "\n",
    "# Show the plot\n",
    "plt.show()"
   ]
  },
  {
   "cell_type": "markdown",
   "metadata": {},
   "source": [
    "### Removing the second (decoy) option"
   ]
  },
  {
   "cell_type": "code",
   "execution_count": 245,
   "metadata": {},
   "outputs": [],
   "source": [
    "answers_2 = []\n",
    "for _ in range(100): \n",
    "    response = client.chat.completions.create(\n",
    "        model = \"gpt-4-1106-preview\", # model = \"gpt-3.5-turbo\", \"gpt-4\", \"gpt-4-1106-preview\"\n",
    "        max_tokens = 1,\n",
    "        temperature = 1, # range is 0 to 2\n",
    "        messages = [\n",
    "        {\"role\": \"user\", \"content\": \"\"\"You are presented with three different subsciption alternatives for the \"The Economist\" magazine:\n",
    "         A: 1-year Economist.com subscription for $59.00, including access to all articles from 1997 onwards.\n",
    "         B: 1-year Print subscription to The Economist for $125.00.\n",
    "         C: Print & web subscription for 125$: 1-year subscription to the print edition of The Econnomist and online access to all articles from 1997 onwards.\n",
    "         The Marketing team of The Economist however has now decided to remove option B. \n",
    "         Which remaining alternative would you choose? Please answer by only giving the letter of the alternative you would choose.\n",
    "         \"\"\"},\n",
    "                   ])\n",
    "\n",
    "    # Store the answer in the list\n",
    "    answer = response.choices[0].message.content\n",
    "    answers_2.append(answer.strip())\n",
    "    "
   ]
  },
  {
   "cell_type": "code",
   "execution_count": 246,
   "metadata": {},
   "outputs": [],
   "source": [
    "# Collecting results without priming\n",
    "A_2 = answers_2.count(\"A\")\n",
    "B_2 = answers_2.count(\"B\")\n",
    "C_2 = answers_2.count(\"C\")\n",
    "\n",
    "# Getting percentage of answers\n",
    "p_a_2 = f\"{(A_2 / len(answers)) * 100:.2f}%\"\n",
    "p_b_2 = f\"{(B_2 / len(answers)) * 100:.2f}%\"\n",
    "p_c_2 = f\"{(C_2 / len(answers)) * 100:.2f}%\""
   ]
  },
  {
   "cell_type": "code",
   "execution_count": 264,
   "metadata": {},
   "outputs": [
    {
     "data": {
      "image/png": "[encoded data removed]",
      "text/plain": [
       "<Figure size 640x440 with 1 Axes>"
      ]
     },
     "metadata": {},
     "output_type": "display_data"
    }
   ],
   "source": [
    "# Set labels\n",
    "labels = ['Web only', 'Print only', 'Combination']\n",
    "\n",
    "# Create a bar graph\n",
    "plt.bar(labels, [A_2, B_2, C_2])\n",
    "\n",
    "# Add labels and a title\n",
    "plt.xlabel('Chosen Subscription')\n",
    "plt.ylabel('Total answers')\n",
    "plt.title('Distribution of answers in scenario 2')\n",
    "\n",
    "# Show the plot\n",
    "plt.show()"
   ]
  },
  {
   "cell_type": "code",
   "execution_count": 248,
   "metadata": {},
   "outputs": [
    {
     "data": {
      "text/html": [
       "<div>\n",
       "<style scoped>\n",
       "    .dataframe tbody tr th:only-of-type {\n",
       "        vertical-align: middle;\n",
       "    }\n",
       "\n",
       "    .dataframe tbody tr th {\n",
       "        vertical-align: top;\n",
       "    }\n",
       "\n",
       "    .dataframe thead th {\n",
       "        text-align: right;\n",
       "    }\n",
       "</style>\n",
       "<table border=\"1\" class=\"dataframe\">\n",
       "  <thead>\n",
       "    <tr style=\"text-align: right;\">\n",
       "      <th></th>\n",
       "      <th>Answer option</th>\n",
       "      <th>Scenario 1</th>\n",
       "      <th>Scenario 2 (no 2nd option)</th>\n",
       "    </tr>\n",
       "  </thead>\n",
       "  <tbody>\n",
       "    <tr>\n",
       "      <th>0</th>\n",
       "      <td>Online subscription</td>\n",
       "      <td>0.00%</td>\n",
       "      <td>0.00%</td>\n",
       "    </tr>\n",
       "    <tr>\n",
       "      <th>1</th>\n",
       "      <td>Print subscription</td>\n",
       "      <td>0.00%</td>\n",
       "      <td>0.00%</td>\n",
       "    </tr>\n",
       "    <tr>\n",
       "      <th>2</th>\n",
       "      <td>Combination</td>\n",
       "      <td>100.00%</td>\n",
       "      <td>100.00%</td>\n",
       "    </tr>\n",
       "  </tbody>\n",
       "</table>\n",
       "</div>"
      ],
      "text/plain": [
       "         Answer option Scenario 1 Scenario 2 (no 2nd option)\n",
       "0  Online subscription      0.00%                      0.00%\n",
       "1   Print subscription      0.00%                      0.00%\n",
       "2          Combination    100.00%                    100.00%"
      ]
     },
     "execution_count": 248,
     "metadata": {},
     "output_type": "execute_result"
    }
   ],
   "source": [
    "df = pd.DataFrame([\n",
    "    [\"Online subscription\", p_a_1, p_a_2],\n",
    "    [\"Print subscription\", p_b_1, p_b_2],\n",
    "    [\"Combination\", p_c_1, p_c_2]\n",
    "], columns=[\"Answer option\", \"Scenario 1\", \"Scenario 2 (no 2nd option)\"])\n",
    "\n",
    "df"
   ]
  },
  {
   "cell_type": "markdown",
   "metadata": {},
   "source": [
    "- Repeating scenario 1 priming the model as a market researcher "
   ]
  },
  {
   "cell_type": "code",
   "execution_count": 249,
   "metadata": {},
   "outputs": [],
   "source": [
    "answers_1_mr = []\n",
    "for _ in range(100): \n",
    "    response = client.chat.completions.create(\n",
    "        model = \"gpt-4-1106-preview\", # model = \"gpt-3.5-turbo\", \"gpt-4\", \"gpt-4-1106-preview\"\n",
    "        max_tokens = 1,\n",
    "        temperature = 1,\n",
    "        messages = [\n",
    "        {\"role\": \"user\", \"content\": \"\"\"You are a market researcher that knows about the Decoy Effect. \n",
    "         You are presented with three different subsciption alternatives for the \"The Economist\" magazine:\n",
    "         A: 1-year Economist.com subscription for $59.00, including access to all articles from 1997 onwards.\n",
    "         B: 1-year Print subscription to The Economist for $125.00.\n",
    "         C: Print & web subscription for 125$: 1-year subscription to the print edition of The Econnomist and online access to all articles from 1997 onwards.\n",
    "         Which alternative would you choose? Please answer by only giving the letter of the alternative you would choose.\n",
    "         \"\"\"},\n",
    "                   ])\n",
    "\n",
    "    # Store the answer in the list\n",
    "    answer = response.choices[0].message.content\n",
    "    answers_1_mr.append(answer.strip())\n",
    "    "
   ]
  },
  {
   "cell_type": "code",
   "execution_count": 250,
   "metadata": {},
   "outputs": [],
   "source": [
    "# Collecting results without priming\n",
    "A_1_mr = answers_1_mr.count(\"A\")\n",
    "B_1_mr = answers_1_mr.count(\"B\")\n",
    "C_1_mr = answers_1_mr.count(\"C\")\n",
    "\n",
    "# Getting percentage of answers\n",
    "p_a_1_mr = f\"{(A_1_mr / len(answers)) * 100:.2f}%\"\n",
    "p_b_1_mr = f\"{(B_1_mr / len(answers)) * 100:.2f}%\"\n",
    "p_c_1_mr = f\"{(C_1_mr / len(answers)) * 100:.2f}%\""
   ]
  },
  {
   "cell_type": "code",
   "execution_count": 265,
   "metadata": {},
   "outputs": [
    {
     "data": {
      "image/png": "[encoded data removed]",
      "text/plain": [
       "<Figure size 640x440 with 1 Axes>"
      ]
     },
     "metadata": {},
     "output_type": "display_data"
    }
   ],
   "source": [
    "# Set labels\n",
    "labels = ['Web only', 'Print only', 'Combination']\n",
    "\n",
    "# Create a bar graph\n",
    "plt.bar(labels, [A_1_mr, B_1_mr, C_1_mr])\n",
    "\n",
    "# Add labels and a title\n",
    "plt.xlabel('Chosen Subscription')\n",
    "plt.ylabel('Total answers')\n",
    "plt.title('Distribution of answers in scenario 1 (primed)')\n",
    "\n",
    "# Show the plot\n",
    "plt.show()"
   ]
  },
  {
   "cell_type": "markdown",
   "metadata": {},
   "source": [
    "- Repeating scenario 2 priming the model as a market researcher"
   ]
  },
  {
   "cell_type": "code",
   "execution_count": 252,
   "metadata": {},
   "outputs": [],
   "source": [
    "answers_2_mr = []\n",
    "for _ in range(100): \n",
    "    response = client.chat.completions.create(\n",
    "        model = \"gpt-4-1106-preview\", # model = \"gpt-3.5-turbo\", \"gpt-4\", \"gpt-4-1106-preview\"\n",
    "        max_tokens = 1,\n",
    "        temperature = 1,\n",
    "        messages = [\n",
    "        {\"role\": \"user\", \"content\": \"\"\"You are a market researcher that knows about the Decoy Effect. \n",
    "         You are presented with three different subsciption alternatives for the \"The Economist\" magazine:\n",
    "         A: 1-year Economist.com subscription for $59.00, including access to all articles from 1997 onwards.\n",
    "         B: 1-year Print subscription to The Economist for $125.00.\n",
    "         C: Print & web subscription for 125$: 1-year subscription to the print edition of The Econnomist and online access to all articles from 1997 onwards.\n",
    "        The Marketing team of The Economist however has now decided to remove option B. \n",
    "         Which alternative would you choose? Please answer by only giving the letter of the alternative you would choose.\n",
    "         \"\"\"},\n",
    "                   ])\n",
    "\n",
    "    # Store the answer in the list\n",
    "    answer = response.choices[0].message.content\n",
    "    answers_2_mr.append(answer.strip())\n",
    "    "
   ]
  },
  {
   "cell_type": "code",
   "execution_count": 253,
   "metadata": {},
   "outputs": [],
   "source": [
    "# Collecting results without priming\n",
    "A_2_mr = answers_2_mr.count(\"A\")\n",
    "B_2_mr = answers_2_mr.count(\"B\")\n",
    "C_2_mr = answers_2_mr.count(\"C\")\n",
    "\n",
    "# Getting percentage of answers\n",
    "p_a_2_mr = f\"{(A_2_mr / len(answers)) * 100:.2f}%\"\n",
    "p_b_2_mr = f\"{(B_2_mr / len(answers)) * 100:.2f}%\"\n",
    "p_c_2_mr = f\"{(C_2_mr / len(answers)) * 100:.2f}%\""
   ]
  },
  {
   "cell_type": "code",
   "execution_count": 266,
   "metadata": {},
   "outputs": [
    {
     "data": {
      "image/png": "[encoded data removed]",
      "text/plain": [
       "<Figure size 640x440 with 1 Axes>"
      ]
     },
     "metadata": {},
     "output_type": "display_data"
    }
   ],
   "source": [
    "# Set labels\n",
    "labels = ['Web only', 'Print only', 'Combination']\n",
    "\n",
    "# Create a bar graph\n",
    "plt.bar(labels, [A_2_mr, B_2_mr, C_2_mr])\n",
    "\n",
    "# Add labels and a title\n",
    "plt.xlabel('Chosen Subscription')\n",
    "plt.ylabel('Total answers')\n",
    "plt.title('Distribution of answers in scenario 2 (primed)')\n",
    "\n",
    "# Show the plot\n",
    "plt.show()"
   ]
  },
  {
   "cell_type": "code",
   "execution_count": 255,
   "metadata": {},
   "outputs": [
    {
     "data": {
      "text/html": [
       "<div>\n",
       "<style scoped>\n",
       "    .dataframe tbody tr th:only-of-type {\n",
       "        vertical-align: middle;\n",
       "    }\n",
       "\n",
       "    .dataframe tbody tr th {\n",
       "        vertical-align: top;\n",
       "    }\n",
       "\n",
       "    .dataframe thead th {\n",
       "        text-align: right;\n",
       "    }\n",
       "</style>\n",
       "<table border=\"1\" class=\"dataframe\">\n",
       "  <thead>\n",
       "    <tr style=\"text-align: right;\">\n",
       "      <th></th>\n",
       "      <th>Answer option</th>\n",
       "      <th>Scenario 1</th>\n",
       "      <th>Scenario 2 (no 2nd option)</th>\n",
       "    </tr>\n",
       "  </thead>\n",
       "  <tbody>\n",
       "    <tr>\n",
       "      <th>0</th>\n",
       "      <td>Online subscription</td>\n",
       "      <td>0.00%</td>\n",
       "      <td>29.00%</td>\n",
       "    </tr>\n",
       "    <tr>\n",
       "      <th>1</th>\n",
       "      <td>Print subscription</td>\n",
       "      <td>0.00%</td>\n",
       "      <td>0.00%</td>\n",
       "    </tr>\n",
       "    <tr>\n",
       "      <th>2</th>\n",
       "      <td>Combination</td>\n",
       "      <td>100.00%</td>\n",
       "      <td>71.00%</td>\n",
       "    </tr>\n",
       "  </tbody>\n",
       "</table>\n",
       "</div>"
      ],
      "text/plain": [
       "         Answer option Scenario 1 Scenario 2 (no 2nd option)\n",
       "0  Online subscription      0.00%                     29.00%\n",
       "1   Print subscription      0.00%                      0.00%\n",
       "2          Combination    100.00%                     71.00%"
      ]
     },
     "execution_count": 255,
     "metadata": {},
     "output_type": "execute_result"
    }
   ],
   "source": [
    "df_mr = pd.DataFrame([\n",
    "    [\"Online subscription\", p_a_1_mr, p_a_2_mr],\n",
    "    [\"Print subscription\", p_b_1_mr, p_b_2_mr],\n",
    "    [\"Combination\", p_c_1_mr, p_c_2_mr]\n",
    "], columns=[\"Answer option\", \"Scenario 1\", \"Scenario 2 (no 2nd option)\"])\n",
    "\n",
    "df_mr"
   ]
  },
  {
   "cell_type": "markdown",
   "metadata": {},
   "source": [
    "For some runs I did get results that actually resembled the empirical results of the underlying incident. Generally, re-running this specific prompt: Market researcher and decoy removed tends to give results that differ in the extent to which subscribers switch to option A. We always observe a considerable switch, but the actual numbers differ significantly from run to run. "
   ]
  },
  {
   "cell_type": "markdown",
   "metadata": {},
   "source": [
    "### Playing around with completions to get logprobs"
   ]
  },
  {
   "cell_type": "code",
   "execution_count": 256,
   "metadata": {},
   "outputs": [],
   "source": [
    "prompt = \"\"\"You are a market researcher that knows about the Decoy Effect. \n",
    "         You are presented with three different subsciption alternatives for the \"The Economist\" magazine:\n",
    "         A: 1-year Economist.com subscription for $59.00, including access to all articles from 1997 onwards.\n",
    "         B: 1-year Print subscription to The Economist for $125.00.\n",
    "         C: Print & web subscription for 125$: 1-year subscription to the print edition of The Econnomist and online access to all articles from 1997 onwards.\n",
    "         The Marketing team of The Economist however has now decided to remove option B. \n",
    "         Which remaining alternative would you choose? Please answer by only giving the letter of the alternative you would choose: A, B or C.\n",
    "         \n",
    "         I choose option: \"\"\"\n",
    "\n",
    "response = client.completions.create(\n",
    "      model=\"gpt-3.5-turbo-instruct\",\n",
    "      prompt=prompt,\n",
    "      temperature=1,\n",
    "      max_tokens=1,\n",
    "      logprobs=3\n",
    "    )"
   ]
  },
  {
   "cell_type": "code",
   "execution_count": 257,
   "metadata": {},
   "outputs": [
    {
     "data": {
      "text/plain": [
       "{'\\n': -1.8429663, 'C': -0.6723349, 'A': -1.6663973}"
      ]
     },
     "execution_count": 257,
     "metadata": {},
     "output_type": "execute_result"
    }
   ],
   "source": [
    "response.choices[0].logprobs.top_logprobs[0]"
   ]
  },
  {
   "cell_type": "code",
   "execution_count": 258,
   "metadata": {},
   "outputs": [
    {
     "data": {
      "text/plain": [
       "0.188926486481984"
      ]
     },
     "execution_count": 258,
     "metadata": {},
     "output_type": "execute_result"
    }
   ],
   "source": [
    "p_a = np.exp(response.choices[0].logprobs.top_logprobs[0]['A'])\n",
    "p_a"
   ]
  },
  {
   "cell_type": "code",
   "execution_count": 259,
   "metadata": {},
   "outputs": [
    {
     "data": {
      "text/plain": [
       "0.5105151831989548"
      ]
     },
     "execution_count": 259,
     "metadata": {},
     "output_type": "execute_result"
    }
   ],
   "source": [
    "p_c = np.exp(response.choices[0].logprobs.top_logprobs[0]['C'])\n",
    "p_c"
   ]
  },
  {
   "cell_type": "code",
   "execution_count": 260,
   "metadata": {},
   "outputs": [],
   "source": [
    "#p_b = np.exp(response.choices[0].logprobs.top_logprobs[0]['B'])\n",
    "#p_b"
   ]
  },
  {
   "cell_type": "markdown",
   "metadata": {},
   "source": [
    "For my examples querying the API repeatedly and counting values seems more reasonable, since I often get \"\\n\" or indented answers as a response. Therefore the probabilities\n",
    "do not add up to 1. Simply counting the values on the other hand seems more robust in this case."
   ]
  },
  {
   "cell_type": "markdown",
   "metadata": {},
   "source": [
    "##### Random problem for Prospect Theory, that might be interesting"
   ]
  },
  {
   "cell_type": "markdown",
   "metadata": {},
   "source": [
    "Problem 2\n",
    "Which would you choose?\n",
    "lose $100 with certainty\n",
    "or\n",
    "50% chance to win $50\n",
    "50% chance to lose $200\n",
    "Would your choice change if your\n",
    "overall wealth were higher by $100?"
   ]
  }
 ],
 "metadata": {
  "kernelspec": {
   "display_name": "Python 3",
   "language": "python",
   "name": "python3"
  },
  "language_info": {
   "codemirror_mode": {
    "name": "ipython",
    "version": 3
   },
   "file_extension": ".py",
   "mimetype": "text/x-python",
   "name": "python",
   "nbconvert_exporter": "python",
   "pygments_lexer": "ipython3",
   "version": "3.11.6"
  }
 },
 "nbformat": 4,
 "nbformat_minor": 2
}
