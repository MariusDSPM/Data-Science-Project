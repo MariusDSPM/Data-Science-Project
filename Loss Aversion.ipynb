{
 "cells": [
  {
   "cell_type": "code",
   "execution_count": 11,
   "id": "2467ef05",
   "metadata": {},
   "outputs": [],
   "source": [
    "from openai import OpenAI\n",
    "import pandas as pd\n",
    "import time\n",
    "import numpy as np\n",
    "import matplotlib.pyplot as plt\n",
    "from tqdm import tqdm\n",
    "plt.style.use('seaborn-v0_8')"
   ]
  },
  {
   "cell_type": "code",
   "execution_count": 2,
   "id": "f2a46387",
   "metadata": {},
   "outputs": [],
   "source": [
    "with open('openai_api_key.py') as script:\n",
    "    exec(script.readline())\n",
    "\n",
    "client = OpenAI(\n",
    "  api_key=openai_api_key,\n",
    ")"
   ]
  },
  {
   "cell_type": "code",
   "execution_count": 13,
   "id": "4ebe9cc4",
   "metadata": {},
   "outputs": [],
   "source": [
    "def run_experiment(model, prompt, instruction, temperature, n, max_tokens=1):\n",
    "    answers = []\n",
    "    for _ in range(n):\n",
    "        response = client.chat.completions.create(\n",
    "            model=model,  \n",
    "            messages=[\n",
    "                {\"role\": \"system\", \"content\": instruction},\n",
    "\n",
    "                {\"role\": \"user\", \"content\": prompt}\n",
    "            ],\n",
    "            max_tokens=max_tokens,\n",
    "            temperature=temperature\n",
    "        )\n",
    "\n",
    "        # Store the answer in the list\n",
    "        answer = response.choices[0].message.content\n",
    "        answers.append(answer.strip())\n",
    "        \n",
    "        # Add delay before the next API call\n",
    "        if model == 'gpt-3.5-turbo-1106':\n",
    "            # 3500 requests per minute\n",
    "            time.sleep(60/3500)\n",
    "        else:\n",
    "            # 500 requests per minute\n",
    "            time.sleep(60/500)\n",
    "            \n",
    "        progress_bar.update(1)\n",
    "\n",
    "    return answers"
   ]
  },
  {
   "cell_type": "markdown",
   "id": "bb56cb17",
   "metadata": {},
   "source": [
    "# Experiment\n",
    "\n",
    "People will be risk-averse for gains, but risk-seeking for losses. The percentage of subjects choosing each option is shown in brackets."
   ]
  },
  {
   "cell_type": "markdown",
   "id": "ce603c6f",
   "metadata": {},
   "source": [
    "Problem 1: You are offered a choice between\n",
    "\n",
    "A: A sure gain of `$100`. (*72%*)\n",
    "\n",
    "B: A `50%` chance to gain `$200` and a `50%` chance to lose `$0`. (*28%*)"
   ]
  },
  {
   "cell_type": "markdown",
   "id": "15298ccb",
   "metadata": {},
   "source": [
    "Problem 2: You are offered a choice between\n",
    "\n",
    "A: A sure loss of `$100`. (*36%*)\n",
    "\n",
    "B: A `50%` chance to lose `$200` and a `50%` chance to lose `$0`. (*64%*)"
   ]
  },
  {
   "cell_type": "markdown",
   "id": "3ce645f5",
   "metadata": {},
   "source": [
    "From\n",
    "\n",
    "- Thaler, Richard (2015), \"Misbehaving\""
   ]
  },
  {
   "cell_type": "code",
   "execution_count": 21,
   "id": "a3caf74d",
   "metadata": {},
   "outputs": [],
   "source": [
    "prompt1 = \"\"\"You are offered two choices. Which choice would you prefer?\n",
    "\n",
    "A: A sure gain of $100.\n",
    "B: A 50% chance to gain $200 and a 50% chance to lose $0.\"\"\"\n",
    "\n",
    "prompt2 = \"\"\"You are offered two choices. Which choice would you prefer?\n",
    "\n",
    "A: A sure loss of $100.\n",
    "B: A 50% chance to lose $200 and a 50% chance to lose $0.\"\"\""
   ]
  },
  {
   "cell_type": "code",
   "execution_count": 22,
   "id": "076e5ab8",
   "metadata": {},
   "outputs": [],
   "source": [
    "prompts = [prompt1, prompt2]\n",
    "\n",
    "models = ['gpt-4-1106-preview', 'gpt-3.5-turbo-1106']\n",
    "\n",
    "instruction = 'Please answer by only giving the letter of the answer option A or B.'"
   ]
  },
  {
   "cell_type": "code",
   "execution_count": 23,
   "id": "326e6947",
   "metadata": {},
   "outputs": [
    {
     "name": "stderr",
     "output_type": "stream",
     "text": [
      "100%|████████████████████████████████████████████████████████████████████████████████████| 8/8 [00:52<00:00,  6.59s/it]\n",
      "100%|████████████████████████████████████████████████████████████████████████████████| 400/400 [28:45<00:00,  2.25s/it]"
     ]
    }
   ],
   "source": [
    "results_list = []\n",
    "answers_storage = []\n",
    "\n",
    "n = 100\n",
    "\n",
    "progress_bar = tqdm(range(len(models) * len(prompts) * n))\n",
    "\n",
    "for model in models:\n",
    "    for i, prompt in enumerate(prompts):\n",
    "        \n",
    "        answers = run_experiment(model, prompt, instruction, temperature=1, n=n)\n",
    "        \n",
    "        a_share = answers.count('A') / len(answers)\n",
    "        b_share = answers.count('B') / len(answers)\n",
    "\n",
    "        results = [model, (i+1), a_share, b_share]\n",
    "        \n",
    "        answers_storage.append(answers)\n",
    "        results_list.append(results) "
   ]
  },
  {
   "cell_type": "code",
   "execution_count": 24,
   "id": "aaf3bb55",
   "metadata": {},
   "outputs": [
    {
     "data": {
      "text/html": [
       "<div>\n",
       "<style scoped>\n",
       "    .dataframe tbody tr th:only-of-type {\n",
       "        vertical-align: middle;\n",
       "    }\n",
       "\n",
       "    .dataframe tbody tr th {\n",
       "        vertical-align: top;\n",
       "    }\n",
       "\n",
       "    .dataframe thead th {\n",
       "        text-align: right;\n",
       "    }\n",
       "</style>\n",
       "<table border=\"1\" class=\"dataframe\">\n",
       "  <thead>\n",
       "    <tr style=\"text-align: right;\">\n",
       "      <th></th>\n",
       "      <th>Model</th>\n",
       "      <th>Prompt</th>\n",
       "      <th>A</th>\n",
       "      <th>B</th>\n",
       "    </tr>\n",
       "  </thead>\n",
       "  <tbody>\n",
       "    <tr>\n",
       "      <th>0</th>\n",
       "      <td>gpt-4-1106-preview</td>\n",
       "      <td>1</td>\n",
       "      <td>0.94</td>\n",
       "      <td>0.06</td>\n",
       "    </tr>\n",
       "    <tr>\n",
       "      <th>1</th>\n",
       "      <td>gpt-4-1106-preview</td>\n",
       "      <td>2</td>\n",
       "      <td>0.08</td>\n",
       "      <td>0.92</td>\n",
       "    </tr>\n",
       "    <tr>\n",
       "      <th>2</th>\n",
       "      <td>gpt-3.5-turbo-1106</td>\n",
       "      <td>1</td>\n",
       "      <td>0.04</td>\n",
       "      <td>0.96</td>\n",
       "    </tr>\n",
       "    <tr>\n",
       "      <th>3</th>\n",
       "      <td>gpt-3.5-turbo-1106</td>\n",
       "      <td>2</td>\n",
       "      <td>0.00</td>\n",
       "      <td>1.00</td>\n",
       "    </tr>\n",
       "  </tbody>\n",
       "</table>\n",
       "</div>"
      ],
      "text/plain": [
       "                Model  Prompt     A     B\n",
       "0  gpt-4-1106-preview       1  0.94  0.06\n",
       "1  gpt-4-1106-preview       2  0.08  0.92\n",
       "2  gpt-3.5-turbo-1106       1  0.04  0.96\n",
       "3  gpt-3.5-turbo-1106       2  0.00  1.00"
      ]
     },
     "execution_count": 24,
     "metadata": {},
     "output_type": "execute_result"
    }
   ],
   "source": [
    "columns = ['Model', 'Prompt', 'A', 'B']\n",
    "\n",
    "df = pd.DataFrame(results_list, columns=columns)\n",
    "df"
   ]
  },
  {
   "cell_type": "code",
   "execution_count": 56,
   "id": "33e5ff5e",
   "metadata": {},
   "outputs": [
    {
     "data": {
      "text/html": [
       "<div>\n",
       "<style scoped>\n",
       "    .dataframe tbody tr th:only-of-type {\n",
       "        vertical-align: middle;\n",
       "    }\n",
       "\n",
       "    .dataframe tbody tr th {\n",
       "        vertical-align: top;\n",
       "    }\n",
       "\n",
       "    .dataframe thead th {\n",
       "        text-align: right;\n",
       "    }\n",
       "</style>\n",
       "<table border=\"1\" class=\"dataframe\">\n",
       "  <thead>\n",
       "    <tr style=\"text-align: right;\">\n",
       "      <th></th>\n",
       "      <th>Model</th>\n",
       "      <th>Prompt</th>\n",
       "      <th>A</th>\n",
       "      <th>B</th>\n",
       "    </tr>\n",
       "  </thead>\n",
       "  <tbody>\n",
       "    <tr>\n",
       "      <th>0</th>\n",
       "      <td>gpt-4-1106-preview</td>\n",
       "      <td>1</td>\n",
       "      <td>0.94</td>\n",
       "      <td>0.06</td>\n",
       "    </tr>\n",
       "    <tr>\n",
       "      <th>1</th>\n",
       "      <td>gpt-4-1106-preview</td>\n",
       "      <td>2</td>\n",
       "      <td>0.08</td>\n",
       "      <td>0.92</td>\n",
       "    </tr>\n",
       "    <tr>\n",
       "      <th>2</th>\n",
       "      <td>gpt-3.5-turbo-1106</td>\n",
       "      <td>1</td>\n",
       "      <td>0.04</td>\n",
       "      <td>0.96</td>\n",
       "    </tr>\n",
       "    <tr>\n",
       "      <th>3</th>\n",
       "      <td>gpt-3.5-turbo-1106</td>\n",
       "      <td>2</td>\n",
       "      <td>0.00</td>\n",
       "      <td>1.00</td>\n",
       "    </tr>\n",
       "    <tr>\n",
       "      <th>4</th>\n",
       "      <td>Real Experiment</td>\n",
       "      <td>1</td>\n",
       "      <td>0.72</td>\n",
       "      <td>0.28</td>\n",
       "    </tr>\n",
       "    <tr>\n",
       "      <th>5</th>\n",
       "      <td>Real Experiment</td>\n",
       "      <td>2</td>\n",
       "      <td>0.36</td>\n",
       "      <td>0.64</td>\n",
       "    </tr>\n",
       "  </tbody>\n",
       "</table>\n",
       "</div>"
      ],
      "text/plain": [
       "                Model  Prompt     A     B\n",
       "0  gpt-4-1106-preview       1  0.94  0.06\n",
       "1  gpt-4-1106-preview       2  0.08  0.92\n",
       "2  gpt-3.5-turbo-1106       1  0.04  0.96\n",
       "3  gpt-3.5-turbo-1106       2  0.00  1.00\n",
       "4     Real Experiment       1  0.72  0.28\n",
       "5     Real Experiment       2  0.36  0.64"
      ]
     },
     "execution_count": 56,
     "metadata": {},
     "output_type": "execute_result"
    }
   ],
   "source": [
    "# Results from the real experiment\n",
    "real_experiment_results = pd.DataFrame({\n",
    "    'Model': 'Real Experiment',\n",
    "    'Prompt': [1, 2],\n",
    "    'A': [0.72, 0.36],\n",
    "    'B': [0.28, 0.64]\n",
    "})\n",
    "\n",
    "# Concatenate the real experiment results to the existing DataFrame\n",
    "df = pd.concat([df, real_experiment_results], ignore_index=True)\n",
    "df"
   ]
  },
  {
   "cell_type": "code",
   "execution_count": 26,
   "id": "a0e81c67",
   "metadata": {},
   "outputs": [],
   "source": [
    "# df.to_csv('data/Loss_aversion.csv')"
   ]
  },
  {
   "cell_type": "code",
   "execution_count": 61,
   "id": "f28a1ac0",
   "metadata": {},
   "outputs": [
    {
     "data": {
      "image/png": "[encoded data removed]",
      "text/plain": [
       "<Figure size 1000x600 with 1 Axes>"
      ]
     },
     "metadata": {},
     "output_type": "display_data"
    }
   ],
   "source": [
    "# Extract unique models\n",
    "models = df['Model'].unique()\n",
    "\n",
    "# Set up figure and axis\n",
    "fig, ax = plt.subplots(figsize=(10, 6))\n",
    "bar_width = 0.2\n",
    "bar_positions = np.arange(len(models))\n",
    "\n",
    "# Plotting bars for 'B' for each prompt\n",
    "for i, prompt in enumerate(df['Prompt'].unique()):\n",
    "    values_B = df[df['Prompt'] == prompt]['B']\n",
    "    scenario_label = 'Scenario with gains' if prompt == 1 else 'Scenario with losses'\n",
    "    ax.bar(bar_positions + bar_width * i, values_B, width=bar_width, label=scenario_label)\n",
    "\n",
    "# Calculate midpoints of the bar groups\n",
    "midpoints = bar_positions + (bar_width * (len(df['Prompt'].unique()) - 1)) / 2\n",
    "\n",
    "# Set x-axis ticks and labels to midpoints\n",
    "ax.set_xticks(midpoints)\n",
    "ax.set_xticklabels(models)\n",
    "ax.set_ylabel('Shares for \"B\" ')\n",
    "\n",
    "# Legend\n",
    "ax.legend()\n",
    "\n",
    "# Title\n",
    "plt.title('Shares for \"B\" (risk-seeking option) by Model and Prompt')\n",
    "\n",
    "# Show plot\n",
    "plt.show()"
   ]
  },
  {
   "cell_type": "markdown",
   "id": "84594570",
   "metadata": {},
   "source": [
    "Conclusion: GPT-4 is risk-averse for gains, but risk-seeking for losses, which is align with human behavior. GPT-3 prefers the risk-seeking options in both scenarios."
   ]
  }
 ],
 "metadata": {
  "kernelspec": {
   "display_name": "Python 3 (ipykernel)",
   "language": "python",
   "name": "python3"
  },
  "language_info": {
   "codemirror_mode": {
    "name": "ipython",
    "version": 3
   },
   "file_extension": ".py",
   "mimetype": "text/x-python",
   "name": "python",
   "nbconvert_exporter": "python",
   "pygments_lexer": "ipython3",
   "version": "3.9.13"
  }
 },
 "nbformat": 4,
 "nbformat_minor": 5
}
