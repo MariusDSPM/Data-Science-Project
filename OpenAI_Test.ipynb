{
 "cells": [
  {
   "cell_type": "code",
   "execution_count": 1,
   "id": "084aac13",
   "metadata": {},
   "outputs": [],
   "source": [
    "import openai\n",
    "import time\n",
    "import os"
   ]
  },
  {
   "cell_type": "code",
   "execution_count": 8,
   "id": "2a99f8fb",
   "metadata": {},
   "outputs": [],
   "source": [
    "# with automatically \"closes\" file after key is read in\n",
    "with open('OpenAI 1st Key.txt', 'r') as file: # 'r' for read mode \n",
    "    api_key = file.read()\n",
    "    \n",
    "openai.api_key = api_key"
   ]
  },
  {
   "cell_type": "code",
   "execution_count": 2,
   "id": "963ddaa7",
   "metadata": {},
   "outputs": [],
   "source": [
    "with open('openai_api_key.py') as script:\n",
    "    exec(script.readline())\n",
    "\n",
    "openai.api_key = openai_api_key"
   ]
  },
  {
   "cell_type": "markdown",
   "id": "65b8abc8",
   "metadata": {},
   "source": [
    "### Simple Request"
   ]
  },
  {
   "cell_type": "code",
   "execution_count": 3,
   "id": "02729f5f",
   "metadata": {},
   "outputs": [
    {
     "name": "stdout",
     "output_type": "stream",
     "text": [
      "{\n",
      "  \"id\": \"chatcmpl-8K3350gVkiwCbAnAX7kTrZ8sVBpeF\",\n",
      "  \"object\": \"chat.completion\",\n",
      "  \"created\": 1699788971,\n",
      "  \"model\": \"gpt-3.5-turbo-0613\",\n",
      "  \"choices\": [\n",
      "    {\n",
      "      \"index\": 0,\n",
      "      \"message\": {\n",
      "        \"role\": \"assistant\",\n",
      "        \"content\": \"Yes, I am familiar with the ultimatum game. It is a simple economic game often used in experimental settings to study human decision-making and fairness. In the ultimatum game, two players are given a sum of money, typically $10. The first player (the proposer) is tasked with offering a split of the money to the second player (the responder). The responder can either accept or reject the offer. If the responder accepts, both players receive the proposed amounts. However, if the responder rejects the offer, neither player receives any money. This game examines how individuals value fairness and how they make strategic decisions in situations involving inequality.\"\n",
      "      },\n",
      "      \"finish_reason\": \"stop\"\n",
      "    }\n",
      "  ],\n",
      "  \"usage\": {\n",
      "    \"prompt_tokens\": 16,\n",
      "    \"completion_tokens\": 131,\n",
      "    \"total_tokens\": 147\n",
      "  }\n",
      "}\n"
     ]
    }
   ],
   "source": [
    "response = openai.ChatCompletion.create(\n",
    "    model=\"gpt-3.5-turbo\",\n",
    "    messages=[\n",
    "        {\"role\": \"user\", \"content\": \"Do you know the ultimatum game?\"},\n",
    "    ]\n",
    ")\n",
    "\n",
    "print(response)"
   ]
  },
  {
   "cell_type": "markdown",
   "id": "b1ac6588",
   "metadata": {},
   "source": [
    "### Ultimatum Game - Sample Request"
   ]
  },
  {
   "cell_type": "code",
   "execution_count": 13,
   "id": "92f9e173",
   "metadata": {},
   "outputs": [
    {
     "name": "stdout",
     "output_type": "stream",
     "text": [
      "{\n",
      "  \"id\": \"chatcmpl-8IanxLiArHqSAv8pbvluanDJa0IF5\",\n",
      "  \"object\": \"chat.completion\",\n",
      "  \"created\": 1699442073,\n",
      "  \"model\": \"gpt-3.5-turbo-0613\",\n",
      "  \"choices\": [\n",
      "    {\n",
      "      \"index\": 0,\n",
      "      \"message\": {\n",
      "        \"role\": \"assistant\",\n",
      "        \"content\": \"reject the proposal\"\n",
      "      },\n",
      "      \"finish_reason\": \"stop\"\n",
      "    }\n",
      "  ],\n",
      "  \"usage\": {\n",
      "    \"prompt_tokens\": 140,\n",
      "    \"completion_tokens\": 3,\n",
      "    \"total_tokens\": 143\n",
      "  }\n",
      "}\n"
     ]
    }
   ],
   "source": [
    "response = openai.ChatCompletion.create(\n",
    "    model=\"gpt-3.5-turbo\",\n",
    "    messages=[\n",
    "        {\"role\": \"user\", \n",
    "         \"content\": \"\"\"\n",
    "         In the following scenario, Person B had to decide whether\n",
    "         to accept or reject the proposal.\n",
    "         Scenario: Person A is given $10. Person A will\n",
    "         propose how to split the money between himself and Person B. \n",
    "         Then Person B will decide whether to accept\n",
    "         or reject Person A’s proposal. If Person B accepts,\n",
    "         then Person A and Person B get the money as they\n",
    "         agreed to split. If Person B rejects, then Person A and\n",
    "         Person B both receive nothing. Person A takes $6 for\n",
    "         himself and offers Person B $4.\n",
    "         Answer: Person B decides to\n",
    "         \"\"\"},\n",
    "    ]\n",
    ")\n",
    "\n",
    "print(response)"
   ]
  },
  {
   "cell_type": "markdown",
   "id": "f343dfb5",
   "metadata": {},
   "source": [
    "### Ultimatum Game - 50 Iterations\n",
    "\n",
    "mit Error, hat aber zumindest einmal funktioniert"
   ]
  },
  {
   "cell_type": "code",
   "execution_count": 18,
   "id": "c4397d03",
   "metadata": {
    "scrolled": true
   },
   "outputs": [],
   "source": [
    "answers = []\n",
    "for _ in range(50):\n",
    "    response = openai.ChatCompletion.create(\n",
    "        model=\"gpt-3.5-turbo\",\n",
    "        messages=[\n",
    "            {\"role\": \"user\", \n",
    "             \"content\": \"\"\"\n",
    "             In the following scenario, Person B had to decide whether\n",
    "             to accept or reject the proposal.\n",
    "             Scenario: Person A is given $10. Person A will\n",
    "             propose how to split the money between himself and Person B. \n",
    "             Then Person B will decide whether to accept\n",
    "             or reject Person A’s proposal. If Person B accepts,\n",
    "             then Person A and Person B get the money as they\n",
    "             agreed to split. If Person B rejects, then Person A and\n",
    "             Person B both receive nothing. Person A takes $5.50 for\n",
    "             himself and offers Person B $4.50.\n",
    "             Answer: Person B decides to\n",
    "             \"\"\"},\n",
    "        ],\n",
    "        max_tokens=1\n",
    "    )\n",
    "    \n",
    "    # Store the answer in the list\n",
    "    answer = response['choices'][0]['message']['content']\n",
    "    answers.append(answer.strip())\n",
    "    \n",
    "    # Add a 20-second delay before the next API call\n",
    "    time.sleep(0.1)"
   ]
  },
  {
   "cell_type": "code",
   "execution_count": 25,
   "id": "aa509143",
   "metadata": {},
   "outputs": [
    {
     "data": {
      "text/plain": [
       "0.1"
      ]
     },
     "execution_count": 25,
     "metadata": {},
     "output_type": "execute_result"
    }
   ],
   "source": [
    "answers.count(\"accept\")/len(answers)"
   ]
  },
  {
   "cell_type": "markdown",
   "id": "6bf28085",
   "metadata": {},
   "source": [
    "Das kam raus als kein Error war:"
   ]
  },
  {
   "cell_type": "code",
   "execution_count": 20,
   "id": "51bb9b15",
   "metadata": {},
   "outputs": [
    {
     "data": {
      "text/plain": [
       "0.1"
      ]
     },
     "execution_count": 20,
     "metadata": {},
     "output_type": "execute_result"
    }
   ],
   "source": [
    "# Count the number of \"accepts\"\n",
    "accept_count = answers.count(\"accept\")\n",
    "\n",
    "# Calculate the share of \"accepts\"\n",
    "accept_share = accept_count / len(answers)\n",
    "\n",
    "# Accepts share for offer A $6 and B $4\n",
    "accept_share"
   ]
  },
  {
   "cell_type": "code",
   "execution_count": null,
   "id": "f122ba08",
   "metadata": {},
   "outputs": [],
   "source": []
  },
  {
   "cell_type": "code",
   "execution_count": null,
   "id": "0688ab7a",
   "metadata": {},
   "outputs": [],
   "source": []
  },
  {
   "cell_type": "markdown",
   "id": "2cc42174",
   "metadata": {},
   "source": [
    "Hier habe ich noch GPT2 benutzt, kam aber keine sinnvolle Antwort raus."
   ]
  },
  {
   "cell_type": "code",
   "execution_count": 5,
   "id": "f0b8c940",
   "metadata": {},
   "outputs": [],
   "source": [
    "from transformers import GPT2LMHeadModel, GPT2Tokenizer"
   ]
  },
  {
   "cell_type": "code",
   "execution_count": 22,
   "id": "a01a7bf7",
   "metadata": {},
   "outputs": [
    {
     "data": {
      "application/vnd.jupyter.widget-view+json": {
       "model_id": "cc85a93fb35340e8be641bff030d170e",
       "version_major": 2,
       "version_minor": 0
      },
      "text/plain": [
       "Downloading:   0%|          | 0.00/1.04M [00:00<?, ?B/s]"
      ]
     },
     "metadata": {},
     "output_type": "display_data"
    },
    {
     "data": {
      "application/vnd.jupyter.widget-view+json": {
       "model_id": "666b298d47994e8cb6a2c477804e2a49",
       "version_major": 2,
       "version_minor": 0
      },
      "text/plain": [
       "Downloading:   0%|          | 0.00/456k [00:00<?, ?B/s]"
      ]
     },
     "metadata": {},
     "output_type": "display_data"
    },
    {
     "data": {
      "application/vnd.jupyter.widget-view+json": {
       "model_id": "44f75817a09a49efabacd8073f2dcafd",
       "version_major": 2,
       "version_minor": 0
      },
      "text/plain": [
       "Downloading:   0%|          | 0.00/665 [00:00<?, ?B/s]"
      ]
     },
     "metadata": {},
     "output_type": "display_data"
    },
    {
     "data": {
      "application/vnd.jupyter.widget-view+json": {
       "model_id": "4a563b44694a4bc1a70a83284694ad6d",
       "version_major": 2,
       "version_minor": 0
      },
      "text/plain": [
       "Downloading:   0%|          | 0.00/548M [00:00<?, ?B/s]"
      ]
     },
     "metadata": {},
     "output_type": "display_data"
    }
   ],
   "source": [
    "tokenizer = GPT2Tokenizer.from_pretrained('gpt2')\n",
    "model = GPT2LMHeadModel.from_pretrained('gpt2', pad_token_id=tokenizer.eos_token_id)"
   ]
  },
  {
   "cell_type": "code",
   "execution_count": 30,
   "id": "833ce236",
   "metadata": {},
   "outputs": [],
   "source": [
    "sentence = '''\n",
    "    In the following scenario, Ms. Huang had to decide whether\n",
    "    to accept or reject the proposal.\n",
    "    Scenario: Mr. Wagner is given $10. Mr. Wagner will\n",
    "    propose how to split the money between himself and Ms.\n",
    "    Huang. Then Ms. Huang will decide whether to accept\n",
    "    or reject Mr. Wagner’s proposal. If Ms. Huang accepts,\n",
    "    then Mr. Wagner and Ms. Huang get the money as they\n",
    "    agreed to split. If Ms. Huang rejects, then Mr. Wagner and\n",
    "    Ms. Huang both receive nothing. Mr. Wagner takes $6 for\n",
    "    himself and offers Ms. Huang $4.\n",
    "    Answer: Ms. Huang decides to\n",
    "    '''\n",
    "input_ids = tokenizer.encode(sentence, return_tensors='pt')"
   ]
  },
  {
   "cell_type": "code",
   "execution_count": 36,
   "id": "bd497e32",
   "metadata": {},
   "outputs": [
    {
     "data": {
      "text/plain": [
       "\"\\n    In the following scenario, Ms. Huang had to decide whether\\n    to accept or reject the proposal.\\n    Scenario: Mr. Wagner is given $10. Mr. Wagner will\\n    propose how to split the money between himself and Ms.\\n    Huang. Then Ms. Huang will decide whether to accept\\n    or reject Mr. Wagner’s proposal. If Ms. Huang accepts,\\n    then Mr. Wagner and Ms. Huang get the money as they\\n    agreed to split. If Ms. Huang rejects, then Mr. Wagner and\\n    Ms. Huang both receive nothing. Mr. Wagner takes $6 for\\n    himself and offers Ms. Huang $4.\\n    Answer: Ms. Huang decides to\\n     accept or reject Mr. Wagner's proposal. Ms.\""
      ]
     },
     "execution_count": 36,
     "metadata": {},
     "output_type": "execute_result"
    }
   ],
   "source": [
    "output = model.generate(input_ids, max_length=190, num_beams=5, early_stopping=True)\n",
    "tokenizer.decode(output[0], skip_special_tokens=True)"
   ]
  },
  {
   "cell_type": "code",
   "execution_count": null,
   "id": "ad6ef45d",
   "metadata": {},
   "outputs": [],
   "source": []
  },
  {
   "cell_type": "markdown",
   "id": "79a1bee0",
   "metadata": {},
   "source": [
    "Just adding this text so check whether push is working. "
   ]
  },
  {
   "cell_type": "markdown",
   "metadata": {},
   "source": [
    "Adding this text for testing"
   ]
  },
  {
   "cell_type": "code",
   "execution_count": null,
   "id": "5107cdf5",
   "metadata": {},
   "outputs": [],
   "source": []
  }
 ],
 "metadata": {
  "kernelspec": {
   "display_name": "Python 3 (ipykernel)",
   "language": "python",
   "name": "python3"
  },
  "language_info": {
   "codemirror_mode": {
    "name": "ipython",
    "version": 3
   },
   "file_extension": ".py",
   "mimetype": "text/x-python",
   "name": "python",
   "nbconvert_exporter": "python",
   "pygments_lexer": "ipython3",
   "version": "3.9.13"
  }
 },
 "nbformat": 4,
 "nbformat_minor": 5
}
