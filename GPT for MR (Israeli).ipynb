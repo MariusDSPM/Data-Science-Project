{
 "cells": [
  {
   "cell_type": "markdown",
   "metadata": {},
   "source": [
    "### Economics 101\n",
    "\n",
    "This notebook aims to recreate the experiments contucted by Israeli et al. in  Brand, James and Israeli, Ayelet and Ngwe, Donald, Using GPT for Market Research (March 21, 2023). Harvard Business School Marketing Unit Working Paper No. 23-062, Available at SSRN: https://ssrn.com/abstract=4395751 or http://dx.doi.org/10.2139/ssrn.4395751 \n",
    "\n",
    "For binary questions, using half the prompts as A)... B)... and the other half as B)... A)... is just as good as randomizing"
   ]
  },
  {
   "cell_type": "code",
   "execution_count": 76,
   "metadata": {},
   "outputs": [],
   "source": [
    "# Necessary imports\n",
    "\n",
    "from openai import OpenAI\n",
    "import openai\n",
    "import matplotlib.pyplot as plt\n",
    "import os \n",
    "import numpy as np\n",
    "import pandas as pd\n",
    "from tqdm import tqdm\n",
    "import replicate\n",
    "\n",
    "# Further setup\n",
    "# Get openAI API key (previously saved as environmental variable)\n",
    "openai.api_key = os.environ[\"OPENAI_API_KEY\"]\n",
    "\n",
    "# Set client\n",
    "client = OpenAI()\n",
    "\n",
    "# Set global plot style\n",
    "plt.style.use('seaborn-v0_8')\n",
    "\n",
    "# Set plots to be displayed in notebook\n",
    "%matplotlib inline"
   ]
  },
  {
   "cell_type": "markdown",
   "metadata": {},
   "source": [
    "Prompts can be reworked to be multiple choice like. Could act as a way to make processing of the responses easier. "
   ]
  },
  {
   "cell_type": "markdown",
   "metadata": {},
   "source": [
    "---"
   ]
  },
  {
   "cell_type": "markdown",
   "metadata": {},
   "source": [
    "### Setting up the prompts to use in the experiments"
   ]
  },
  {
   "cell_type": "markdown",
   "metadata": {},
   "source": [
    "#### Study 1: Downward-sloping demand curve (different incomes included -> Study 2)"
   ]
  },
  {
   "cell_type": "markdown",
   "metadata": {},
   "source": [
    "- Experiment 1.1: Downward sloping demand curve for single laptop option"
   ]
  },
  {
   "cell_type": "code",
   "execution_count": 77,
   "metadata": {},
   "outputs": [],
   "source": [
    "# incomes = [$50k, $70k, $120k]\n",
    "# 16 prices, 8 below, 1 equal and 7 above. Since the exact prices used in the paper are not available, we will stick to this logic. \n",
    "# We construct 8 prices to be below, 1 to be equal and 7 to be above the reference good. Evenly spaced. \n",
    "prices = [749, 799, 849, 874, 899, 924, 949, 974, 999, 1024, 1049, 1074, 1099, 1124, 1149, 1199, 1249]"
   ]
  },
  {
   "cell_type": "code",
   "execution_count": 78,
   "metadata": {},
   "outputs": [],
   "source": [
    "# Income of $50k\n",
    "prompts_1_1_income_1 = []\n",
    "for price in prices: \n",
    "    prompt = f\"\"\"A customer is randomly selected while shoppig for laptops. Their annual income is $50k. While shopping, \n",
    "    the customer sees a Surface Laptop 3, Price: ${price}, Processor: Intel Core i5, Ram: 8GB, Screen Size: 13.5 in, SD 128GB.\n",
    "    The customer is asked, after they finish shopping: Did you purchase any laptop? If so, which one? \n",
    "    Customer: \"\"\"\n",
    "    prompts_1_1_income_1.append(prompt)"
   ]
  },
  {
   "cell_type": "code",
   "execution_count": 79,
   "metadata": {},
   "outputs": [],
   "source": [
    "# Income of $70k\n",
    "prompts_1_1_income_2 = []\n",
    "for price in prices:\n",
    "    prompt = f\"\"\"A customer is randomly selected while shoppig for laptops. Their annual income is $70k. While shopping, \n",
    "    the customer sees a Surface Laptop 3, Price: ${price}, Processor: Intel Core i5, Ram: 8GB, Screen Size: 13.5 in, SD 128GB.\n",
    "    The customer is asked, after they finish shopping: Did you purchase any laptop? If so, which one? \n",
    "    Customer: \"\"\"\n",
    "    prompts_1_1_income_2.append(prompt)"
   ]
  },
  {
   "cell_type": "code",
   "execution_count": 80,
   "metadata": {},
   "outputs": [],
   "source": [
    "# Income of $120k\n",
    "prompts_1_1_income_3 = []\n",
    "for price in prices:\n",
    "    prompt = f\"\"\"A customer is randomly selected while shoppig for laptops. Their annual income is $120k. While shopping, \n",
    "    the customer sees a Surface Laptop 3, Price: ${price}, Processor: Intel Core i5, Ram: 8GB, Screen Size: 13.5 in, SD 128GB.\n",
    "    The customer is asked, after they finish shopping: Did you purchase any laptop? If so, which one? \n",
    "    Customer: \"\"\"\n",
    "    prompts_1_1_income_3.append(prompt)"
   ]
  },
  {
   "cell_type": "markdown",
   "metadata": {},
   "source": [
    "- Experiment 1.2: Downward sloping demand curve for 2 laptop options"
   ]
  },
  {
   "cell_type": "code",
   "execution_count": 81,
   "metadata": {},
   "outputs": [],
   "source": [
    "# Income of $50k\n",
    "prompts_1_2_income_1 = []\n",
    "for price in prices: \n",
    "    prompt = f\"\"\"A customer is randomly selected while shopping for laptops. Their annual income is $50k. While shopping, the customer has three options:\n",
    "    - Surface Laptop 3, Price: ${price}, Processor: Intel Core i5, RAM: 8GB, Screen Size: 13.5 in, SD 128GB.\n",
    "    - Macbook Air (2019), Price: $999, Processor: Intel Core i5, RAM: 8GB, Screen Size: 13.3 in, SD 128GB.\n",
    "    They also have the option to not purchase a laptop. The customer is asked, after they finish shopping: Which laptop, if any, did you purchase?\n",
    "    Customer: \"\"\"\n",
    "    prompts_1_2_income_1.append(prompt)"
   ]
  },
  {
   "cell_type": "code",
   "execution_count": 82,
   "metadata": {},
   "outputs": [],
   "source": [
    "# Income of $70k\n",
    "prompts_1_2_income_2 = []\n",
    "for price in prices: \n",
    "    prompt = f\"\"\"A customer is randomly selected while shopping for laptops. Their annual income is $70k. While shopping, the customer has three options:\n",
    "    - Surface Laptop 3, Price: ${price}, Processor: Intel Core i5, RAM: 8GB, Screen Size: 13.5 in, SD 128GB.\n",
    "    - Macbook Air (2019), Price: $999, Processor: Intel Core i5, RAM: 8GB, Screen Size: 13.3 in, SD 128GB.\n",
    "    They also have the option to not purchase a laptop. The customer is asked, after they finish shopping: Which laptop, if any, did you purchase?\n",
    "    Customer: \"\"\"\n",
    "    prompts_1_2_income_2.append(prompt)"
   ]
  },
  {
   "cell_type": "code",
   "execution_count": 83,
   "metadata": {},
   "outputs": [],
   "source": [
    "# Income of $120k\n",
    "prompts_1_2_income_3 = []\n",
    "for price in prices: \n",
    "    prompt = f\"\"\"A customer is randomly selected while shopping for laptops. Their annual income is $120k. While shopping, the customer has three options:\n",
    "    - Surface Laptop 3, Price: ${price}, Processor: Intel Core i5, RAM: 8GB, Screen Size: 13.5 in, SD 128GB.\n",
    "    - Macbook Air (2019), Price: $999, Processor: Intel Core i5, RAM: 8GB, Screen Size: 13.3 in, SD 128GB.\n",
    "    They also have the option to not purchase a laptop. The customer is asked, after they finish shopping: Which laptop, if any, did you purchase?\n",
    "    Customer: \"\"\"\n",
    "    prompts_1_2_income_3.append(prompt)"
   ]
  },
  {
   "cell_type": "markdown",
   "metadata": {},
   "source": [
    "- Experiment 1.3: Downward sloping demand curve for 2 toothpase options "
   ]
  },
  {
   "cell_type": "code",
   "execution_count": 84,
   "metadata": {},
   "outputs": [],
   "source": [
    "prices = [2, 2.25, 2.5, 2.75, 3, 3.25, 3.5, 3.75, 4, 4.25, 4.5, 4.75, 5, 5.25, 5.5, 6]"
   ]
  },
  {
   "cell_type": "code",
   "execution_count": 85,
   "metadata": {},
   "outputs": [],
   "source": [
    "# Income of $50k\n",
    "prompts_1_3_income_1 = []\n",
    "for price in prices: \n",
    "    prompt = f\"\"\"A customer is randomly selected while shopping in the supermarket. Their annual income is $50k. While shopping, the customer passes by the \n",
    "    toothpase aisle and sees two options: \n",
    "    - Colgate whitening toothpaste with fluoride, price ${price}.\n",
    "    - Crest whitening toothpaste with fluoride, price $4.\n",
    "    They also have the option not to purchase toothpaste. The customer is asked, afther they finish shopping: Which toothpaste, if any, did you purchase?\n",
    "    Customer: \"\"\"\n",
    "    prompts_1_3_income_1.append(prompt)"
   ]
  },
  {
   "cell_type": "code",
   "execution_count": 86,
   "metadata": {},
   "outputs": [],
   "source": [
    "# Income of $70k\n",
    "prompts_1_3_income_2 = []\n",
    "for price in prices: \n",
    "    prompt = f\"\"\"A customer is randomly selected while shopping in the supermarket. Their annual income is $70k. While shopping, the customer passes by the \n",
    "    toothpase aisle and sees two options: \n",
    "    - Colgate whitening toothpaste with fluoride, price ${price}.\n",
    "    - Crest whitening toothpaste with fluoride, price $4.\n",
    "    They also have the option not to purchase toothpaste. The customer is asked, afther they finish shopping: Which toothpaste, if any, did you purchase?\n",
    "    Customer: \"\"\"\n",
    "    prompts_1_3_income_2.append(prompt)"
   ]
  },
  {
   "cell_type": "code",
   "execution_count": 87,
   "metadata": {},
   "outputs": [],
   "source": [
    "# Income of $120k\n",
    "prompts_1_3_income_3 = []\n",
    "for price in prices: \n",
    "    prompt = f\"\"\"A customer is randomly selected while shopping in the supermarket. Their annual income is $120k. While shopping, the customer passes by the \n",
    "    toothpase aisle and sees two options: \n",
    "    - Colgate whitening toothpaste with fluoride, price ${price}.\n",
    "    - Crest whitening toothpaste with fluoride, price $4.\n",
    "    They also have the option not to purchase toothpaste. The customer is asked, afther they finish shopping: Which toothpaste, if any, did you purchase?\n",
    "    Customer: \"\"\"\n",
    "    prompts_1_3_income_3.append(prompt)"
   ]
  },
  {
   "cell_type": "markdown",
   "metadata": {},
   "source": [
    "---"
   ]
  },
  {
   "cell_type": "markdown",
   "metadata": {},
   "source": [
    "#### First test of study 1"
   ]
  },
  {
   "cell_type": "code",
   "execution_count": 88,
   "metadata": {},
   "outputs": [],
   "source": [
    "def run_experiment(model, max_tokens,  temperature, prompt, progress_bar, n):\n",
    "    # Initialize answers list \n",
    "    answers = []\n",
    "    for _ in range(n): \n",
    "        response = client.chat.completions.create(\n",
    "            model = model, \n",
    "            max_tokens = max_tokens,\n",
    "            temperature = temperature, # range is 0 to 2\n",
    "            messages = [\n",
    "            {\"role\": \"system\", \"content\": \"Pleae state the option you chose.\"},        \n",
    "            {\"role\": \"user\", \"content\": prompt},\n",
    "                   ])\n",
    "\n",
    "        # Store the answer in the list\n",
    "        answer = response.choices[0].message.content\n",
    "        answers.append(answer.strip())\n",
    "        # Update progress bar (given from either temperature loop, or set locally)\n",
    "        progress_bar.update(1)\n",
    "\n",
    "    \n",
    "    # Give out results\n",
    "    return answers"
   ]
  },
  {
   "cell_type": "code",
   "execution_count": 89,
   "metadata": {},
   "outputs": [
    {
     "name": "stderr",
     "output_type": "stream",
     "text": [
      "100%|██████████| 10/10 [00:06<00:00,  1.61it/s]\n"
     ]
    },
    {
     "data": {
      "text/plain": [
       "['I apologize, but I cannot provide the answer as I am an AI language model and cannot make decisions',\n",
       " 'The customer did not purchase a laptop.',\n",
       " 'Surface Laptop 3',\n",
       " 'I choose the Surface Laptop 3.',\n",
       " 'Macbook Air (2019)',\n",
       " 'Macbook Air (2019)',\n",
       " 'I chose to purchase the Surface Laptop 3.',\n",
       " 'Surface Laptop 3',\n",
       " 'I chose the option to not purchase a laptop.',\n",
       " 'Macbook Air (2019)']"
      ]
     },
     "execution_count": 89,
     "metadata": {},
     "output_type": "execute_result"
    }
   ],
   "source": [
    "answers = run_experiment(\"gpt-3.5-turbo\", 20, 1, prompts_1_2_income_1[-1], tqdm(range(10)), 10)\n",
    "answers"
   ]
  },
  {
   "cell_type": "markdown",
   "metadata": {},
   "source": [
    "### Study 2: Impact of income on demand"
   ]
  },
  {
   "cell_type": "code",
   "execution_count": 90,
   "metadata": {},
   "outputs": [],
   "source": [
    "# previously generated prompts can be used for this -> ____income_1, ____income_2, etc. "
   ]
  },
  {
   "cell_type": "markdown",
   "metadata": {},
   "source": [
    "### Study 3: State dependence\n",
    "We differentiate between: prompts_3_1____ with previous purchase stated as \"customer says\" and prompts_3_2____ with previous purchase reported as fact"
   ]
  },
  {
   "cell_type": "markdown",
   "metadata": {},
   "source": [
    "- Reported last purchase"
   ]
  },
  {
   "cell_type": "code",
   "execution_count": 91,
   "metadata": {},
   "outputs": [],
   "source": [
    "# Income of $50k\n",
    "prompts_3_1_income_1 = []\n",
    "for price in prices: \n",
    "    prompt = \"\"\"A customer is randomly selected while shopping in the supermarket. Their annual income is $50k. While shopping, the customer passes by the\n",
    "    toothpase aisle and sees two options:\n",
    "    - Colgate whitening toothpaste with fluoride, price ${price}.\n",
    "    - Crest whitening toothpaste with fluoride, price $4.\n",
    "    They also have the option not to purchase toothpaste. The customer says that the last time they shopped for toothpaste they purchased the Colgate whitening toothpaste.\n",
    "    The cusomer is asked, afther they finish shopping: Which toothpaste, if any, did you purchase this time?\n",
    "    Customer: \"\"\""
   ]
  },
  {
   "cell_type": "code",
   "execution_count": 92,
   "metadata": {},
   "outputs": [],
   "source": [
    "# Income of $70k\n",
    "prompts_3_1_income_2 = []\n",
    "for price in prices: \n",
    "    prompt = \"\"\"A customer is randomly selected while shopping in the supermarket. Their annual income is $70k. While shopping, the customer passes by the\n",
    "    toothpase aisle and sees two options:\n",
    "    - Colgate whitening toothpaste with fluoride, price ${price}.\n",
    "    - Crest whitening toothpaste with fluoride, price $4.\n",
    "    They also have the option not to purchase toothpaste. The customer says that the last time they shopped for toothpaste they purchased the Colgate whitening toothpaste.\n",
    "    The cusomer is asked, afther they finish shopping: Which toothpaste, if any, did you purchase this time?\n",
    "    Customer: \"\"\"\n",
    "prompts_3_1_income_2.append(prompt)"
   ]
  },
  {
   "cell_type": "code",
   "execution_count": 93,
   "metadata": {},
   "outputs": [],
   "source": [
    "# Income of $120k\n",
    "prompts_3_1_income_3 = []\n",
    "for price in prices: \n",
    "    prompt = \"\"\"A customer is randomly selected while shopping in the supermarket. Their annual income is $120k. While shopping, the customer passes by the\n",
    "    toothpase aisle and sees two options:\n",
    "    - Colgate whitening toothpaste with fluoride, price ${price}.\n",
    "    - Crest whitening toothpaste with fluoride, price $4.\n",
    "    They also have the option not to purchase toothpaste. The customer says that the last time they shopped for toothpaste they purchased the Colgate whitening toothpaste.\n",
    "    The cusomer is asked, afther they finish shopping: Which toothpaste, if any, did you purchase this time?\n",
    "    Customer: \"\"\"\n",
    "prompts_3_1_income_3.append(prompt)"
   ]
  },
  {
   "cell_type": "markdown",
   "metadata": {},
   "source": [
    "- Last purchase as fact"
   ]
  },
  {
   "cell_type": "code",
   "execution_count": 94,
   "metadata": {},
   "outputs": [],
   "source": [
    "# Income of $50k\n",
    "prompts_3_2_income_1 = []\n",
    "for price in prices: \n",
    "    prompt = \"\"\"A customer is randomly selected while shopping in the supermarket. Their annual income is $50k. While shopping, the customer passes by the\n",
    "    toothpase aisle and sees two options:\n",
    "    - Colgate whitening toothpaste with fluoride, price ${price}.\n",
    "    - Crest whitening toothpaste with fluoride, price $4.\n",
    "    They also have the option not to purchase toothpaste. This customer bought the Colgate whitening toothpaste last time they shopped for toothpaste.\n",
    "    The cusomer is asked, afther they finish shopping: Which toothpaste, if any, did you purchase this time?\n",
    "    Customer: \"\"\"\n",
    "prompts_3_2_income_1.append(prompt)"
   ]
  },
  {
   "cell_type": "code",
   "execution_count": 95,
   "metadata": {},
   "outputs": [],
   "source": [
    "# Income of $70k\n",
    "prompts_3_2_income_2 = []\n",
    "for price in prices: \n",
    "    prompt = \"\"\"A customer is randomly selected while shopping in the supermarket. Their annual income is $70k. While shopping, the customer passes by the\n",
    "    toothpase aisle and sees two options:\n",
    "    - Colgate whitening toothpaste with fluoride, price ${price}.\n",
    "    - Crest whitening toothpaste with fluoride, price $4.\n",
    "    They also have the option not to purchase toothpaste. This customer bought the Colgate whitening toothpaste last time they shopped for toothpaste.\n",
    "    The cusomer is asked, afther they finish shopping: Which toothpaste, if any, did you purchase this time?\n",
    "    Customer: \"\"\"\n",
    "prompts_3_2_income_2.append(prompt)"
   ]
  },
  {
   "cell_type": "code",
   "execution_count": 96,
   "metadata": {},
   "outputs": [],
   "source": [
    "# Income of $50k\n",
    "prompts_3_2_income_3 = []\n",
    "for price in prices: \n",
    "    prompt = \"\"\"A customer is randomly selected while shopping in the supermarket. Their annual income is $120k. While shopping, the customer passes by the\n",
    "    toothpase aisle and sees two options:\n",
    "    - Colgate whitening toothpaste with fluoride, price ${price}.\n",
    "    - Crest whitening toothpaste with fluoride, price $4.\n",
    "    They also have the option not to purchase toothpaste. This customer bought the Colgate whitening toothpaste last time they shopped for toothpaste.\n",
    "    The cusomer is asked, afther they finish shopping: Which toothpaste, if any, did you purchase this time?\n",
    "    Customer: \"\"\"\n",
    "prompts_3_2_income_3.append(prompt)"
   ]
  }
 ],
 "metadata": {
  "kernelspec": {
   "display_name": "Python 3",
   "language": "python",
   "name": "python3"
  },
  "language_info": {
   "codemirror_mode": {
    "name": "ipython",
    "version": 3
   },
   "file_extension": ".py",
   "mimetype": "text/x-python",
   "name": "python",
   "nbconvert_exporter": "python",
   "pygments_lexer": "ipython3",
   "version": "3.11.7"
  }
 },
 "nbformat": 4,
 "nbformat_minor": 2
}
