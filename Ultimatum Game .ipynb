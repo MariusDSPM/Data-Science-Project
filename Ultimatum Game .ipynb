{
 "cells": [
  {
   "cell_type": "code",
   "execution_count": 6,
   "id": "90797e13",
   "metadata": {},
   "outputs": [],
   "source": [
    "from openai import OpenAI\n",
    "import time\n",
    "import numpy as np\n",
    "import matplotlib.pyplot as plt"
   ]
  },
  {
   "cell_type": "code",
   "execution_count": 7,
   "id": "a1773113",
   "metadata": {},
   "outputs": [],
   "source": [
    "with open('openai_api_key.py') as script:\n",
    "    exec(script.readline())\n",
    "\n",
    "client = OpenAI(api_key=openai_api_key)"
   ]
  },
  {
   "cell_type": "markdown",
   "id": "bdb099a8",
   "metadata": {},
   "source": [
    "---\n",
    "# Testing if prompting matters"
   ]
  },
  {
   "cell_type": "code",
   "execution_count": 8,
   "id": "de27951b",
   "metadata": {},
   "outputs": [],
   "source": [
    "def prompt_testing(prompt, temperature=1):\n",
    "    response = client.completions.create(\n",
    "          model=\"gpt-3.5-turbo-instruct\",\n",
    "          prompt=prompt,\n",
    "          max_tokens=1,\n",
    "          logprobs=5,\n",
    "          temperature=temperature\n",
    "        )\n",
    "    \n",
    "    probability = np.exp(response.choices[0].logprobs.top_logprobs[0][' reject'])\n",
    "    print(f'Probability for selecting \"reject\": {round(probability, 2)}' )\n",
    "    probability = np.exp(response.choices[0].logprobs.top_logprobs[0][' accept'])\n",
    "    print(f'Probability for selecting \"accept\": {round(probability, 2)}' )"
   ]
  },
  {
   "cell_type": "code",
   "execution_count": 52,
   "id": "6fb65159",
   "metadata": {},
   "outputs": [],
   "source": [
    "def experiment(prompt, n, temperature=1, max_tokens=1):\n",
    "    answers = []\n",
    "    for _ in range(n):\n",
    "        response = client.completions.create(\n",
    "            model='gpt-3.5-turbo-instruct',  \n",
    "            prompt=prompt,\n",
    "            max_tokens=max_tokens,\n",
    "            temperature=temperature\n",
    "        )\n",
    "\n",
    "        # Store the answer in the list\n",
    "        answer = response.choices[0].text\n",
    "        answers.append(answer.strip())\n",
    "\n",
    "        # Add delay before the next API call\n",
    "        time.sleep(0.1)  \n",
    "        \n",
    "    reject_share = answers.count('reject') / len(answers)\n",
    "    print(f'Share of \"reject\": {round(reject_share,2)}')\n",
    "    accept_share = answers.count('accept') / len(answers)\n",
    "    print(f'Share of \"accept\": {round(accept_share,2)}')"
   ]
  },
  {
   "cell_type": "markdown",
   "id": "152247ca",
   "metadata": {},
   "source": [
    "### 1. Rephrasing text"
   ]
  },
  {
   "cell_type": "markdown",
   "id": "c9aa37df",
   "metadata": {},
   "source": [
    "Simply by rephrasing the text, the probabilities change completely:"
   ]
  },
  {
   "cell_type": "code",
   "execution_count": 53,
   "id": "71656c7e",
   "metadata": {},
   "outputs": [],
   "source": [
    "prompt1 = \"\"\"In the following scenario, Person B had to decide whether \\\n",
    "to accept or reject the proposal.\n",
    "\n",
    "Scenario: Person A is given \\\n",
    "$10. Person A will propose how to split the money between \\\n",
    "himself and Person B. Then Person B will decide whether to \\\n",
    "accept or reject Person A’s proposal. If Person B accepts, \\\n",
    "then Person A and Person B get the money as they agreed to \\\n",
    "split. If Person B rejects, then Person A and Person B both \\\n",
    "receive nothing. Person A takes $9 for himself and offers \\\n",
    "Person B $1.\n",
    "\n",
    "Answer: Person B decides to\"\"\"\n",
    "\n",
    "prompt2 = \"\"\"In the given situation, Person B faced the choice of accepting or rejecting the proposal.\n",
    "\n",
    "Situation: Person A receives $10 and suggests a division of the \\\n",
    "money between themselves and Person B. Subsequently, Person B must \\\n",
    "determine whether to approve or reject Person A's proposition. \\\n",
    "If Person B agrees, the funds are distributed according to their \\\n",
    "agreed-upon split. However, if Person B rejects, both individuals \\\n",
    "receive nothing. In this instance, Person A keeps $9 for themselves \\\n",
    "and extends an offer of $1 to Person B.\n",
    "\n",
    "Answer: Person B decides to\"\"\""
   ]
  },
  {
   "cell_type": "code",
   "execution_count": 47,
   "id": "daf00176",
   "metadata": {},
   "outputs": [
    {
     "name": "stdout",
     "output_type": "stream",
     "text": [
      "Probability for selecting \"reject\": 0.99\n",
      "Probability for selecting \"accept\": 0.01\n"
     ]
    }
   ],
   "source": [
    "prompt_testing(prompt1)"
   ]
  },
  {
   "cell_type": "code",
   "execution_count": 48,
   "id": "a402f861",
   "metadata": {},
   "outputs": [
    {
     "name": "stdout",
     "output_type": "stream",
     "text": [
      "Probability for selecting \"reject\": 0.38\n",
      "Probability for selecting \"accept\": 0.57\n"
     ]
    }
   ],
   "source": [
    "prompt_testing(prompt2)"
   ]
  },
  {
   "cell_type": "code",
   "execution_count": 54,
   "id": "f56c04eb",
   "metadata": {
    "scrolled": false
   },
   "outputs": [
    {
     "name": "stdout",
     "output_type": "stream",
     "text": [
      "Share of \"reject\": 0.99\n",
      "Share of \"accept\": 0.01\n"
     ]
    }
   ],
   "source": [
    "experiment(prompt1, n=100)"
   ]
  },
  {
   "cell_type": "code",
   "execution_count": 59,
   "id": "4eb8d746",
   "metadata": {},
   "outputs": [
    {
     "name": "stdout",
     "output_type": "stream",
     "text": [
      "Share of \"reject\": 0.37\n",
      "Share of \"accept\": 0.58\n"
     ]
    }
   ],
   "source": [
    "experiment(prompt2, n=1000)"
   ]
  },
  {
   "cell_type": "markdown",
   "id": "8bd56272",
   "metadata": {},
   "source": [
    "Result: Reading off the log probabilities and running the experiment multiple times leads to the same distribution (with temperature=1)."
   ]
  },
  {
   "cell_type": "markdown",
   "id": "0d57dc88",
   "metadata": {},
   "source": [
    "---"
   ]
  },
  {
   "cell_type": "code",
   "execution_count": 60,
   "id": "4fb16a74",
   "metadata": {},
   "outputs": [
    {
     "name": "stdout",
     "output_type": "stream",
     "text": [
      "Probability for selecting \"reject\": 0.99\n",
      "Probability for selecting \"accept\": 0.01\n"
     ]
    }
   ],
   "source": [
    "prompt_testing(prompt1, temperature=1.5)"
   ]
  },
  {
   "cell_type": "code",
   "execution_count": 61,
   "id": "e0ffdf92",
   "metadata": {},
   "outputs": [
    {
     "name": "stdout",
     "output_type": "stream",
     "text": [
      "Probability for selecting \"reject\": 0.37\n",
      "Probability for selecting \"accept\": 0.58\n"
     ]
    }
   ],
   "source": [
    "prompt_testing(prompt2, temperature=1.5)"
   ]
  },
  {
   "cell_type": "code",
   "execution_count": 62,
   "id": "38456e6c",
   "metadata": {},
   "outputs": [
    {
     "name": "stdout",
     "output_type": "stream",
     "text": [
      "Share of \"reject\": 0.93\n",
      "Share of \"accept\": 0.06\n"
     ]
    }
   ],
   "source": [
    "experiment(prompt1, n=200, temperature=1.5)"
   ]
  },
  {
   "cell_type": "code",
   "execution_count": 63,
   "id": "30112f0c",
   "metadata": {},
   "outputs": [
    {
     "name": "stdout",
     "output_type": "stream",
     "text": [
      "Share of \"reject\": 0.36\n",
      "Share of \"accept\": 0.43\n"
     ]
    }
   ],
   "source": [
    "experiment(prompt2, n=200, temperature=1.5)"
   ]
  },
  {
   "cell_type": "markdown",
   "id": "00d42e73",
   "metadata": {},
   "source": [
    "Result: The log probabilities are independent of the temperature. It looks as if the temperature only comes into play after the log probabilities have been calculated and then somehow changes them."
   ]
  },
  {
   "cell_type": "markdown",
   "id": "13722ef0",
   "metadata": {},
   "source": [
    "### 2. Prompt formatting matters too"
   ]
  },
  {
   "cell_type": "markdown",
   "id": "c2e6a438",
   "metadata": {},
   "source": [
    "Same text, but different formatting:"
   ]
  },
  {
   "cell_type": "code",
   "execution_count": 1,
   "id": "49f0400e",
   "metadata": {},
   "outputs": [],
   "source": [
    "prompt4=\"\"\"\n",
    "    In the following scenario, Person B had to decide whether \n",
    "    to accept or reject the proposal.Scenario: Person A is given \n",
    "    $10. Person A will propose how to split the money between \n",
    "    himself and Person B. Then Person B will decide whether to \n",
    "    accept or reject Person A’s proposal. If Person B accepts, \n",
    "    then Person A and Person B get the money as they agreed to \n",
    "    split. If Person B rejects, then Person A and Person B both \n",
    "    receive nothing. Person A takes $9 for himself and offers \n",
    "    Person B $1.\n",
    "    \n",
    "    Answer: Person B decides to\"\"\"\n",
    "\n",
    "prompt5 = \"\"\"In the following scenario, Person B had to decide whether \\\n",
    "to accept or reject the proposal. \n",
    "\n",
    "Scenario: Person A is given \\\n",
    "$10. Person A will propose how to split the money between \\\n",
    "himself and Person B. Then Person B will decide whether to \\\n",
    "accept or reject Person A’s proposal. If Person B accepts, \\\n",
    "then Person A and Person B get the money as they agreed to \\\n",
    "split. If Person B rejects, then Person A and Person B both \\\n",
    "receive nothing. Person A takes $9 for himself and offers \\\n",
    "Person B $1.\n",
    "\n",
    "Answer: Person B decides to\"\"\"\n",
    "\n",
    "prompt6 = \"\"\"In the following scenario, Person B had to decide whether \\\n",
    "to accept or reject the proposal. Scenario: Person A is given \\\n",
    "$10. Person A will propose how to split the money between \\\n",
    "himself and Person B. Then Person B will decide whether to \\\n",
    "accept or reject Person A’s proposal. If Person B accepts, \\\n",
    "then Person A and Person B get the money as they agreed to \\\n",
    "split. If Person B rejects, then Person A and Person B both \\\n",
    "receive nothing. Person A takes $9 for himself and offers \\\n",
    "Person B $1. Answer: Person B decides to\"\"\""
   ]
  },
  {
   "cell_type": "code",
   "execution_count": 183,
   "id": "66f0023c",
   "metadata": {},
   "outputs": [
    {
     "name": "stdout",
     "output_type": "stream",
     "text": [
      "Probability for selecting \"reject\": 0.74\n",
      "Probability for selecting \"accept\": 0.26\n"
     ]
    }
   ],
   "source": [
    "prompt_testing(prompt4)"
   ]
  },
  {
   "cell_type": "markdown",
   "id": "6578f38f",
   "metadata": {},
   "source": [
    "`prompt5` is divided into 3 paragraphs and `prompt6` into 1 paragraph, but wording is exactly the same:"
   ]
  },
  {
   "cell_type": "code",
   "execution_count": 186,
   "id": "e66f6087",
   "metadata": {},
   "outputs": [
    {
     "name": "stdout",
     "output_type": "stream",
     "text": [
      "Probability for selecting \"reject\": 0.95\n",
      "Probability for selecting \"accept\": 0.05\n"
     ]
    }
   ],
   "source": [
    "prompt_testing(prompt5)"
   ]
  },
  {
   "cell_type": "code",
   "execution_count": 187,
   "id": "30dd6404",
   "metadata": {},
   "outputs": [
    {
     "name": "stdout",
     "output_type": "stream",
     "text": [
      "Probability for selecting \"reject\": 0.85\n",
      "Probability for selecting \"accept\": 0.15\n"
     ]
    }
   ],
   "source": [
    "prompt_testing(prompt6)"
   ]
  },
  {
   "cell_type": "markdown",
   "id": "f72e8a98",
   "metadata": {},
   "source": [
    "---"
   ]
  },
  {
   "cell_type": "markdown",
   "id": "6bd85c5f",
   "metadata": {},
   "source": [
    "#  Recreating Ultimatum Game again"
   ]
  },
  {
   "cell_type": "markdown",
   "id": "06b4d5c6",
   "metadata": {},
   "source": [
    "From:\n",
    "\n",
    "- Aher, G., Arriaga, R. I., & Kalai, A. T. (2022). Using large language models to simulate multiple humans. arXiv preprint arXiv:2208.10264."
   ]
  },
  {
   "cell_type": "code",
   "execution_count": 3,
   "id": "6ee09b26",
   "metadata": {},
   "outputs": [
    {
     "data": {
      "text/plain": [
       "[0, 1, 2, 3, 4, 5, 6, 7, 8, 9, 10]"
      ]
     },
     "execution_count": 3,
     "metadata": {},
     "output_type": "execute_result"
    }
   ],
   "source": [
    "proposals = [x for x in range(11)]\n",
    "proposals"
   ]
  },
  {
   "cell_type": "code",
   "execution_count": 17,
   "id": "5389f82f",
   "metadata": {},
   "outputs": [],
   "source": [
    "results = []\n",
    "\n",
    "for proposal in proposals:\n",
    "    # This is the prompt from the paper, but names replaced with 'Person A' and 'Person B'\n",
    "    prompt = f\"\"\"In the following scenario, Person B had to decide whether \\\n",
    "to accept or reject the proposal. \n",
    "\n",
    "Scenario: Person A is given \\\n",
    "$10. Person A will propose how to split the money between \\\n",
    "himself and Person B. Then Person B will decide whether to \\\n",
    "accept or reject Person A’s proposal. If Person B accepts, \\\n",
    "then Person A and Person B get the money as they agreed to \\\n",
    "split. If Person B rejects, then Person A and Person B both \\\n",
    "receive nothing. Person A takes ${10-proposal} for himself and offers \\\n",
    "Person B ${proposal}.\n",
    "\n",
    "Answer: Person B decides to\"\"\"\n",
    "    \n",
    "    response = client.completions.create(\n",
    "      model=\"gpt-3.5-turbo-instruct\",\n",
    "      prompt=prompt,\n",
    "      temperature=1,\n",
    "      max_tokens=1,\n",
    "      logprobs=3\n",
    "    )\n",
    "\n",
    "    logprobs_accept = response.choices[0].logprobs.top_logprobs[0][' accept']\n",
    "    prob_accept = np.exp(logprobs_accept)\n",
    "    \n",
    "    results.append(prob_accept)"
   ]
  },
  {
   "cell_type": "code",
   "execution_count": 20,
   "id": "b31f22eb",
   "metadata": {},
   "outputs": [
    {
     "data": {
      "image/png": "[encoded data removed]",
      "text/plain": [
       "<Figure size 800x550 with 1 Axes>"
      ]
     },
     "metadata": {},
     "output_type": "display_data"
    }
   ],
   "source": [
    "plt.style.use('seaborn-v0_8')\n",
    "\n",
    "# Plotting the data\n",
    "plt.plot(proposals, results, marker='o')\n",
    "\n",
    "# Adding labels and title\n",
    "plt.xlabel('Offer size out of $10')\n",
    "plt.ylabel('Probability of \"Accept\"')\n",
    "plt.title('Acceptance rate vs. offer size')\n",
    "\n",
    "plt.ylim(0, 1)\n",
    "\n",
    "# Display the plot\n",
    "plt.show()"
   ]
  },
  {
   "cell_type": "markdown",
   "id": "9360c1fb",
   "metadata": {},
   "source": [
    "### Result from paper:"
   ]
  },
  {
   "cell_type": "markdown",
   "id": "b5661a7c",
   "metadata": {},
   "source": [
    "![Paper result](UG_surnames_total_money_10_fig_ug_ada_dav.png)"
   ]
  },
  {
   "cell_type": "markdown",
   "id": "2b613472",
   "metadata": {},
   "source": [
    "Not quite the same..."
   ]
  },
  {
   "cell_type": "markdown",
   "id": "0ce38a2a",
   "metadata": {},
   "source": [
    "## Using GPT-4 Turbo"
   ]
  },
  {
   "cell_type": "code",
   "execution_count": 33,
   "id": "913a3605",
   "metadata": {},
   "outputs": [],
   "source": [
    "def experiment(model, prompt, instruction, n, temperature=1, max_tokens=1):\n",
    "    answers = []\n",
    "    for _ in range(n):\n",
    "        response = client.chat.completions.create(\n",
    "            model=model,  \n",
    "            messages=[\n",
    "                {\"role\": \"system\", \"content\": instruction},\n",
    "                {\"role\": \"user\", \"content\": prompt}\n",
    "            ],\n",
    "            max_tokens=max_tokens,\n",
    "            temperature=temperature\n",
    "        )\n",
    "\n",
    "        # Store the answer in the list\n",
    "        answer = response.choices[0].message.content\n",
    "        answers.append(answer.strip())\n",
    "\n",
    "        # Add delay before the next API call\n",
    "        time.sleep(0.1)  \n",
    "     \n",
    "    return answers\n",
    "\n",
    "\n",
    "def plot(results, temperature):\n",
    "    plt.style.use('seaborn-v0_8')\n",
    "\n",
    "    # Plotting the data\n",
    "    plt.plot(proposals, results, marker='o')\n",
    "\n",
    "    # Adding labels and title\n",
    "    plt.xlabel('Offer size out of $10')\n",
    "    plt.ylabel('Probability of \"Accept\"')\n",
    "    plt.title(f'Acceptance rate vs. offer size (Temperature={temperature})')\n",
    "\n",
    "    plt.ylim(0, 1)\n",
    "\n",
    "    # Display the plot\n",
    "    plt.show()"
   ]
  },
  {
   "cell_type": "code",
   "execution_count": 20,
   "id": "97071892",
   "metadata": {},
   "outputs": [],
   "source": [
    "model = 'gpt-4-1106-preview'\n",
    "instruction = 'Complete the answer with one word.'\n",
    "temperature = 1\n",
    "\n",
    "results = []\n",
    "answers_storage = []\n",
    "\n",
    "for proposal in proposals:\n",
    "    # This is the prompt from the paper, but names replaced with 'Person A' and 'Person B'\n",
    "    prompt = f\"\"\"In the following scenario, Person B had to decide whether \\\n",
    "to accept or reject the proposal. \n",
    "\n",
    "Scenario: Person A is given \\\n",
    "$10. Person A will propose how to split the money between \\\n",
    "himself and Person B. Then Person B will decide whether to \\\n",
    "accept or reject Person A’s proposal. If Person B accepts, \\\n",
    "then Person A and Person B get the money as they agreed to \\\n",
    "split. If Person B rejects, then Person A and Person B both \\\n",
    "receive nothing. Person A takes ${10-proposal} for himself and offers \\\n",
    "Person B ${proposal}.\n",
    "\n",
    "Answer: Person B decides to\"\"\"\n",
    "    \n",
    "    answers = experiment(model, prompt, instruction, 100)\n",
    "    answers_storage.append(answers)\n",
    "    \n",
    "    if \"accept\" in answers:\n",
    "        accept_share = answers.count(\"accept\") / len(answers)\n",
    "    else:\n",
    "        accept_share = 0\n",
    "        \n",
    "    results.append(accept_share)"
   ]
  },
  {
   "cell_type": "code",
   "execution_count": 25,
   "id": "40b66dc8",
   "metadata": {},
   "outputs": [
    {
     "data": {
      "image/png": "[encoded data removed]",
      "text/plain": [
       "<Figure size 800x550 with 1 Axes>"
      ]
     },
     "metadata": {},
     "output_type": "display_data"
    }
   ],
   "source": [
    "plt.style.use('seaborn-v0_8')\n",
    "\n",
    "# Plotting the data\n",
    "plt.plot(proposals, results, marker='o')\n",
    "\n",
    "# Adding labels and title\n",
    "plt.xlabel('Offer size out of $10')\n",
    "plt.ylabel('Probability of \"Accept\"')\n",
    "plt.title('Acceptance rate vs. offer size (Temperature=1)')\n",
    "\n",
    "plt.ylim(0, 1)\n",
    "\n",
    "# Display the plot\n",
    "plt.show()"
   ]
  },
  {
   "cell_type": "code",
   "execution_count": 35,
   "id": "341436f7",
   "metadata": {},
   "outputs": [
    {
     "data": {
      "image/png": "[encoded data removed]",
      "text/plain": [
       "<Figure size 800x550 with 1 Axes>"
      ]
     },
     "metadata": {},
     "output_type": "display_data"
    }
   ],
   "source": [
    "plot(results, temperature=1.5)"
   ]
  },
  {
   "cell_type": "code",
   "execution_count": 26,
   "id": "c9481d63",
   "metadata": {},
   "outputs": [],
   "source": [
    "instruction = 'Complete the answer with one word.'\n",
    "\n",
    "results = []\n",
    "answers_storage = []\n",
    "\n",
    "for proposal in proposals:\n",
    "    # This is the prompt from the paper, but names replaced with 'Person A' and 'Person B'\n",
    "    prompt = f\"\"\"In the following scenario, Person B had to decide whether \\\n",
    "to accept or reject the proposal. \n",
    "\n",
    "Scenario: Person A is given \\\n",
    "$10. Person A will propose how to split the money between \\\n",
    "himself and Person B. Then Person B will decide whether to \\\n",
    "accept or reject Person A’s proposal. If Person B accepts, \\\n",
    "then Person A and Person B get the money as they agreed to \\\n",
    "split. If Person B rejects, then Person A and Person B both \\\n",
    "receive nothing. Person A takes ${10-proposal} for himself and offers \\\n",
    "Person B ${proposal}.\n",
    "\n",
    "Answer: Person B decides to\"\"\"\n",
    "    \n",
    "    answers = experiment(model, prompt, instruction, 100, temperature=1.5)\n",
    "    answers_storage.append(answers)\n",
    "    \n",
    "    if \"accept\" in answers:\n",
    "        accept_share = answers.count(\"accept\") / len(answers)\n",
    "    else:\n",
    "        accept_share = 0\n",
    "        \n",
    "    results.append(accept_share)"
   ]
  }
 ],
 "metadata": {
  "kernelspec": {
   "display_name": "Python 3 (ipykernel)",
   "language": "python",
   "name": "python3"
  },
  "language_info": {
   "codemirror_mode": {
    "name": "ipython",
    "version": 3
   },
   "file_extension": ".py",
   "mimetype": "text/x-python",
   "name": "python",
   "nbconvert_exporter": "python",
   "pygments_lexer": "ipython3",
   "version": "3.9.13"
  }
 },
 "nbformat": 4,
 "nbformat_minor": 5
}
