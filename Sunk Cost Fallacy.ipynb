{
 "cells": [
  {
   "cell_type": "code",
   "execution_count": 1,
   "id": "752e0dfe",
   "metadata": {},
   "outputs": [],
   "source": [
    "from openai import OpenAI\n",
    "import time\n",
    "import numpy as np"
   ]
  },
  {
   "cell_type": "code",
   "execution_count": 2,
   "id": "ff441fc2",
   "metadata": {},
   "outputs": [],
   "source": [
    "with open('openai_api_key.py') as script:\n",
    "    exec(script.readline())\n",
    "\n",
    "client = OpenAI(\n",
    "  api_key=openai_api_key,\n",
    ")"
   ]
  },
  {
   "cell_type": "markdown",
   "id": "7ef9eb11",
   "metadata": {},
   "source": [
    "# Sunk Cost Fallacy\n",
    "### Using OpenAI Playground - Complete API with gpt-3.5-turbo-instruct"
   ]
  },
  {
   "cell_type": "markdown",
   "id": "9ee0e6d2",
   "metadata": {},
   "source": [
    "Prompt:\n",
    "\n",
    "*Assume that you have spent `$90/$250` for a ticket to a theater performance. Several weeks later you buy a `$30` ticket to a rock concert. You think you will enjoy the rock concert more than the theater performance. As you are putting your just-purchased rock concert ticket in your wallet, you notice that both events are scheduled for the same evening. The tickets are non-transferable, nor can they be exchanged. You can use only one of the tickets and not the other. Which ticket will you use?*\n",
    "\n",
    "*Answer: I would use the ticket to the*\n",
    "\n",
    "---\n",
    "\n",
    "From:\n",
    "\n",
    "- Soman, D. 2001. The mental accounting of sunk time costs: why time is not like money. Journal of Behavioral Decision Making 14(3): 169–185.\n",
    "\n",
    "- Arkes, H.R., and C. Blumer. 1985. The psychology of sunk cost. Organizational Behavior and Human\n",
    "Decision Processes 35(1): 124–140.\n",
    "\n",
    "(both Experiment 1)\n",
    "\n",
    "---"
   ]
  },
  {
   "cell_type": "markdown",
   "id": "f342a171",
   "metadata": {},
   "source": [
    "The OpenAI Complete API Playground allows you to see the probabilities of a token being generated. This allows you to see how likely the model is to choose an option. You can also change the parameters and the amount of sunk cost to see how the probabilities change:"
   ]
  },
  {
   "cell_type": "markdown",
   "id": "94fc8b16",
   "metadata": {},
   "source": [
    "| Parameters |                   | `$30 vs. $90`       |                      | `$30 vs. $250`         |                      |\n",
    "|---------|------------|----------------------|----------------------|----------------------|----------------------|\n",
    "|  Temperature | Top P       | Rock Concert         | Theater Performance  | Rock Concert         | Theater Performance  |\n",
    "| 0.5 | 1                 | 97.34%               | 2.31%                | 91.95%               | 7.67%                |\n",
    "| 1 | 1                  | 97.35%               | 2.30%                | 91.95%               | 7.67%                |\n",
    "| 1.5 | 1                 | 97.35%               | 2.31%                | 91.94%               | 7.67%                |\n",
    "| 1 | 0.5                 | 97.34%               | 2.31%                | 92.55%               | 7.07%                |\n",
    "\n",
    "Model: gpt-3.5-turbo-instruct"
   ]
  },
  {
   "cell_type": "markdown",
   "id": "4eaf9e5d",
   "metadata": {},
   "source": [
    "Changing the parameters `Temperature` and `Top P` does not change the probabilities. But changing the amount of sunk costs from `$90` to `$250` slightly increases the probability of choosing the theater performance by about 5 percentage points.\n",
    "\n",
    "In conclusion, although the model (gpt-3.5-turbo-instruct) isn't significantly affected by sunk cost bias, a slight impact is still observed."
   ]
  },
  {
   "cell_type": "markdown",
   "id": "cceed991",
   "metadata": {},
   "source": [
    "---\n",
    "\n",
    "### Using gpt-4-1106-preview (\"GPT-4 Turbo\")\n",
    "\n",
    "Result: The model did not choose the theater performance once. Therefore, GPT-4 Turbo does not seem to be subject to the sunk cost bias."
   ]
  },
  {
   "cell_type": "code",
   "execution_count": 3,
   "id": "797c11d4",
   "metadata": {},
   "outputs": [],
   "source": [
    "def sunk_cost_experiment(model, prompt, instruction, n, temperature=1, max_tokens=2):\n",
    "    answers = []\n",
    "    for _ in range(n):\n",
    "        response = client.chat.completions.create(\n",
    "            model=model,  \n",
    "            messages=[\n",
    "                {\"role\": \"system\", \"content\": instruction},\n",
    "\n",
    "                {\"role\": \"user\", \"content\": prompt}\n",
    "            ],\n",
    "            max_tokens=max_tokens,\n",
    "            temperature=temperature\n",
    "        )\n",
    "\n",
    "        # Store the answer in the list\n",
    "        answer = response.choices[0].message.content\n",
    "        answers.append(answer.strip())\n",
    "\n",
    "        # Add delay before the next API call\n",
    "        time.sleep(0.1)  \n",
    "     \n",
    "    return answers"
   ]
  },
  {
   "cell_type": "code",
   "execution_count": 5,
   "id": "26a432f9",
   "metadata": {},
   "outputs": [],
   "source": [
    "# gpt-4-1106-preview (GPT-4 Turbo) is more powerful than GPT-4 and offered at a lower price\n",
    "model = 'gpt-4-1106-preview'\n",
    "\n",
    "instruction = 'Complete the answer with two words.'\n",
    "\n",
    "prompt = \"\"\"Assume that you have spent $250 for a ticket to a theater performance. \\\n",
    "Several weeks later you buy a $30 ticket to a rock concert. You think you \\\n",
    "will enjoy the rock concert more than the theater performance. As you are \\\n",
    "putting your just-purchased rock concert ticket in your wallet, you notice \\\n",
    "that both events are scheduled for the same evening. The tickets are \\\n",
    "non-transferable, nor can they be exchanged. You can use only one of the \\\n",
    "tickets and not the other. Which ticket will you use?\n",
    "\n",
    "Answer: I would use the ticket to the\"\"\""
   ]
  },
  {
   "cell_type": "code",
   "execution_count": 12,
   "id": "901c6be6",
   "metadata": {},
   "outputs": [
    {
     "name": "stdout",
     "output_type": "stream",
     "text": [
      "Wall time: 50.5 s\n"
     ]
    }
   ],
   "source": [
    "%%time\n",
    "answers = sunk_cost_experiment(model, prompt, instruction, n=100)"
   ]
  },
  {
   "cell_type": "code",
   "execution_count": 13,
   "id": "58e008b4",
   "metadata": {},
   "outputs": [
    {
     "data": {
      "text/plain": [
       "1.0"
      ]
     },
     "execution_count": 13,
     "metadata": {},
     "output_type": "execute_result"
    }
   ],
   "source": [
    "answers.count('rock concert') / len(answers)"
   ]
  },
  {
   "cell_type": "code",
   "execution_count": 14,
   "id": "911ff4d5",
   "metadata": {},
   "outputs": [
    {
     "data": {
      "text/plain": [
       "0.0"
      ]
     },
     "execution_count": 14,
     "metadata": {},
     "output_type": "execute_result"
    }
   ],
   "source": [
    "answers.count('theater performance') / len(answers)"
   ]
  },
  {
   "cell_type": "markdown",
   "id": "c5e91765",
   "metadata": {},
   "source": [
    "---\n",
    "\n",
    "### Using gpt-3.5-turbo-1106\n",
    "\n",
    "Result: Small sunk cost bias."
   ]
  },
  {
   "cell_type": "code",
   "execution_count": 26,
   "id": "93e984c4",
   "metadata": {},
   "outputs": [],
   "source": [
    "model = 'gpt-3.5-turbo-1106'"
   ]
  },
  {
   "cell_type": "code",
   "execution_count": 27,
   "id": "0bcb3ecf",
   "metadata": {},
   "outputs": [
    {
     "name": "stdout",
     "output_type": "stream",
     "text": [
      "Wall time: 60 s\n"
     ]
    }
   ],
   "source": [
    "%%time\n",
    "answers = sunk_cost_experiment(model, prompt, instruction, n=100)"
   ]
  },
  {
   "cell_type": "code",
   "execution_count": 37,
   "id": "3a565584",
   "metadata": {},
   "outputs": [
    {
     "data": {
      "text/plain": [
       "0.95"
      ]
     },
     "execution_count": 37,
     "metadata": {},
     "output_type": "execute_result"
    }
   ],
   "source": [
    "(answers.count('rock concert') \n",
    " + answers.count('concert.')\n",
    " + answers.count('concert')\n",
    " + answers.count('concert performance')) / len(answers)"
   ]
  },
  {
   "cell_type": "code",
   "execution_count": 31,
   "id": "699dc47e",
   "metadata": {},
   "outputs": [
    {
     "data": {
      "text/plain": [
       "0.05"
      ]
     },
     "execution_count": 31,
     "metadata": {},
     "output_type": "execute_result"
    }
   ],
   "source": [
    "answers.count('theater') / len(answers)"
   ]
  },
  {
   "cell_type": "markdown",
   "id": "926fa2bd",
   "metadata": {},
   "source": [
    "---\n",
    "## Experiment 2\n",
    "From\n",
    "- Thaler, Richard (2015), \"Misbehaving\""
   ]
  },
  {
   "cell_type": "code",
   "execution_count": 45,
   "id": "827cf4ea",
   "metadata": {},
   "outputs": [],
   "source": [
    "prompt1=\"\"\"Suppose you bought a case of good Bordeaux in the futures \\\n",
    "market for $20 a bottle. The wine now sells at auction for about $75. \\\n",
    "You have decided to drink a bottle. Which of the following best captures \\\n",
    "your feeling of the cost to you of drinking the bottle?\n",
    "\n",
    "A: $0. I alreadey paid for it.\n",
    "B: $20, what I paid for.\n",
    "C: $20, plus interest.\n",
    "D: $75, what I could get if I sold the bottle.\n",
    "E: -$55, I get to drink a bottle that is worth $75 that I only paid \\\n",
    "$20 for so I save money by drinking the bottle.\"\"\"\n",
    "\n",
    "instruction = 'Please answer by only giving the letter of the answer option A, B, C, D or E.'\n",
    "\n",
    "model = 'gpt-3.5-turbo-1106'"
   ]
  },
  {
   "cell_type": "code",
   "execution_count": 15,
   "id": "0f080e25",
   "metadata": {},
   "outputs": [
    {
     "name": "stdout",
     "output_type": "stream",
     "text": [
      "Wall time: 52 s\n"
     ]
    }
   ],
   "source": [
    "%%time\n",
    "answers = sunk_cost_experiment(model, prompt1, instruction, n=100, max_tokens=1)"
   ]
  },
  {
   "cell_type": "code",
   "execution_count": 17,
   "id": "0533fa06",
   "metadata": {},
   "outputs": [
    {
     "data": {
      "text/plain": [
       "0.01"
      ]
     },
     "execution_count": 17,
     "metadata": {},
     "output_type": "execute_result"
    }
   ],
   "source": [
    "answers.count(\"A\") / len(answers)"
   ]
  },
  {
   "cell_type": "code",
   "execution_count": 18,
   "id": "babcefc7",
   "metadata": {},
   "outputs": [
    {
     "data": {
      "text/plain": [
       "0.05"
      ]
     },
     "execution_count": 18,
     "metadata": {},
     "output_type": "execute_result"
    }
   ],
   "source": [
    "answers.count(\"B\") / len(answers)"
   ]
  },
  {
   "cell_type": "code",
   "execution_count": 19,
   "id": "4738a633",
   "metadata": {},
   "outputs": [
    {
     "data": {
      "text/plain": [
       "0.0"
      ]
     },
     "execution_count": 19,
     "metadata": {},
     "output_type": "execute_result"
    }
   ],
   "source": [
    "answers.count(\"C\") / len(answers)"
   ]
  },
  {
   "cell_type": "code",
   "execution_count": 20,
   "id": "703ec5c9",
   "metadata": {},
   "outputs": [
    {
     "data": {
      "text/plain": [
       "0.0"
      ]
     },
     "execution_count": 20,
     "metadata": {},
     "output_type": "execute_result"
    }
   ],
   "source": [
    "answers.count(\"D\") / len(answers)"
   ]
  },
  {
   "cell_type": "code",
   "execution_count": 21,
   "id": "ecfc1dda",
   "metadata": {},
   "outputs": [
    {
     "data": {
      "text/plain": [
       "0.94"
      ]
     },
     "execution_count": 21,
     "metadata": {},
     "output_type": "execute_result"
    }
   ],
   "source": [
    "answers.count(\"E\") / len(answers)"
   ]
  },
  {
   "cell_type": "markdown",
   "id": "aad6aa1d",
   "metadata": {},
   "source": [
    "Results from the book:\n",
    "- A (30%)\n",
    "- B (18%)\n",
    "- C (7%)\n",
    "- D (20%)\n",
    "- E (25%)\n",
    "\n",
    "(Fun fact) Thaler writes: *\"When we included option (e), which we found greatly amusing, we were not sure anyone would select it. We wondered wether there were really people who are so sophisticated in their use of mental accounting that they can consider the drinking of an expensive bottle of wine as an act that saves them money. But many people took that option seriously, and over half of the resondents said that drinking the bottle was either free or saved them money.\"*"
   ]
  },
  {
   "cell_type": "markdown",
   "id": "a23ed021",
   "metadata": {},
   "source": [
    "Changing the order of the answers to see if anything changes:"
   ]
  },
  {
   "cell_type": "code",
   "execution_count": 46,
   "id": "f96ef722",
   "metadata": {},
   "outputs": [],
   "source": [
    "prompt2=\"\"\"Suppose you bought a case of good Bordeaux in the futures \\\n",
    "market for $20 a bottle. The wine now sells at auction for about $75. \\\n",
    "You have decided to drink a bottle. Which of the following best captures \\\n",
    "your feeling of the cost to you of drinking the bottle?\n",
    "\n",
    "A: $75, what I could get if I sold the bottle.\n",
    "B: -$55, I get to drink a bottle that is worth $75 that I only paid \\\n",
    "$20 for so I save money by drinking the bottle.\n",
    "C: $0. I alreadey paid for it.\n",
    "D: $20, what I paid for.\n",
    "E: $20, plus interest.\"\"\"\n",
    "\n",
    "instruction = 'Please answer by only giving the letter of the answer option A, B, C, D or E.'\n",
    "\n",
    "model = 'gpt-3.5-turbo-1106'"
   ]
  },
  {
   "cell_type": "code",
   "execution_count": 23,
   "id": "96ad655c",
   "metadata": {},
   "outputs": [
    {
     "name": "stdout",
     "output_type": "stream",
     "text": [
      "Wall time: 1min 5s\n"
     ]
    }
   ],
   "source": [
    "%%time\n",
    "answers = sunk_cost_experiment(model, prompt2, instruction, n=100, max_tokens=1)"
   ]
  },
  {
   "cell_type": "code",
   "execution_count": 24,
   "id": "b4fb65d6",
   "metadata": {},
   "outputs": [
    {
     "data": {
      "text/plain": [
       "0.04"
      ]
     },
     "execution_count": 24,
     "metadata": {},
     "output_type": "execute_result"
    }
   ],
   "source": [
    "answers.count(\"A\") / len(answers)"
   ]
  },
  {
   "cell_type": "code",
   "execution_count": 25,
   "id": "c43aa8d6",
   "metadata": {},
   "outputs": [
    {
     "data": {
      "text/plain": [
       "0.64"
      ]
     },
     "execution_count": 25,
     "metadata": {},
     "output_type": "execute_result"
    }
   ],
   "source": [
    "answers.count(\"B\") / len(answers)"
   ]
  },
  {
   "cell_type": "code",
   "execution_count": 26,
   "id": "7626ae9a",
   "metadata": {},
   "outputs": [
    {
     "data": {
      "text/plain": [
       "0.02"
      ]
     },
     "execution_count": 26,
     "metadata": {},
     "output_type": "execute_result"
    }
   ],
   "source": [
    "answers.count(\"C\") / len(answers)"
   ]
  },
  {
   "cell_type": "code",
   "execution_count": 27,
   "id": "f240b371",
   "metadata": {},
   "outputs": [
    {
     "data": {
      "text/plain": [
       "0.3"
      ]
     },
     "execution_count": 27,
     "metadata": {},
     "output_type": "execute_result"
    }
   ],
   "source": [
    "answers.count(\"D\") / len(answers)"
   ]
  },
  {
   "cell_type": "code",
   "execution_count": 28,
   "id": "32f1b111",
   "metadata": {},
   "outputs": [
    {
     "data": {
      "text/plain": [
       "0.0"
      ]
     },
     "execution_count": 28,
     "metadata": {},
     "output_type": "execute_result"
    }
   ],
   "source": [
    "answers.count(\"E\") / len(answers)"
   ]
  },
  {
   "cell_type": "markdown",
   "id": "64340089",
   "metadata": {},
   "source": [
    "Indeed some changes, but still the \"sophisticated\" option favoured."
   ]
  },
  {
   "cell_type": "markdown",
   "id": "8476a1ae",
   "metadata": {},
   "source": [
    "### With GPT-4 Turbo"
   ]
  },
  {
   "cell_type": "code",
   "execution_count": 47,
   "id": "fc77d9e8",
   "metadata": {},
   "outputs": [],
   "source": [
    "model = 'gpt-4-1106-preview'"
   ]
  },
  {
   "cell_type": "code",
   "execution_count": 48,
   "id": "3d04c94f",
   "metadata": {},
   "outputs": [
    {
     "name": "stdout",
     "output_type": "stream",
     "text": [
      "Wall time: 44.6 s\n"
     ]
    }
   ],
   "source": [
    "%%time\n",
    "answers = sunk_cost_experiment(model, prompt1, instruction, n=100, max_tokens=1)"
   ]
  },
  {
   "cell_type": "code",
   "execution_count": 49,
   "id": "f57b30ec",
   "metadata": {},
   "outputs": [
    {
     "data": {
      "text/plain": [
       "0.0"
      ]
     },
     "execution_count": 49,
     "metadata": {},
     "output_type": "execute_result"
    }
   ],
   "source": [
    "answers.count(\"A\") / len(answers)"
   ]
  },
  {
   "cell_type": "code",
   "execution_count": 50,
   "id": "e3e9a62b",
   "metadata": {},
   "outputs": [
    {
     "data": {
      "text/plain": [
       "0.0"
      ]
     },
     "execution_count": 50,
     "metadata": {},
     "output_type": "execute_result"
    }
   ],
   "source": [
    "answers.count(\"B\") / len(answers)"
   ]
  },
  {
   "cell_type": "code",
   "execution_count": 51,
   "id": "30d9315a",
   "metadata": {},
   "outputs": [
    {
     "data": {
      "text/plain": [
       "0.0"
      ]
     },
     "execution_count": 51,
     "metadata": {},
     "output_type": "execute_result"
    }
   ],
   "source": [
    "answers.count(\"C\") / len(answers)"
   ]
  },
  {
   "cell_type": "code",
   "execution_count": 52,
   "id": "7e4245a9",
   "metadata": {},
   "outputs": [
    {
     "data": {
      "text/plain": [
       "1.0"
      ]
     },
     "execution_count": 52,
     "metadata": {},
     "output_type": "execute_result"
    }
   ],
   "source": [
    "answers.count(\"D\") / len(answers)"
   ]
  },
  {
   "cell_type": "code",
   "execution_count": 53,
   "id": "0a484651",
   "metadata": {
    "scrolled": true
   },
   "outputs": [
    {
     "data": {
      "text/plain": [
       "0.0"
      ]
     },
     "execution_count": 53,
     "metadata": {},
     "output_type": "execute_result"
    }
   ],
   "source": [
    "answers.count(\"E\") / len(answers)"
   ]
  },
  {
   "cell_type": "code",
   "execution_count": 54,
   "id": "c26d3c71",
   "metadata": {},
   "outputs": [
    {
     "name": "stdout",
     "output_type": "stream",
     "text": [
      "Wall time: 49.7 s\n"
     ]
    }
   ],
   "source": [
    "%%time\n",
    "answers = sunk_cost_experiment(model, prompt2, instruction, n=100, max_tokens=1)"
   ]
  },
  {
   "cell_type": "code",
   "execution_count": 55,
   "id": "f2d519b5",
   "metadata": {},
   "outputs": [
    {
     "data": {
      "text/plain": [
       "1.0"
      ]
     },
     "execution_count": 55,
     "metadata": {},
     "output_type": "execute_result"
    }
   ],
   "source": [
    "answers.count(\"A\") / len(answers)"
   ]
  },
  {
   "cell_type": "code",
   "execution_count": 56,
   "id": "4e030245",
   "metadata": {},
   "outputs": [
    {
     "data": {
      "text/plain": [
       "0.0"
      ]
     },
     "execution_count": 56,
     "metadata": {},
     "output_type": "execute_result"
    }
   ],
   "source": [
    "answers.count(\"B\") / len(answers)"
   ]
  },
  {
   "cell_type": "code",
   "execution_count": 57,
   "id": "6d5c2088",
   "metadata": {},
   "outputs": [
    {
     "data": {
      "text/plain": [
       "0.0"
      ]
     },
     "execution_count": 57,
     "metadata": {},
     "output_type": "execute_result"
    }
   ],
   "source": [
    "answers.count(\"C\") / len(answers)"
   ]
  },
  {
   "cell_type": "code",
   "execution_count": 58,
   "id": "555e0d62",
   "metadata": {},
   "outputs": [
    {
     "data": {
      "text/plain": [
       "0.0"
      ]
     },
     "execution_count": 58,
     "metadata": {},
     "output_type": "execute_result"
    }
   ],
   "source": [
    "answers.count(\"D\") / len(answers)"
   ]
  },
  {
   "cell_type": "code",
   "execution_count": 59,
   "id": "bf6d120e",
   "metadata": {
    "scrolled": true
   },
   "outputs": [
    {
     "data": {
      "text/plain": [
       "0.0"
      ]
     },
     "execution_count": 59,
     "metadata": {},
     "output_type": "execute_result"
    }
   ],
   "source": [
    "answers.count(\"E\") / len(answers)"
   ]
  },
  {
   "cell_type": "markdown",
   "id": "77215caf",
   "metadata": {},
   "source": [
    "GPT-4 Turbo consistently selects answer \"$75, what I could get if I sold the bottle.\", which is the correct answer according to economic theory, but not what humans would choose."
   ]
  }
 ],
 "metadata": {
  "kernelspec": {
   "display_name": "Python 3 (ipykernel)",
   "language": "python",
   "name": "python3"
  },
  "language_info": {
   "codemirror_mode": {
    "name": "ipython",
    "version": 3
   },
   "file_extension": ".py",
   "mimetype": "text/x-python",
   "name": "python",
   "nbconvert_exporter": "python",
   "pygments_lexer": "ipython3",
   "version": "3.9.13"
  }
 },
 "nbformat": 4,
 "nbformat_minor": 5
}
