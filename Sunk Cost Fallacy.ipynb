{
 "cells": [
  {
   "cell_type": "code",
   "execution_count": 1,
   "id": "752e0dfe",
   "metadata": {},
   "outputs": [],
   "source": [
    "from openai import OpenAI\n",
    "import time"
   ]
  },
  {
   "cell_type": "code",
   "execution_count": 2,
   "id": "ff441fc2",
   "metadata": {},
   "outputs": [],
   "source": [
    "with open('openai_api_key.py') as script:\n",
    "    exec(script.readline())\n",
    "\n",
    "client = OpenAI(\n",
    "  api_key=openai_api_key,\n",
    ")"
   ]
  },
  {
   "cell_type": "markdown",
   "id": "7ef9eb11",
   "metadata": {},
   "source": [
    "# Sunk Cost Fallacy\n",
    "### Using OpenAI Playground - Complete API with gpt-3.5-turbo-instruct"
   ]
  },
  {
   "cell_type": "markdown",
   "id": "9ee0e6d2",
   "metadata": {},
   "source": [
    "Prompt:\n",
    "\n",
    "*Assume that you have spent `$90/$250` for a ticket to a theater performance. Several weeks later you buy a `$30` ticket to a rock concert. You think you will enjoy the rock concert more than the theater performance. As you are putting your just-purchased rock concert ticket in your wallet, you notice that both events are scheduled for the same evening. The tickets are non-transferable, nor can they be exchanged. You can use only one of the tickets and not the other. Which ticket will you use?*\n",
    "\n",
    "*Answer: I would use the ticket to the*\n",
    "\n",
    "---\n",
    "\n",
    "From:\n",
    "\n",
    "Soman, D. 2001. The mental accounting of sunk time costs: why time is not like money. Journal of Behavioral Decision Making 14(3): 169–185.\n",
    "\n",
    "Arkes, H.R., and C. Blumer. 1985. The psychology of sunk cost. Organizational Behavior and Human\n",
    "Decision Processes 35(1): 124–140.\n",
    "\n",
    "(both Experiment 1)\n",
    "\n",
    "---"
   ]
  },
  {
   "cell_type": "markdown",
   "id": "f342a171",
   "metadata": {},
   "source": [
    "The OpenAI Complete API Playground allows you to see the probabilities of a token being generated. This allows you to see how likely the model is to choose an option. You can also change the parameters and the amount of sunk cost to see how the probabilities change:"
   ]
  },
  {
   "cell_type": "markdown",
   "id": "94fc8b16",
   "metadata": {},
   "source": [
    "| Parameters |                   | `$30 vs. $90`       |                      | `$30 vs. $250`         |                      |\n",
    "|---------|------------|----------------------|----------------------|----------------------|----------------------|\n",
    "|  Temperature | Top P       | Rock Concert         | Theater Performance  | Rock Concert         | Theater Performance  |\n",
    "| 0.5 | 1                 | 97.34%               | 2.31%                | 91.95%               | 7.67%                |\n",
    "| 1 | 1                  | 97.35%               | 2.30%                | 91.95%               | 7.67%                |\n",
    "| 1.5 | 1                 | 97.35%               | 2.31%                | 91.94%               | 7.67%                |\n",
    "| 1 | 0.5                 | 97.34%               | 2.31%                | 92.55%               | 7.07%                |\n",
    "\n",
    "Model: gpt-3.5-turbo-instruct"
   ]
  },
  {
   "cell_type": "markdown",
   "id": "4eaf9e5d",
   "metadata": {},
   "source": [
    "Changing the parameters `Temperature` and `Top P` does not change the probabilities. But changing the amount of sunk costs from `$90` to `$250` slightly increases the probability of choosing the theater performance by about 5 percentage points.\n",
    "\n",
    "In conclusion, although the model (gpt-3.5-turbo-instruct) isn't significantly affected by sunk cost bias, a slight impact is still observed."
   ]
  },
  {
   "cell_type": "markdown",
   "id": "cceed991",
   "metadata": {},
   "source": [
    "---\n",
    "\n",
    "### Using Chat Completion API with gpt-4-1106-preview (\"GPT-4 Turbo\")\n",
    "\n",
    "Result: The model did not choose the theater performance once. Therefore GPT-4 Turbo does not seem to be subject to the sunk cost bias."
   ]
  },
  {
   "cell_type": "code",
   "execution_count": 4,
   "id": "797c11d4",
   "metadata": {},
   "outputs": [],
   "source": [
    "def sunk_cost_experiment(model, prompt, instruction, n, temperature=1, max_tokens=2):\n",
    "    answers = []\n",
    "    for _ in range(n):\n",
    "        response = client.chat.completions.create(\n",
    "            model=model,  \n",
    "            messages=[\n",
    "                {\"role\": \"system\", \"content\": instruction},\n",
    "\n",
    "                {\"role\": \"user\", \"content\": prompt}\n",
    "            ],\n",
    "            max_tokens=max_tokens,\n",
    "            temperature=temperature\n",
    "        )\n",
    "\n",
    "        # Store the answer in the list\n",
    "        answer = response.choices[0].message.content\n",
    "        answers.append(answer.strip())\n",
    "\n",
    "        # Add delay before the next API call\n",
    "        time.sleep(0.1)  \n",
    "     \n",
    "    return answers"
   ]
  },
  {
   "cell_type": "code",
   "execution_count": 1,
   "id": "26a432f9",
   "metadata": {},
   "outputs": [],
   "source": [
    "# gpt-4-1106-preview (GPT-4 Turbo) is more powerful than GPT-4 and offered at a lower price\n",
    "model = 'gpt-4-1106-preview'\n",
    "\n",
    "instruction = 'Complete the answer with two words.'\n",
    "\n",
    "prompt = \"\"\"\n",
    "    Assume that you have spent $250 for a ticket to a theater performance. \n",
    "    Several weeks later you buy a $30 ticket to a rock concert. You think you \n",
    "    will enjoy the rock concert more than the theater performance. As you are \n",
    "    putting your just-purchased rock concert ticket in your wallet, you notice \n",
    "    that both events are scheduled for the same evening. The tickets are \n",
    "    non-transferable, nor can they be exchanged. You can use only one of the \n",
    "    tickets and not the other. Which ticket will you use?\n",
    "\n",
    "    Answer: I would use the ticket to the\n",
    "    \"\"\""
   ]
  },
  {
   "cell_type": "code",
   "execution_count": 51,
   "id": "901c6be6",
   "metadata": {},
   "outputs": [
    {
     "name": "stdout",
     "output_type": "stream",
     "text": [
      "Wall time: 53 s\n"
     ]
    }
   ],
   "source": [
    "%%time\n",
    "\n",
    "answers = sunk_cost_experiment(model, prompt, instruction, n=100)"
   ]
  },
  {
   "cell_type": "code",
   "execution_count": 53,
   "id": "58e008b4",
   "metadata": {},
   "outputs": [
    {
     "data": {
      "text/plain": [
       "1.0"
      ]
     },
     "execution_count": 53,
     "metadata": {},
     "output_type": "execute_result"
    }
   ],
   "source": [
    "answers.count('rock concert') / len(answers)"
   ]
  },
  {
   "cell_type": "code",
   "execution_count": 54,
   "id": "911ff4d5",
   "metadata": {},
   "outputs": [
    {
     "data": {
      "text/plain": [
       "0.0"
      ]
     },
     "execution_count": 54,
     "metadata": {},
     "output_type": "execute_result"
    }
   ],
   "source": [
    "answers.count('theater performance') / len(answers)"
   ]
  },
  {
   "cell_type": "markdown",
   "id": "c5e91765",
   "metadata": {},
   "source": [
    "---\n",
    "\n",
    "### Using Chat Completion API with gpt-3.5-turbo-1106\n",
    "\n",
    "Result: Also not subject to the sunk cost bias."
   ]
  },
  {
   "cell_type": "code",
   "execution_count": 16,
   "id": "93e984c4",
   "metadata": {},
   "outputs": [],
   "source": [
    "model = 'gpt-3.5-turbo-1106'"
   ]
  },
  {
   "cell_type": "code",
   "execution_count": 19,
   "id": "0bcb3ecf",
   "metadata": {},
   "outputs": [
    {
     "name": "stdout",
     "output_type": "stream",
     "text": [
      "Wall time: 15min 9s\n"
     ]
    }
   ],
   "source": [
    "%%time\n",
    "\n",
    "answers = sunk_cost_experiment(model, prompt, instruction, n=100)"
   ]
  },
  {
   "cell_type": "code",
   "execution_count": null,
   "id": "55d5d19c",
   "metadata": {},
   "outputs": [],
   "source": [
    "# Note: Why does it take so long (~15min)?"
   ]
  },
  {
   "cell_type": "code",
   "execution_count": 20,
   "id": "3a565584",
   "metadata": {},
   "outputs": [
    {
     "data": {
      "text/plain": [
       "0.95"
      ]
     },
     "execution_count": 20,
     "metadata": {},
     "output_type": "execute_result"
    }
   ],
   "source": [
    "answers.count('rock concert') / len(answers)"
   ]
  },
  {
   "cell_type": "code",
   "execution_count": 21,
   "id": "7b6588bf",
   "metadata": {},
   "outputs": [
    {
     "data": {
      "text/plain": [
       "0.0"
      ]
     },
     "execution_count": 21,
     "metadata": {},
     "output_type": "execute_result"
    }
   ],
   "source": [
    "answers.count('theater performance') / len(answers)"
   ]
  },
  {
   "cell_type": "markdown",
   "id": "6f5fbb9d",
   "metadata": {},
   "source": [
    "---\n",
    "\n",
    "### Testing Completion API (not finished)"
   ]
  },
  {
   "cell_type": "code",
   "execution_count": 23,
   "id": "22d8da26",
   "metadata": {},
   "outputs": [],
   "source": [
    "response = client.completions.create(\n",
    "  model=\"gpt-3.5-turbo-instruct\",\n",
    "  prompt=\"Write a tagline for an ice cream shop.\"\n",
    ")"
   ]
  },
  {
   "cell_type": "code",
   "execution_count": 34,
   "id": "6ade5139",
   "metadata": {},
   "outputs": [],
   "source": [
    "response = client.completions.create(\n",
    "  model=\"gpt-3.5-turbo-instruct\",\n",
    "    prompt=\"\"\"\n",
    "    Assume that you have spent $250 for a ticket to a theater performance. \n",
    "    Several weeks later you buy a $30 ticket to a rock concert. You think \n",
    "    you will enjoy the rock concert more than the theater performance. As \n",
    "    you are putting your just-purchased rock concert ticket in your wallet, \n",
    "    you notice that both events are scheduled for the same evening. The \n",
    "    tickets are non-transferable, nor can they be exchanged. You can use \n",
    "    only one of the tickets and not the other. Which ticket will you use?\n",
    "\n",
    "    \\n\\nAnswer: I would use the ticket to the\n",
    "    \"\"\",\n",
    "  temperature=1,\n",
    "  max_tokens=2,\n",
    "  top_p=1,\n",
    "  frequency_penalty=0,\n",
    "  presence_penalty=0,\n",
    "  logprobs=3\n",
    ")"
   ]
  },
  {
   "cell_type": "code",
   "execution_count": 35,
   "id": "faec1b00",
   "metadata": {},
   "outputs": [
    {
     "data": {
      "text/plain": [
       "Completion(id='cmpl-8KnX1HHywTdumI14MwH3FYGdWlvIQ', choices=[CompletionChoice(finish_reason='length', index=0, logprobs=Logprobs(text_offset=[574, 579], token_logprobs=[-0.27882972, -0.00016325322], tokens=[' rock', ' concert'], top_logprobs=[{' rock': -0.27882972, ' theater': -1.8193265, 'rock': -2.8857024}, {' concert': -0.00016325322, '\\n': -9.928477, ' ': -10.569514}]), text=' rock concert')], created=1699967651, model='gpt-3.5-turbo-instruct', object='text_completion', system_fingerprint=None, usage=CompletionUsage(completion_tokens=2, prompt_tokens=128, total_tokens=130))"
      ]
     },
     "execution_count": 35,
     "metadata": {},
     "output_type": "execute_result"
    }
   ],
   "source": [
    "response"
   ]
  }
 ],
 "metadata": {
  "kernelspec": {
   "display_name": "Python 3 (ipykernel)",
   "language": "python",
   "name": "python3"
  },
  "language_info": {
   "codemirror_mode": {
    "name": "ipython",
    "version": 3
   },
   "file_extension": ".py",
   "mimetype": "text/x-python",
   "name": "python",
   "nbconvert_exporter": "python",
   "pygments_lexer": "ipython3",
   "version": "3.9.13"
  }
 },
 "nbformat": 4,
 "nbformat_minor": 5
}
