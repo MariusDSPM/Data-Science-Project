{
 "cells": [
  {
   "cell_type": "markdown",
   "metadata": {},
   "source": [
    "### Decoy Effect"
   ]
  },
  {
   "cell_type": "markdown",
   "metadata": {},
   "source": [
    "<span style=\"color:red\">\n",
    "To be decided:<br>\n",
    "\n",
    "\n",
    "\n",
    "- How many runs per experiment? 50 is not a lot.<br> \n",
    "- Maybe set n globally and not in each run_decoy call<br>\n",
    "<br>\n",
    "- Huge deviations in runtime of cells: 50x5 function calls for GPT-3.5-Turbo can take ~5 min up to ~120 min (24.11.2023)<br>\n",
    "<br>\n",
    "\n",
    "</span>\n",
    "\n",
    "\"temperature - A measure of how often the model outputs a less likely token. The higher the temperature, the more random (and usually creative) the output. This, however, is not the same as “truthfulness”. For most factual use cases such as data extraction, and truthful Q&A, the temperature of 0 is best.\" (https://help.openai.com/en/articles/6654000-best-practices-for-prompt-engineering-with-openai-api)\n",
    "\n",
    "\n",
    "As of right now (28.11.2023), querying each prompt 50 times for 5 temperature values over 8 prompts and the two openai 2 models, we issue **4000 API calls**. \n"
   ]
  },
  {
   "cell_type": "markdown",
   "metadata": {},
   "source": [
    "-------------------------------------"
   ]
  },
  {
   "cell_type": "markdown",
   "metadata": {},
   "source": [
    "This notebook aims to recreate some findings concerning the **Decoy Effect** used in pricing. "
   ]
  },
  {
   "cell_type": "markdown",
   "metadata": {},
   "source": [
    "The answer options for this experiment are literal copies of the original study. Only the words \"priced at __$\" were added to each option. Furthermore, their wording remains the same\n",
    "through the entire experiment, being: \n",
    "-  A: One-year subscription to Economist.com. Includes online access to all articles from The Economist since 1997, priced at 59$.\n",
    "-  B: One-year subscription to the print edition of The Economist, priced at 125$.\n",
    "-  C: One-year subscription to the print edition of The Economist and online access to all articles from The Economist since 1997, priced at 125$.\n",
    "\n",
    "\n",
    "#### From Ariely's Book \"Predictably irrational\":\n",
    "\n",
    "\"When I gave these options to 100 students at MIT's Sloan\n",
    "School of Management, they opted as follows:\n",
    "1. Internet-only subscription for $59—16 students\n",
    "2. Print-only subscription for $125—zero students\n",
    "3. Print-and-Internet subscription for $ 125—84 students\"\n",
    "\n",
    "(page 5)\n",
    "\n",
    "\"And the absence of the decoy\n",
    "had them choosing differently, with 32 for print-and-Internet\n",
    "and 68 for Internet-only\"\n",
    "\n",
    "(page 6)\n",
    "\n",
    "|Answer option          | Scenario 1 | Scenario 2 (no 2nd option)|\n",
    "|-----------------------|--------------|-----------|\n",
    "| Online subscription   |     16%      |  68%       |\n",
    "| Print subscribtion    |      0%     | 0%        |\n",
    "| Combination           |     84%   | 32%        |\n",
    "\n"
   ]
  },
  {
   "cell_type": "code",
   "execution_count": 65,
   "metadata": {},
   "outputs": [],
   "source": [
    "from openai import OpenAI\n",
    "import openai\n",
    "import matplotlib.pyplot as plt\n",
    "import os \n",
    "import numpy as np\n",
    "import pandas as pd\n",
    "from tqdm import tqdm"
   ]
  },
  {
   "cell_type": "code",
   "execution_count": 66,
   "metadata": {},
   "outputs": [],
   "source": [
    "# Get API key (previously saved as environmental variable)\n",
    "openai.api_key = os.environ[\"OPENAI_API_KEY\"]\n",
    "\n",
    "# Set client\n",
    "client = OpenAI()\n",
    "\n",
    "# Set global plot style \n",
    "plt.style.use('seaborn-v0_8')\n",
    "\n",
    "# Set plots to be displayed in notebook\n",
    "%matplotlib inline"
   ]
  },
  {
   "cell_type": "markdown",
   "metadata": {},
   "source": [
    "-----------------------------------------------------------"
   ]
  },
  {
   "cell_type": "markdown",
   "metadata": {},
   "source": [
    "#### Setting up the prompts used for the experiment\n",
    "\n",
    "We now formulate 8 different prompts: \n",
    "\n",
    "First of all, we present the model with the original situation i.e. 3 answer options. To recreate the second scenario of the study, we tell the model that the second (decoy) option has now been removed. \n",
    "Furthermore we **prime** the model play the role of a marker researcher, who knows about the decoy effect, and query the model with both study situationbs again.\n",
    "\n",
    "Afterwards, in order to research possible biases induced by either the answer letters themselves (A, B, C) or the order of the answers, we correct for this and prompt the model 4 times again."
   ]
  },
  {
   "cell_type": "markdown",
   "metadata": {},
   "source": [
    "- Prompt 1: Unprimed & all answer options"
   ]
  },
  {
   "cell_type": "code",
   "execution_count": 88,
   "metadata": {},
   "outputs": [],
   "source": [
    "prompt_1 = \"\"\"You are presented with the following subscription alternatives for the \"The Economist\" magazine:\n",
    "        A: One-year subscription to Economist.com. Includes online access to all articles from The Economist since 1997, priced at 59$.\n",
    "        B: One-year subscription to the print edition of The Economist, priced at 125$.\n",
    "        C: One-year subscription to the print edition of The Economist and online access to all articles from The Economist since 1997, priced at 125$.\n",
    "        Which alternative would you choose? Please answer by only giving the letter of the alternative you would choose without any reasoning.\"\"\""
   ]
  },
  {
   "cell_type": "markdown",
   "metadata": {},
   "source": [
    "- Prompt 2: Unprimed & second option (decoy) removed"
   ]
  },
  {
   "cell_type": "code",
   "execution_count": 89,
   "metadata": {},
   "outputs": [],
   "source": [
    "prompt_2 = \"\"\"You are presented with the following subscription alternatives for the \"The Economist\" magazine:\n",
    "        A: One-year subscription to Economist.com. Includes online access to all articles from The Economist since 1997, priced at 59$.\n",
    "        B: One-year subscription to the print edition of The Economist and online access to all articles from The Economist since 1997, priced at 125$. \n",
    "        Which alternative would you choose? Please answer by only giving the letter of the alternative you would choose without any reasoning.\"\"\"\n",
    "\n",
    "# Removed original option B and made option C the new option B"
   ]
  },
  {
   "cell_type": "markdown",
   "metadata": {},
   "source": [
    "- Prompt 3: Primed & all answer options"
   ]
  },
  {
   "cell_type": "code",
   "execution_count": 90,
   "metadata": {},
   "outputs": [],
   "source": [
    "prompt_3 = \"\"\"You are a market researcher that knows about the Decoy Effect in pricing. \n",
    "        You are presented with the following subscription alternatives for the \"The Economist\" magazine:\n",
    "        A: One-year subscription to Economist.com. Includes online access to all articles from The Economist since 1997, priced at 59$.\n",
    "        B: One-year subscription to the print edition of The Economist, priced at 125$.\n",
    "        C: One-year subscription to the print edition of The Economist and online access to all articles from The Economist since 1997, priced at 125$.\n",
    "        Which alternative would you choose? Please answer by only giving the letter of the alternative you would choose without any reasoning.\"\"\"\n"
   ]
  },
  {
   "cell_type": "markdown",
   "metadata": {},
   "source": [
    "- Prompt 4: Primed & second option (decoy) removed"
   ]
  },
  {
   "cell_type": "code",
   "execution_count": 70,
   "metadata": {},
   "outputs": [],
   "source": [
    "prompt_4 = \"\"\"You are a market researcher that knows about the Decoy Effect in pricing. \n",
    "         You are presented with the following subscription alternatives for the \"The Economist\" magazine:\n",
    "         A: One-year subscription to Economist.com. Includes online access to all articles from The Economist since 1997, priced at 59$.\n",
    "         B: One-year subscription to the print edition of The Economist and online access to all articles from The Economist since 1997, priced at 125$.\n",
    "         Which alternative would you choose? Please answer by only giving the letter of the alternative you would choose without any reasoning.\"\"\"\n",
    "\n",
    "# Removed original option B and made option C the new option B"
   ]
  },
  {
   "cell_type": "markdown",
   "metadata": {},
   "source": [
    "---------------------"
   ]
  },
  {
   "cell_type": "markdown",
   "metadata": {},
   "source": [
    "#### Renaming and reordering answer options\n",
    "\n",
    "Following the approach of Mendler-Dünner et al. (2023), we do not only reorder the answers but also label them with letters, that are less common in the English language.\n",
    "- A (online) -> Y\n",
    "- B (print) -> Q\n",
    "- C (combination) -> X\n",
    "\n",
    "Afterwards option 1 is put last. Sticking to our original question design, the order would now be: B, C, A.\n",
    "- N (print)\n",
    "- T (combination)\n",
    "- W (online)\n",
    "\n",
    "**-> Use decoy_function2() for these prompts!**"
   ]
  },
  {
   "cell_type": "markdown",
   "metadata": {},
   "source": [
    "- Prompt 5: Unprimed & all answer options, renamed & reordered"
   ]
  },
  {
   "cell_type": "code",
   "execution_count": 71,
   "metadata": {},
   "outputs": [],
   "source": [
    "prompt_5 = \"\"\"You are presented with the following subscription alternatives for the \"The Economist\" magazine:\n",
    "         Q: One-year subscription to the print edition of The Economist, priced at 125$.\n",
    "         X: One-year subscription to the print edition of The Economist and online access to all articles from The Economist since 1997, priced at 125$.\n",
    "         Y: One-year subscription to Economist.com. Includes online access to all articles from The Economist since 1997, priced at 59$. \n",
    "         Which alternative would you choose? Please answer by only giving the letter of the alternative you would choose without any reasoning.\"\"\"\n"
   ]
  },
  {
   "cell_type": "markdown",
   "metadata": {},
   "source": [
    "- Prompt 6: Unprimed & second option (decoy) removed, renamed & reordered"
   ]
  },
  {
   "cell_type": "code",
   "execution_count": 72,
   "metadata": {},
   "outputs": [],
   "source": [
    "prompt_6 = \"\"\"You are presented with the following subscription alternatives for the \"The Economist\" magazine:\n",
    "         X: One-year subscription to the print edition of The Economist and online access to all articles from The Economist since 1997, priced at 125$.\n",
    "         Y: One-year subscription to Economist.com. Includes online access to all articles from The Economist since 1997, priced at 59$. \n",
    "         Which alternative would you choose? Please answer by only giving the letter of the alternative you would choose without any reasoning.\"\"\"\n",
    "\n",
    "# Removed option Q"
   ]
  },
  {
   "cell_type": "markdown",
   "metadata": {},
   "source": [
    "- Prompt 7: Primed & all answer options, renamed & reordered"
   ]
  },
  {
   "cell_type": "code",
   "execution_count": 73,
   "metadata": {},
   "outputs": [],
   "source": [
    "prompt_7 = \"\"\"You are a market researcher that knows about the Decoy Effect in pricing. \n",
    "         You are presented with the following subscription alternatives for the \"The Economist\" magazine:\n",
    "         Q: One-year subscription to the print edition of The Economist, priced at 125$.\n",
    "         X: One-year subscription to the print edition of The Economist and online access to all articles from The Economist since 1997, priced at 125$.\n",
    "         Y: One-year subscription to Economist.com. Includes online access to all articles from The Economist since 1997, priced at 59$. \n",
    "         Which alternative would you choose? Please answer by only giving the letter of the alternative you would choose without any reasoning.\"\"\""
   ]
  },
  {
   "cell_type": "markdown",
   "metadata": {},
   "source": [
    "- Prompt 8: Primed & second option (decoy) removed, renamed & reordered"
   ]
  },
  {
   "cell_type": "code",
   "execution_count": 74,
   "metadata": {},
   "outputs": [],
   "source": [
    "prompt_8 = \"\"\"You are a market researcher that knows about the Decoy Effect in pricing. \n",
    "         You are presented with the following subscription alternatives for the \"The Economist\" magazine:\n",
    "         X: One-year subscription to the print edition of The Economist and online access to all articles from The Economist since 1997, priced at 125$.\n",
    "         Y: One-year subscription to Economist.com. Includes online access to all articles from The Economist since 1997, priced at 59$. \n",
    "         Which alternative would you choose? Please answer by only giving the letter of the alternative you would choose without any reasoning.\"\"\"\n",
    "\n",
    "# Removed option Q"
   ]
  },
  {
   "cell_type": "markdown",
   "metadata": {},
   "source": [
    "------------------------------------------"
   ]
  },
  {
   "cell_type": "markdown",
   "metadata": {},
   "source": [
    "- Helpful dictionaries \n",
    "\n",
    "The experiments we will run in this notebook are very similar in study design, and for same cases, also similar in the results we expect. We therefore need to make sure, that we associate the results with the correct study design. That is why the following dictionaries are implemented to look up e.g. what model was used for an experiment.\n",
    "\n",
    "They will also be used inside the functions that call the API multiple times and output some information about the experiment in order to identify it correctly. "
   ]
  },
  {
   "cell_type": "code",
   "execution_count": 75,
   "metadata": {},
   "outputs": [],
   "source": [
    "# Dictionary that returns the literal prompt for a given experiment id (used in function call). key: experiment_id, value: prompt\n",
    "experiment_prompts_dict = {\n",
    "    \"1_1\": prompt_1,\n",
    "    \"1_2\": prompt_2,\n",
    "    \"1_3\": prompt_3,\n",
    "    \"1_4\": prompt_4,\n",
    "    \"1_5\": prompt_5,\n",
    "    \"1_6\": prompt_6,\n",
    "    \"1_7\": prompt_7,\n",
    "    \"1_8\": prompt_8,\n",
    "    \"2_1\": prompt_1,\n",
    "    \"2_2\": prompt_2,\n",
    "    \"2_3\": prompt_3,\n",
    "    \"2_4\": prompt_4,\n",
    "    \"2_5\": prompt_5,\n",
    "    \"2_6\": prompt_6,\n",
    "    \"2_7\": prompt_7,\n",
    "    \"2_8\": prompt_8,\n",
    "}\n",
    "\n",
    "# The following dictionary is only used for a check in the function calls.\n",
    "# It returns the variable name of the prompt that was used in the experiment. key: experiment_id, value: prompt_name\n",
    "prompt_ids_dict = {\n",
    "    \"1_1\": \"prompt_1\",\n",
    "    \"1_2\": \"prompt_2\",\n",
    "    \"1_3\": \"prompt_3\",\n",
    "    \"1_4\": \"prompt_4\",\n",
    "    \"1_5\": \"prompt_5\",\n",
    "    \"1_6\": \"prompt_6\",\n",
    "    \"1_7\": \"prompt_7\",\n",
    "    \"1_8\": \"prompt_8\",\n",
    "    \"2_1\": \"prompt_1\",\n",
    "    \"2_2\": \"prompt_2\",\n",
    "    \"2_3\": \"prompt_3\",\n",
    "    \"2_4\": \"prompt_4\",\n",
    "    \"2_5\": \"prompt_5\",\n",
    "    \"2_6\": \"prompt_6\",\n",
    "    \"2_7\": \"prompt_7\",\n",
    "    \"2_8\": \"prompt_8\",\n",
    "}\n",
    "\n",
    "\n",
    "# Dictionary to look up which model to use for a given experiment id (used in function call). key: experiment id, value: model name\n",
    "model_dict = {\n",
    "    \"1_1\": \"gpt-3.5-turbo\",\n",
    "    \"1_2\": \"gpt-3.5-turbo\",\n",
    "    \"1_3\": \"gpt-3.5-turbo\",\n",
    "    \"1_4\": \"gpt-3.5-turbo\",\n",
    "    \"1_5\": \"gpt-3.5-turbo\",\n",
    "    \"1_6\": \"gpt-3.5-turbo\",\n",
    "    \"1_7\": \"gpt-3.5-turbo\",\n",
    "    \"1_8\": \"gpt-3.5-turbo\",\n",
    "    \"2_1\": \"gpt-4-1106-preview\",\n",
    "    \"2_2\": \"gpt-4-1106-preview\",\n",
    "    \"2_3\": \"gpt-4-1106-preview\",\n",
    "    \"2_4\": \"gpt-4-1106-preview\",\n",
    "    \"2_5\": \"gpt-4-1106-preview\",\n",
    "    \"2_6\": \"gpt-4-1106-preview\",\n",
    "    \"2_7\": \"gpt-4-1106-preview\",\n",
    "    \"2_8\": \"gpt-4-1106-preview\",\n",
    "    }\n",
    "\n",
    "\n",
    "# Dictionary to look up, what the study design of each experiment was. key: experiment id, value: experiment design \n",
    "experiment_dict = {\n",
    "    \"1_1\": f\"Experiment 1_1 contains all answer options, is unprimed and uses {model_dict['1_1']}.\",\n",
    "    \"1_2\": f\"Experiment 1_2 has the decoy removed, is unprimed and uses {model_dict['1_2']}.\",\n",
    "    \"1_3\": f\"Experiment 1_3 contains all answer options, is primed and uses {model_dict['1_3']}.\",\n",
    "    \"1_4\": f\"Experiment 1_4 has the decoy removed, is primed and uses {model_dict['1_4']}.\",\n",
    "    \"1_5\": f\"Experiment 1_5 contains all answer options renamed and reordered, is unprimed and uses {model_dict['1_5']}.\",\n",
    "    \"1_6\": f\"Experiment 1_6 has the decoy removed, answer options renamed and reordered, is unprimed and uses {model_dict['1_6']}.\",\n",
    "    \"1_7\": f\"Experiment 1_7 contains all answer options renamed and reordered, is primed and uses {model_dict['1_7']}.\",\n",
    "    \"1_8\": f\"Experiment 1_8 has the decoy removed, answer options renamed and reordered, is primed and uses {model_dict['1_8']}.\",\n",
    "    \"2_1\": f\"Experiment 2_1 contains all answer options, is unprimed and uses {model_dict['2_1']}.\",\n",
    "    \"2_2\": f\"Experiment 2_2 has the decoy removed, is unprimed and uses {model_dict['2_2']}.\",\n",
    "    \"2_3\": f\"Experiment 2_3 contains all answer options, is primed and uses {model_dict['2_3']}.\",\n",
    "    \"2_4\": f\"Experiment 2_4 has the decoy removed, is primed and uses {model_dict['2_4']}.\",\n",
    "    \"2_5\": f\"Experiment 2_5 contains all answer options renamed and reordered, is unprimed and uses {model_dict['2_5']}.\",\n",
    "    \"2_6\": f\"Experiment 2_6 has the decoy removed, answer options renamed and reordered, is unprimed and uses {model_dict['2_6']}.\",\n",
    "    \"2_7\": f\"Experiment 2_7 contains all answer options renamed and reordered, is primed and uses {model_dict['2_7']}.\",\n",
    "    \"2_8\": f\"Experiment 2_8 has the decoy removed, answer options renamed and reordered, is primed and uses {model_dict['2_8']}.\",\n",
    "}\n",
    "\n",
    "# Dictionary to look up the original results of the experiments. key: experiment id, value: original result\n",
    "results_dict = {\n",
    "    \"1_1\": \"A: 16%, B: 0%, C: 84%\",\n",
    "    \"1_2\": \"A: 68%, B: 0%, C: 32%\",\n",
    "    \"1_3\": \"A: 16%, B: 0%, C: 84%\",\n",
    "    \"1_4\": \"A: 68%, B: 0%, C: 32%\",\n",
    "    \"1_5\": \"A: 16%, B: 0%, C: 84%\",\n",
    "    \"1_6\": \"A: 68%, B: 0%, C: 32%\",\n",
    "    \"1_7\": \"A: 16%, B: 0%, C: 84%\",\n",
    "    \"1_8\": \"A: 68%, B: 0%, C: 32%\",\n",
    "    \"2_1\": \"A: 16%, B: 0%, C: 84%\",\n",
    "    \"2_2\": \"A: 68%, B: 0%, C: 32%\",\n",
    "    \"2_3\": \"A: 16%, B: 0%, C: 84%\",\n",
    "    \"2_4\": \"A: 68%, B: 0%, C: 32%\",\n",
    "    \"2_5\": \"A: 16%, B: 0%, C: 84%\",\n",
    "    \"2_6\": \"A: 68%, B: 0%, C: 32%\",\n",
    "    \"2_7\": \"A: 16%, B: 0%, C: 84%\",\n",
    "    \"2_8\": \"A: 68%, B: 0%, C: 32%\",\n",
    "}"
   ]
  },
  {
   "cell_type": "markdown",
   "metadata": {},
   "source": [
    "----------------------------------------------"
   ]
  },
  {
   "cell_type": "markdown",
   "metadata": {},
   "source": [
    "#### Functions \n",
    "\n",
    "The following functions are introduced in order to emulate a survey for our pre-implemented prompts."
   ]
  },
  {
   "cell_type": "code",
   "execution_count": 91,
   "metadata": {},
   "outputs": [],
   "source": [
    "# Function to count answers depending on prompt design which is reflected in the experiment id\n",
    "def count_answers(answers: list, experiment_id: str):\n",
    "    if experiment_id in [\"1_1\", \"1_3\",\"2_1\", \"2_3\"]:\n",
    "        A = answers.count(\"A\")\n",
    "        B = answers.count(\"B\")\n",
    "        C = answers.count(\"C\")\n",
    "    elif experiment_id in [\"1_2\", \"1_4\", \"2_2\", \"2_4\"]:\n",
    "        A = answers.count(\"A\")\n",
    "        B = 0 # Option B was removed\n",
    "        C = answers.count(\"B\") # makes comparison of results over prompts easier \n",
    "    elif experiment_id in [\"1_5\", \"1_7\", \"2_5\", \"2_7\"]:\n",
    "        A = answers.count(\"Y\")\n",
    "        B = answers.count(\"Q\")\n",
    "        C = answers.count(\"X\")\n",
    "    elif experiment_id in [\"1_6\", \"1_8\", \"2_6\", \"2_8\"]:\n",
    "        A = answers.count(\"Y\")\n",
    "        B = 0 # Option Q was removed\n",
    "        C = answers.count(\"X\")\n",
    "    return A, B, C\n",
    "\n",
    "# Function to count correct answers depending on prompt design which is reflected in the experiment id (used for percentages)\n",
    "def correct_answers(answers: list, experiment_id: str):\n",
    "    if experiment_id in [\"1_1\", \"1_3\",\"2_1\", \"2_3\"]:\n",
    "        len_correct = sum(1 for ans in answers if ans in [\"A\", \"B\", \"C\"])\n",
    "    elif experiment_id in [\"1_2\", \"1_4\", \"2_2\", \"2_4\"]:\n",
    "        len_correct = sum(1 for ans in answers if ans in [\"A\", \"B\"])\n",
    "    elif experiment_id in [\"1_5\", \"1_7\", \"2_5\", \"2_7\"]:\n",
    "        len_correct = sum(1 for ans in answers if ans in [\"Y\", \"Q\", \"X\"])\n",
    "    elif experiment_id in [\"1_6\", \"1_8\", \"2_6\", \"2_8\"]:\n",
    "        len_correct = sum(1 for ans in answers if ans in [\"Y\", \"X\"])\n",
    "    return len_correct  # to avoid division by zero"
   ]
  },
  {
   "cell_type": "code",
   "execution_count": 78,
   "metadata": {},
   "outputs": [],
   "source": [
    "# Function to run a single experiment n times\n",
    "def run_experiment(experiment_id: int, n: int,  progress_bar, temperature: int):\n",
    "    \"\"\"\n",
    "    Function to query ChatGPT multiple times with a survey having answers designed as: A, B, C.\n",
    "    \n",
    "    Args:\n",
    "        experiment_id (str): ID of the experiment to be run. Contains info about prompt and model\n",
    "        n (int): Number of queries to be made\n",
    "        temperature (int): Degree of randomness with range 0 (deterministic) to 2 (random)\n",
    "        max_tokens (int): Maximum number of tokens in response object\n",
    "        \n",
    "    Returns:\n",
    "        results (list): List containing count of answers for each option, also containing experiment_id, temperature and number of observations\n",
    "        probs (list): List containing probability of each option being chosen, also containing experiment_id, temeperature and number of observations\n",
    "    \"\"\"\n",
    "    answers = []\n",
    "    for _ in range(n): \n",
    "        response = client.chat.completions.create(\n",
    "            model = model_dict[experiment_id], \n",
    "            max_tokens = 5,\n",
    "            temperature = temperature, # range is 0 to 2\n",
    "            messages = [\n",
    "            {\"role\": \"system\", \"content\": \"Only answer with 1 letter.\"},\n",
    "            {\"role\": \"user\", \"content\": experiment_prompts_dict[experiment_id]},\n",
    "                   ])\n",
    "\n",
    "        # Store the answer in the list\n",
    "        answer = response.choices[0].message.content\n",
    "        answers.append(answer.strip())\n",
    "        # Update progress bar (given from either temperature loop, or set locally)\n",
    "        progress_bar.update(1)\n",
    "\n",
    "    # Count the answers\n",
    "    A, B, C = count_answers(answers, experiment_id) # if/else statement of function deals with different answer options in different experiments\n",
    "    \n",
    "    # Count of correct answers\n",
    "    len_correct = int(correct_answers(answers, experiment_id)) # if/else of function makes sure that we count the correct answers according to the experiment id \n",
    "\n",
    "    # Collecting results in a list\n",
    "    results = [experiment_id, temperature, A, B, C, len_correct]\n",
    "\n",
    "    # Calculate probabilities\n",
    "    p_a = f\"{(A / (len_correct + 0.000000001)) * 100:.2f}%\"\n",
    "    p_b = f\"{(B / (len_correct + 0.000000001)) * 100:.2f}%\"\n",
    "    p_c = f\"{(C / (len_correct + 0.000000001)) * 100:.2f}%\"\n",
    "\n",
    "    # Collect probabilities in a dataframe\n",
    "    probs = [experiment_id, temperature, p_a, p_b, p_c, len_correct]\n",
    "    # Print progress\n",
    "    # print(f\"Experiment {experiment_id} with {n} observations, using {prompt_ids_dict[experiment_id]} and temperature {temperature} completed.\")\n",
    "\n",
    "    return answers, results, probs "
   ]
  },
  {
   "cell_type": "code",
   "execution_count": 92,
   "metadata": {},
   "outputs": [],
   "source": [
    "# Function to run 1 experiment over different temperature values\n",
    "def temperature_loop(experiment_id: str, temperature_list: list = [0, 0.5, 1, 1.5, 2], n: int = 50):\n",
    "    \"\"\"\n",
    "    Function to run an experiment over different temperature values.\n",
    "    \n",
    "    Args:\n",
    "        function (function): Function to be used for querying ChatGPT i.e. run_experiment()\n",
    "        experiment_id (str): ID of th e experiment to be run. Contains info about prompt and model\n",
    "        temperature_list (list): List of temperature values to be looped over\n",
    "        n: Number of requests for each prompt per temperature value\n",
    "        max_tokens: Maximum number of tokens in response object\n",
    "        \n",
    "    Returns:\n",
    "        results_df: Dataframe with experiment results\n",
    "        probs_df: Dataframe with answer probabilities\n",
    "    \"\"\"    \n",
    "    # Empty lists for storing results\n",
    "    results_list = []\n",
    "    probs_list = []\n",
    "    # Initialize progress bar -> used as input for run_experiment()\n",
    "    progress_bar = tqdm(range(n*len(temperature_list)))\n",
    "\n",
    "    # Loop over different temperature values, calling the input function n times each (i.e. queriyng ChatGPT n times)\n",
    "    for temperature in temperature_list:\n",
    "        answers, results, probs = run_experiment(experiment_id = experiment_id, n = n, temperature = temperature, progress_bar = progress_bar) \n",
    "        results_list.append(results)\n",
    "        probs_list.append(probs)\n",
    "    \n",
    "    # Stop progress bar\n",
    "    progress_bar.close()\n",
    "\n",
    "    # Horizontally concatenate the results, transpose, and set index\n",
    "    results_df = pd.DataFrame(results_list).transpose().set_index(pd.Index([\"Experiment\", \"Temp\", \"p(A)\", \"p(B)\", \"p(C)\", \"Obs.\"]))\n",
    "    probs_df = pd.DataFrame(probs_list).transpose().set_index(pd.Index([\"Experiment\", \"Temp\", \"p(A)\", \"p(B)\", \"p(C)\", \"Obs.\"]))\n",
    "   \n",
    "    # Return some information about the experiment as a check\n",
    "    check = f\"{experiment_dict[experiment_id]} In this run, a total of {n*len(temperature_list)} requests were made using {prompt_ids_dict[experiment_id]}.\"\n",
    "    # Print information about the experiment\n",
    "    print(check)\n",
    "    # Print original results \n",
    "    print(f\"The original results were {results_dict[experiment_id]}.\")\n",
    "\n",
    "    \n",
    "    return results_df, probs_df"
   ]
  },
  {
   "cell_type": "code",
   "execution_count": 87,
   "metadata": {},
   "outputs": [],
   "source": [
    "# Function to plot distribution of answer probabilities\n",
    "def plot_results(df: pd.DataFrame):\n",
    "    \n",
    "    # Get experiment id and model name for plot title from dictionaries\n",
    "    experiment_id = df.iloc[0, 0]\n",
    "    model = model_dict[experiment_id]\n",
    "    \n",
    "    X = df.loc[\"Temp\"]\n",
    "    p_a = df.loc[\"p(A)\"].str.rstrip('%').astype('float')  # Convert percentages to float\n",
    "    p_b = df.loc[\"p(B)\"].str.rstrip('%').astype('float')\n",
    "    p_c = df.loc[\"p(C)\"].str.rstrip('%').astype('float')\n",
    "\n",
    "    X_axis = np.arange(len(X)) \n",
    "\n",
    "    plt.figure(figsize = (10, 5))\n",
    "    ax = plt.gca()\n",
    "    ax.bar(X_axis- 0.25, p_a, 0.25, label = 'p(A)', color = \"#8C1515\") \n",
    "    ax.bar(X_axis, p_b, 0.25,  label = 'p(B)', color = \"#507FAB\") \n",
    "    ax.bar(X_axis+ 0.25 , p_c,  0.25, label = 'p(C)', color = '#D9A84A')\n",
    "\n",
    "    ax.set_xticks(X_axis, X)\n",
    "    ax.set_xlabel(\"Temperature\")\n",
    "    ax.set_ylabel(\"Probability (%)\")\n",
    "    ax.set_ylim(0, 110)\n",
    "    ax.set_title(f\"Distribution of answers per temperature value for experiment {experiment_id} using {model}\")\n",
    "    ax.legend()  \n",
    "    plt.show()\n"
   ]
  },
  {
   "cell_type": "markdown",
   "metadata": {},
   "source": [
    "---------------------"
   ]
  },
  {
   "cell_type": "markdown",
   "metadata": {},
   "source": [
    "## Comparing different LLMs\n",
    "\n",
    "The results variables will be structured as: results_model-id_prompt-id.\n",
    "\n",
    "We will refer to \"GPT-3.5-turbo\" as model 1 and \"GPT-4-1106-preview\" as model 2."
   ]
  },
  {
   "cell_type": "markdown",
   "metadata": {},
   "source": [
    "#### Model 1: GPT-3.5-Turbo (Model training ended in September 2021)"
   ]
  },
  {
   "cell_type": "markdown",
   "metadata": {},
   "source": [
    "- Simple test of repeated prompting function for fixed temperature"
   ]
  },
  {
   "cell_type": "code",
   "execution_count": 20,
   "metadata": {},
   "outputs": [],
   "source": [
    "#results_test, probs_test = decoy_function(experiment_id = \"2_2\", n = 5, temperature = 1, max_tokens = 1)\n",
    "#probs_test\n",
    "\n",
    "# experiment_id, temp, p_a, p_b, p_c (in original survey), n_observations"
   ]
  },
  {
   "cell_type": "markdown",
   "metadata": {},
   "source": [
    "- Simple test of function to loop over temperature values"
   ]
  },
  {
   "cell_type": "code",
   "execution_count": 96,
   "metadata": {},
   "outputs": [
    {
     "data": {
      "text/html": [
       "<div>\n",
       "<style scoped>\n",
       "    .dataframe tbody tr th:only-of-type {\n",
       "        vertical-align: middle;\n",
       "    }\n",
       "\n",
       "    .dataframe tbody tr th {\n",
       "        vertical-align: top;\n",
       "    }\n",
       "\n",
       "    .dataframe thead th {\n",
       "        text-align: right;\n",
       "    }\n",
       "</style>\n",
       "<table border=\"1\" class=\"dataframe\">\n",
       "  <thead>\n",
       "    <tr style=\"text-align: right;\">\n",
       "      <th></th>\n",
       "      <th>0</th>\n",
       "      <th>1</th>\n",
       "      <th>2</th>\n",
       "      <th>3</th>\n",
       "      <th>4</th>\n",
       "    </tr>\n",
       "  </thead>\n",
       "  <tbody>\n",
       "    <tr>\n",
       "      <th>Experiment</th>\n",
       "      <td>2_2</td>\n",
       "      <td>2_2</td>\n",
       "      <td>2_2</td>\n",
       "      <td>2_2</td>\n",
       "      <td>2_2</td>\n",
       "    </tr>\n",
       "    <tr>\n",
       "      <th>Temp</th>\n",
       "      <td>0.0</td>\n",
       "      <td>0.5</td>\n",
       "      <td>1.0</td>\n",
       "      <td>1.5</td>\n",
       "      <td>2.0</td>\n",
       "    </tr>\n",
       "    <tr>\n",
       "      <th>p(A)</th>\n",
       "      <td>100.00%</td>\n",
       "      <td>100.00%</td>\n",
       "      <td>100.00%</td>\n",
       "      <td>80.00%</td>\n",
       "      <td>60.00%</td>\n",
       "    </tr>\n",
       "    <tr>\n",
       "      <th>p(B)</th>\n",
       "      <td>0.00%</td>\n",
       "      <td>0.00%</td>\n",
       "      <td>0.00%</td>\n",
       "      <td>0.00%</td>\n",
       "      <td>0.00%</td>\n",
       "    </tr>\n",
       "    <tr>\n",
       "      <th>p(C)</th>\n",
       "      <td>0.00%</td>\n",
       "      <td>0.00%</td>\n",
       "      <td>0.00%</td>\n",
       "      <td>20.00%</td>\n",
       "      <td>40.00%</td>\n",
       "    </tr>\n",
       "    <tr>\n",
       "      <th>Obs.</th>\n",
       "      <td>5</td>\n",
       "      <td>5</td>\n",
       "      <td>5</td>\n",
       "      <td>5</td>\n",
       "      <td>5</td>\n",
       "    </tr>\n",
       "  </tbody>\n",
       "</table>\n",
       "</div>"
      ],
      "text/plain": [
       "                  0        1        2       3       4\n",
       "Experiment      2_2      2_2      2_2     2_2     2_2\n",
       "Temp            0.0      0.5      1.0     1.5     2.0\n",
       "p(A)        100.00%  100.00%  100.00%  80.00%  60.00%\n",
       "p(B)          0.00%    0.00%    0.00%   0.00%   0.00%\n",
       "p(C)          0.00%    0.00%    0.00%  20.00%  40.00%\n",
       "Obs.              5        5        5       5       5"
      ]
     },
     "execution_count": 96,
     "metadata": {},
     "output_type": "execute_result"
    }
   ],
   "source": [
    "# Call the function \n",
    "results_test_test, probs_test_test = temperature_loop(experiment_id = \"2_2\", temperature_list = [0, 0.5, 1, 1.5, 2], n = 5)\n",
    "\n",
    "# Display probability dataframe\n",
    "probs_test_test"
   ]
  },
  {
   "cell_type": "markdown",
   "metadata": {},
   "source": [
    "- Prompt 1: Unprimed & all answer options"
   ]
  },
  {
   "cell_type": "code",
   "execution_count": 22,
   "metadata": {},
   "outputs": [
    {
     "name": "stderr",
     "output_type": "stream",
     "text": [
      "100%|██████████| 250/250 [32:43<00:00,  7.86s/it]   "
     ]
    },
    {
     "name": "stdout",
     "output_type": "stream",
     "text": [
      "Experiment 1_1 contains all answer options, is unprimed and uses gpt-3.5-turbo. In this run, a total of 250 requests were made using prompt_1.\n",
      "The original results were A: 16%, B: 0%, C: 84%.\n"
     ]
    },
    {
     "name": "stderr",
     "output_type": "stream",
     "text": [
      "\n"
     ]
    },
    {
     "data": {
      "text/html": [
       "<div>\n",
       "<style scoped>\n",
       "    .dataframe tbody tr th:only-of-type {\n",
       "        vertical-align: middle;\n",
       "    }\n",
       "\n",
       "    .dataframe tbody tr th {\n",
       "        vertical-align: top;\n",
       "    }\n",
       "\n",
       "    .dataframe thead th {\n",
       "        text-align: right;\n",
       "    }\n",
       "</style>\n",
       "<table border=\"1\" class=\"dataframe\">\n",
       "  <thead>\n",
       "    <tr style=\"text-align: right;\">\n",
       "      <th></th>\n",
       "      <th>0</th>\n",
       "      <th>1</th>\n",
       "      <th>2</th>\n",
       "      <th>3</th>\n",
       "      <th>4</th>\n",
       "    </tr>\n",
       "  </thead>\n",
       "  <tbody>\n",
       "    <tr>\n",
       "      <th>Experiment</th>\n",
       "      <td>1_1</td>\n",
       "      <td>1_1</td>\n",
       "      <td>1_1</td>\n",
       "      <td>1_1</td>\n",
       "      <td>1_1</td>\n",
       "    </tr>\n",
       "    <tr>\n",
       "      <th>Temp</th>\n",
       "      <td>0.0</td>\n",
       "      <td>0.5</td>\n",
       "      <td>1.0</td>\n",
       "      <td>1.5</td>\n",
       "      <td>2.0</td>\n",
       "    </tr>\n",
       "    <tr>\n",
       "      <th>p(A)</th>\n",
       "      <td>0.00%</td>\n",
       "      <td>0.00%</td>\n",
       "      <td>2.00%</td>\n",
       "      <td>4.00%</td>\n",
       "      <td>6.25%</td>\n",
       "    </tr>\n",
       "    <tr>\n",
       "      <th>p(B)</th>\n",
       "      <td>0.00%</td>\n",
       "      <td>0.00%</td>\n",
       "      <td>0.00%</td>\n",
       "      <td>16.00%</td>\n",
       "      <td>14.58%</td>\n",
       "    </tr>\n",
       "    <tr>\n",
       "      <th>p(C)</th>\n",
       "      <td>100.00%</td>\n",
       "      <td>100.00%</td>\n",
       "      <td>98.00%</td>\n",
       "      <td>80.00%</td>\n",
       "      <td>79.17%</td>\n",
       "    </tr>\n",
       "    <tr>\n",
       "      <th>Obs.</th>\n",
       "      <td>50</td>\n",
       "      <td>50</td>\n",
       "      <td>50</td>\n",
       "      <td>50</td>\n",
       "      <td>48</td>\n",
       "    </tr>\n",
       "  </tbody>\n",
       "</table>\n",
       "</div>"
      ],
      "text/plain": [
       "                  0        1       2       3       4\n",
       "Experiment      1_1      1_1     1_1     1_1     1_1\n",
       "Temp            0.0      0.5     1.0     1.5     2.0\n",
       "p(A)          0.00%    0.00%   2.00%   4.00%   6.25%\n",
       "p(B)          0.00%    0.00%   0.00%  16.00%  14.58%\n",
       "p(C)        100.00%  100.00%  98.00%  80.00%  79.17%\n",
       "Obs.             50       50      50      50      48"
      ]
     },
     "execution_count": 22,
     "metadata": {},
     "output_type": "execute_result"
    }
   ],
   "source": [
    "# Call function\n",
    "results_1_1, probs_1_1 = temperature_loop(experiment_id = \"1_1\", temperature_list = [0, 0.5, 1, 1.5, 2], n = 50)\n",
    "# Display results\n",
    "probs_1_1"
   ]
  },
  {
   "cell_type": "markdown",
   "metadata": {},
   "source": [
    "- Prompt 2: Unprimed & second option (decoy) removed"
   ]
  },
  {
   "cell_type": "code",
   "execution_count": 23,
   "metadata": {},
   "outputs": [
    {
     "name": "stderr",
     "output_type": "stream",
     "text": [
      "100%|██████████| 250/250 [15:03<00:00,  3.61s/it]   "
     ]
    },
    {
     "name": "stdout",
     "output_type": "stream",
     "text": [
      "Experiment 1_2 has the decoy removed, is unprimed and uses gpt-3.5-turbo. In this run, a total of 250 requests were made using prompt_2.\n",
      "The original results were A: 68%, B: 0%, C: 32%.\n"
     ]
    },
    {
     "name": "stderr",
     "output_type": "stream",
     "text": [
      "\n"
     ]
    },
    {
     "data": {
      "text/html": [
       "<div>\n",
       "<style scoped>\n",
       "    .dataframe tbody tr th:only-of-type {\n",
       "        vertical-align: middle;\n",
       "    }\n",
       "\n",
       "    .dataframe tbody tr th {\n",
       "        vertical-align: top;\n",
       "    }\n",
       "\n",
       "    .dataframe thead th {\n",
       "        text-align: right;\n",
       "    }\n",
       "</style>\n",
       "<table border=\"1\" class=\"dataframe\">\n",
       "  <thead>\n",
       "    <tr style=\"text-align: right;\">\n",
       "      <th></th>\n",
       "      <th>0</th>\n",
       "      <th>1</th>\n",
       "      <th>2</th>\n",
       "      <th>3</th>\n",
       "      <th>4</th>\n",
       "    </tr>\n",
       "  </thead>\n",
       "  <tbody>\n",
       "    <tr>\n",
       "      <th>Experiment</th>\n",
       "      <td>1_2</td>\n",
       "      <td>1_2</td>\n",
       "      <td>1_2</td>\n",
       "      <td>1_2</td>\n",
       "      <td>1_2</td>\n",
       "    </tr>\n",
       "    <tr>\n",
       "      <th>Temp</th>\n",
       "      <td>0.0</td>\n",
       "      <td>0.5</td>\n",
       "      <td>1.0</td>\n",
       "      <td>1.5</td>\n",
       "      <td>2.0</td>\n",
       "    </tr>\n",
       "    <tr>\n",
       "      <th>p(A)</th>\n",
       "      <td>0.00%</td>\n",
       "      <td>0.00%</td>\n",
       "      <td>2.00%</td>\n",
       "      <td>2.00%</td>\n",
       "      <td>4.26%</td>\n",
       "    </tr>\n",
       "    <tr>\n",
       "      <th>p(B)</th>\n",
       "      <td>0.00%</td>\n",
       "      <td>0.00%</td>\n",
       "      <td>0.00%</td>\n",
       "      <td>0.00%</td>\n",
       "      <td>0.00%</td>\n",
       "    </tr>\n",
       "    <tr>\n",
       "      <th>p(C)</th>\n",
       "      <td>100.00%</td>\n",
       "      <td>100.00%</td>\n",
       "      <td>98.00%</td>\n",
       "      <td>98.00%</td>\n",
       "      <td>95.74%</td>\n",
       "    </tr>\n",
       "    <tr>\n",
       "      <th>Obs.</th>\n",
       "      <td>50</td>\n",
       "      <td>50</td>\n",
       "      <td>50</td>\n",
       "      <td>50</td>\n",
       "      <td>47</td>\n",
       "    </tr>\n",
       "  </tbody>\n",
       "</table>\n",
       "</div>"
      ],
      "text/plain": [
       "                  0        1       2       3       4\n",
       "Experiment      1_2      1_2     1_2     1_2     1_2\n",
       "Temp            0.0      0.5     1.0     1.5     2.0\n",
       "p(A)          0.00%    0.00%   2.00%   2.00%   4.26%\n",
       "p(B)          0.00%    0.00%   0.00%   0.00%   0.00%\n",
       "p(C)        100.00%  100.00%  98.00%  98.00%  95.74%\n",
       "Obs.             50       50      50      50      47"
      ]
     },
     "execution_count": 23,
     "metadata": {},
     "output_type": "execute_result"
    }
   ],
   "source": [
    "results_1_2, probs_1_2 = temperature_loop(experiment_id = \"1_2\", temperature_list = [0, 0.5, 1, 1.5, 2], n = 50)\n",
    "probs_1_2"
   ]
  },
  {
   "cell_type": "markdown",
   "metadata": {},
   "source": [
    "- Prompt 3: Primed & all answer options"
   ]
  },
  {
   "cell_type": "code",
   "execution_count": 24,
   "metadata": {},
   "outputs": [
    {
     "name": "stderr",
     "output_type": "stream",
     "text": [
      "100%|██████████| 250/250 [03:22<00:00,  1.23it/s]"
     ]
    },
    {
     "name": "stdout",
     "output_type": "stream",
     "text": [
      "Experiment 1_3 contains all answer options, is primed and uses gpt-3.5-turbo. In this run, a total of 250 requests were made using prompt_3.\n",
      "The original results were A: 16%, B: 0%, C: 84%.\n"
     ]
    },
    {
     "name": "stderr",
     "output_type": "stream",
     "text": [
      "\n"
     ]
    },
    {
     "data": {
      "text/html": [
       "<div>\n",
       "<style scoped>\n",
       "    .dataframe tbody tr th:only-of-type {\n",
       "        vertical-align: middle;\n",
       "    }\n",
       "\n",
       "    .dataframe tbody tr th {\n",
       "        vertical-align: top;\n",
       "    }\n",
       "\n",
       "    .dataframe thead th {\n",
       "        text-align: right;\n",
       "    }\n",
       "</style>\n",
       "<table border=\"1\" class=\"dataframe\">\n",
       "  <thead>\n",
       "    <tr style=\"text-align: right;\">\n",
       "      <th></th>\n",
       "      <th>0</th>\n",
       "      <th>1</th>\n",
       "      <th>2</th>\n",
       "      <th>3</th>\n",
       "      <th>4</th>\n",
       "    </tr>\n",
       "  </thead>\n",
       "  <tbody>\n",
       "    <tr>\n",
       "      <th>Experiment</th>\n",
       "      <td>1_3</td>\n",
       "      <td>1_3</td>\n",
       "      <td>1_3</td>\n",
       "      <td>1_3</td>\n",
       "      <td>1_3</td>\n",
       "    </tr>\n",
       "    <tr>\n",
       "      <th>Temp</th>\n",
       "      <td>0.0</td>\n",
       "      <td>0.5</td>\n",
       "      <td>1.0</td>\n",
       "      <td>1.5</td>\n",
       "      <td>2.0</td>\n",
       "    </tr>\n",
       "    <tr>\n",
       "      <th>p(A)</th>\n",
       "      <td>0.00%</td>\n",
       "      <td>0.00%</td>\n",
       "      <td>0.00%</td>\n",
       "      <td>2.00%</td>\n",
       "      <td>2.22%</td>\n",
       "    </tr>\n",
       "    <tr>\n",
       "      <th>p(B)</th>\n",
       "      <td>0.00%</td>\n",
       "      <td>0.00%</td>\n",
       "      <td>6.00%</td>\n",
       "      <td>6.00%</td>\n",
       "      <td>13.33%</td>\n",
       "    </tr>\n",
       "    <tr>\n",
       "      <th>p(C)</th>\n",
       "      <td>100.00%</td>\n",
       "      <td>100.00%</td>\n",
       "      <td>94.00%</td>\n",
       "      <td>92.00%</td>\n",
       "      <td>84.44%</td>\n",
       "    </tr>\n",
       "    <tr>\n",
       "      <th>Obs.</th>\n",
       "      <td>50</td>\n",
       "      <td>50</td>\n",
       "      <td>50</td>\n",
       "      <td>50</td>\n",
       "      <td>45</td>\n",
       "    </tr>\n",
       "  </tbody>\n",
       "</table>\n",
       "</div>"
      ],
      "text/plain": [
       "                  0        1       2       3       4\n",
       "Experiment      1_3      1_3     1_3     1_3     1_3\n",
       "Temp            0.0      0.5     1.0     1.5     2.0\n",
       "p(A)          0.00%    0.00%   0.00%   2.00%   2.22%\n",
       "p(B)          0.00%    0.00%   6.00%   6.00%  13.33%\n",
       "p(C)        100.00%  100.00%  94.00%  92.00%  84.44%\n",
       "Obs.             50       50      50      50      45"
      ]
     },
     "execution_count": 24,
     "metadata": {},
     "output_type": "execute_result"
    }
   ],
   "source": [
    "results_1_3, probs_1_3 = temperature_loop(experiment_id = \"1_3\", temperature_list = [0, 0.5, 1, 1.5, 2], n = 50)\n",
    "probs_1_3"
   ]
  },
  {
   "cell_type": "markdown",
   "metadata": {},
   "source": [
    "- Prompt 4: Primed & second option (decoy) removed"
   ]
  },
  {
   "cell_type": "code",
   "execution_count": 85,
   "metadata": {},
   "outputs": [
    {
     "data": {
      "text/html": [
       "<div>\n",
       "<style scoped>\n",
       "    .dataframe tbody tr th:only-of-type {\n",
       "        vertical-align: middle;\n",
       "    }\n",
       "\n",
       "    .dataframe tbody tr th {\n",
       "        vertical-align: top;\n",
       "    }\n",
       "\n",
       "    .dataframe thead th {\n",
       "        text-align: right;\n",
       "    }\n",
       "</style>\n",
       "<table border=\"1\" class=\"dataframe\">\n",
       "  <thead>\n",
       "    <tr style=\"text-align: right;\">\n",
       "      <th></th>\n",
       "      <th>0</th>\n",
       "      <th>1</th>\n",
       "      <th>2</th>\n",
       "      <th>3</th>\n",
       "      <th>4</th>\n",
       "    </tr>\n",
       "  </thead>\n",
       "  <tbody>\n",
       "    <tr>\n",
       "      <th>Experiment</th>\n",
       "      <td>1_4</td>\n",
       "      <td>1_4</td>\n",
       "      <td>1_4</td>\n",
       "      <td>1_4</td>\n",
       "      <td>1_4</td>\n",
       "    </tr>\n",
       "    <tr>\n",
       "      <th>Temp</th>\n",
       "      <td>0.0</td>\n",
       "      <td>0.5</td>\n",
       "      <td>1.0</td>\n",
       "      <td>1.5</td>\n",
       "      <td>2.0</td>\n",
       "    </tr>\n",
       "    <tr>\n",
       "      <th>p(A)</th>\n",
       "      <td>0.00%</td>\n",
       "      <td>0.00%</td>\n",
       "      <td>0.00%</td>\n",
       "      <td>10.00%</td>\n",
       "      <td>10.42%</td>\n",
       "    </tr>\n",
       "    <tr>\n",
       "      <th>p(B)</th>\n",
       "      <td>0.00%</td>\n",
       "      <td>0.00%</td>\n",
       "      <td>0.00%</td>\n",
       "      <td>0.00%</td>\n",
       "      <td>0.00%</td>\n",
       "    </tr>\n",
       "    <tr>\n",
       "      <th>p(C)</th>\n",
       "      <td>100.00%</td>\n",
       "      <td>100.00%</td>\n",
       "      <td>100.00%</td>\n",
       "      <td>90.00%</td>\n",
       "      <td>89.58%</td>\n",
       "    </tr>\n",
       "    <tr>\n",
       "      <th>Obs.</th>\n",
       "      <td>50</td>\n",
       "      <td>50</td>\n",
       "      <td>50</td>\n",
       "      <td>50</td>\n",
       "      <td>48</td>\n",
       "    </tr>\n",
       "  </tbody>\n",
       "</table>\n",
       "</div>"
      ],
      "text/plain": [
       "                  0        1        2       3       4\n",
       "Experiment      1_4      1_4      1_4     1_4     1_4\n",
       "Temp            0.0      0.5      1.0     1.5     2.0\n",
       "p(A)          0.00%    0.00%    0.00%  10.00%  10.42%\n",
       "p(B)          0.00%    0.00%    0.00%   0.00%   0.00%\n",
       "p(C)        100.00%  100.00%  100.00%  90.00%  89.58%\n",
       "Obs.             50       50       50      50      48"
      ]
     },
     "execution_count": 85,
     "metadata": {},
     "output_type": "execute_result"
    }
   ],
   "source": [
    "results_1_4, probs_1_4 = temperature_loop(experiment_id = \"1_4\", temperature_list = [0, 0.5, 1, 1.5, 2], n = 50)\n",
    "probs_1_4"
   ]
  },
  {
   "cell_type": "markdown",
   "metadata": {},
   "source": [
    "\n",
    "-----------------------------"
   ]
  },
  {
   "cell_type": "markdown",
   "metadata": {},
   "source": [
    "- Prompt 5: Unprimed & all answer options, renamed & reordered"
   ]
  },
  {
   "cell_type": "code",
   "execution_count": 26,
   "metadata": {},
   "outputs": [
    {
     "name": "stderr",
     "output_type": "stream",
     "text": [
      "100%|██████████| 250/250 [21:11<00:00,  5.08s/it]   "
     ]
    },
    {
     "name": "stdout",
     "output_type": "stream",
     "text": [
      "Experiment 1_5 contains all answer options renamed and reordered, is unprimed and uses gpt-3.5-turbo. In this run, a total of 250 requests were made using prompt_5.\n",
      "The original results were A: 16%, B: 0%, C: 84%.\n"
     ]
    },
    {
     "name": "stderr",
     "output_type": "stream",
     "text": [
      "\n"
     ]
    },
    {
     "data": {
      "text/html": [
       "<div>\n",
       "<style scoped>\n",
       "    .dataframe tbody tr th:only-of-type {\n",
       "        vertical-align: middle;\n",
       "    }\n",
       "\n",
       "    .dataframe tbody tr th {\n",
       "        vertical-align: top;\n",
       "    }\n",
       "\n",
       "    .dataframe thead th {\n",
       "        text-align: right;\n",
       "    }\n",
       "</style>\n",
       "<table border=\"1\" class=\"dataframe\">\n",
       "  <thead>\n",
       "    <tr style=\"text-align: right;\">\n",
       "      <th></th>\n",
       "      <th>0</th>\n",
       "      <th>1</th>\n",
       "      <th>2</th>\n",
       "      <th>3</th>\n",
       "      <th>4</th>\n",
       "    </tr>\n",
       "  </thead>\n",
       "  <tbody>\n",
       "    <tr>\n",
       "      <th>Experiment</th>\n",
       "      <td>1_5</td>\n",
       "      <td>1_5</td>\n",
       "      <td>1_5</td>\n",
       "      <td>1_5</td>\n",
       "      <td>1_5</td>\n",
       "    </tr>\n",
       "    <tr>\n",
       "      <th>Temp</th>\n",
       "      <td>0.0</td>\n",
       "      <td>0.5</td>\n",
       "      <td>1.0</td>\n",
       "      <td>1.5</td>\n",
       "      <td>2.0</td>\n",
       "    </tr>\n",
       "    <tr>\n",
       "      <th>p(A)</th>\n",
       "      <td>0.00%</td>\n",
       "      <td>0.00%</td>\n",
       "      <td>6.00%</td>\n",
       "      <td>20.00%</td>\n",
       "      <td>31.25%</td>\n",
       "    </tr>\n",
       "    <tr>\n",
       "      <th>p(B)</th>\n",
       "      <td>0.00%</td>\n",
       "      <td>0.00%</td>\n",
       "      <td>0.00%</td>\n",
       "      <td>0.00%</td>\n",
       "      <td>2.08%</td>\n",
       "    </tr>\n",
       "    <tr>\n",
       "      <th>p(C)</th>\n",
       "      <td>100.00%</td>\n",
       "      <td>100.00%</td>\n",
       "      <td>94.00%</td>\n",
       "      <td>80.00%</td>\n",
       "      <td>66.67%</td>\n",
       "    </tr>\n",
       "    <tr>\n",
       "      <th>Obs.</th>\n",
       "      <td>50</td>\n",
       "      <td>50</td>\n",
       "      <td>50</td>\n",
       "      <td>50</td>\n",
       "      <td>48</td>\n",
       "    </tr>\n",
       "  </tbody>\n",
       "</table>\n",
       "</div>"
      ],
      "text/plain": [
       "                  0        1       2       3       4\n",
       "Experiment      1_5      1_5     1_5     1_5     1_5\n",
       "Temp            0.0      0.5     1.0     1.5     2.0\n",
       "p(A)          0.00%    0.00%   6.00%  20.00%  31.25%\n",
       "p(B)          0.00%    0.00%   0.00%   0.00%   2.08%\n",
       "p(C)        100.00%  100.00%  94.00%  80.00%  66.67%\n",
       "Obs.             50       50      50      50      48"
      ]
     },
     "execution_count": 26,
     "metadata": {},
     "output_type": "execute_result"
    }
   ],
   "source": [
    "results_1_5, probs_1_5 = temperature_loop(experiment_id = \"1_5\", temperature_list = [0, 0.5, 1, 1.5, 2], n = 50)\n",
    "probs_1_5"
   ]
  },
  {
   "cell_type": "markdown",
   "metadata": {},
   "source": [
    "- Prompt 6: Unprimed & second option (decoy) removed, renamed & reordered"
   ]
  },
  {
   "cell_type": "code",
   "execution_count": 27,
   "metadata": {},
   "outputs": [
    {
     "name": "stderr",
     "output_type": "stream",
     "text": [
      "100%|██████████| 250/250 [03:31<00:00,  1.18it/s]"
     ]
    },
    {
     "name": "stdout",
     "output_type": "stream",
     "text": [
      "Experiment 1_6 has the decoy removed, answer options renamed and reordered, is unprimed and uses gpt-3.5-turbo. In this run, a total of 250 requests were made using prompt_6.\n",
      "The original results were A: 68%, B: 0%, C: 32%.\n"
     ]
    },
    {
     "name": "stderr",
     "output_type": "stream",
     "text": [
      "\n"
     ]
    },
    {
     "data": {
      "text/html": [
       "<div>\n",
       "<style scoped>\n",
       "    .dataframe tbody tr th:only-of-type {\n",
       "        vertical-align: middle;\n",
       "    }\n",
       "\n",
       "    .dataframe tbody tr th {\n",
       "        vertical-align: top;\n",
       "    }\n",
       "\n",
       "    .dataframe thead th {\n",
       "        text-align: right;\n",
       "    }\n",
       "</style>\n",
       "<table border=\"1\" class=\"dataframe\">\n",
       "  <thead>\n",
       "    <tr style=\"text-align: right;\">\n",
       "      <th></th>\n",
       "      <th>0</th>\n",
       "      <th>1</th>\n",
       "      <th>2</th>\n",
       "      <th>3</th>\n",
       "      <th>4</th>\n",
       "    </tr>\n",
       "  </thead>\n",
       "  <tbody>\n",
       "    <tr>\n",
       "      <th>Experiment</th>\n",
       "      <td>1_6</td>\n",
       "      <td>1_6</td>\n",
       "      <td>1_6</td>\n",
       "      <td>1_6</td>\n",
       "      <td>1_6</td>\n",
       "    </tr>\n",
       "    <tr>\n",
       "      <th>Temp</th>\n",
       "      <td>0.0</td>\n",
       "      <td>0.5</td>\n",
       "      <td>1.0</td>\n",
       "      <td>1.5</td>\n",
       "      <td>2.0</td>\n",
       "    </tr>\n",
       "    <tr>\n",
       "      <th>p(A)</th>\n",
       "      <td>100.00%</td>\n",
       "      <td>78.00%</td>\n",
       "      <td>78.00%</td>\n",
       "      <td>66.00%</td>\n",
       "      <td>64.58%</td>\n",
       "    </tr>\n",
       "    <tr>\n",
       "      <th>p(B)</th>\n",
       "      <td>0.00%</td>\n",
       "      <td>0.00%</td>\n",
       "      <td>0.00%</td>\n",
       "      <td>0.00%</td>\n",
       "      <td>0.00%</td>\n",
       "    </tr>\n",
       "    <tr>\n",
       "      <th>p(C)</th>\n",
       "      <td>0.00%</td>\n",
       "      <td>22.00%</td>\n",
       "      <td>22.00%</td>\n",
       "      <td>34.00%</td>\n",
       "      <td>35.42%</td>\n",
       "    </tr>\n",
       "    <tr>\n",
       "      <th>Obs.</th>\n",
       "      <td>50</td>\n",
       "      <td>50</td>\n",
       "      <td>50</td>\n",
       "      <td>50</td>\n",
       "      <td>48</td>\n",
       "    </tr>\n",
       "  </tbody>\n",
       "</table>\n",
       "</div>"
      ],
      "text/plain": [
       "                  0       1       2       3       4\n",
       "Experiment      1_6     1_6     1_6     1_6     1_6\n",
       "Temp            0.0     0.5     1.0     1.5     2.0\n",
       "p(A)        100.00%  78.00%  78.00%  66.00%  64.58%\n",
       "p(B)          0.00%   0.00%   0.00%   0.00%   0.00%\n",
       "p(C)          0.00%  22.00%  22.00%  34.00%  35.42%\n",
       "Obs.             50      50      50      50      48"
      ]
     },
     "execution_count": 27,
     "metadata": {},
     "output_type": "execute_result"
    }
   ],
   "source": [
    "results_1_6, probs_1_6 = temperature_loop(experiment_id = \"1_6\", temperature_list = [0, 0.5, 1, 1.5, 2], n = 50)\n",
    "probs_1_6"
   ]
  },
  {
   "cell_type": "markdown",
   "metadata": {},
   "source": [
    "- Prompt 7: Primed & all answer options, renamed & reordered"
   ]
  },
  {
   "cell_type": "code",
   "execution_count": 28,
   "metadata": {},
   "outputs": [
    {
     "name": "stderr",
     "output_type": "stream",
     "text": [
      "100%|██████████| 250/250 [03:00<00:00,  1.38it/s]"
     ]
    },
    {
     "name": "stdout",
     "output_type": "stream",
     "text": [
      "Experiment 1_7 contains all answer options renamed and reordered, is primed and uses gpt-3.5-turbo. In this run, a total of 250 requests were made using prompt_7.\n",
      "The original results were A: 16%, B: 0%, C: 84%.\n"
     ]
    },
    {
     "name": "stderr",
     "output_type": "stream",
     "text": [
      "\n"
     ]
    },
    {
     "data": {
      "text/html": [
       "<div>\n",
       "<style scoped>\n",
       "    .dataframe tbody tr th:only-of-type {\n",
       "        vertical-align: middle;\n",
       "    }\n",
       "\n",
       "    .dataframe tbody tr th {\n",
       "        vertical-align: top;\n",
       "    }\n",
       "\n",
       "    .dataframe thead th {\n",
       "        text-align: right;\n",
       "    }\n",
       "</style>\n",
       "<table border=\"1\" class=\"dataframe\">\n",
       "  <thead>\n",
       "    <tr style=\"text-align: right;\">\n",
       "      <th></th>\n",
       "      <th>0</th>\n",
       "      <th>1</th>\n",
       "      <th>2</th>\n",
       "      <th>3</th>\n",
       "      <th>4</th>\n",
       "    </tr>\n",
       "  </thead>\n",
       "  <tbody>\n",
       "    <tr>\n",
       "      <th>Experiment</th>\n",
       "      <td>1_7</td>\n",
       "      <td>1_7</td>\n",
       "      <td>1_7</td>\n",
       "      <td>1_7</td>\n",
       "      <td>1_7</td>\n",
       "    </tr>\n",
       "    <tr>\n",
       "      <th>Temp</th>\n",
       "      <td>0.0</td>\n",
       "      <td>0.5</td>\n",
       "      <td>1.0</td>\n",
       "      <td>1.5</td>\n",
       "      <td>2.0</td>\n",
       "    </tr>\n",
       "    <tr>\n",
       "      <th>p(A)</th>\n",
       "      <td>0.00%</td>\n",
       "      <td>2.00%</td>\n",
       "      <td>18.00%</td>\n",
       "      <td>28.57%</td>\n",
       "      <td>25.00%</td>\n",
       "    </tr>\n",
       "    <tr>\n",
       "      <th>p(B)</th>\n",
       "      <td>0.00%</td>\n",
       "      <td>0.00%</td>\n",
       "      <td>0.00%</td>\n",
       "      <td>0.00%</td>\n",
       "      <td>0.00%</td>\n",
       "    </tr>\n",
       "    <tr>\n",
       "      <th>p(C)</th>\n",
       "      <td>100.00%</td>\n",
       "      <td>98.00%</td>\n",
       "      <td>82.00%</td>\n",
       "      <td>71.43%</td>\n",
       "      <td>75.00%</td>\n",
       "    </tr>\n",
       "    <tr>\n",
       "      <th>Obs.</th>\n",
       "      <td>50</td>\n",
       "      <td>50</td>\n",
       "      <td>50</td>\n",
       "      <td>49</td>\n",
       "      <td>48</td>\n",
       "    </tr>\n",
       "  </tbody>\n",
       "</table>\n",
       "</div>"
      ],
      "text/plain": [
       "                  0       1       2       3       4\n",
       "Experiment      1_7     1_7     1_7     1_7     1_7\n",
       "Temp            0.0     0.5     1.0     1.5     2.0\n",
       "p(A)          0.00%   2.00%  18.00%  28.57%  25.00%\n",
       "p(B)          0.00%   0.00%   0.00%   0.00%   0.00%\n",
       "p(C)        100.00%  98.00%  82.00%  71.43%  75.00%\n",
       "Obs.             50      50      50      49      48"
      ]
     },
     "execution_count": 28,
     "metadata": {},
     "output_type": "execute_result"
    }
   ],
   "source": [
    "results_1_7, probs_1_7 = temperature_loop(experiment_id = \"1_7\", temperature_list = [0, 0.5, 1, 1.5, 2], n = 50)\n",
    "probs_1_7"
   ]
  },
  {
   "cell_type": "markdown",
   "metadata": {},
   "source": [
    "- Prompt 8: Primed & second option (decoy) removed, renamed & reordered"
   ]
  },
  {
   "cell_type": "code",
   "execution_count": 29,
   "metadata": {},
   "outputs": [
    {
     "name": "stderr",
     "output_type": "stream",
     "text": [
      "100%|██████████| 250/250 [06:51<00:00,  1.65s/it]"
     ]
    },
    {
     "name": "stdout",
     "output_type": "stream",
     "text": [
      "Experiment 1_8 has the decoy removed, answer options renamed and reordered, is primed and uses gpt-3.5-turbo. In this run, a total of 250 requests were made using prompt_8.\n",
      "The original results were A: 68%, B: 0%, C: 32%.\n"
     ]
    },
    {
     "name": "stderr",
     "output_type": "stream",
     "text": [
      "\n"
     ]
    },
    {
     "data": {
      "text/html": [
       "<div>\n",
       "<style scoped>\n",
       "    .dataframe tbody tr th:only-of-type {\n",
       "        vertical-align: middle;\n",
       "    }\n",
       "\n",
       "    .dataframe tbody tr th {\n",
       "        vertical-align: top;\n",
       "    }\n",
       "\n",
       "    .dataframe thead th {\n",
       "        text-align: right;\n",
       "    }\n",
       "</style>\n",
       "<table border=\"1\" class=\"dataframe\">\n",
       "  <thead>\n",
       "    <tr style=\"text-align: right;\">\n",
       "      <th></th>\n",
       "      <th>0</th>\n",
       "      <th>1</th>\n",
       "      <th>2</th>\n",
       "      <th>3</th>\n",
       "      <th>4</th>\n",
       "    </tr>\n",
       "  </thead>\n",
       "  <tbody>\n",
       "    <tr>\n",
       "      <th>Experiment</th>\n",
       "      <td>1_8</td>\n",
       "      <td>1_8</td>\n",
       "      <td>1_8</td>\n",
       "      <td>1_8</td>\n",
       "      <td>1_8</td>\n",
       "    </tr>\n",
       "    <tr>\n",
       "      <th>Temp</th>\n",
       "      <td>0.0</td>\n",
       "      <td>0.5</td>\n",
       "      <td>1.0</td>\n",
       "      <td>1.5</td>\n",
       "      <td>2.0</td>\n",
       "    </tr>\n",
       "    <tr>\n",
       "      <th>p(A)</th>\n",
       "      <td>0.00%</td>\n",
       "      <td>34.00%</td>\n",
       "      <td>36.00%</td>\n",
       "      <td>46.00%</td>\n",
       "      <td>36.17%</td>\n",
       "    </tr>\n",
       "    <tr>\n",
       "      <th>p(B)</th>\n",
       "      <td>0.00%</td>\n",
       "      <td>0.00%</td>\n",
       "      <td>0.00%</td>\n",
       "      <td>0.00%</td>\n",
       "      <td>0.00%</td>\n",
       "    </tr>\n",
       "    <tr>\n",
       "      <th>p(C)</th>\n",
       "      <td>100.00%</td>\n",
       "      <td>66.00%</td>\n",
       "      <td>64.00%</td>\n",
       "      <td>54.00%</td>\n",
       "      <td>63.83%</td>\n",
       "    </tr>\n",
       "    <tr>\n",
       "      <th>Obs.</th>\n",
       "      <td>50</td>\n",
       "      <td>50</td>\n",
       "      <td>50</td>\n",
       "      <td>50</td>\n",
       "      <td>47</td>\n",
       "    </tr>\n",
       "  </tbody>\n",
       "</table>\n",
       "</div>"
      ],
      "text/plain": [
       "                  0       1       2       3       4\n",
       "Experiment      1_8     1_8     1_8     1_8     1_8\n",
       "Temp            0.0     0.5     1.0     1.5     2.0\n",
       "p(A)          0.00%  34.00%  36.00%  46.00%  36.17%\n",
       "p(B)          0.00%   0.00%   0.00%   0.00%   0.00%\n",
       "p(C)        100.00%  66.00%  64.00%  54.00%  63.83%\n",
       "Obs.             50      50      50      50      47"
      ]
     },
     "execution_count": 29,
     "metadata": {},
     "output_type": "execute_result"
    }
   ],
   "source": [
    "results_1_8, probs_1_8 = temperature_loop(experiment_id = \"1_8\", temperature_list = [0, 0.5, 1, 1.5, 2], n = 50)\n",
    "probs_1_8"
   ]
  },
  {
   "cell_type": "markdown",
   "metadata": {},
   "source": [
    "-------------------------------------"
   ]
  },
  {
   "cell_type": "markdown",
   "metadata": {},
   "source": [
    "#### Model 2: GPT-4-1106-preview (Model training ended in April 2023)"
   ]
  },
  {
   "cell_type": "markdown",
   "metadata": {},
   "source": [
    "- Prompt 1: Unprimed & all answer options"
   ]
  },
  {
   "cell_type": "code",
   "execution_count": 125,
   "metadata": {},
   "outputs": [
    {
     "data": {
      "text/html": [
       "<div>\n",
       "<style scoped>\n",
       "    .dataframe tbody tr th:only-of-type {\n",
       "        vertical-align: middle;\n",
       "    }\n",
       "\n",
       "    .dataframe tbody tr th {\n",
       "        vertical-align: top;\n",
       "    }\n",
       "\n",
       "    .dataframe thead th {\n",
       "        text-align: right;\n",
       "    }\n",
       "</style>\n",
       "<table border=\"1\" class=\"dataframe\">\n",
       "  <thead>\n",
       "    <tr style=\"text-align: right;\">\n",
       "      <th></th>\n",
       "      <th>0</th>\n",
       "      <th>1</th>\n",
       "      <th>2</th>\n",
       "      <th>3</th>\n",
       "      <th>4</th>\n",
       "    </tr>\n",
       "  </thead>\n",
       "  <tbody>\n",
       "    <tr>\n",
       "      <th>Experiment</th>\n",
       "      <td>2_1</td>\n",
       "      <td>2_1</td>\n",
       "      <td>2_1</td>\n",
       "      <td>2_1</td>\n",
       "      <td>2_1</td>\n",
       "    </tr>\n",
       "    <tr>\n",
       "      <th>Temp</th>\n",
       "      <td>0.0</td>\n",
       "      <td>0.5</td>\n",
       "      <td>1.0</td>\n",
       "      <td>1.5</td>\n",
       "      <td>2.0</td>\n",
       "    </tr>\n",
       "    <tr>\n",
       "      <th>p(A)</th>\n",
       "      <td>0.00%</td>\n",
       "      <td>0.00%</td>\n",
       "      <td>0.00%</td>\n",
       "      <td>2.00%</td>\n",
       "      <td>4.44%</td>\n",
       "    </tr>\n",
       "    <tr>\n",
       "      <th>p(B)</th>\n",
       "      <td>0.00%</td>\n",
       "      <td>0.00%</td>\n",
       "      <td>0.00%</td>\n",
       "      <td>0.00%</td>\n",
       "      <td>0.00%</td>\n",
       "    </tr>\n",
       "    <tr>\n",
       "      <th>p(C)</th>\n",
       "      <td>100.00%</td>\n",
       "      <td>100.00%</td>\n",
       "      <td>100.00%</td>\n",
       "      <td>98.00%</td>\n",
       "      <td>95.56%</td>\n",
       "    </tr>\n",
       "    <tr>\n",
       "      <th>Obs.</th>\n",
       "      <td>50</td>\n",
       "      <td>50</td>\n",
       "      <td>50</td>\n",
       "      <td>50</td>\n",
       "      <td>45</td>\n",
       "    </tr>\n",
       "  </tbody>\n",
       "</table>\n",
       "</div>"
      ],
      "text/plain": [
       "                  0        1        2       3       4\n",
       "Experiment      2_1      2_1      2_1     2_1     2_1\n",
       "Temp            0.0      0.5      1.0     1.5     2.0\n",
       "p(A)          0.00%    0.00%    0.00%   2.00%   4.44%\n",
       "p(B)          0.00%    0.00%    0.00%   0.00%   0.00%\n",
       "p(C)        100.00%  100.00%  100.00%  98.00%  95.56%\n",
       "Obs.             50       50       50      50      45"
      ]
     },
     "execution_count": 125,
     "metadata": {},
     "output_type": "execute_result"
    }
   ],
   "source": [
    "#results_2_1, probs_2_1 = temperature_loop(experiment_id = \"2_1\", temperature_list = [0, 0.5, 1, 1.5, 2], n = 50)\n",
    "probs_2_1"
   ]
  },
  {
   "cell_type": "markdown",
   "metadata": {},
   "source": [
    "- Prompt 2: Unprimed & second option (decoy) removed"
   ]
  },
  {
   "cell_type": "code",
   "execution_count": 126,
   "metadata": {},
   "outputs": [
    {
     "data": {
      "text/html": [
       "<div>\n",
       "<style scoped>\n",
       "    .dataframe tbody tr th:only-of-type {\n",
       "        vertical-align: middle;\n",
       "    }\n",
       "\n",
       "    .dataframe tbody tr th {\n",
       "        vertical-align: top;\n",
       "    }\n",
       "\n",
       "    .dataframe thead th {\n",
       "        text-align: right;\n",
       "    }\n",
       "</style>\n",
       "<table border=\"1\" class=\"dataframe\">\n",
       "  <thead>\n",
       "    <tr style=\"text-align: right;\">\n",
       "      <th></th>\n",
       "      <th>0</th>\n",
       "      <th>1</th>\n",
       "      <th>2</th>\n",
       "      <th>3</th>\n",
       "      <th>4</th>\n",
       "    </tr>\n",
       "  </thead>\n",
       "  <tbody>\n",
       "    <tr>\n",
       "      <th>Experiment</th>\n",
       "      <td>2_2</td>\n",
       "      <td>2_2</td>\n",
       "      <td>2_2</td>\n",
       "      <td>2_2</td>\n",
       "      <td>2_2</td>\n",
       "    </tr>\n",
       "    <tr>\n",
       "      <th>Temp</th>\n",
       "      <td>0.0</td>\n",
       "      <td>0.5</td>\n",
       "      <td>1.0</td>\n",
       "      <td>1.5</td>\n",
       "      <td>2.0</td>\n",
       "    </tr>\n",
       "    <tr>\n",
       "      <th>p(A)</th>\n",
       "      <td>100.00%</td>\n",
       "      <td>100.00%</td>\n",
       "      <td>94.00%</td>\n",
       "      <td>74.00%</td>\n",
       "      <td>66.67%</td>\n",
       "    </tr>\n",
       "    <tr>\n",
       "      <th>p(B)</th>\n",
       "      <td>0.00%</td>\n",
       "      <td>0.00%</td>\n",
       "      <td>0.00%</td>\n",
       "      <td>0.00%</td>\n",
       "      <td>0.00%</td>\n",
       "    </tr>\n",
       "    <tr>\n",
       "      <th>p(C)</th>\n",
       "      <td>0.00%</td>\n",
       "      <td>0.00%</td>\n",
       "      <td>6.00%</td>\n",
       "      <td>26.00%</td>\n",
       "      <td>33.33%</td>\n",
       "    </tr>\n",
       "    <tr>\n",
       "      <th>Obs.</th>\n",
       "      <td>50</td>\n",
       "      <td>50</td>\n",
       "      <td>50</td>\n",
       "      <td>50</td>\n",
       "      <td>45</td>\n",
       "    </tr>\n",
       "  </tbody>\n",
       "</table>\n",
       "</div>"
      ],
      "text/plain": [
       "                  0        1       2       3       4\n",
       "Experiment      2_2      2_2     2_2     2_2     2_2\n",
       "Temp            0.0      0.5     1.0     1.5     2.0\n",
       "p(A)        100.00%  100.00%  94.00%  74.00%  66.67%\n",
       "p(B)          0.00%    0.00%   0.00%   0.00%   0.00%\n",
       "p(C)          0.00%    0.00%   6.00%  26.00%  33.33%\n",
       "Obs.             50       50      50      50      45"
      ]
     },
     "execution_count": 126,
     "metadata": {},
     "output_type": "execute_result"
    }
   ],
   "source": [
    "#results_2_2, probs_2_2 = temperature_loop(experiment_id = \"2_2\", temperature_list = [0, 0.5, 1, 1.5, 2], n = 50)\n",
    "probs_2_2"
   ]
  },
  {
   "cell_type": "markdown",
   "metadata": {},
   "source": [
    "- Prompt 3: Primed & all answer options"
   ]
  },
  {
   "cell_type": "code",
   "execution_count": 127,
   "metadata": {},
   "outputs": [
    {
     "data": {
      "text/html": [
       "<div>\n",
       "<style scoped>\n",
       "    .dataframe tbody tr th:only-of-type {\n",
       "        vertical-align: middle;\n",
       "    }\n",
       "\n",
       "    .dataframe tbody tr th {\n",
       "        vertical-align: top;\n",
       "    }\n",
       "\n",
       "    .dataframe thead th {\n",
       "        text-align: right;\n",
       "    }\n",
       "</style>\n",
       "<table border=\"1\" class=\"dataframe\">\n",
       "  <thead>\n",
       "    <tr style=\"text-align: right;\">\n",
       "      <th></th>\n",
       "      <th>0</th>\n",
       "      <th>1</th>\n",
       "      <th>2</th>\n",
       "      <th>3</th>\n",
       "      <th>4</th>\n",
       "    </tr>\n",
       "  </thead>\n",
       "  <tbody>\n",
       "    <tr>\n",
       "      <th>Experiment</th>\n",
       "      <td>2_3</td>\n",
       "      <td>2_3</td>\n",
       "      <td>2_3</td>\n",
       "      <td>2_3</td>\n",
       "      <td>2_3</td>\n",
       "    </tr>\n",
       "    <tr>\n",
       "      <th>Temp</th>\n",
       "      <td>0.0</td>\n",
       "      <td>0.5</td>\n",
       "      <td>1.0</td>\n",
       "      <td>1.5</td>\n",
       "      <td>2.0</td>\n",
       "    </tr>\n",
       "    <tr>\n",
       "      <th>p(A)</th>\n",
       "      <td>0.00%</td>\n",
       "      <td>0.00%</td>\n",
       "      <td>0.00%</td>\n",
       "      <td>0.00%</td>\n",
       "      <td>0.00%</td>\n",
       "    </tr>\n",
       "    <tr>\n",
       "      <th>p(B)</th>\n",
       "      <td>0.00%</td>\n",
       "      <td>0.00%</td>\n",
       "      <td>0.00%</td>\n",
       "      <td>0.00%</td>\n",
       "      <td>0.00%</td>\n",
       "    </tr>\n",
       "    <tr>\n",
       "      <th>p(C)</th>\n",
       "      <td>100.00%</td>\n",
       "      <td>100.00%</td>\n",
       "      <td>100.00%</td>\n",
       "      <td>100.00%</td>\n",
       "      <td>100.00%</td>\n",
       "    </tr>\n",
       "    <tr>\n",
       "      <th>Obs.</th>\n",
       "      <td>50</td>\n",
       "      <td>50</td>\n",
       "      <td>50</td>\n",
       "      <td>50</td>\n",
       "      <td>49</td>\n",
       "    </tr>\n",
       "  </tbody>\n",
       "</table>\n",
       "</div>"
      ],
      "text/plain": [
       "                  0        1        2        3        4\n",
       "Experiment      2_3      2_3      2_3      2_3      2_3\n",
       "Temp            0.0      0.5      1.0      1.5      2.0\n",
       "p(A)          0.00%    0.00%    0.00%    0.00%    0.00%\n",
       "p(B)          0.00%    0.00%    0.00%    0.00%    0.00%\n",
       "p(C)        100.00%  100.00%  100.00%  100.00%  100.00%\n",
       "Obs.             50       50       50       50       49"
      ]
     },
     "execution_count": 127,
     "metadata": {},
     "output_type": "execute_result"
    }
   ],
   "source": [
    "#results_2_3, probs_2_3 = temperature_loop(experiment_id = \"2_3\", temperature_list = [0, 0.5, 1, 1.5, 2], n = 50)\n",
    "probs_2_3"
   ]
  },
  {
   "cell_type": "markdown",
   "metadata": {},
   "source": [
    "- Prompt 4: Primed & second option (decoy) removed"
   ]
  },
  {
   "cell_type": "code",
   "execution_count": 128,
   "metadata": {},
   "outputs": [
    {
     "data": {
      "text/html": [
       "<div>\n",
       "<style scoped>\n",
       "    .dataframe tbody tr th:only-of-type {\n",
       "        vertical-align: middle;\n",
       "    }\n",
       "\n",
       "    .dataframe tbody tr th {\n",
       "        vertical-align: top;\n",
       "    }\n",
       "\n",
       "    .dataframe thead th {\n",
       "        text-align: right;\n",
       "    }\n",
       "</style>\n",
       "<table border=\"1\" class=\"dataframe\">\n",
       "  <thead>\n",
       "    <tr style=\"text-align: right;\">\n",
       "      <th></th>\n",
       "      <th>0</th>\n",
       "      <th>1</th>\n",
       "      <th>2</th>\n",
       "      <th>3</th>\n",
       "      <th>4</th>\n",
       "    </tr>\n",
       "  </thead>\n",
       "  <tbody>\n",
       "    <tr>\n",
       "      <th>Experiment</th>\n",
       "      <td>2_4</td>\n",
       "      <td>2_4</td>\n",
       "      <td>2_4</td>\n",
       "      <td>2_4</td>\n",
       "      <td>2_4</td>\n",
       "    </tr>\n",
       "    <tr>\n",
       "      <th>Temp</th>\n",
       "      <td>0.0</td>\n",
       "      <td>0.5</td>\n",
       "      <td>1.0</td>\n",
       "      <td>1.5</td>\n",
       "      <td>2.0</td>\n",
       "    </tr>\n",
       "    <tr>\n",
       "      <th>p(A)</th>\n",
       "      <td>100.00%</td>\n",
       "      <td>98.00%</td>\n",
       "      <td>76.00%</td>\n",
       "      <td>68.00%</td>\n",
       "      <td>60.00%</td>\n",
       "    </tr>\n",
       "    <tr>\n",
       "      <th>p(B)</th>\n",
       "      <td>0.00%</td>\n",
       "      <td>0.00%</td>\n",
       "      <td>0.00%</td>\n",
       "      <td>0.00%</td>\n",
       "      <td>0.00%</td>\n",
       "    </tr>\n",
       "    <tr>\n",
       "      <th>p(C)</th>\n",
       "      <td>0.00%</td>\n",
       "      <td>2.00%</td>\n",
       "      <td>24.00%</td>\n",
       "      <td>32.00%</td>\n",
       "      <td>40.00%</td>\n",
       "    </tr>\n",
       "    <tr>\n",
       "      <th>Obs.</th>\n",
       "      <td>50</td>\n",
       "      <td>50</td>\n",
       "      <td>50</td>\n",
       "      <td>50</td>\n",
       "      <td>40</td>\n",
       "    </tr>\n",
       "  </tbody>\n",
       "</table>\n",
       "</div>"
      ],
      "text/plain": [
       "                  0       1       2       3       4\n",
       "Experiment      2_4     2_4     2_4     2_4     2_4\n",
       "Temp            0.0     0.5     1.0     1.5     2.0\n",
       "p(A)        100.00%  98.00%  76.00%  68.00%  60.00%\n",
       "p(B)          0.00%   0.00%   0.00%   0.00%   0.00%\n",
       "p(C)          0.00%   2.00%  24.00%  32.00%  40.00%\n",
       "Obs.             50      50      50      50      40"
      ]
     },
     "execution_count": 128,
     "metadata": {},
     "output_type": "execute_result"
    }
   ],
   "source": [
    "#results_2_4, probs_2_4 = temperature_loop(experiment_id = \"2_4\", temperature_list = [0, 0.5, 1, 1.5, 2], n = 50)\n",
    "probs_2_4"
   ]
  },
  {
   "cell_type": "markdown",
   "metadata": {},
   "source": [
    "-----------------------------------------"
   ]
  },
  {
   "cell_type": "markdown",
   "metadata": {},
   "source": [
    "- Prompt 5: Unprimed & all answer options, renamed & reordered"
   ]
  },
  {
   "cell_type": "code",
   "execution_count": 129,
   "metadata": {},
   "outputs": [
    {
     "data": {
      "text/html": [
       "<div>\n",
       "<style scoped>\n",
       "    .dataframe tbody tr th:only-of-type {\n",
       "        vertical-align: middle;\n",
       "    }\n",
       "\n",
       "    .dataframe tbody tr th {\n",
       "        vertical-align: top;\n",
       "    }\n",
       "\n",
       "    .dataframe thead th {\n",
       "        text-align: right;\n",
       "    }\n",
       "</style>\n",
       "<table border=\"1\" class=\"dataframe\">\n",
       "  <thead>\n",
       "    <tr style=\"text-align: right;\">\n",
       "      <th></th>\n",
       "      <th>0</th>\n",
       "      <th>1</th>\n",
       "      <th>2</th>\n",
       "      <th>3</th>\n",
       "      <th>4</th>\n",
       "    </tr>\n",
       "  </thead>\n",
       "  <tbody>\n",
       "    <tr>\n",
       "      <th>Experiment</th>\n",
       "      <td>2_5</td>\n",
       "      <td>2_5</td>\n",
       "      <td>2_5</td>\n",
       "      <td>2_5</td>\n",
       "      <td>2_5</td>\n",
       "    </tr>\n",
       "    <tr>\n",
       "      <th>Temp</th>\n",
       "      <td>0.0</td>\n",
       "      <td>0.5</td>\n",
       "      <td>1.0</td>\n",
       "      <td>1.5</td>\n",
       "      <td>2.0</td>\n",
       "    </tr>\n",
       "    <tr>\n",
       "      <th>p(A)</th>\n",
       "      <td>0.00%</td>\n",
       "      <td>0.00%</td>\n",
       "      <td>0.00%</td>\n",
       "      <td>0.00%</td>\n",
       "      <td>0.00%</td>\n",
       "    </tr>\n",
       "    <tr>\n",
       "      <th>p(B)</th>\n",
       "      <td>0.00%</td>\n",
       "      <td>0.00%</td>\n",
       "      <td>0.00%</td>\n",
       "      <td>0.00%</td>\n",
       "      <td>0.00%</td>\n",
       "    </tr>\n",
       "    <tr>\n",
       "      <th>p(C)</th>\n",
       "      <td>100.00%</td>\n",
       "      <td>100.00%</td>\n",
       "      <td>100.00%</td>\n",
       "      <td>100.00%</td>\n",
       "      <td>100.00%</td>\n",
       "    </tr>\n",
       "    <tr>\n",
       "      <th>Obs.</th>\n",
       "      <td>50</td>\n",
       "      <td>50</td>\n",
       "      <td>50</td>\n",
       "      <td>49</td>\n",
       "      <td>47</td>\n",
       "    </tr>\n",
       "  </tbody>\n",
       "</table>\n",
       "</div>"
      ],
      "text/plain": [
       "                  0        1        2        3        4\n",
       "Experiment      2_5      2_5      2_5      2_5      2_5\n",
       "Temp            0.0      0.5      1.0      1.5      2.0\n",
       "p(A)          0.00%    0.00%    0.00%    0.00%    0.00%\n",
       "p(B)          0.00%    0.00%    0.00%    0.00%    0.00%\n",
       "p(C)        100.00%  100.00%  100.00%  100.00%  100.00%\n",
       "Obs.             50       50       50       49       47"
      ]
     },
     "execution_count": 129,
     "metadata": {},
     "output_type": "execute_result"
    }
   ],
   "source": [
    "#results_2_5, probs_2_5 = temperature_loop(experiment_id = \"2_5\", temperature_list = [0, 0.5, 1, 1.5, 2], n = 50)\n",
    "probs_2_5"
   ]
  },
  {
   "cell_type": "markdown",
   "metadata": {},
   "source": [
    "- Prompt 6: Unprimed & second option (decoy) removed, renamed & reordered"
   ]
  },
  {
   "cell_type": "code",
   "execution_count": 124,
   "metadata": {},
   "outputs": [
    {
     "data": {
      "text/html": [
       "<div>\n",
       "<style scoped>\n",
       "    .dataframe tbody tr th:only-of-type {\n",
       "        vertical-align: middle;\n",
       "    }\n",
       "\n",
       "    .dataframe tbody tr th {\n",
       "        vertical-align: top;\n",
       "    }\n",
       "\n",
       "    .dataframe thead th {\n",
       "        text-align: right;\n",
       "    }\n",
       "</style>\n",
       "<table border=\"1\" class=\"dataframe\">\n",
       "  <thead>\n",
       "    <tr style=\"text-align: right;\">\n",
       "      <th></th>\n",
       "      <th>0</th>\n",
       "      <th>1</th>\n",
       "      <th>2</th>\n",
       "      <th>3</th>\n",
       "      <th>4</th>\n",
       "    </tr>\n",
       "  </thead>\n",
       "  <tbody>\n",
       "    <tr>\n",
       "      <th>Experiment</th>\n",
       "      <td>2_6</td>\n",
       "      <td>2_6</td>\n",
       "      <td>2_6</td>\n",
       "      <td>2_6</td>\n",
       "      <td>2_6</td>\n",
       "    </tr>\n",
       "    <tr>\n",
       "      <th>Temp</th>\n",
       "      <td>0.0</td>\n",
       "      <td>0.5</td>\n",
       "      <td>1.0</td>\n",
       "      <td>1.5</td>\n",
       "      <td>2.0</td>\n",
       "    </tr>\n",
       "    <tr>\n",
       "      <th>p(A)</th>\n",
       "      <td>0.00%</td>\n",
       "      <td>8.00%</td>\n",
       "      <td>12.00%</td>\n",
       "      <td>32.65%</td>\n",
       "      <td>41.86%</td>\n",
       "    </tr>\n",
       "    <tr>\n",
       "      <th>p(B)</th>\n",
       "      <td>0.00%</td>\n",
       "      <td>0.00%</td>\n",
       "      <td>0.00%</td>\n",
       "      <td>0.00%</td>\n",
       "      <td>0.00%</td>\n",
       "    </tr>\n",
       "    <tr>\n",
       "      <th>p(C)</th>\n",
       "      <td>100.00%</td>\n",
       "      <td>92.00%</td>\n",
       "      <td>88.00%</td>\n",
       "      <td>67.35%</td>\n",
       "      <td>58.14%</td>\n",
       "    </tr>\n",
       "    <tr>\n",
       "      <th>Obs.</th>\n",
       "      <td>50</td>\n",
       "      <td>50</td>\n",
       "      <td>50</td>\n",
       "      <td>49</td>\n",
       "      <td>43</td>\n",
       "    </tr>\n",
       "  </tbody>\n",
       "</table>\n",
       "</div>"
      ],
      "text/plain": [
       "                  0       1       2       3       4\n",
       "Experiment      2_6     2_6     2_6     2_6     2_6\n",
       "Temp            0.0     0.5     1.0     1.5     2.0\n",
       "p(A)          0.00%   8.00%  12.00%  32.65%  41.86%\n",
       "p(B)          0.00%   0.00%   0.00%   0.00%   0.00%\n",
       "p(C)        100.00%  92.00%  88.00%  67.35%  58.14%\n",
       "Obs.             50      50      50      49      43"
      ]
     },
     "execution_count": 124,
     "metadata": {},
     "output_type": "execute_result"
    }
   ],
   "source": [
    "#results_2_6, probs_2_6 = temperature_loop(experiment_id = \"2_6\", temperature_list = [0, 0.5, 1, 1.5, 2], n = 50)\n",
    "probs_2_6"
   ]
  },
  {
   "cell_type": "markdown",
   "metadata": {},
   "source": [
    "- Prompt 7: Primed & all answer options, renamed & reordered"
   ]
  },
  {
   "cell_type": "code",
   "execution_count": 123,
   "metadata": {},
   "outputs": [
    {
     "data": {
      "text/html": [
       "<div>\n",
       "<style scoped>\n",
       "    .dataframe tbody tr th:only-of-type {\n",
       "        vertical-align: middle;\n",
       "    }\n",
       "\n",
       "    .dataframe tbody tr th {\n",
       "        vertical-align: top;\n",
       "    }\n",
       "\n",
       "    .dataframe thead th {\n",
       "        text-align: right;\n",
       "    }\n",
       "</style>\n",
       "<table border=\"1\" class=\"dataframe\">\n",
       "  <thead>\n",
       "    <tr style=\"text-align: right;\">\n",
       "      <th></th>\n",
       "      <th>0</th>\n",
       "      <th>1</th>\n",
       "      <th>2</th>\n",
       "      <th>3</th>\n",
       "      <th>4</th>\n",
       "    </tr>\n",
       "  </thead>\n",
       "  <tbody>\n",
       "    <tr>\n",
       "      <th>Experiment</th>\n",
       "      <td>2_7</td>\n",
       "      <td>2_7</td>\n",
       "      <td>2_7</td>\n",
       "      <td>2_7</td>\n",
       "      <td>2_7</td>\n",
       "    </tr>\n",
       "    <tr>\n",
       "      <th>Temp</th>\n",
       "      <td>0.0</td>\n",
       "      <td>0.5</td>\n",
       "      <td>1.0</td>\n",
       "      <td>1.5</td>\n",
       "      <td>2.0</td>\n",
       "    </tr>\n",
       "    <tr>\n",
       "      <th>p(A)</th>\n",
       "      <td>0.00%</td>\n",
       "      <td>0.00%</td>\n",
       "      <td>0.00%</td>\n",
       "      <td>0.00%</td>\n",
       "      <td>0.00%</td>\n",
       "    </tr>\n",
       "    <tr>\n",
       "      <th>p(B)</th>\n",
       "      <td>0.00%</td>\n",
       "      <td>0.00%</td>\n",
       "      <td>0.00%</td>\n",
       "      <td>0.00%</td>\n",
       "      <td>2.08%</td>\n",
       "    </tr>\n",
       "    <tr>\n",
       "      <th>p(C)</th>\n",
       "      <td>100.00%</td>\n",
       "      <td>100.00%</td>\n",
       "      <td>100.00%</td>\n",
       "      <td>100.00%</td>\n",
       "      <td>97.92%</td>\n",
       "    </tr>\n",
       "    <tr>\n",
       "      <th>Obs.</th>\n",
       "      <td>50</td>\n",
       "      <td>50</td>\n",
       "      <td>50</td>\n",
       "      <td>50</td>\n",
       "      <td>48</td>\n",
       "    </tr>\n",
       "  </tbody>\n",
       "</table>\n",
       "</div>"
      ],
      "text/plain": [
       "                  0        1        2        3       4\n",
       "Experiment      2_7      2_7      2_7      2_7     2_7\n",
       "Temp            0.0      0.5      1.0      1.5     2.0\n",
       "p(A)          0.00%    0.00%    0.00%    0.00%   0.00%\n",
       "p(B)          0.00%    0.00%    0.00%    0.00%   2.08%\n",
       "p(C)        100.00%  100.00%  100.00%  100.00%  97.92%\n",
       "Obs.             50       50       50       50      48"
      ]
     },
     "execution_count": 123,
     "metadata": {},
     "output_type": "execute_result"
    }
   ],
   "source": [
    "#results_2_7, probs_2_7 = temperature_loop(experiment_id = \"2_7\", temperature_list = [0, 0.5, 1, 1.5, 2], n = 50)\n",
    "probs_2_7"
   ]
  },
  {
   "cell_type": "markdown",
   "metadata": {},
   "source": [
    "- Prompt 8: Primed & second option (decoy) removed, renamed & reordered"
   ]
  },
  {
   "cell_type": "code",
   "execution_count": 122,
   "metadata": {},
   "outputs": [
    {
     "data": {
      "text/html": [
       "<div>\n",
       "<style scoped>\n",
       "    .dataframe tbody tr th:only-of-type {\n",
       "        vertical-align: middle;\n",
       "    }\n",
       "\n",
       "    .dataframe tbody tr th {\n",
       "        vertical-align: top;\n",
       "    }\n",
       "\n",
       "    .dataframe thead th {\n",
       "        text-align: right;\n",
       "    }\n",
       "</style>\n",
       "<table border=\"1\" class=\"dataframe\">\n",
       "  <thead>\n",
       "    <tr style=\"text-align: right;\">\n",
       "      <th></th>\n",
       "      <th>0</th>\n",
       "      <th>1</th>\n",
       "      <th>2</th>\n",
       "      <th>3</th>\n",
       "      <th>4</th>\n",
       "    </tr>\n",
       "  </thead>\n",
       "  <tbody>\n",
       "    <tr>\n",
       "      <th>Experiment</th>\n",
       "      <td>2_8</td>\n",
       "      <td>2_8</td>\n",
       "      <td>2_8</td>\n",
       "      <td>2_8</td>\n",
       "      <td>2_8</td>\n",
       "    </tr>\n",
       "    <tr>\n",
       "      <th>Temp</th>\n",
       "      <td>0.0</td>\n",
       "      <td>0.5</td>\n",
       "      <td>1.0</td>\n",
       "      <td>1.5</td>\n",
       "      <td>2.0</td>\n",
       "    </tr>\n",
       "    <tr>\n",
       "      <th>p(A)</th>\n",
       "      <td>0.00%</td>\n",
       "      <td>0.00%</td>\n",
       "      <td>2.00%</td>\n",
       "      <td>2.00%</td>\n",
       "      <td>11.90%</td>\n",
       "    </tr>\n",
       "    <tr>\n",
       "      <th>p(B)</th>\n",
       "      <td>0.00%</td>\n",
       "      <td>0.00%</td>\n",
       "      <td>0.00%</td>\n",
       "      <td>0.00%</td>\n",
       "      <td>0.00%</td>\n",
       "    </tr>\n",
       "    <tr>\n",
       "      <th>p(C)</th>\n",
       "      <td>100.00%</td>\n",
       "      <td>100.00%</td>\n",
       "      <td>98.00%</td>\n",
       "      <td>98.00%</td>\n",
       "      <td>88.10%</td>\n",
       "    </tr>\n",
       "    <tr>\n",
       "      <th>Obs.</th>\n",
       "      <td>50</td>\n",
       "      <td>50</td>\n",
       "      <td>50</td>\n",
       "      <td>50</td>\n",
       "      <td>42</td>\n",
       "    </tr>\n",
       "  </tbody>\n",
       "</table>\n",
       "</div>"
      ],
      "text/plain": [
       "                  0        1       2       3       4\n",
       "Experiment      2_8      2_8     2_8     2_8     2_8\n",
       "Temp            0.0      0.5     1.0     1.5     2.0\n",
       "p(A)          0.00%    0.00%   2.00%   2.00%  11.90%\n",
       "p(B)          0.00%    0.00%   0.00%   0.00%   0.00%\n",
       "p(C)        100.00%  100.00%  98.00%  98.00%  88.10%\n",
       "Obs.             50       50      50      50      42"
      ]
     },
     "execution_count": 122,
     "metadata": {},
     "output_type": "execute_result"
    }
   ],
   "source": [
    "#results_2_8, probs_2_8 = temperature_loop(experiment_id = \"2_8\", temperature_list = [0, 0.5, 1, 1.5, 2], n = 50)\n",
    "probs_2_8"
   ]
  },
  {
   "cell_type": "code",
   "execution_count": 111,
   "metadata": {},
   "outputs": [
    {
     "data": {
      "image/png": "[encoded data removed]",
      "text/plain": [
       "<Figure size 1000x500 with 1 Axes>"
      ]
     },
     "metadata": {},
     "output_type": "display_data"
    }
   ],
   "source": [
    "plot_results(probs_2_8)"
   ]
  },
  {
   "cell_type": "code",
   "execution_count": null,
   "metadata": {},
   "outputs": [],
   "source": [
    "# Check if priming actually works\n",
    "#answer = []\n",
    "#response = client.chat.completions.create(\n",
    "#        model = \"gpt-3.5-turbo\",\n",
    "#        max_tokens = 100,\n",
    "#        temperature = 1, # range is 0 to 2\n",
    "#        messages = [\n",
    "#        {\"role\": \"user\", \"content\": \"\"\"Do you know about the Decoy Effect?\"\"\"},\n",
    "#                   ])\n",
    "## Store the answer in the list\n",
    "#answer = response.choices[0].message.content\n",
    "\n",
    "#answer"
   ]
  },
  {
   "cell_type": "markdown",
   "metadata": {},
   "source": [
    "-----------------------------------------------------"
   ]
  },
  {
   "cell_type": "markdown",
   "metadata": {},
   "source": [
    "- Save the results"
   ]
  },
  {
   "cell_type": "code",
   "execution_count": 121,
   "metadata": {},
   "outputs": [
    {
     "name": "stdout",
     "output_type": "stream",
     "text": [
      "Folder DE_probs_dfs already exists in current directory.\n"
     ]
    }
   ],
   "source": [
    "# Set folder name to save results to\n",
    "folder_name = \"Output/DE_probs_dfs\"\n",
    "\n",
    "# Check if path already exists, only create folder if not \n",
    "if not os.path.exists(folder_name):\n",
    "    os.mkdir(folder_name)\n",
    "    print(f\"Folder {folder_name} successfully created.\")\n",
    "else:\n",
    "    print(f\"Folder {folder_name} already exists in current directory.\")\n",
    "\n",
    "# Save dataframes with their respective experiment id as file name\n",
    "for i in np.arange(1,3):\n",
    "    for j in np.arange(1,9):\n",
    "        exec(f\"probs_{i}_{j}.to_csv('{folder_name}\\DE_probs_{i}_{j}.csv')\")"
   ]
  }
 ],
 "metadata": {
  "kernelspec": {
   "display_name": "Python 3",
   "language": "python",
   "name": "python3"
  },
  "language_info": {
   "codemirror_mode": {
    "name": "ipython",
    "version": 3
   },
   "file_extension": ".py",
   "mimetype": "text/x-python",
   "name": "python",
   "nbconvert_exporter": "python",
   "pygments_lexer": "ipython3",
   "version": "3.11.6"
  }
 },
 "nbformat": 4,
 "nbformat_minor": 2
}
