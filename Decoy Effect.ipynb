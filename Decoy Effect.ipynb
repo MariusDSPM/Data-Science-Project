{
 "cells": [
  {
   "cell_type": "markdown",
   "metadata": {},
   "source": [
    "### Decoy Effect"
   ]
  },
  {
   "cell_type": "markdown",
   "metadata": {},
   "source": [
    "This notebook aims to recreate some findings concerning the **Decoy Effect**. Specifically, we recreate the event described in https://thestrategystory.com/2020/10/02/economist-magazine-a-story-of-clever-decoy-pricing/ with numbers taken from https://en.wikipedia.org/wiki/Decoy_effect.\n",
    "\n",
    "- Huge deviations in runtime of cells: 50x5 function calls for GPT-3.5-Turbo can take ~5 min up to ~120 min (24.11.2023)"
   ]
  },
  {
   "cell_type": "markdown",
   "metadata": {},
   "source": [
    "The aspect of *prompt engineering* or *prompt optimization* seems very important in this case. An easy proof whether the ouput is meaningful and the model answered as desired is to check if all resulting **probabilities add up to 100%**."
   ]
  },
  {
   "cell_type": "code",
   "execution_count": 12,
   "metadata": {},
   "outputs": [],
   "source": [
    "from openai import OpenAI\n",
    "import openai\n",
    "import matplotlib.pyplot as plt\n",
    "import os \n",
    "import numpy as np\n",
    "import pandas as pd\n",
    "import re"
   ]
  },
  {
   "cell_type": "code",
   "execution_count": 13,
   "metadata": {},
   "outputs": [],
   "source": [
    "# Get API key (previously saved as environmental variable)\n",
    "openai.api_key = os.environ[\"OPENAI_API_KEY\"]\n",
    "\n",
    "# Set client\n",
    "client = OpenAI()\n",
    "\n",
    "# Set global plot style\n",
    "plt.style.use('seaborn-v0_8')"
   ]
  },
  {
   "cell_type": "markdown",
   "metadata": {},
   "source": [
    "|Answer option          | Scenario 1 | Scenario 2 (no 2nd option)|\n",
    "|-----------------------|--------------|-----------|\n",
    "| Online subscription   |     16%      |  68%       |\n",
    "| Print subscribtion    |      0%     | 0%        |\n",
    "| Combination           |     84%   | 32%        |\n",
    "\n",
    "(empirical findings)\n"
   ]
  },
  {
   "cell_type": "markdown",
   "metadata": {},
   "source": [
    "The answer options for this experiment remain the same throughout each prompt, being:\n",
    "-  A: 1-year Economist.com subscription for $59.00, including access to all articles from 1997 onwards.\n",
    "-  B: 1-year Print subscription to The Economist for $125.00.\n",
    "-  C: Print & web subscription for 125$: 1-year subscription to the print edition of The Econnomist and online access to all articles from 1997 onwards."
   ]
  },
  {
   "cell_type": "markdown",
   "metadata": {},
   "source": [
    "------------------------------------------------------------------------------------------------------------------------"
   ]
  },
  {
   "cell_type": "markdown",
   "metadata": {},
   "source": [
    "#### Setting up a function to query ChatGPT with varying parameters"
   ]
  },
  {
   "cell_type": "code",
   "execution_count": 14,
   "metadata": {},
   "outputs": [],
   "source": [
    "# Function to extract prompt id from prompt name \n",
    "def extract_prompt_id(prompt):\n",
    "    # Just the numerical part is enough \n",
    "    match = re.search(r'\\d+', prompt)\n",
    "    if match:\n",
    "        return int(match.group())\n",
    "    else:\n",
    "        return None"
   ]
  },
  {
   "cell_type": "code",
   "execution_count": 15,
   "metadata": {},
   "outputs": [],
   "source": [
    "def decoy_function(prompt, model, n, temperature = 1, max_tokens = 1):\n",
    "\n",
    "    \"\"\"\n",
    "    Function to query ChatGPT in order to find out about the extent to which it adheres to the decoy effect\n",
    "    \n",
    "    Args:\n",
    "        prompt: Specific prompt to be used for querying ChatGPT e.g. Chat in web-interface. \n",
    "        model: Model to be used for querying ChatGPT e.g. \"gpt-3.5-turbo\", \"gpt-4\", \"gpt-4-1106-preview\"\n",
    "        n: Number of queries to be made\n",
    "        temperature: Degree of randomness with range 0 (deterministic) to 2 (random)\n",
    "        max_tokens: Maximum number of tokens in response object\n",
    "        \n",
    "    Returns:\n",
    "        results: Count of answers for each option\n",
    "        probs: Probability of each option being chosen\n",
    "    \"\"\"\n",
    "\n",
    "    answers = []\n",
    "    for _ in range(n): \n",
    "        response = client.chat.completions.create(\n",
    "            model = model, \n",
    "            max_tokens = max_tokens,\n",
    "            temperature = temperature, # range is 0 to 2\n",
    "            messages = [\n",
    "            {\"role\": \"user\", \"content\": prompt},\n",
    "                   ])\n",
    "\n",
    "        # Store the answer in the list\n",
    "        answer = response.choices[0].message.content\n",
    "        answers.append(answer.strip())\n",
    "    \n",
    "    # Extract number of prompt\n",
    "    prompt_id = extract_prompt_id(prompt)\n",
    "\n",
    "    # Counting results\n",
    "    A = answers.count(\"A\")\n",
    "    B = answers.count(\"B\")\n",
    "    C = answers.count(\"C\")\n",
    "\n",
    "    # Collecting results in a dataframe\n",
    "    results = [prompt_id, temperature, A, B, C]\n",
    "\n",
    "    # Getting percentage each answer\n",
    "    p_a = f\"{(A / len(answers)) * 100:.2f}%\"\n",
    "    p_b = f\"{(B / len(answers)) * 100:.2f}%\"\n",
    "    p_c = f\"{(C / len(answers)) * 100:.2f}%\"\n",
    "\n",
    "    # Collect probabilities in a dataframe\n",
    "    probs = [prompt_id, temperature, p_a, p_b, p_c]\n",
    "\n",
    "    # Give out results\n",
    "    return results, probs"
   ]
  },
  {
   "cell_type": "markdown",
   "metadata": {},
   "source": [
    "-----------------------------------------------------------"
   ]
  },
  {
   "cell_type": "markdown",
   "metadata": {},
   "source": [
    "#### Next we set up the different prompts we are going to use\n",
    "\n",
    "For some models the prompts will have to be readjusted. This step has to be performed because the models answer in different manners and we have to make sure that the output is actually meaningful."
   ]
  },
  {
   "cell_type": "markdown",
   "metadata": {},
   "source": [
    "- Prompt 1: Unprimed & all answer options"
   ]
  },
  {
   "cell_type": "code",
   "execution_count": 16,
   "metadata": {},
   "outputs": [],
   "source": [
    "prompt_1 = \"\"\"You are presented with three different subscription alternatives for the \"The Economist\" magazine:\n",
    "         A: 1-year Economist.com subscription for $59.00, including access to all articles from 1997 onwards.\n",
    "         B: 1-year Print subscription to The Economist for $125.00.\n",
    "         C: Print & web subscription for 125$: 1-year subscription to the print edition of The Econnomist and online access to all articles from 1997 onwards.\n",
    "         Which alternative would you choose? Please answer by only giving the letter of the alternative A, B or C you would choose without any reasoning.\"\"\""
   ]
  },
  {
   "cell_type": "markdown",
   "metadata": {},
   "source": [
    "- Prompt 2: Unprimed & second option (decoy) removed"
   ]
  },
  {
   "cell_type": "code",
   "execution_count": 17,
   "metadata": {},
   "outputs": [],
   "source": [
    "prompt_2 = \"\"\"You are presented with three different subscription alternatives for the \"The Economist\" magazine:\n",
    "         A: 1-year Economist.com subscription for $59.00, including access to all articles from 1997 onwards.\n",
    "         B: 1-year Print subscription to The Economist for $125.00.\n",
    "         C: Print & web subscription for 125$: 1-year subscription to the print edition of The Econnomist and online access to all articles from 1997 onwards.\n",
    "         The Marketing team of The Economist however has now decided to remove option B. \n",
    "         Which remaining alternative would you choose? Please answer by only giving the letter of the alternative A, B or C you would choose without any reasoning.\"\"\""
   ]
  },
  {
   "cell_type": "markdown",
   "metadata": {},
   "source": [
    "- Prompt 3: Primed & all answer options"
   ]
  },
  {
   "cell_type": "code",
   "execution_count": 18,
   "metadata": {},
   "outputs": [],
   "source": [
    "prompt_3 = \"\"\"You are a market researcher that knows about the Decoy Effect. \n",
    "         You are presented with three different subscription alternatives for the \"The Economist\" magazine:\n",
    "         A: 1-year Economist.com subscription for $59.00, including access to all articles from 1997 onwards.\n",
    "         B: 1-year Print subscription to The Economist for $125.00.\n",
    "         C: Print & web subscription for 125$: 1-year subscription to the print edition of The Econnomist and online access to all articles from 1997 onwards.\n",
    "         Which alternative would you choose? Please answer by only giving the letter of the alternative A, B or C you would choose without any reasoning.\"\"\""
   ]
  },
  {
   "cell_type": "markdown",
   "metadata": {},
   "source": [
    "- Prompt 4: Primed & second option (decoy) removed"
   ]
  },
  {
   "cell_type": "code",
   "execution_count": 19,
   "metadata": {},
   "outputs": [],
   "source": [
    "prompt_4 = \"\"\"You are a market researcher that knows about the Decoy Effect. \n",
    "         You are presented with three different subscription alternatives for the \"The Economist\" magazine:\n",
    "         A: 1-year Economist.com subscription for $59.00, including access to all articles from 1997 onwards.\n",
    "         B: 1-year Print subscription to The Economist for $125.00.\n",
    "         C: Print & web subscription for 125$: 1-year subscription to the print edition of The Econnomist and online access to all articles from 1997 onwards.\n",
    "         The Marketing team of The Economist however has now decided to remove option B. \n",
    "         Which remaining alternative would you choose? Please answer by only giving the letter of the alternative A, B or C you would choose without any reasoning.\"\"\""
   ]
  },
  {
   "cell_type": "markdown",
   "metadata": {},
   "source": [
    "- Set up prompt dictionary to extract id in cleaner way"
   ]
  },
  {
   "cell_type": "code",
   "execution_count": 20,
   "metadata": {},
   "outputs": [],
   "source": [
    "prompt_ids= {\n",
    "    \"prompt_1\": 1,\n",
    "    \"prompt_2\": 2,\n",
    "    \"prompt_3\": 3,\n",
    "    \"prompt_4\": 4,\n",
    "}"
   ]
  },
  {
   "cell_type": "markdown",
   "metadata": {},
   "source": [
    "--------------------------------------------------------"
   ]
  },
  {
   "cell_type": "markdown",
   "metadata": {},
   "source": [
    "## Comparing different LLMs"
   ]
  },
  {
   "cell_type": "markdown",
   "metadata": {},
   "source": [
    "#### GPT-3.5-Turbo\n",
    "\n",
    "Model training ended in September 2021"
   ]
  },
  {
   "cell_type": "code",
   "execution_count": 21,
   "metadata": {},
   "outputs": [
    {
     "data": {
      "text/plain": [
       "[1, 0.5, '0.00%', '10.00%', '90.00%']"
      ]
     },
     "execution_count": 21,
     "metadata": {},
     "output_type": "execute_result"
    }
   ],
   "source": [
    "# Simple test of function\n",
    "results_1, probs_1 = decoy_function(prompt = prompt_1, model = \"gpt-3.5-turbo\", n = 10, temperature = 0.5, max_tokens = 1)\n",
    "probs_1\n",
    "\n",
    "# prompt, temp, p_a, p_b, p_c"
   ]
  },
  {
   "cell_type": "markdown",
   "metadata": {},
   "source": [
    "- Prompt 1: Unprimed & all answer options"
   ]
  },
  {
   "cell_type": "code",
   "execution_count": 22,
   "metadata": {},
   "outputs": [
    {
     "data": {
      "text/html": [
       "<div>\n",
       "<style scoped>\n",
       "    .dataframe tbody tr th:only-of-type {\n",
       "        vertical-align: middle;\n",
       "    }\n",
       "\n",
       "    .dataframe tbody tr th {\n",
       "        vertical-align: top;\n",
       "    }\n",
       "\n",
       "    .dataframe thead th {\n",
       "        text-align: right;\n",
       "    }\n",
       "</style>\n",
       "<table border=\"1\" class=\"dataframe\">\n",
       "  <thead>\n",
       "    <tr style=\"text-align: right;\">\n",
       "      <th></th>\n",
       "      <th>0</th>\n",
       "      <th>1</th>\n",
       "      <th>2</th>\n",
       "      <th>3</th>\n",
       "      <th>4</th>\n",
       "    </tr>\n",
       "  </thead>\n",
       "  <tbody>\n",
       "    <tr>\n",
       "      <th>Prompt</th>\n",
       "      <td>1</td>\n",
       "      <td>1</td>\n",
       "      <td>1</td>\n",
       "      <td>1</td>\n",
       "      <td>1</td>\n",
       "    </tr>\n",
       "    <tr>\n",
       "      <th>Temp</th>\n",
       "      <td>0.0</td>\n",
       "      <td>0.5</td>\n",
       "      <td>1.0</td>\n",
       "      <td>1.5</td>\n",
       "      <td>2.0</td>\n",
       "    </tr>\n",
       "    <tr>\n",
       "      <th>p(A)</th>\n",
       "      <td>0.00%</td>\n",
       "      <td>0.00%</td>\n",
       "      <td>0.00%</td>\n",
       "      <td>8.00%</td>\n",
       "      <td>10.00%</td>\n",
       "    </tr>\n",
       "    <tr>\n",
       "      <th>p(B)</th>\n",
       "      <td>0.00%</td>\n",
       "      <td>4.00%</td>\n",
       "      <td>6.00%</td>\n",
       "      <td>20.00%</td>\n",
       "      <td>24.00%</td>\n",
       "    </tr>\n",
       "    <tr>\n",
       "      <th>p(C)</th>\n",
       "      <td>100.00%</td>\n",
       "      <td>96.00%</td>\n",
       "      <td>94.00%</td>\n",
       "      <td>72.00%</td>\n",
       "      <td>58.00%</td>\n",
       "    </tr>\n",
       "  </tbody>\n",
       "</table>\n",
       "</div>"
      ],
      "text/plain": [
       "              0       1       2       3       4\n",
       "Prompt        1       1       1       1       1\n",
       "Temp        0.0     0.5     1.0     1.5     2.0\n",
       "p(A)      0.00%   0.00%   0.00%   8.00%  10.00%\n",
       "p(B)      0.00%   4.00%   6.00%  20.00%  24.00%\n",
       "p(C)    100.00%  96.00%  94.00%  72.00%  58.00%"
      ]
     },
     "execution_count": 22,
     "metadata": {},
     "output_type": "execute_result"
    }
   ],
   "source": [
    "# Empty lists for storing results\n",
    "results_1 = []\n",
    "probs_1 = []\n",
    "\n",
    "# Loop over 5 different temperature values, calling the function 50 times each \n",
    "for temperature in [0, 0.5, 1, 1.5, 2]:\n",
    "    results, probs = decoy_function(prompt = prompt_1, model = \"gpt-3.5-turbo\", n = 50, temperature = temperature, max_tokens=1)\n",
    "    results_1.append(results) # vertically appended\n",
    "    probs_1.append(probs)\n",
    "\n",
    "# Horizontally concatenate the results, transpose and set index\n",
    "results_1 = pd.DataFrame(results_1).transpose().set_index(pd.Index([\"Prompt\", \"Temp\", \"p(A)\", \"p(B)\", \"p(C)\"]))\n",
    "probs_1 = pd.DataFrame(probs_1).transpose().set_index(pd.Index([\"Prompt\", \"Temp\", \"p(A)\", \"p(B)\", \"p(C)\"]))\n",
    "\n",
    "# Display results\n",
    "probs_1"
   ]
  },
  {
   "cell_type": "code",
   "execution_count": 23,
   "metadata": {},
   "outputs": [],
   "source": [
    "# probs_1 (from previous run) -> Why do they suddenly choose B?"
   ]
  },
  {
   "cell_type": "markdown",
   "metadata": {},
   "source": [
    "- Prompt 2: Unprimed & second option (decoy) removed"
   ]
  },
  {
   "cell_type": "code",
   "execution_count": 24,
   "metadata": {},
   "outputs": [
    {
     "data": {
      "text/html": [
       "<div>\n",
       "<style scoped>\n",
       "    .dataframe tbody tr th:only-of-type {\n",
       "        vertical-align: middle;\n",
       "    }\n",
       "\n",
       "    .dataframe tbody tr th {\n",
       "        vertical-align: top;\n",
       "    }\n",
       "\n",
       "    .dataframe thead th {\n",
       "        text-align: right;\n",
       "    }\n",
       "</style>\n",
       "<table border=\"1\" class=\"dataframe\">\n",
       "  <thead>\n",
       "    <tr style=\"text-align: right;\">\n",
       "      <th></th>\n",
       "      <th>0</th>\n",
       "      <th>1</th>\n",
       "      <th>2</th>\n",
       "      <th>3</th>\n",
       "      <th>4</th>\n",
       "    </tr>\n",
       "  </thead>\n",
       "  <tbody>\n",
       "    <tr>\n",
       "      <th>Prompt</th>\n",
       "      <td>1</td>\n",
       "      <td>1</td>\n",
       "      <td>1</td>\n",
       "      <td>1</td>\n",
       "      <td>1</td>\n",
       "    </tr>\n",
       "    <tr>\n",
       "      <th>Temp</th>\n",
       "      <td>0.0</td>\n",
       "      <td>0.5</td>\n",
       "      <td>1.0</td>\n",
       "      <td>1.5</td>\n",
       "      <td>2.0</td>\n",
       "    </tr>\n",
       "    <tr>\n",
       "      <th>p(A)</th>\n",
       "      <td>100.00%</td>\n",
       "      <td>78.00%</td>\n",
       "      <td>70.00%</td>\n",
       "      <td>64.00%</td>\n",
       "      <td>58.00%</td>\n",
       "    </tr>\n",
       "    <tr>\n",
       "      <th>p(B)</th>\n",
       "      <td>0.00%</td>\n",
       "      <td>0.00%</td>\n",
       "      <td>0.00%</td>\n",
       "      <td>0.00%</td>\n",
       "      <td>0.00%</td>\n",
       "    </tr>\n",
       "    <tr>\n",
       "      <th>p(C)</th>\n",
       "      <td>0.00%</td>\n",
       "      <td>22.00%</td>\n",
       "      <td>30.00%</td>\n",
       "      <td>36.00%</td>\n",
       "      <td>36.00%</td>\n",
       "    </tr>\n",
       "  </tbody>\n",
       "</table>\n",
       "</div>"
      ],
      "text/plain": [
       "              0       1       2       3       4\n",
       "Prompt        1       1       1       1       1\n",
       "Temp        0.0     0.5     1.0     1.5     2.0\n",
       "p(A)    100.00%  78.00%  70.00%  64.00%  58.00%\n",
       "p(B)      0.00%   0.00%   0.00%   0.00%   0.00%\n",
       "p(C)      0.00%  22.00%  30.00%  36.00%  36.00%"
      ]
     },
     "execution_count": 24,
     "metadata": {},
     "output_type": "execute_result"
    }
   ],
   "source": [
    "# Empty lists for storing results\n",
    "results_2 = []\n",
    "probs_2 = []\n",
    "\n",
    "# Loop over 5 different temperature values \n",
    "for temperature in [0, 0.5, 1, 1.5, 2]:\n",
    "    results, probs = decoy_function(prompt = prompt_2, model = \"gpt-3.5-turbo\", n = 50, temperature = temperature, max_tokens = 1)\n",
    "    results_2.append(results) # vertically appended\n",
    "    probs_2.append(probs)\n",
    "\n",
    "# Horizontally concatenate the results, transpose and set index\n",
    "results_2 = pd.DataFrame(results_2).transpose().set_index(pd.Index([\"Prompt\", \"Temp\", \"p(A)\", \"p(B)\", \"p(C)\"]))\n",
    "probs_2 = pd.DataFrame(probs_2).transpose().set_index(pd.Index([\"Prompt\", \"Temp\", \"p(A)\", \"p(B)\", \"p(C)\"]))\n",
    "\n",
    "# Display results\n",
    "probs_2"
   ]
  },
  {
   "cell_type": "markdown",
   "metadata": {},
   "source": [
    "- Prompt 3: Primed & all answer options"
   ]
  },
  {
   "cell_type": "code",
   "execution_count": 25,
   "metadata": {},
   "outputs": [
    {
     "data": {
      "text/html": [
       "<div>\n",
       "<style scoped>\n",
       "    .dataframe tbody tr th:only-of-type {\n",
       "        vertical-align: middle;\n",
       "    }\n",
       "\n",
       "    .dataframe tbody tr th {\n",
       "        vertical-align: top;\n",
       "    }\n",
       "\n",
       "    .dataframe thead th {\n",
       "        text-align: right;\n",
       "    }\n",
       "</style>\n",
       "<table border=\"1\" class=\"dataframe\">\n",
       "  <thead>\n",
       "    <tr style=\"text-align: right;\">\n",
       "      <th></th>\n",
       "      <th>0</th>\n",
       "      <th>1</th>\n",
       "      <th>2</th>\n",
       "      <th>3</th>\n",
       "      <th>4</th>\n",
       "    </tr>\n",
       "  </thead>\n",
       "  <tbody>\n",
       "    <tr>\n",
       "      <th>Prompt</th>\n",
       "      <td>1</td>\n",
       "      <td>1</td>\n",
       "      <td>1</td>\n",
       "      <td>1</td>\n",
       "      <td>1</td>\n",
       "    </tr>\n",
       "    <tr>\n",
       "      <th>Temp</th>\n",
       "      <td>0.0</td>\n",
       "      <td>0.5</td>\n",
       "      <td>1.0</td>\n",
       "      <td>1.5</td>\n",
       "      <td>2.0</td>\n",
       "    </tr>\n",
       "    <tr>\n",
       "      <th>p(A)</th>\n",
       "      <td>0.00%</td>\n",
       "      <td>0.00%</td>\n",
       "      <td>12.00%</td>\n",
       "      <td>6.00%</td>\n",
       "      <td>14.00%</td>\n",
       "    </tr>\n",
       "    <tr>\n",
       "      <th>p(B)</th>\n",
       "      <td>12.00%</td>\n",
       "      <td>36.00%</td>\n",
       "      <td>38.00%</td>\n",
       "      <td>38.00%</td>\n",
       "      <td>40.00%</td>\n",
       "    </tr>\n",
       "    <tr>\n",
       "      <th>p(C)</th>\n",
       "      <td>88.00%</td>\n",
       "      <td>64.00%</td>\n",
       "      <td>48.00%</td>\n",
       "      <td>48.00%</td>\n",
       "      <td>36.00%</td>\n",
       "    </tr>\n",
       "  </tbody>\n",
       "</table>\n",
       "</div>"
      ],
      "text/plain": [
       "             0       1       2       3       4\n",
       "Prompt       1       1       1       1       1\n",
       "Temp       0.0     0.5     1.0     1.5     2.0\n",
       "p(A)     0.00%   0.00%  12.00%   6.00%  14.00%\n",
       "p(B)    12.00%  36.00%  38.00%  38.00%  40.00%\n",
       "p(C)    88.00%  64.00%  48.00%  48.00%  36.00%"
      ]
     },
     "execution_count": 25,
     "metadata": {},
     "output_type": "execute_result"
    }
   ],
   "source": [
    "# Empty lists for storing results\n",
    "results_3 = []\n",
    "probs_3 = []\n",
    "\n",
    "# Loop over 5 different temperature values \n",
    "for temperature in [0, 0.5, 1, 1.5, 2]:\n",
    "    results, probs = decoy_function(prompt = prompt_3, model = \"gpt-3.5-turbo\", n = 50, temperature = temperature, max_tokens = 1)\n",
    "    results_3.append(results) # vertically appended\n",
    "    probs_3.append(probs)\n",
    "\n",
    "# Horizontally concatenate the results, transpose and set index\n",
    "results_3 = pd.DataFrame(results_3).transpose().set_index(pd.Index([\"Prompt\", \"Temp\", \"p(A)\", \"p(B)\", \"p(C)\"]))\n",
    "probs_3 = pd.DataFrame(probs_3).transpose().set_index(pd.Index([\"Prompt\", \"Temp\", \"p(A)\", \"p(B)\", \"p(C)\"]))\n",
    "\n",
    "# Display results\n",
    "probs_3"
   ]
  },
  {
   "cell_type": "markdown",
   "metadata": {},
   "source": [
    "- Prompt 4: Primed & second option (decoy) removed"
   ]
  },
  {
   "cell_type": "code",
   "execution_count": 26,
   "metadata": {},
   "outputs": [
    {
     "data": {
      "text/html": [
       "<div>\n",
       "<style scoped>\n",
       "    .dataframe tbody tr th:only-of-type {\n",
       "        vertical-align: middle;\n",
       "    }\n",
       "\n",
       "    .dataframe tbody tr th {\n",
       "        vertical-align: top;\n",
       "    }\n",
       "\n",
       "    .dataframe thead th {\n",
       "        text-align: right;\n",
       "    }\n",
       "</style>\n",
       "<table border=\"1\" class=\"dataframe\">\n",
       "  <thead>\n",
       "    <tr style=\"text-align: right;\">\n",
       "      <th></th>\n",
       "      <th>0</th>\n",
       "      <th>1</th>\n",
       "      <th>2</th>\n",
       "      <th>3</th>\n",
       "      <th>4</th>\n",
       "    </tr>\n",
       "  </thead>\n",
       "  <tbody>\n",
       "    <tr>\n",
       "      <th>Prompt</th>\n",
       "      <td>1</td>\n",
       "      <td>1</td>\n",
       "      <td>1</td>\n",
       "      <td>1</td>\n",
       "      <td>1</td>\n",
       "    </tr>\n",
       "    <tr>\n",
       "      <th>Temp</th>\n",
       "      <td>0.0</td>\n",
       "      <td>0.5</td>\n",
       "      <td>1.0</td>\n",
       "      <td>1.5</td>\n",
       "      <td>2.0</td>\n",
       "    </tr>\n",
       "    <tr>\n",
       "      <th>p(A)</th>\n",
       "      <td>0.00%</td>\n",
       "      <td>42.00%</td>\n",
       "      <td>50.00%</td>\n",
       "      <td>42.00%</td>\n",
       "      <td>46.00%</td>\n",
       "    </tr>\n",
       "    <tr>\n",
       "      <th>p(B)</th>\n",
       "      <td>0.00%</td>\n",
       "      <td>0.00%</td>\n",
       "      <td>0.00%</td>\n",
       "      <td>0.00%</td>\n",
       "      <td>0.00%</td>\n",
       "    </tr>\n",
       "    <tr>\n",
       "      <th>p(C)</th>\n",
       "      <td>100.00%</td>\n",
       "      <td>58.00%</td>\n",
       "      <td>50.00%</td>\n",
       "      <td>56.00%</td>\n",
       "      <td>44.00%</td>\n",
       "    </tr>\n",
       "  </tbody>\n",
       "</table>\n",
       "</div>"
      ],
      "text/plain": [
       "              0       1       2       3       4\n",
       "Prompt        1       1       1       1       1\n",
       "Temp        0.0     0.5     1.0     1.5     2.0\n",
       "p(A)      0.00%  42.00%  50.00%  42.00%  46.00%\n",
       "p(B)      0.00%   0.00%   0.00%   0.00%   0.00%\n",
       "p(C)    100.00%  58.00%  50.00%  56.00%  44.00%"
      ]
     },
     "execution_count": 26,
     "metadata": {},
     "output_type": "execute_result"
    }
   ],
   "source": [
    "# Empty lists for storing results\n",
    "results_4 = []\n",
    "probs_4 = []\n",
    "\n",
    "# Loop over 5 different temperature values \n",
    "for temperature in [0, 0.5, 1, 1.5, 2]:\n",
    "    results, probs = decoy_function(prompt = prompt_4, model = \"gpt-3.5-turbo\", n = 50, temperature = temperature, max_tokens = 1)\n",
    "    results_4.append(results) # vertically appended\n",
    "    probs_4.append(probs)\n",
    "\n",
    "# Horizontally concatenate the results, transpose and set index\n",
    "results_4 = pd.DataFrame(results_4).transpose().set_index(pd.Index([\"Prompt\", \"Temp\", \"p(A)\", \"p(B)\", \"p(C)\"]))\n",
    "probs_4 = pd.DataFrame(probs_4).transpose().set_index(pd.Index([\"Prompt\", \"Temp\", \"p(A)\", \"p(B)\", \"p(C)\"]))\n",
    "\n",
    "# Display results\n",
    "probs_4"
   ]
  },
  {
   "cell_type": "markdown",
   "metadata": {},
   "source": [
    "#### GPT-4-1106-preview\n",
    "\n",
    "Model training ended in April 2023"
   ]
  },
  {
   "cell_type": "markdown",
   "metadata": {},
   "source": [
    "- Prompt 1: Unprimed & all answer options"
   ]
  },
  {
   "cell_type": "code",
   "execution_count": 27,
   "metadata": {},
   "outputs": [
    {
     "data": {
      "text/html": [
       "<div>\n",
       "<style scoped>\n",
       "    .dataframe tbody tr th:only-of-type {\n",
       "        vertical-align: middle;\n",
       "    }\n",
       "\n",
       "    .dataframe tbody tr th {\n",
       "        vertical-align: top;\n",
       "    }\n",
       "\n",
       "    .dataframe thead th {\n",
       "        text-align: right;\n",
       "    }\n",
       "</style>\n",
       "<table border=\"1\" class=\"dataframe\">\n",
       "  <thead>\n",
       "    <tr style=\"text-align: right;\">\n",
       "      <th></th>\n",
       "      <th>0</th>\n",
       "      <th>1</th>\n",
       "      <th>2</th>\n",
       "      <th>3</th>\n",
       "      <th>4</th>\n",
       "    </tr>\n",
       "  </thead>\n",
       "  <tbody>\n",
       "    <tr>\n",
       "      <th>Prompt</th>\n",
       "      <td>1</td>\n",
       "      <td>1</td>\n",
       "      <td>1</td>\n",
       "      <td>1</td>\n",
       "      <td>1</td>\n",
       "    </tr>\n",
       "    <tr>\n",
       "      <th>Temp</th>\n",
       "      <td>0.0</td>\n",
       "      <td>0.5</td>\n",
       "      <td>1.0</td>\n",
       "      <td>1.5</td>\n",
       "      <td>2.0</td>\n",
       "    </tr>\n",
       "    <tr>\n",
       "      <th>p(A)</th>\n",
       "      <td>0.00%</td>\n",
       "      <td>0.00%</td>\n",
       "      <td>0.00%</td>\n",
       "      <td>2.00%</td>\n",
       "      <td>0.00%</td>\n",
       "    </tr>\n",
       "    <tr>\n",
       "      <th>p(B)</th>\n",
       "      <td>0.00%</td>\n",
       "      <td>0.00%</td>\n",
       "      <td>0.00%</td>\n",
       "      <td>0.00%</td>\n",
       "      <td>0.00%</td>\n",
       "    </tr>\n",
       "    <tr>\n",
       "      <th>p(C)</th>\n",
       "      <td>100.00%</td>\n",
       "      <td>100.00%</td>\n",
       "      <td>100.00%</td>\n",
       "      <td>98.00%</td>\n",
       "      <td>98.00%</td>\n",
       "    </tr>\n",
       "  </tbody>\n",
       "</table>\n",
       "</div>"
      ],
      "text/plain": [
       "              0        1        2       3       4\n",
       "Prompt        1        1        1       1       1\n",
       "Temp        0.0      0.5      1.0     1.5     2.0\n",
       "p(A)      0.00%    0.00%    0.00%   2.00%   0.00%\n",
       "p(B)      0.00%    0.00%    0.00%   0.00%   0.00%\n",
       "p(C)    100.00%  100.00%  100.00%  98.00%  98.00%"
      ]
     },
     "execution_count": 27,
     "metadata": {},
     "output_type": "execute_result"
    }
   ],
   "source": [
    "# Empty lists for storing results\n",
    "results_5 = []\n",
    "probs_5 = []\n",
    "\n",
    "# Loop over 5 different temperature values, calling the function 50 times each \n",
    "for temperature in [0, 0.5, 1, 1.5, 2]:\n",
    "    results, probs = decoy_function(prompt = prompt_1, model = \"gpt-4-1106-preview\", n = 50, temperature = temperature, max_tokens=1)\n",
    "    results_5.append(results) # vertically appended\n",
    "    probs_5.append(probs)\n",
    "\n",
    "# Horizontally concatenate the results, transpose and set index\n",
    "results_5 = pd.DataFrame(results_5).transpose().set_index(pd.Index([\"Prompt\", \"Temp\", \"p(A)\", \"p(B)\", \"p(C)\"]))\n",
    "probs_5 = pd.DataFrame(probs_5).transpose().set_index(pd.Index([\"Prompt\", \"Temp\", \"p(A)\", \"p(B)\", \"p(C)\"]))\n",
    "\n",
    "# Display results\n",
    "probs_5"
   ]
  },
  {
   "cell_type": "markdown",
   "metadata": {},
   "source": [
    "- Prompt 2: Unprimed & second option (decoy) removed"
   ]
  },
  {
   "cell_type": "code",
   "execution_count": 28,
   "metadata": {},
   "outputs": [
    {
     "data": {
      "text/html": [
       "<div>\n",
       "<style scoped>\n",
       "    .dataframe tbody tr th:only-of-type {\n",
       "        vertical-align: middle;\n",
       "    }\n",
       "\n",
       "    .dataframe tbody tr th {\n",
       "        vertical-align: top;\n",
       "    }\n",
       "\n",
       "    .dataframe thead th {\n",
       "        text-align: right;\n",
       "    }\n",
       "</style>\n",
       "<table border=\"1\" class=\"dataframe\">\n",
       "  <thead>\n",
       "    <tr style=\"text-align: right;\">\n",
       "      <th></th>\n",
       "      <th>0</th>\n",
       "      <th>1</th>\n",
       "      <th>2</th>\n",
       "      <th>3</th>\n",
       "      <th>4</th>\n",
       "    </tr>\n",
       "  </thead>\n",
       "  <tbody>\n",
       "    <tr>\n",
       "      <th>Prompt</th>\n",
       "      <td>1</td>\n",
       "      <td>1</td>\n",
       "      <td>1</td>\n",
       "      <td>1</td>\n",
       "      <td>1</td>\n",
       "    </tr>\n",
       "    <tr>\n",
       "      <th>Temp</th>\n",
       "      <td>0.0</td>\n",
       "      <td>0.5</td>\n",
       "      <td>1.0</td>\n",
       "      <td>1.5</td>\n",
       "      <td>2.0</td>\n",
       "    </tr>\n",
       "    <tr>\n",
       "      <th>p(A)</th>\n",
       "      <td>0.00%</td>\n",
       "      <td>2.00%</td>\n",
       "      <td>6.00%</td>\n",
       "      <td>20.00%</td>\n",
       "      <td>34.00%</td>\n",
       "    </tr>\n",
       "    <tr>\n",
       "      <th>p(B)</th>\n",
       "      <td>0.00%</td>\n",
       "      <td>0.00%</td>\n",
       "      <td>0.00%</td>\n",
       "      <td>0.00%</td>\n",
       "      <td>0.00%</td>\n",
       "    </tr>\n",
       "    <tr>\n",
       "      <th>p(C)</th>\n",
       "      <td>100.00%</td>\n",
       "      <td>98.00%</td>\n",
       "      <td>94.00%</td>\n",
       "      <td>76.00%</td>\n",
       "      <td>62.00%</td>\n",
       "    </tr>\n",
       "  </tbody>\n",
       "</table>\n",
       "</div>"
      ],
      "text/plain": [
       "              0       1       2       3       4\n",
       "Prompt        1       1       1       1       1\n",
       "Temp        0.0     0.5     1.0     1.5     2.0\n",
       "p(A)      0.00%   2.00%   6.00%  20.00%  34.00%\n",
       "p(B)      0.00%   0.00%   0.00%   0.00%   0.00%\n",
       "p(C)    100.00%  98.00%  94.00%  76.00%  62.00%"
      ]
     },
     "execution_count": 28,
     "metadata": {},
     "output_type": "execute_result"
    }
   ],
   "source": [
    "# Empty lists for storing results\n",
    "results_6 = []\n",
    "probs_6 = []\n",
    "\n",
    "# Loop over 5 different temperature values, calling the function 50 times each \n",
    "for temperature in [0, 0.5, 1, 1.5, 2]:\n",
    "    results, probs = decoy_function(prompt = prompt_2, model = \"gpt-4-1106-preview\", n = 50, temperature = temperature, max_tokens=1)\n",
    "    results_6.append(results) # vertically appended\n",
    "    probs_6.append(probs)\n",
    "\n",
    "# Horizontally concatenate the results, transpose and set index\n",
    "results_6 = pd.DataFrame(results_6).transpose().set_index(pd.Index([\"Prompt\", \"Temp\", \"p(A)\", \"p(B)\", \"p(C)\"]))\n",
    "probs_6 = pd.DataFrame(probs_6).transpose().set_index(pd.Index([\"Prompt\", \"Temp\", \"p(A)\", \"p(B)\", \"p(C)\"]))\n",
    "\n",
    "# Display results\n",
    "probs_6"
   ]
  },
  {
   "cell_type": "markdown",
   "metadata": {},
   "source": [
    "- Prompt 3: Primed & all answer options"
   ]
  },
  {
   "cell_type": "code",
   "execution_count": 29,
   "metadata": {},
   "outputs": [
    {
     "data": {
      "text/html": [
       "<div>\n",
       "<style scoped>\n",
       "    .dataframe tbody tr th:only-of-type {\n",
       "        vertical-align: middle;\n",
       "    }\n",
       "\n",
       "    .dataframe tbody tr th {\n",
       "        vertical-align: top;\n",
       "    }\n",
       "\n",
       "    .dataframe thead th {\n",
       "        text-align: right;\n",
       "    }\n",
       "</style>\n",
       "<table border=\"1\" class=\"dataframe\">\n",
       "  <thead>\n",
       "    <tr style=\"text-align: right;\">\n",
       "      <th></th>\n",
       "      <th>0</th>\n",
       "      <th>1</th>\n",
       "      <th>2</th>\n",
       "      <th>3</th>\n",
       "      <th>4</th>\n",
       "    </tr>\n",
       "  </thead>\n",
       "  <tbody>\n",
       "    <tr>\n",
       "      <th>Prompt</th>\n",
       "      <td>1</td>\n",
       "      <td>1</td>\n",
       "      <td>1</td>\n",
       "      <td>1</td>\n",
       "      <td>1</td>\n",
       "    </tr>\n",
       "    <tr>\n",
       "      <th>Temp</th>\n",
       "      <td>0.0</td>\n",
       "      <td>0.5</td>\n",
       "      <td>1.0</td>\n",
       "      <td>1.5</td>\n",
       "      <td>2.0</td>\n",
       "    </tr>\n",
       "    <tr>\n",
       "      <th>p(A)</th>\n",
       "      <td>0.00%</td>\n",
       "      <td>0.00%</td>\n",
       "      <td>0.00%</td>\n",
       "      <td>0.00%</td>\n",
       "      <td>0.00%</td>\n",
       "    </tr>\n",
       "    <tr>\n",
       "      <th>p(B)</th>\n",
       "      <td>0.00%</td>\n",
       "      <td>0.00%</td>\n",
       "      <td>0.00%</td>\n",
       "      <td>0.00%</td>\n",
       "      <td>0.00%</td>\n",
       "    </tr>\n",
       "    <tr>\n",
       "      <th>p(C)</th>\n",
       "      <td>100.00%</td>\n",
       "      <td>100.00%</td>\n",
       "      <td>100.00%</td>\n",
       "      <td>100.00%</td>\n",
       "      <td>98.00%</td>\n",
       "    </tr>\n",
       "  </tbody>\n",
       "</table>\n",
       "</div>"
      ],
      "text/plain": [
       "              0        1        2        3       4\n",
       "Prompt        1        1        1        1       1\n",
       "Temp        0.0      0.5      1.0      1.5     2.0\n",
       "p(A)      0.00%    0.00%    0.00%    0.00%   0.00%\n",
       "p(B)      0.00%    0.00%    0.00%    0.00%   0.00%\n",
       "p(C)    100.00%  100.00%  100.00%  100.00%  98.00%"
      ]
     },
     "execution_count": 29,
     "metadata": {},
     "output_type": "execute_result"
    }
   ],
   "source": [
    "# Empty lists for storing results\n",
    "results_7 = []\n",
    "probs_7 = []\n",
    "\n",
    "# Loop over 5 different temperature values, calling the function 50 times each \n",
    "for temperature in [0, 0.5, 1, 1.5, 2]:\n",
    "    results, probs = decoy_function(prompt = prompt_3, model = \"gpt-4-1106-preview\", n = 50, temperature = temperature, max_tokens=1)\n",
    "    results_7.append(results) # vertically appended\n",
    "    probs_7.append(probs)\n",
    "\n",
    "# Horizontally concatenate the results, transpose and set index\n",
    "results_7 = pd.DataFrame(results_7).transpose().set_index(pd.Index([\"Prompt\", \"Temp\", \"p(A)\", \"p(B)\", \"p(C)\"]))\n",
    "probs_7 = pd.DataFrame(probs_7).transpose().set_index(pd.Index([\"Prompt\", \"Temp\", \"p(A)\", \"p(B)\", \"p(C)\"]))\n",
    "\n",
    "# Display results\n",
    "probs_7"
   ]
  },
  {
   "cell_type": "markdown",
   "metadata": {},
   "source": [
    "- Prompt 4: Primed & second option (decoy) removed"
   ]
  },
  {
   "cell_type": "code",
   "execution_count": 30,
   "metadata": {},
   "outputs": [
    {
     "data": {
      "text/html": [
       "<div>\n",
       "<style scoped>\n",
       "    .dataframe tbody tr th:only-of-type {\n",
       "        vertical-align: middle;\n",
       "    }\n",
       "\n",
       "    .dataframe tbody tr th {\n",
       "        vertical-align: top;\n",
       "    }\n",
       "\n",
       "    .dataframe thead th {\n",
       "        text-align: right;\n",
       "    }\n",
       "</style>\n",
       "<table border=\"1\" class=\"dataframe\">\n",
       "  <thead>\n",
       "    <tr style=\"text-align: right;\">\n",
       "      <th></th>\n",
       "      <th>0</th>\n",
       "      <th>1</th>\n",
       "      <th>2</th>\n",
       "      <th>3</th>\n",
       "      <th>4</th>\n",
       "    </tr>\n",
       "  </thead>\n",
       "  <tbody>\n",
       "    <tr>\n",
       "      <th>Prompt</th>\n",
       "      <td>1</td>\n",
       "      <td>1</td>\n",
       "      <td>1</td>\n",
       "      <td>1</td>\n",
       "      <td>1</td>\n",
       "    </tr>\n",
       "    <tr>\n",
       "      <th>Temp</th>\n",
       "      <td>0.0</td>\n",
       "      <td>0.5</td>\n",
       "      <td>1.0</td>\n",
       "      <td>1.5</td>\n",
       "      <td>2.0</td>\n",
       "    </tr>\n",
       "    <tr>\n",
       "      <th>p(A)</th>\n",
       "      <td>18.00%</td>\n",
       "      <td>30.00%</td>\n",
       "      <td>44.00%</td>\n",
       "      <td>40.00%</td>\n",
       "      <td>30.00%</td>\n",
       "    </tr>\n",
       "    <tr>\n",
       "      <th>p(B)</th>\n",
       "      <td>0.00%</td>\n",
       "      <td>0.00%</td>\n",
       "      <td>0.00%</td>\n",
       "      <td>0.00%</td>\n",
       "      <td>0.00%</td>\n",
       "    </tr>\n",
       "    <tr>\n",
       "      <th>p(C)</th>\n",
       "      <td>82.00%</td>\n",
       "      <td>70.00%</td>\n",
       "      <td>56.00%</td>\n",
       "      <td>58.00%</td>\n",
       "      <td>52.00%</td>\n",
       "    </tr>\n",
       "  </tbody>\n",
       "</table>\n",
       "</div>"
      ],
      "text/plain": [
       "             0       1       2       3       4\n",
       "Prompt       1       1       1       1       1\n",
       "Temp       0.0     0.5     1.0     1.5     2.0\n",
       "p(A)    18.00%  30.00%  44.00%  40.00%  30.00%\n",
       "p(B)     0.00%   0.00%   0.00%   0.00%   0.00%\n",
       "p(C)    82.00%  70.00%  56.00%  58.00%  52.00%"
      ]
     },
     "execution_count": 30,
     "metadata": {},
     "output_type": "execute_result"
    }
   ],
   "source": [
    "# Empty lists for storing results\n",
    "results_8 = []\n",
    "probs_8 = []\n",
    "\n",
    "# Loop over 5 different temperature values, calling the function 50 times each \n",
    "for temperature in [0, 0.5, 1, 1.5, 2]:\n",
    "    results, probs = decoy_function(prompt = prompt_4, model = \"gpt-4-1106-preview\", n = 50, temperature = temperature, max_tokens=1)\n",
    "    results_8.append(results) # vertically appended\n",
    "    probs_8.append(probs)\n",
    "\n",
    "# Horizontally concatenate the results, transpose and set index\n",
    "results_8 = pd.DataFrame(results_8).transpose().set_index(pd.Index([\"Prompt\", \"Temp\", \"p(A)\", \"p(B)\", \"p(C)\"]))\n",
    "probs_8 = pd.DataFrame(probs_8).transpose().set_index(pd.Index([\"Prompt\", \"Temp\", \"p(A)\", \"p(B)\", \"p(C)\"]))\n",
    "\n",
    "# Display results\n",
    "probs_8"
   ]
  },
  {
   "cell_type": "markdown",
   "metadata": {},
   "source": [
    "Motivated by the I-bias experiment, we now examine whether labeling bias can be mitigated by using\n",
    "letters that have similar frequency in written English. Therefore, instead of assigning to choices the\n",
    "labels “A”, “B”, etc. we assign the following labels: “R”, “S”, “N”, “L”, “O”, “T”, “M”, “P”, “W”, “U”, “Y”,\n",
    "“V” - Mendler-Dünner paper "
   ]
  }
 ],
 "metadata": {
  "kernelspec": {
   "display_name": "Python 3",
   "language": "python",
   "name": "python3"
  },
  "language_info": {
   "codemirror_mode": {
    "name": "ipython",
    "version": 3
   },
   "file_extension": ".py",
   "mimetype": "text/x-python",
   "name": "python",
   "nbconvert_exporter": "python",
   "pygments_lexer": "ipython3",
   "version": "3.11.6"
  }
 },
 "nbformat": 4,
 "nbformat_minor": 2
}
