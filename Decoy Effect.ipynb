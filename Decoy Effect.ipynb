{
 "cells": [
  {
   "cell_type": "markdown",
   "metadata": {},
   "source": [
    "### Decoy Effect"
   ]
  },
  {
   "cell_type": "markdown",
   "metadata": {},
   "source": [
    "<span style=\"color:yellow\">\n",
    "To be decided:<br>\n",
    "\n",
    "### Prompts:\n",
    "\n",
    "- Use contextual prompting to query both scenarios after another?<br>\n",
    "    - Sticks to original study, but Decoy Effect is not applied like that in the real world.<br>\n",
    "    <br>\n",
    "- If not: Even mention removal of decoy in the second prompt? -> mimics original study design & shows if answers tend to approximate uniform distribution\n",
    "    - Is this already a sort of priming? <br>\n",
    "<br>\n",
    "------------------\n",
    "- Maybe set n globally and not in each run_decoy call<br>\n",
    "<br>\n",
    "- Huge deviations in runtime of cells: 50x5 function calls for GPT-3.5-Turbo can take ~5 min up to ~120 min (24.11.2023)<br>\n",
    "<br>\n",
    "- Rewrite decoy function to also count X, Q, Y? Or stick to two functions to avoid miscount. \n",
    "</span>\n"
   ]
  },
  {
   "cell_type": "markdown",
   "metadata": {},
   "source": [
    "This notebook aims to recreate some findings concerning the **Decoy Effect**. Specifically, we recreate the event described in https://thestrategystory.com/2020/10/02/economist-magazine-a-story-of-clever-decoy-pricing/ with numbers taken from https://en.wikipedia.org/wiki/Decoy_effect.\n",
    "\n",
    "As of right now (25.11.2023), querying each prompt 50 times for 5 temperature values over 8 prompts and the two openai 2 models, we issue **4000 API calls**. "
   ]
  },
  {
   "cell_type": "markdown",
   "metadata": {},
   "source": [
    "The answer options for this experiment are literal copies of the original study. Only the words \"priced at __$\" were added to each option. Furthermore, their wording remains the same\n",
    "through the entire experiment, being: \n",
    "-  A: One-year subscription to Economist.com. Includes online access to all articles from The Economist since 1997, priced at 59$.\n",
    "-  B: One-year subscription to the print edition of The Economist, priced at 125$.\n",
    "-  C: One-year subscription to the print edition of The Economist and online access to all articles from The Economist since 1997, priced at 125$.\n",
    "\n",
    "\n",
    "#### From Ariely's Book \"Predictably irrational\":\n",
    "\n",
    "\"When I gave these options to 100 students at MIT's Sloan\n",
    "School of Management, they opted as follows:\n",
    "1. Internet-only subscription for $59—16 students\n",
    "2. Print-only subscription for $125—zero students\n",
    "3. Print-and-Internet subscription for $ 125—84 students\"\n",
    "\n",
    "(page 5)\n",
    "\n",
    "\"And the absence of the decoy\n",
    "had them choosing differently, with 32 for print-and-Internet\n",
    "and 68 for Internet-only\"\n",
    "\n",
    "(page 6)\n",
    "\n",
    "|Answer option          | Scenario 1 | Scenario 2 (no 2nd option)|\n",
    "|-----------------------|--------------|-----------|\n",
    "| Online subscription   |     16%      |  68%       |\n",
    "| Print subscribtion    |      0%     | 0%        |\n",
    "| Combination           |     84%   | 32%        |\n",
    "\n"
   ]
  },
  {
   "cell_type": "code",
   "execution_count": 1,
   "metadata": {},
   "outputs": [],
   "source": [
    "from openai import OpenAI\n",
    "import openai\n",
    "import matplotlib.pyplot as plt\n",
    "import os \n",
    "import numpy as np\n",
    "import pandas as pd"
   ]
  },
  {
   "cell_type": "code",
   "execution_count": 2,
   "metadata": {},
   "outputs": [],
   "source": [
    "# Get API key (previously saved as environmental variable)\n",
    "openai.api_key = os.environ[\"OPENAI_API_KEY\"]\n",
    "\n",
    "# Set client\n",
    "client = OpenAI()\n",
    "\n",
    "# Set global plot style\n",
    "plt.style.use('seaborn-v0_8')\n",
    "\n",
    "# Set plots to be displayed in notebook\n",
    "%matplotlib inline"
   ]
  },
  {
   "cell_type": "markdown",
   "metadata": {},
   "source": [
    "-----------------------------------------------------------"
   ]
  },
  {
   "cell_type": "markdown",
   "metadata": {},
   "source": [
    "#### Setting up the prompts used for the experiment\n",
    "\n",
    "We now formulate 8 different prompts: \n",
    "\n",
    "First of all, we present the model with the original situation i.e. 3 answer options. To recreate the second scenario of the study, we tell the model that the second (decoy) option has now been removed. \n",
    "Furthermore we **prime** the model play the role of a marker researcher, who knows about the decoy effect, and query the model with both study situationbs again.\n",
    "\n",
    "Afterwards, in order to research possible biases induced by either the answer letters themselves (A, B, C) or the order of the answers, we correct for this and prompt the model 4 times again."
   ]
  },
  {
   "cell_type": "markdown",
   "metadata": {},
   "source": [
    "- Prompt 1: Unprimed & all answer options"
   ]
  },
  {
   "cell_type": "code",
   "execution_count": 3,
   "metadata": {},
   "outputs": [],
   "source": [
    "prompt_1 = \"\"\"You are presented with the following subscription alternatives for the \"The Economist\" magazine:\n",
    "        A: One-year subscription to Economist.com. Includes online access to all articles from The Economist since 1997, priced at 59$.\n",
    "        B: One-year subscription to the print edition of The Economist, priced at 125$.\n",
    "        C: One-year subscription to the print edition of The Economist and online access to all articles from The Economist since 1997, priced at 125$.\n",
    "        Which alternative would you choose? Please answer by only giving the letter of the alternative you would choose without any reasoning.\n",
    "        Answer: I would choose option \"\"\"\n"
   ]
  },
  {
   "cell_type": "markdown",
   "metadata": {},
   "source": [
    "- Prompt 2: Unprimed & second option (decoy) removed"
   ]
  },
  {
   "cell_type": "code",
   "execution_count": 4,
   "metadata": {},
   "outputs": [],
   "source": [
    "prompt_2 = \"\"\"You are presented with the following subscription alternatives for the \"The Economist\" magazine:\n",
    "        A: One-year subscription to Economist.com. Includes online access to all articles from The Economist since 1997, priced at 59$.\n",
    "        B: One-year subscription to the print edition of The Economist and online access to all articles from The Economist since 1997, priced at 125$. \n",
    "        Which alternative would you choose? Please answer by only giving the letter of the alternative you would choose without any reasoning.\n",
    "        Answer: I would choose option \"\"\"\n",
    "\n",
    "# Removed original option B and made option C the new option B"
   ]
  },
  {
   "cell_type": "markdown",
   "metadata": {},
   "source": [
    "- Prompt 3: Primed & all answer options"
   ]
  },
  {
   "cell_type": "code",
   "execution_count": 5,
   "metadata": {},
   "outputs": [],
   "source": [
    "prompt_3 = \"\"\"You are a market researcher that knows about the Decoy Effect in pricing. \n",
    "        You are presented with the following subscription alternatives for the \"The Economist\" magazine:\n",
    "        A: One-year subscription to Economist.com. Includes online access to all articles from The Economist since 1997, priced at 59$.\n",
    "        B: One-year subscription to the print edition of The Economist, priced at 125$.\n",
    "        C: One-year subscription to the print edition of The Economist and online access to all articles from The Economist since 1997, priced at 125$.\n",
    "        Which alternative would you choose? Please answer by only giving the letter of the alternative you would choose without any reasoning.\n",
    "        Answer: I would choose option \"\"\"\n"
   ]
  },
  {
   "cell_type": "markdown",
   "metadata": {},
   "source": [
    "- Prompt 4: Primed & second option (decoy) removed"
   ]
  },
  {
   "cell_type": "code",
   "execution_count": 30,
   "metadata": {},
   "outputs": [],
   "source": [
    "prompt_4 = \"\"\"You are a market researcher that knows about the Decoy Effect in pricing. \n",
    "         You are presented with the following subscription alternatives for the \"The Economist\" magazine:\n",
    "         A: One-year subscription to Economist.com. Includes online access to all articles from The Economist since 1997, priced at 59$.\n",
    "         B: One-year subscription to the print edition of The Economist and online access to all articles from The Economist since 1997, priced at 125$.\n",
    "         Which alternative would you choose? Please answer by only giving the letter of the alternative you would choose without any reasoning.\n",
    "         Answer: I would choose option \"\"\"\n",
    "\n",
    "# Removed original option B and made option C the new option B"
   ]
  },
  {
   "cell_type": "markdown",
   "metadata": {},
   "source": [
    "---------------------"
   ]
  },
  {
   "cell_type": "markdown",
   "metadata": {},
   "source": [
    "#### Renaming and reordering answer options\n",
    "\n",
    "Following the approach of Mendler-Dünner et al. (2023), we do not only reorder the answers but also label them with letters, that are less common in the English language.\n",
    "- A (online) -> Y\n",
    "- B (print) -> Q\n",
    "- C (combination) -> X\n",
    "\n",
    "Afterwards option 1 is put last. Sticking to our original question design, the order would now be: B, C, A.\n",
    "- N (print)\n",
    "- T (combination)\n",
    "- W (online)\n",
    "\n",
    "**-> Use decoy_function2() for these prompts!**"
   ]
  },
  {
   "cell_type": "markdown",
   "metadata": {},
   "source": [
    "- Prompt 5: Unprimed & all answer options, renamed & reordered"
   ]
  },
  {
   "cell_type": "code",
   "execution_count": 7,
   "metadata": {},
   "outputs": [],
   "source": [
    "prompt_5 = \"\"\"You are presented with the following subscription alternatives for the \"The Economist\" magazine:\n",
    "         Q: One-year subscription to the print edition of The Economist, priced at 125$.\n",
    "         X: One-year subscription to the print edition of The Economist and online access to all articles from The Economist since 1997, priced at 125$.\n",
    "         Y: One-year subscription to Economist.com. Includes online access to all articles from The Economist since 1997, priced at 59$. \n",
    "         Which alternative would you choose? Please answer by only giving the letter of the alternative you would choose without any reasoning.\n",
    "         Answer: I would choose option \"\"\"\n"
   ]
  },
  {
   "cell_type": "markdown",
   "metadata": {},
   "source": [
    "- Prompt 6: Unprimed & second option (decoy) removed, renamed & reordered"
   ]
  },
  {
   "cell_type": "code",
   "execution_count": 8,
   "metadata": {},
   "outputs": [],
   "source": [
    "prompt_6 = \"\"\"You are presented with the following subscription alternatives for the \"The Economist\" magazine:\n",
    "         X: One-year subscription to the print edition of The Economist and online access to all articles from The Economist since 1997, priced at 125$.\n",
    "         Y: One-year subscription to Economist.com. Includes online access to all articles from The Economist since 1997, priced at 59$. \n",
    "         Which alternative would you choose? Please answer by only giving the letter of the alternative you would choose without any reasoning.\n",
    "         Answer: I would choose option \"\"\"\n",
    "\n",
    "# Removed option Q"
   ]
  },
  {
   "cell_type": "markdown",
   "metadata": {},
   "source": [
    "- Prompt 7: Primed & all answer options, renamed & reordered"
   ]
  },
  {
   "cell_type": "code",
   "execution_count": 9,
   "metadata": {},
   "outputs": [],
   "source": [
    "prompt_7 = \"\"\"You are a market researcher that knows about the Decoy Effect in pricing. \n",
    "         You are presented with the following subscription alternatives for the \"The Economist\" magazine:\n",
    "         Q: One-year subscription to the print edition of The Economist, priced at 125$.\n",
    "         X: One-year subscription to the print edition of The Economist and online access to all articles from The Economist since 1997, priced at 125$.\n",
    "         Y: One-year subscription to Economist.com. Includes online access to all articles from The Economist since 1997, priced at 59$. \n",
    "         Which alternative would you choose? Please answer by only giving the letter of the alternative you would choose without any reasoning.\n",
    "         Answer: I would choose option \"\"\""
   ]
  },
  {
   "cell_type": "markdown",
   "metadata": {},
   "source": [
    "- Prompt 8: Primed & second option (decoy) removed, renamed & reordered"
   ]
  },
  {
   "cell_type": "code",
   "execution_count": 29,
   "metadata": {},
   "outputs": [],
   "source": [
    "# Temoprarily adjusted answer optionds to QXY \n",
    "prompt_8 = \"\"\"You are a market researcher that knows about the Decoy Effect in pricing. \n",
    "         You are presented with the following subscription alternatives for the \"The Economist\" magazine:\n",
    "         X: One-year subscription to the print edition of The Economist and online access to all articles from The Economist since 1997, priced at 125$.\n",
    "         Y: One-year subscription to Economist.com. Includes online access to all articles from The Economist since 1997, priced at 59$. \n",
    "         Which alternative would you choose? Please answer by only giving the letter of the alternative you would choose without any reasoning.\n",
    "         Answer: I would choose option \"\"\"\n",
    "\n",
    "# Removed option Q"
   ]
  },
  {
   "cell_type": "markdown",
   "metadata": {},
   "source": [
    "------------------------------------------"
   ]
  },
  {
   "cell_type": "markdown",
   "metadata": {},
   "source": [
    "- Helpful dictionaries \n",
    "\n",
    "The experiments we will run in this notebook are very similar in study design, and for same cases, also similar in the results we expect. We therefore need to make sure, that we associate the results with the correct study design. That is why the following dictionaries are implemented to look up e.g. what model was used for an experiment.\n",
    "\n",
    "They will also be used inside the functions that call the API multiple times and output some information about the experiment in order to identify it correctly. "
   ]
  },
  {
   "cell_type": "code",
   "execution_count": 25,
   "metadata": {},
   "outputs": [],
   "source": [
    "# Dictionary that returns the literal prompt for a given experiment id (used in function call). key: experiment_id, value: prompt\n",
    "experiment_prompts_dict = {\n",
    "    \"1_1\": prompt_1,\n",
    "    \"1_2\": prompt_2,\n",
    "    \"1_3\": prompt_3,\n",
    "    \"1_4\": prompt_4,\n",
    "    \"1_5\": prompt_5,\n",
    "    \"1_6\": prompt_6,\n",
    "    \"1_7\": prompt_7,\n",
    "    \"1_8\": prompt_8,\n",
    "    \"2_1\": prompt_1,\n",
    "    \"2_2\": prompt_2,\n",
    "    \"2_3\": prompt_3,\n",
    "    \"2_4\": prompt_4,\n",
    "    \"2_5\": prompt_5,\n",
    "    \"2_6\": prompt_6,\n",
    "    \"2_7\": prompt_7,\n",
    "    \"2_8\": prompt_8,\n",
    "}\n",
    "\n",
    "# The following dictionary is only used for a check in the function calls.\n",
    "# It returns the variable name of the prompt that was used in the experiment. key: experiment_id, value: prompt_name\n",
    "prompt_ids_dict = {\n",
    "    \"1_1\": \"prompt_1\",\n",
    "    \"1_2\": \"prompt_2\",\n",
    "    \"1_3\": \"prompt_3\",\n",
    "    \"1_4\": \"prompt_4\",\n",
    "    \"1_5\": \"prompt_5\",\n",
    "    \"1_6\": \"prompt_6\",\n",
    "    \"1_7\": \"prompt_7\",\n",
    "    \"1_8\": \"prompt_8\",\n",
    "    \"2_1\": \"prompt_1\",\n",
    "    \"2_2\": \"prompt_2\",\n",
    "    \"2_3\": \"prompt_3\",\n",
    "    \"2_4\": \"prompt_4\",\n",
    "    \"2_5\": \"prompt_5\",\n",
    "    \"2_6\": \"prompt_6\",\n",
    "    \"2_7\": \"prompt_7\",\n",
    "    \"2_8\": \"prompt_8\",\n",
    "}\n",
    "\n",
    "\n",
    "# Dictionary to look up which model to use for a given experiment id (used in function call). key: experiment id, value: model name\n",
    "model_dict = {\n",
    "    \"1_1\": \"gpt-3.5-turbo\",\n",
    "    \"1_2\": \"gpt-3.5-turbo\",\n",
    "    \"1_3\": \"gpt-3.5-turbo\",\n",
    "    \"1_4\": \"gpt-3.5-turbo\",\n",
    "    \"1_5\": \"gpt-3.5-turbo\",\n",
    "    \"1_6\": \"gpt-3.5-turbo\",\n",
    "    \"1_7\": \"gpt-3.5-turbo\",\n",
    "    \"1_8\": \"gpt-3.5-turbo\",\n",
    "    \"2_1\": \"gpt-4-1106-preview\",\n",
    "    \"2_2\": \"gpt-4-1106-preview\",\n",
    "    \"2_3\": \"gpt-4-1106-preview\",\n",
    "    \"2_4\": \"gpt-4-1106-preview\",\n",
    "    \"2_5\": \"gpt-4-1106-preview\",\n",
    "    \"2_6\": \"gpt-4-1106-preview\",\n",
    "    \"2_7\": \"gpt-4-1106-preview\",\n",
    "    \"2_8\": \"gpt-4-1106-preview\",\n",
    "    }\n",
    "\n",
    "\n",
    "# Dictionary to look up, what the study design of each experiment was. key: experiment id, value: experiment design \n",
    "experiment_dict = {\n",
    "    \"1_1\": f\"Experiment 1_1 contains all answer options, is unprimed and uses {model_dict['1_1']}.\",\n",
    "    \"1_2\": f\"Experiment 1_2 has the decoy removed, is unprimed and uses {model_dict['1_2']}.\",\n",
    "    \"1_3\": f\"Experiment 1_3 contains all answer options, is primed and uses {model_dict['1_3']}.\",\n",
    "    \"1_4\": f\"Experiment 1_4 has the decoy removed, is primed and uses {model_dict['1_4']}.\",\n",
    "    \"1_5\": f\"Experiment 1_5 contains all answer options renamed and reordered, is unprimed and uses {model_dict['1_5']}.\",\n",
    "    \"1_6\": f\"Experiment 1_6 has the decoy removed, answer options renamed and reordered, is unprimed and uses {model_dict['1_6']}.\",\n",
    "    \"1_7\": f\"Experiment 1_7 contains all answer options renamed and reordered, is primed and uses {model_dict['1_7']}.\",\n",
    "    \"1_8\": f\"Experiment 1_8 has the decoy removed, answer options renamed and reordered, is primed and uses {model_dict['1_8']}.\",\n",
    "    \"2_1\": f\"Experiment 2_1 contains all answer options, is unprimed and uses {model_dict['2_1']}.\",\n",
    "    \"2_2\": f\"Experiment 2_2 has the decoy removed, is unprimed and uses {model_dict['2_2']}.\",\n",
    "    \"2_3\": f\"Experiment 2_3 contains all answer options, is primed and uses {model_dict['2_3']}.\",\n",
    "    \"2_4\": f\"Experiment 2_4 has the decoy removed, is primed and uses {model_dict['2_4']}.\",\n",
    "    \"2_5\": f\"Experiment 2_5 contains all answer options renamed and reordered, is unprimed and uses {model_dict['2_5']}.\",\n",
    "    \"2_6\": f\"Experiment 2_6 has the decoy removed, answer options renamed and reordered, is unprimed and uses {model_dict['2_6']}.\",\n",
    "    \"2_7\": f\"Experiment 2_7 contains all answer options renamed and reordered, is primed and uses {model_dict['2_7']}.\",\n",
    "    \"2_8\": f\"Experiment 2_8 has the decoy removed, answer options renamed and reordered, is primed and uses {model_dict['2_8']}.\",\n",
    "}\n",
    "\n",
    "# Dictionary to look up the original results of the experiments. key: experiment id, value: original result\n",
    "results_dict = {\n",
    "    \"1_1\": \"A: 16%, B: 0%, C: 84%\",\n",
    "    \"1_2\": \"A: 68%, B: 0%, C: 32%\",\n",
    "    \"1_3\": \"A: 16%, B: 0%, C: 84%\",\n",
    "    \"1_4\": \"A: 68%, B: 0%, C: 32%\",\n",
    "    \"1_5\": \"A: 16%, B: 0%, C: 84%\",\n",
    "    \"1_6\": \"A: 68%, B: 0%, C: 32%\",\n",
    "    \"1_7\": \"A: 16%, B: 0%, C: 84%\",\n",
    "    \"1_8\": \"A: 68%, B: 0%, C: 32%\",\n",
    "    \"2_1\": \"A: 16%, B: 0%, C: 84%\",\n",
    "    \"2_2\": \"A: 68%, B: 0%, C: 32%\",\n",
    "    \"2_3\": \"A: 16%, B: 0%, C: 84%\",\n",
    "    \"2_4\": \"A: 68%, B: 0%, C: 32%\",\n",
    "    \"2_5\": \"A: 16%, B: 0%, C: 84%\",\n",
    "    \"2_6\": \"A: 68%, B: 0%, C: 32%\",\n",
    "    \"2_7\": \"A: 16%, B: 0%, C: 84%\",\n",
    "    \"2_8\": \"A: 68%, B: 0%, C: 32%\",\n",
    "}"
   ]
  },
  {
   "cell_type": "markdown",
   "metadata": {},
   "source": [
    "----------------------------------------------"
   ]
  },
  {
   "cell_type": "markdown",
   "metadata": {},
   "source": [
    "#### Test-wise function\n",
    "\n",
    "The following functions are implemented test-wise with the goal of discarding the decoy_function2 and keeping the workflow more general. Depending on what the experiment id is, answers will be counted according to the survey design. \n",
    "\n",
    "In some prompts, answer options are removed while in others, they are renamed. Using the count_answers() function, we make the results more easily comparable, since p(A), p(B) and p(C) will always reflect the probabilty of the underlying answer text being chosen, not the letter of the answer option itself. "
   ]
  },
  {
   "cell_type": "code",
   "execution_count": 12,
   "metadata": {},
   "outputs": [],
   "source": [
    "def count_answers(answers: list, experiment_id: str):\n",
    "    if experiment_id in [\"1_1\", \"1_3\",\"2_1\", \"2_3\"]:\n",
    "        A = answers.count(\"A\")\n",
    "        B = answers.count(\"B\")\n",
    "        C = answers.count(\"C\")\n",
    "    elif experiment_id in [\"1_2\", \"1_4\", \"2_2\", \"2_4\"]:\n",
    "        A = answers.count(\"A\")\n",
    "        B = 0 # Option B was removed\n",
    "        C = answers.count(\"B\") # makes comparison of results over prompts easier \n",
    "    elif experiment_id in [\"1_5\", \"1_7\", \"2_5\", \"2_7\"]:\n",
    "        A = answers.count(\"Y\")\n",
    "        B = answers.count(\"Q\")\n",
    "        C = answers.count(\"X\")\n",
    "    elif experiment_id in [\"1_6\", \"1_8\", \"2_6\", \"2_8\"]:\n",
    "        A = answers.count(\"Y\")\n",
    "        B = 0 # Option Q was removed\n",
    "        C = answers.count(\"X\")\n",
    "    return A, B, C\n",
    "\n",
    "def correct_answers(answers: list, experiment_id: str):\n",
    "    if experiment_id in [\"1_1\", \"1_3\",\"2_1\", \"2_3\"]:\n",
    "        len_correct = sum(1 for ans in answers if ans in [\"A\", \"B\", \"C\"])\n",
    "    elif experiment_id in [\"1_2\", \"1_4\", \"2_2\", \"2_4\"]:\n",
    "        len_correct = sum(1 for ans in answers if ans in [\"A\", \"B\"])\n",
    "    elif experiment_id in [\"1_5\", \"1_7\", \"2_5\", \"2_7\"]:\n",
    "        len_correct = sum(1 for ans in answers if ans in [\"Y\", \"Q\", \"X\"])\n",
    "    elif experiment_id in [\"1_6\", \"1_8\", \"2_6\", \"2_8\"]:\n",
    "        len_correct = sum(1 for ans in answers if ans in [\"Y\", \"X\"])\n",
    "    return len_correct  # to avoid division by zero"
   ]
  },
  {
   "cell_type": "code",
   "execution_count": 13,
   "metadata": {},
   "outputs": [],
   "source": [
    "def run_experiment(experiment_id, n, temperature = 1, max_tokens = 1):\n",
    "    \"\"\"\n",
    "    Function to query ChatGPT multiple times with a survey having answers designed as: A, B, C.\n",
    "    \n",
    "    Args:\n",
    "        experiment_id (str): ID of the experiment to be run. Contains info about prompt and model\n",
    "        n (int): Number of queries to be made\n",
    "        temperature (int): Degree of randomness with range 0 (deterministic) to 2 (random)\n",
    "        max_tokens (int): Maximum number of tokens in response object\n",
    "        \n",
    "    Returns:\n",
    "        results (list): List containing count of answers for each option, also containing experiment_id, temperature and number of observations\n",
    "        probs (list): List containing probability of each option being chosen, also containing experiment_id, temeperature and number of observations\n",
    "    \"\"\"\n",
    "    answers = []\n",
    "    for _ in range(n): \n",
    "        response = client.chat.completions.create(\n",
    "            model = model_dict[experiment_id], \n",
    "            max_tokens = max_tokens,\n",
    "            temperature = temperature, # range is 0 to 2\n",
    "            messages = [\n",
    "            {\"role\": \"user\", \"content\": experiment_prompts_dict[experiment_id]},\n",
    "                   ])\n",
    "\n",
    "        # Store the answer in the list\n",
    "        answer = response.choices[0].message.content\n",
    "        answers.append(answer.strip())\n",
    "\n",
    "    # Count the answers\n",
    "    A, B, C = count_answers(answers, experiment_id) # if/else statement of function deals with different answer options in different experiments\n",
    "    \n",
    "    # Count of correct answers\n",
    "    len_correct = int(correct_answers(answers, experiment_id)) # if/else of function makes sure that we count the correct answers according to the experiment id \n",
    "\n",
    "    # Collecting results in a list\n",
    "    results = [experiment_id, temperature, A, B, C, len_correct]\n",
    "\n",
    "    # Calculate probabilities\n",
    "    p_a = f\"{(A / (len_correct + 0.000000001)) * 100:.2f}%\"\n",
    "    p_b = f\"{(B / (len_correct + 0.000000001)) * 100:.2f}%\"\n",
    "    p_c = f\"{(C / (len_correct + 0.000000001)) * 100:.2f}%\"\n",
    "\n",
    "    # Collect probabilities in a dataframe\n",
    "    probs = [experiment_id, temperature, p_a, p_b, p_c, len_correct]\n",
    "    # Print progress\n",
    "    print(f\"Experiment {experiment_id} with {n} observations, using {prompt_ids_dict[experiment_id]} and temperature {temperature} completed.\")\n",
    "\n",
    "    return results, probs "
   ]
  },
  {
   "cell_type": "code",
   "execution_count": 16,
   "metadata": {},
   "outputs": [],
   "source": [
    "def temperature_loop(experiment_id: str, temperature_list: list = [0, 0.5, 1, 1.5, 2], n: int = 50, max_tokens: int = 1):\n",
    "    \"\"\"\n",
    "    Function to run an experiment over different temperature values.\n",
    "    \n",
    "    Args:\n",
    "        function (function): Function to be used for querying ChatGPT i.e. run_experiment()\n",
    "        experiment_id (str): ID of th e experiment to be run. Contains info about prompt and model\n",
    "        temperature_list (list): List of temperature values to be looped over\n",
    "        n: Number of requests for each prompt per temperature value\n",
    "        max_tokens: Maximum number of tokens in response object\n",
    "        \n",
    "    Returns:\n",
    "        results_df: Dataframe with experiment results\n",
    "        probs_df: Dataframe with answer probabilities\n",
    "    \"\"\"    \n",
    "    # Empty lists for storing results\n",
    "    results_list = []\n",
    "    probs_list = []\n",
    "    \n",
    "\n",
    "    # Loop over different temperature values, calling the input function n times each (i.e. queriyng ChatGPT n times)\n",
    "    for temperature in temperature_list:\n",
    "        results, probs = run_experiment(experiment_id = experiment_id, n = n, temperature = temperature, max_tokens = max_tokens) \n",
    "        results_list.append(results)\n",
    "        probs_list.append(probs)\n",
    "\n",
    "    # Horizontally concatenate the results, transpose, and set index\n",
    "    results_df = pd.DataFrame(results_list).transpose().set_index(pd.Index([\"Experiment\", \"Temp\", \"p(A)\", \"p(B)\", \"p(C)\", \"Obs.\"]))\n",
    "    probs_df = pd.DataFrame(probs_list).transpose().set_index(pd.Index([\"Experiment\", \"Temp\", \"p(A)\", \"p(B)\", \"p(C)\", \"Obs.\"]))\n",
    "   \n",
    "    # Return some information about the experiment as a check\n",
    "    check = f\"{experiment_dict[experiment_id]} In this run, a total of {n*len(temperature_list)} requests were made using {prompt_ids_dict[experiment_id]}.\"\n",
    "    # Print information about the experiment\n",
    "    print(check)\n",
    "    # Print original results \n",
    "    print(f\"The original results were {results_dict[experiment_id]}.\")\n",
    "\n",
    "    \n",
    "    return results_df, probs_df"
   ]
  },
  {
   "cell_type": "code",
   "execution_count": 17,
   "metadata": {},
   "outputs": [
    {
     "name": "stdout",
     "output_type": "stream",
     "text": [
      "Experiment 1_4 with 5 observations, using prompt_4 and temperature 0 completed.\n",
      "Experiment 1_4 with 5 observations, using prompt_4 and temperature 0.5 completed.\n",
      "Experiment 1_4 with 5 observations, using prompt_4 and temperature 1 completed.\n",
      "Experiment 1_4 with 5 observations, using prompt_4 and temperature 1.5 completed.\n",
      "Experiment 1_4 with 5 observations, using prompt_4 and temperature 2 completed.\n",
      "Experiment 1_4 has the decoy removed, is primed and uses gpt-3.5-turbo. In this run, a total of 25 requests were made using prompt_4.\n",
      "The original results were A: 68%, B: 0%, C: 32%.\n"
     ]
    }
   ],
   "source": [
    "test_results, test_probs = temperature_loop(experiment_id = \"1_4\", temperature_list = [0, 0.5, 1, 1.5, 2], n = 5, max_tokens = 1)"
   ]
  },
  {
   "cell_type": "code",
   "execution_count": 26,
   "metadata": {},
   "outputs": [
    {
     "name": "stdout",
     "output_type": "stream",
     "text": [
      "Experiment 1_4 with 5 observations, using prompt_4 and temperature 1.0 completed.\n"
     ]
    },
    {
     "data": {
      "text/plain": [
       "['1_4', 1.0, '0.00%', '0.00%', '100.00%', 5]"
      ]
     },
     "execution_count": 26,
     "metadata": {},
     "output_type": "execute_result"
    }
   ],
   "source": [
    "test_results, test_probs = run_experiment(experiment_id = \"1_4\", n = 5, temperature = 1.0, max_tokens = 1)\n",
    "test_probs"
   ]
  },
  {
   "cell_type": "code",
   "execution_count": 28,
   "metadata": {},
   "outputs": [
    {
     "data": {
      "text/plain": [
       "'You are a market researcher that knows about the Decoy Effect in pricing. \\n         You are presented with the following subscription alternatives for the \"The Economist\" magazine:\\n         A: For 59$: One-year subscription to Economist.com. Includes online access to all articles from The Economist since 1997.\\n         B: For 125$: One-year subscription to the print edition of The Economist and online access to all articles from The Economist since 1997.\\n         Which alternative would you choose? Please answer by only giving the letter of the alternative you would choose without any reasoning.\\n         Answer: I would choose option '"
      ]
     },
     "execution_count": 28,
     "metadata": {},
     "output_type": "execute_result"
    }
   ],
   "source": [
    "experiment_prompts_dict[\"1_4\"]"
   ]
  },
  {
   "cell_type": "markdown",
   "metadata": {},
   "source": [
    "-----------------------------"
   ]
  },
  {
   "cell_type": "markdown",
   "metadata": {},
   "source": [
    "#### Setting up functions to repeatedly prompt ChatGPT\n",
    "\n",
    "- Functions to query 1 prompt n times"
   ]
  },
  {
   "cell_type": "code",
   "execution_count": 184,
   "metadata": {},
   "outputs": [],
   "source": [
    "def decoy_function(experiment_id, n, temperature = 1, max_tokens = 1):\n",
    "\n",
    "    \"\"\"\n",
    "    Function to query ChatGPT multiple times with a survey having answers designed as: A, B, C.\n",
    "    \n",
    "    Args:\n",
    "        experiment_id (str): ID of the experiment to be run. Contains info about prompt and model\n",
    "        n (int): Number of queries to be made\n",
    "        temperature (int): Degree of randomness with range 0 (deterministic) to 2 (random)\n",
    "        max_tokens (int): Maximum number of tokens in response object\n",
    "        \n",
    "    Returns:\n",
    "        results (list): List containing count of answers for each option, also containing experiment_id, temperature and number of observations\n",
    "        probs (list): List containing probability of each option being chosen, also containing experiment_id, temeperature and number of observations\n",
    "    \"\"\"\n",
    "    \n",
    "    answers = []\n",
    "    for _ in range(n): \n",
    "        response = client.chat.completions.create(\n",
    "            model = model_dict[experiment_id], \n",
    "            max_tokens = max_tokens,\n",
    "            temperature = temperature, # range is 0 to 2\n",
    "            messages = [\n",
    "            {\"role\": \"user\", \"content\": experiment_prompts_dict[experiment_id]},\n",
    "                   ])\n",
    "\n",
    "        # Store the answer in the list\n",
    "        answer = response.choices[0].message.content\n",
    "        answers.append(answer.strip())\n",
    "\n",
    "\n",
    "    # Counting results\n",
    "    A = answers.count(\"A\")\n",
    "    B = answers.count(\"B\")\n",
    "    C = answers.count(\"C\")\n",
    "\n",
    "    # Count of \"correct\" answers, sums over indicator function thack checks if answer is either A, B or C\n",
    "    len_correct = sum(1 for ans in answers if ans in [\"A\", \"B\", \"C\"])\n",
    "\n",
    "    # Collecting results in a list\n",
    "    results = [experiment_id, temperature, A, B, C, len_correct]\n",
    "\n",
    "    # Getting percentage each answer\n",
    "    p_a = f\"{(A / (len_correct + 0.000000001)) * 100:.2f}%\"\n",
    "    p_b = f\"{(B / (len_correct + 0.000000001)) * 100:.2f}%\"\n",
    "    p_c = f\"{(C / (len_correct + 0.000000001)) * 100:.2f}%\"\n",
    "\n",
    "    # Collect probabilities in a dataframe\n",
    "    probs = [experiment_id, temperature, p_a, p_b, p_c, len_correct]\n",
    "    \n",
    "    # Give out results\n",
    "    return answers, results, probs"
   ]
  },
  {
   "cell_type": "code",
   "execution_count": 15,
   "metadata": {},
   "outputs": [],
   "source": [
    "# This function is almost identical to the original one, but deals with answer options that are renamed as A = Y, B = Q, C = X.\n",
    "# We apply this \"conversion\" so that the results are comparable to the ones obtained with the original function.\n",
    "# Prompts 5-8 are used for this function.\n",
    "def decoy_function2(experiment_id, n, temperature = 1, max_tokens = 1):\n",
    "\n",
    "    \"\"\"\n",
    "    Function to query ChatGPT multiple times with a survey having answers designed as: Y, Q, X.\n",
    "    \n",
    "    Args:\n",
    "        experiment_id (str): ID of the experiment to be run. Contains info about prompt and model\n",
    "        n (int): Number of queries to be made\n",
    "        temperature (int): Degree of randomness with range 0 (deterministic) to 2 (random)\n",
    "        max_tokens (int): Maximum number of tokens in response object\n",
    "        \n",
    "    Returns:\n",
    "        results (list): List containing count of answers for each option, also containing experiment_id, temperature and number of observations\n",
    "        probs (list): List containing probability of each option being chosen, also containing experiment_id, temeperature and number of observations\n",
    "    \"\"\"\n",
    "\n",
    "    answers = []\n",
    "    for _ in range(n): \n",
    "        response = client.chat.completions.create(\n",
    "            model = model_dict[experiment_id], \n",
    "            max_tokens = max_tokens,\n",
    "            temperature = temperature, # range is 0 to 2\n",
    "            messages = [\n",
    "            {\"role\": \"user\", \"content\": experiment_prompts_dict[experiment_id]},\n",
    "                   ])\n",
    "\n",
    "        # Store the answer in the list\n",
    "        answer = response.choices[0].message.content\n",
    "        answers.append(answer.strip())\n",
    "    \n",
    "    # Counting results\n",
    "    A = answers.count(\"Y\") ######################################### CHANGED\n",
    "    B = answers.count(\"Q\")\n",
    "    C = answers.count(\"X\")\n",
    "\n",
    "    # Count of \"correct\" answers, sums over indicator function thack checks if answer is either W, N, or T\n",
    "    len_correct = sum(1 for ans in answers if ans in [\"Y\", \"Q\", \"X\"])############################################# CHANGED\n",
    "    \n",
    "    # Collecting results in a list\n",
    "    results = [experiment_id, temperature, A, B, C, len_correct]\n",
    "\n",
    "    # Getting percentage each answer\n",
    "    p_w = f\"{(A / len_correct) * 100:.2f}%\"\n",
    "    p_b = f\"{(B / len_correct) * 100:.2f}%\"\n",
    "    p_c = f\"{(C / len_correct) * 100:.2f}%\"\n",
    "\n",
    "    # Collect probabilities in a dataframe\n",
    "    probs = [experiment_id, temperature, p_w, p_b, p_c, len_correct] \n",
    "\n",
    "    # Give out results\n",
    "    return answers, results, probs ############################################# CHANGED"
   ]
  },
  {
   "cell_type": "markdown",
   "metadata": {},
   "source": [
    "- Function to loop over temperature values, querying each prompt n times for every temperature"
   ]
  },
  {
   "cell_type": "code",
   "execution_count": 16,
   "metadata": {},
   "outputs": [],
   "source": [
    "# Function to loop decoy function over temperature values\n",
    "def run_decoy(function, experiment_id, temperature_list = [0, 0.5, 1, 1.5, 2], n = 50, max_tokens = 1):\n",
    "    \"\"\"\n",
    "    Function to run an experiment with different temperature values.\n",
    "    \n",
    "    Args:\n",
    "        function (function): Function to be used for querying ChatGPT i.e. run_experiment()\n",
    "        experiment_id (str): ID of the experiment to be run. Contains info about prompt and model\n",
    "        temperature_list (list): List of temperature values to be looped over\n",
    "        n: Number of requests for each prompt per temperature value\n",
    "        max_tokens: Maximum number of tokens in response object\n",
    "        \n",
    "    Returns:\n",
    "        results_df: Dataframe with experiment results\n",
    "        probs_df: Dataframe with answer probabilities\n",
    "    \"\"\"    \n",
    "    # Empty lists for storing results\n",
    "    results_list = []\n",
    "    probs_list = []\n",
    "\n",
    "    # Loop over different temperature values, calling the input function n times each (i.e. queriyng ChatGPT n times)\n",
    "    for temperature in temperature_list:\n",
    "        answers, results, probs = function(experiment_id = experiment_id, n = n, temperature = temperature, max_tokens = max_tokens) ############################################# CHANGED\n",
    "        results_list.append(results)\n",
    "        probs_list.append(probs)\n",
    "\n",
    "    # Horizontally concatenate the results, transpose, and set index\n",
    "    results_df = pd.DataFrame(results_list).transpose().set_index(pd.Index([\"Experiment\", \"Temp\", \"p(A)\", \"p(B)\", \"p(C)\", \"Obs.\"]))\n",
    "    probs_df = pd.DataFrame(probs_list).transpose().set_index(pd.Index([\"Experiment\", \"Temp\", \"p(A)\", \"p(B)\", \"p(C)\", \"Obs.\"]))\n",
    "   \n",
    "    # Return some information about the experiment as a check\n",
    "    check = f\"In this experiment, {n} requests were made per temperature value using model {model_dict[experiment_id]} and {prompt_ids_dict[experiment_id]}.\"\n",
    "    print(check)\n",
    "    \n",
    "    return results_df, probs_df"
   ]
  },
  {
   "cell_type": "markdown",
   "metadata": {},
   "source": [
    "For high values of temperature we (rarely) still get \"incorrect\" answers i.e. not in the form of \"A\", \"B\", or \"C\".\n",
    "Using the following approach, the computed percentages will now only reflect the distribution of answers among the \"correctly\" answered questions and add up to 100%:\n",
    "\n",
    "\n",
    "- len_correct = sum(1 for ans in answers if ans in [\"A\", \"B\", \"C\"]) # instead of len(answers)\n",
    "\n",
    "\n",
    "From my experience with this notebook, among 50 repeated requests for a given prompt, setting the temperature value to max (2) only 1 or 2 answers were not A, B, or C.\n",
    "Therefore we can safely assume that the distribution of answers among the \"correctly\" answered questions is not affected by the presence of these outliers and this approach is valid.\n",
    "Furthermore, for each experiment, we can still see the answer count in the results dataframe as a check."
   ]
  },
  {
   "cell_type": "markdown",
   "metadata": {},
   "source": [
    "- Function to plot distribution of answer probabilities"
   ]
  },
  {
   "cell_type": "code",
   "execution_count": 33,
   "metadata": {},
   "outputs": [],
   "source": [
    "def plot_results(df):\n",
    "    \n",
    "    # Get experiment id and model name for plot title from dictionaries\n",
    "    experiment_id = df.iloc[0, 0]\n",
    "    model = model_dict[experiment_id]\n",
    "    \n",
    "    X = df.loc[\"Temp\"]\n",
    "    p_a = df.loc[\"p(A)\"].str.rstrip('%').astype('float')  # Convert percentages to float\n",
    "    p_b = df.loc[\"p(B)\"].str.rstrip('%').astype('float')\n",
    "    p_c = df.loc[\"p(C)\"].str.rstrip('%').astype('float')\n",
    "\n",
    "    X_axis = np.arange(len(X)) \n",
    "\n",
    "    plt.figure(figsize = (10, 5))\n",
    "    ax = plt.gca()\n",
    "    ax.bar(X_axis- 0.25, p_a, 0.25, label = 'p(A)', color = \"#8C1515\") \n",
    "    ax.bar(X_axis, p_b, 0.25,  label = 'p(B)', color = \"#507FAB\") \n",
    "    ax.bar(X_axis+ 0.25 , p_c,  0.25, label = 'p(C)', color = '#D9A84A')\n",
    "\n",
    "    ax.set_xticks(X_axis, X)\n",
    "    ax.set_xlabel(\"Temperature\")\n",
    "    ax.set_ylabel(\"Probability (%)\")\n",
    "    ax.set_ylim(0, 110)\n",
    "    ax.set_title(f\"Distribution of answers per temperature value for experiment {experiment_id} using {model}\")\n",
    "    ax.legend()  \n",
    "    plt.show()\n"
   ]
  },
  {
   "cell_type": "markdown",
   "metadata": {},
   "source": [
    "---------------------"
   ]
  },
  {
   "cell_type": "markdown",
   "metadata": {},
   "source": [
    "## Comparing different LLMs\n",
    "\n",
    "The results variables will be structured as: results_model-id_prompt-id.\n",
    "\n",
    "We will refer to \"GPT-3.5-turbo\" as model 1 and \"GPT-4-1106-preview\" as model 2."
   ]
  },
  {
   "cell_type": "markdown",
   "metadata": {},
   "source": [
    "#### Model 1: GPT-3.5-Turbo (Model training ended in September 2021)"
   ]
  },
  {
   "cell_type": "markdown",
   "metadata": {},
   "source": [
    "- Simple test of repeated prompting function for fixed temperature"
   ]
  },
  {
   "cell_type": "code",
   "execution_count": 34,
   "metadata": {},
   "outputs": [
    {
     "data": {
      "text/plain": [
       "['2_2', 1, '0.00%', '0.00%', '100.00%', 5]"
      ]
     },
     "execution_count": 34,
     "metadata": {},
     "output_type": "execute_result"
    }
   ],
   "source": [
    "results_5, probs_5 = decoy_function(experiment_id = \"2_2\", n = 5, temperature = 1, max_tokens = 1)\n",
    "probs_5\n",
    "\n",
    "# experiment_id, temp, p_a, p_b, p_c (in original survey), n_observations"
   ]
  },
  {
   "cell_type": "markdown",
   "metadata": {},
   "source": [
    "- Simple test of function to loop over temperature values"
   ]
  },
  {
   "cell_type": "code",
   "execution_count": 35,
   "metadata": {},
   "outputs": [
    {
     "name": "stdout",
     "output_type": "stream",
     "text": [
      "Experiment 1_1 contains all answer options, is unprimed and uses gpt-3.5-turbo.\n",
      "In this experiment, 3 requests were made per temperature value using model gpt-3.5-turbo and prompt_1.\n",
      "                  0        1        2       3       4\n",
      "Experiment      1_1      1_1      1_1     1_1     1_1\n",
      "Temp            0.0      0.5      1.0     1.5     2.0\n",
      "p(A)          0.00%    0.00%    0.00%   0.00%  50.00%\n",
      "p(B)          0.00%    0.00%    0.00%  33.33%  50.00%\n",
      "p(C)        100.00%  100.00%  100.00%  66.67%   0.00%\n",
      "Obs.              3        3        3       3       2\n"
     ]
    }
   ],
   "source": [
    "# Print study design to get an overview\n",
    "print(experiment_dict[\"1_1\"])\n",
    "\n",
    "# Call the function \n",
    "results, probs = run_decoy(decoy_function, experiment_id = \"1_1\", temperature_list = [0, 0.5, 1, 1.5, 2], n = 3, max_tokens = 1)\n",
    "\n",
    "# Display probability dataframe\n",
    "print(probs)"
   ]
  },
  {
   "cell_type": "markdown",
   "metadata": {},
   "source": [
    "- Prompt 1: Unprimed & all answer options"
   ]
  },
  {
   "cell_type": "code",
   "execution_count": 36,
   "metadata": {},
   "outputs": [
    {
     "name": "stdout",
     "output_type": "stream",
     "text": [
      "In this experiment, 50 requests were made per temperature value using model gpt-3.5-turbo and prompt_1.\n"
     ]
    },
    {
     "data": {
      "text/html": [
       "<div>\n",
       "<style scoped>\n",
       "    .dataframe tbody tr th:only-of-type {\n",
       "        vertical-align: middle;\n",
       "    }\n",
       "\n",
       "    .dataframe tbody tr th {\n",
       "        vertical-align: top;\n",
       "    }\n",
       "\n",
       "    .dataframe thead th {\n",
       "        text-align: right;\n",
       "    }\n",
       "</style>\n",
       "<table border=\"1\" class=\"dataframe\">\n",
       "  <thead>\n",
       "    <tr style=\"text-align: right;\">\n",
       "      <th></th>\n",
       "      <th>0</th>\n",
       "      <th>1</th>\n",
       "      <th>2</th>\n",
       "      <th>3</th>\n",
       "      <th>4</th>\n",
       "    </tr>\n",
       "  </thead>\n",
       "  <tbody>\n",
       "    <tr>\n",
       "      <th>Experiment</th>\n",
       "      <td>1_1</td>\n",
       "      <td>1_1</td>\n",
       "      <td>1_1</td>\n",
       "      <td>1_1</td>\n",
       "      <td>1_1</td>\n",
       "    </tr>\n",
       "    <tr>\n",
       "      <th>Temp</th>\n",
       "      <td>0.0</td>\n",
       "      <td>0.5</td>\n",
       "      <td>1.0</td>\n",
       "      <td>1.5</td>\n",
       "      <td>2.0</td>\n",
       "    </tr>\n",
       "    <tr>\n",
       "      <th>p(A)</th>\n",
       "      <td>0.00%</td>\n",
       "      <td>0.00%</td>\n",
       "      <td>0.00%</td>\n",
       "      <td>6.00%</td>\n",
       "      <td>6.12%</td>\n",
       "    </tr>\n",
       "    <tr>\n",
       "      <th>p(B)</th>\n",
       "      <td>0.00%</td>\n",
       "      <td>0.00%</td>\n",
       "      <td>6.00%</td>\n",
       "      <td>8.00%</td>\n",
       "      <td>14.29%</td>\n",
       "    </tr>\n",
       "    <tr>\n",
       "      <th>p(C)</th>\n",
       "      <td>100.00%</td>\n",
       "      <td>100.00%</td>\n",
       "      <td>94.00%</td>\n",
       "      <td>86.00%</td>\n",
       "      <td>79.59%</td>\n",
       "    </tr>\n",
       "    <tr>\n",
       "      <th>Obs.</th>\n",
       "      <td>50</td>\n",
       "      <td>50</td>\n",
       "      <td>50</td>\n",
       "      <td>50</td>\n",
       "      <td>49</td>\n",
       "    </tr>\n",
       "  </tbody>\n",
       "</table>\n",
       "</div>"
      ],
      "text/plain": [
       "                  0        1       2       3       4\n",
       "Experiment      1_1      1_1     1_1     1_1     1_1\n",
       "Temp            0.0      0.5     1.0     1.5     2.0\n",
       "p(A)          0.00%    0.00%   0.00%   6.00%   6.12%\n",
       "p(B)          0.00%    0.00%   6.00%   8.00%  14.29%\n",
       "p(C)        100.00%  100.00%  94.00%  86.00%  79.59%\n",
       "Obs.             50       50      50      50      49"
      ]
     },
     "execution_count": 36,
     "metadata": {},
     "output_type": "execute_result"
    }
   ],
   "source": [
    "# Call function\n",
    "results_1_1, probs_1_1 = run_decoy(decoy_function, experiment_id = \"1_1\", temperature_list = [0, 0.5, 1, 1.5, 2], n = 50, max_tokens = 1)\n",
    "# Display results\n",
    "probs_1_1"
   ]
  },
  {
   "cell_type": "markdown",
   "metadata": {},
   "source": [
    "- Prompt 2: Unprimed & second option (decoy) removed"
   ]
  },
  {
   "cell_type": "code",
   "execution_count": 37,
   "metadata": {},
   "outputs": [
    {
     "name": "stdout",
     "output_type": "stream",
     "text": [
      "In this experiment, 50 requests were made per temperature value using model gpt-3.5-turbo and prompt_2.\n"
     ]
    },
    {
     "data": {
      "text/html": [
       "<div>\n",
       "<style scoped>\n",
       "    .dataframe tbody tr th:only-of-type {\n",
       "        vertical-align: middle;\n",
       "    }\n",
       "\n",
       "    .dataframe tbody tr th {\n",
       "        vertical-align: top;\n",
       "    }\n",
       "\n",
       "    .dataframe thead th {\n",
       "        text-align: right;\n",
       "    }\n",
       "</style>\n",
       "<table border=\"1\" class=\"dataframe\">\n",
       "  <thead>\n",
       "    <tr style=\"text-align: right;\">\n",
       "      <th></th>\n",
       "      <th>0</th>\n",
       "      <th>1</th>\n",
       "      <th>2</th>\n",
       "      <th>3</th>\n",
       "      <th>4</th>\n",
       "    </tr>\n",
       "  </thead>\n",
       "  <tbody>\n",
       "    <tr>\n",
       "      <th>Experiment</th>\n",
       "      <td>1_2</td>\n",
       "      <td>1_2</td>\n",
       "      <td>1_2</td>\n",
       "      <td>1_2</td>\n",
       "      <td>1_2</td>\n",
       "    </tr>\n",
       "    <tr>\n",
       "      <th>Temp</th>\n",
       "      <td>0.0</td>\n",
       "      <td>0.5</td>\n",
       "      <td>1.0</td>\n",
       "      <td>1.5</td>\n",
       "      <td>2.0</td>\n",
       "    </tr>\n",
       "    <tr>\n",
       "      <th>p(A)</th>\n",
       "      <td>0.00%</td>\n",
       "      <td>4.00%</td>\n",
       "      <td>18.00%</td>\n",
       "      <td>30.00%</td>\n",
       "      <td>46.81%</td>\n",
       "    </tr>\n",
       "    <tr>\n",
       "      <th>p(B)</th>\n",
       "      <td>0.00%</td>\n",
       "      <td>0.00%</td>\n",
       "      <td>0.00%</td>\n",
       "      <td>0.00%</td>\n",
       "      <td>2.13%</td>\n",
       "    </tr>\n",
       "    <tr>\n",
       "      <th>p(C)</th>\n",
       "      <td>100.00%</td>\n",
       "      <td>96.00%</td>\n",
       "      <td>82.00%</td>\n",
       "      <td>70.00%</td>\n",
       "      <td>51.06%</td>\n",
       "    </tr>\n",
       "    <tr>\n",
       "      <th>Obs.</th>\n",
       "      <td>50</td>\n",
       "      <td>50</td>\n",
       "      <td>50</td>\n",
       "      <td>50</td>\n",
       "      <td>47</td>\n",
       "    </tr>\n",
       "  </tbody>\n",
       "</table>\n",
       "</div>"
      ],
      "text/plain": [
       "                  0       1       2       3       4\n",
       "Experiment      1_2     1_2     1_2     1_2     1_2\n",
       "Temp            0.0     0.5     1.0     1.5     2.0\n",
       "p(A)          0.00%   4.00%  18.00%  30.00%  46.81%\n",
       "p(B)          0.00%   0.00%   0.00%   0.00%   2.13%\n",
       "p(C)        100.00%  96.00%  82.00%  70.00%  51.06%\n",
       "Obs.             50      50      50      50      47"
      ]
     },
     "execution_count": 37,
     "metadata": {},
     "output_type": "execute_result"
    }
   ],
   "source": [
    "results_1_2, probs_1_2 = run_decoy(decoy_function, experiment_id = \"1_2\", temperature_list = [0, 0.5, 1, 1.5, 2], n = 50, max_tokens = 1)\n",
    "probs_1_2"
   ]
  },
  {
   "cell_type": "markdown",
   "metadata": {},
   "source": [
    "- Prompt 3: Primed & all answer options"
   ]
  },
  {
   "cell_type": "code",
   "execution_count": 45,
   "metadata": {},
   "outputs": [
    {
     "name": "stdout",
     "output_type": "stream",
     "text": [
      "In this experiment, 50 requests were made per temperature value using model gpt-3.5-turbo and prompt_3.\n"
     ]
    },
    {
     "data": {
      "text/html": [
       "<div>\n",
       "<style scoped>\n",
       "    .dataframe tbody tr th:only-of-type {\n",
       "        vertical-align: middle;\n",
       "    }\n",
       "\n",
       "    .dataframe tbody tr th {\n",
       "        vertical-align: top;\n",
       "    }\n",
       "\n",
       "    .dataframe thead th {\n",
       "        text-align: right;\n",
       "    }\n",
       "</style>\n",
       "<table border=\"1\" class=\"dataframe\">\n",
       "  <thead>\n",
       "    <tr style=\"text-align: right;\">\n",
       "      <th></th>\n",
       "      <th>0</th>\n",
       "      <th>1</th>\n",
       "      <th>2</th>\n",
       "      <th>3</th>\n",
       "      <th>4</th>\n",
       "    </tr>\n",
       "  </thead>\n",
       "  <tbody>\n",
       "    <tr>\n",
       "      <th>Experiment</th>\n",
       "      <td>1_3</td>\n",
       "      <td>1_3</td>\n",
       "      <td>1_3</td>\n",
       "      <td>1_3</td>\n",
       "      <td>1_3</td>\n",
       "    </tr>\n",
       "    <tr>\n",
       "      <th>Temp</th>\n",
       "      <td>0.0</td>\n",
       "      <td>0.5</td>\n",
       "      <td>1.0</td>\n",
       "      <td>1.5</td>\n",
       "      <td>2.0</td>\n",
       "    </tr>\n",
       "    <tr>\n",
       "      <th>p(A)</th>\n",
       "      <td>0.00%</td>\n",
       "      <td>0.00%</td>\n",
       "      <td>6.00%</td>\n",
       "      <td>2.04%</td>\n",
       "      <td>22.92%</td>\n",
       "    </tr>\n",
       "    <tr>\n",
       "      <th>p(B)</th>\n",
       "      <td>0.00%</td>\n",
       "      <td>2.00%</td>\n",
       "      <td>16.00%</td>\n",
       "      <td>12.24%</td>\n",
       "      <td>22.92%</td>\n",
       "    </tr>\n",
       "    <tr>\n",
       "      <th>p(C)</th>\n",
       "      <td>100.00%</td>\n",
       "      <td>98.00%</td>\n",
       "      <td>78.00%</td>\n",
       "      <td>85.71%</td>\n",
       "      <td>54.17%</td>\n",
       "    </tr>\n",
       "    <tr>\n",
       "      <th>Obs.</th>\n",
       "      <td>50</td>\n",
       "      <td>50</td>\n",
       "      <td>50</td>\n",
       "      <td>49</td>\n",
       "      <td>48</td>\n",
       "    </tr>\n",
       "  </tbody>\n",
       "</table>\n",
       "</div>"
      ],
      "text/plain": [
       "                  0       1       2       3       4\n",
       "Experiment      1_3     1_3     1_3     1_3     1_3\n",
       "Temp            0.0     0.5     1.0     1.5     2.0\n",
       "p(A)          0.00%   0.00%   6.00%   2.04%  22.92%\n",
       "p(B)          0.00%   2.00%  16.00%  12.24%  22.92%\n",
       "p(C)        100.00%  98.00%  78.00%  85.71%  54.17%\n",
       "Obs.             50      50      50      49      48"
      ]
     },
     "execution_count": 45,
     "metadata": {},
     "output_type": "execute_result"
    }
   ],
   "source": [
    "results_1_3, probs_1_3 = run_decoy(decoy_function, experiment_id = \"1_3\", temperature_list = [0, 0.5, 1, 1.5, 2], n = 50, max_tokens = 1)\n",
    "probs_1_3"
   ]
  },
  {
   "cell_type": "code",
   "execution_count": 116,
   "metadata": {},
   "outputs": [
    {
     "data": {
      "text/plain": [
       "['B', 'C', 'C', 'B', 'C', 'C', 'C', 'A', 'C', 'B']"
      ]
     },
     "execution_count": 116,
     "metadata": {},
     "output_type": "execute_result"
    }
   ],
   "source": [
    "answers, results, probs = decoy_function(experiment_id = \"1_3\", n = 10, temperature = 2, max_tokens = 5)\n",
    "answers"
   ]
  },
  {
   "cell_type": "markdown",
   "metadata": {},
   "source": [
    "- Prompt 4: Primed & second option (decoy) removed"
   ]
  },
  {
   "cell_type": "code",
   "execution_count": 39,
   "metadata": {},
   "outputs": [
    {
     "name": "stdout",
     "output_type": "stream",
     "text": [
      "In this experiment, 50 requests were made per temperature value using model gpt-3.5-turbo and prompt_4.\n"
     ]
    },
    {
     "data": {
      "text/html": [
       "<div>\n",
       "<style scoped>\n",
       "    .dataframe tbody tr th:only-of-type {\n",
       "        vertical-align: middle;\n",
       "    }\n",
       "\n",
       "    .dataframe tbody tr th {\n",
       "        vertical-align: top;\n",
       "    }\n",
       "\n",
       "    .dataframe thead th {\n",
       "        text-align: right;\n",
       "    }\n",
       "</style>\n",
       "<table border=\"1\" class=\"dataframe\">\n",
       "  <thead>\n",
       "    <tr style=\"text-align: right;\">\n",
       "      <th></th>\n",
       "      <th>0</th>\n",
       "      <th>1</th>\n",
       "      <th>2</th>\n",
       "      <th>3</th>\n",
       "      <th>4</th>\n",
       "    </tr>\n",
       "  </thead>\n",
       "  <tbody>\n",
       "    <tr>\n",
       "      <th>Experiment</th>\n",
       "      <td>1_4</td>\n",
       "      <td>1_4</td>\n",
       "      <td>1_4</td>\n",
       "      <td>1_4</td>\n",
       "      <td>1_4</td>\n",
       "    </tr>\n",
       "    <tr>\n",
       "      <th>Temp</th>\n",
       "      <td>0.0</td>\n",
       "      <td>0.5</td>\n",
       "      <td>1.0</td>\n",
       "      <td>1.5</td>\n",
       "      <td>2.0</td>\n",
       "    </tr>\n",
       "    <tr>\n",
       "      <th>p(A)</th>\n",
       "      <td>0.00%</td>\n",
       "      <td>8.00%</td>\n",
       "      <td>18.00%</td>\n",
       "      <td>30.00%</td>\n",
       "      <td>19.57%</td>\n",
       "    </tr>\n",
       "    <tr>\n",
       "      <th>p(B)</th>\n",
       "      <td>0.00%</td>\n",
       "      <td>0.00%</td>\n",
       "      <td>0.00%</td>\n",
       "      <td>0.00%</td>\n",
       "      <td>2.17%</td>\n",
       "    </tr>\n",
       "    <tr>\n",
       "      <th>p(C)</th>\n",
       "      <td>100.00%</td>\n",
       "      <td>92.00%</td>\n",
       "      <td>82.00%</td>\n",
       "      <td>70.00%</td>\n",
       "      <td>78.26%</td>\n",
       "    </tr>\n",
       "    <tr>\n",
       "      <th>Obs.</th>\n",
       "      <td>50</td>\n",
       "      <td>50</td>\n",
       "      <td>50</td>\n",
       "      <td>50</td>\n",
       "      <td>46</td>\n",
       "    </tr>\n",
       "  </tbody>\n",
       "</table>\n",
       "</div>"
      ],
      "text/plain": [
       "                  0       1       2       3       4\n",
       "Experiment      1_4     1_4     1_4     1_4     1_4\n",
       "Temp            0.0     0.5     1.0     1.5     2.0\n",
       "p(A)          0.00%   8.00%  18.00%  30.00%  19.57%\n",
       "p(B)          0.00%   0.00%   0.00%   0.00%   2.17%\n",
       "p(C)        100.00%  92.00%  82.00%  70.00%  78.26%\n",
       "Obs.             50      50      50      50      46"
      ]
     },
     "execution_count": 39,
     "metadata": {},
     "output_type": "execute_result"
    }
   ],
   "source": [
    "results_1_4, probs_1_4 = run_decoy(decoy_function, experiment_id = \"1_4\", temperature_list = [0, 0.5, 1, 1.5, 2], n = 50, max_tokens = 1)\n",
    "probs_1_4"
   ]
  },
  {
   "cell_type": "markdown",
   "metadata": {},
   "source": [
    "\n",
    "-----------------------------"
   ]
  },
  {
   "cell_type": "markdown",
   "metadata": {},
   "source": [
    "- Prompt 5: Unprimed & all answer options, renamed & reordered"
   ]
  },
  {
   "cell_type": "code",
   "execution_count": 40,
   "metadata": {},
   "outputs": [
    {
     "name": "stdout",
     "output_type": "stream",
     "text": [
      "In this experiment, 50 requests were made per temperature value using model gpt-3.5-turbo and prompt_5.\n"
     ]
    },
    {
     "data": {
      "text/html": [
       "<div>\n",
       "<style scoped>\n",
       "    .dataframe tbody tr th:only-of-type {\n",
       "        vertical-align: middle;\n",
       "    }\n",
       "\n",
       "    .dataframe tbody tr th {\n",
       "        vertical-align: top;\n",
       "    }\n",
       "\n",
       "    .dataframe thead th {\n",
       "        text-align: right;\n",
       "    }\n",
       "</style>\n",
       "<table border=\"1\" class=\"dataframe\">\n",
       "  <thead>\n",
       "    <tr style=\"text-align: right;\">\n",
       "      <th></th>\n",
       "      <th>0</th>\n",
       "      <th>1</th>\n",
       "      <th>2</th>\n",
       "      <th>3</th>\n",
       "      <th>4</th>\n",
       "    </tr>\n",
       "  </thead>\n",
       "  <tbody>\n",
       "    <tr>\n",
       "      <th>Experiment</th>\n",
       "      <td>1_5</td>\n",
       "      <td>1_5</td>\n",
       "      <td>1_5</td>\n",
       "      <td>1_5</td>\n",
       "      <td>1_5</td>\n",
       "    </tr>\n",
       "    <tr>\n",
       "      <th>Temp</th>\n",
       "      <td>0.0</td>\n",
       "      <td>0.5</td>\n",
       "      <td>1.0</td>\n",
       "      <td>1.5</td>\n",
       "      <td>2.0</td>\n",
       "    </tr>\n",
       "    <tr>\n",
       "      <th>p(A)</th>\n",
       "      <td>0.00%</td>\n",
       "      <td>0.00%</td>\n",
       "      <td>6.00%</td>\n",
       "      <td>14.29%</td>\n",
       "      <td>22.22%</td>\n",
       "    </tr>\n",
       "    <tr>\n",
       "      <th>p(B)</th>\n",
       "      <td>0.00%</td>\n",
       "      <td>0.00%</td>\n",
       "      <td>0.00%</td>\n",
       "      <td>2.04%</td>\n",
       "      <td>0.00%</td>\n",
       "    </tr>\n",
       "    <tr>\n",
       "      <th>p(C)</th>\n",
       "      <td>100.00%</td>\n",
       "      <td>100.00%</td>\n",
       "      <td>94.00%</td>\n",
       "      <td>83.67%</td>\n",
       "      <td>77.78%</td>\n",
       "    </tr>\n",
       "    <tr>\n",
       "      <th>Obs.</th>\n",
       "      <td>50</td>\n",
       "      <td>50</td>\n",
       "      <td>50</td>\n",
       "      <td>49</td>\n",
       "      <td>45</td>\n",
       "    </tr>\n",
       "  </tbody>\n",
       "</table>\n",
       "</div>"
      ],
      "text/plain": [
       "                  0        1       2       3       4\n",
       "Experiment      1_5      1_5     1_5     1_5     1_5\n",
       "Temp            0.0      0.5     1.0     1.5     2.0\n",
       "p(A)          0.00%    0.00%   6.00%  14.29%  22.22%\n",
       "p(B)          0.00%    0.00%   0.00%   2.04%   0.00%\n",
       "p(C)        100.00%  100.00%  94.00%  83.67%  77.78%\n",
       "Obs.             50       50      50      49      45"
      ]
     },
     "execution_count": 40,
     "metadata": {},
     "output_type": "execute_result"
    }
   ],
   "source": [
    "results_1_5, probs_1_5 = run_decoy(decoy_function2, experiment_id = \"1_5\", temperature_list = [0, 0.5, 1, 1.5, 2], n = 50, max_tokens = 1)\n",
    "probs_1_5"
   ]
  },
  {
   "cell_type": "markdown",
   "metadata": {},
   "source": [
    "- Prompt 6: Unprimed & second option (decoy) removed, renamed & reordered"
   ]
  },
  {
   "cell_type": "code",
   "execution_count": 41,
   "metadata": {},
   "outputs": [
    {
     "name": "stdout",
     "output_type": "stream",
     "text": [
      "In this experiment, 50 requests were made per temperature value using model gpt-3.5-turbo and prompt_6.\n"
     ]
    },
    {
     "data": {
      "text/html": [
       "<div>\n",
       "<style scoped>\n",
       "    .dataframe tbody tr th:only-of-type {\n",
       "        vertical-align: middle;\n",
       "    }\n",
       "\n",
       "    .dataframe tbody tr th {\n",
       "        vertical-align: top;\n",
       "    }\n",
       "\n",
       "    .dataframe thead th {\n",
       "        text-align: right;\n",
       "    }\n",
       "</style>\n",
       "<table border=\"1\" class=\"dataframe\">\n",
       "  <thead>\n",
       "    <tr style=\"text-align: right;\">\n",
       "      <th></th>\n",
       "      <th>0</th>\n",
       "      <th>1</th>\n",
       "      <th>2</th>\n",
       "      <th>3</th>\n",
       "      <th>4</th>\n",
       "    </tr>\n",
       "  </thead>\n",
       "  <tbody>\n",
       "    <tr>\n",
       "      <th>Experiment</th>\n",
       "      <td>1_6</td>\n",
       "      <td>1_6</td>\n",
       "      <td>1_6</td>\n",
       "      <td>1_6</td>\n",
       "      <td>1_6</td>\n",
       "    </tr>\n",
       "    <tr>\n",
       "      <th>Temp</th>\n",
       "      <td>0.0</td>\n",
       "      <td>0.5</td>\n",
       "      <td>1.0</td>\n",
       "      <td>1.5</td>\n",
       "      <td>2.0</td>\n",
       "    </tr>\n",
       "    <tr>\n",
       "      <th>p(A)</th>\n",
       "      <td>0.00%</td>\n",
       "      <td>0.00%</td>\n",
       "      <td>10.00%</td>\n",
       "      <td>22.00%</td>\n",
       "      <td>37.50%</td>\n",
       "    </tr>\n",
       "    <tr>\n",
       "      <th>p(B)</th>\n",
       "      <td>0.00%</td>\n",
       "      <td>0.00%</td>\n",
       "      <td>0.00%</td>\n",
       "      <td>0.00%</td>\n",
       "      <td>0.00%</td>\n",
       "    </tr>\n",
       "    <tr>\n",
       "      <th>p(C)</th>\n",
       "      <td>100.00%</td>\n",
       "      <td>100.00%</td>\n",
       "      <td>90.00%</td>\n",
       "      <td>78.00%</td>\n",
       "      <td>62.50%</td>\n",
       "    </tr>\n",
       "    <tr>\n",
       "      <th>Obs.</th>\n",
       "      <td>50</td>\n",
       "      <td>50</td>\n",
       "      <td>50</td>\n",
       "      <td>50</td>\n",
       "      <td>48</td>\n",
       "    </tr>\n",
       "  </tbody>\n",
       "</table>\n",
       "</div>"
      ],
      "text/plain": [
       "                  0        1       2       3       4\n",
       "Experiment      1_6      1_6     1_6     1_6     1_6\n",
       "Temp            0.0      0.5     1.0     1.5     2.0\n",
       "p(A)          0.00%    0.00%  10.00%  22.00%  37.50%\n",
       "p(B)          0.00%    0.00%   0.00%   0.00%   0.00%\n",
       "p(C)        100.00%  100.00%  90.00%  78.00%  62.50%\n",
       "Obs.             50       50      50      50      48"
      ]
     },
     "execution_count": 41,
     "metadata": {},
     "output_type": "execute_result"
    }
   ],
   "source": [
    "results_1_6, probs_1_6 = run_decoy(decoy_function2, experiment_id = \"1_6\", temperature_list = [0, 0.5, 1, 1.5, 2], n = 50, max_tokens = 1)\n",
    "probs_1_6"
   ]
  },
  {
   "cell_type": "markdown",
   "metadata": {},
   "source": [
    "- Prompt 7: Primed & all answer options, renamed & reordered"
   ]
  },
  {
   "cell_type": "code",
   "execution_count": 42,
   "metadata": {},
   "outputs": [
    {
     "name": "stdout",
     "output_type": "stream",
     "text": [
      "In this experiment, 50 requests were made per temperature value using model gpt-3.5-turbo and prompt_7.\n"
     ]
    },
    {
     "data": {
      "text/html": [
       "<div>\n",
       "<style scoped>\n",
       "    .dataframe tbody tr th:only-of-type {\n",
       "        vertical-align: middle;\n",
       "    }\n",
       "\n",
       "    .dataframe tbody tr th {\n",
       "        vertical-align: top;\n",
       "    }\n",
       "\n",
       "    .dataframe thead th {\n",
       "        text-align: right;\n",
       "    }\n",
       "</style>\n",
       "<table border=\"1\" class=\"dataframe\">\n",
       "  <thead>\n",
       "    <tr style=\"text-align: right;\">\n",
       "      <th></th>\n",
       "      <th>0</th>\n",
       "      <th>1</th>\n",
       "      <th>2</th>\n",
       "      <th>3</th>\n",
       "      <th>4</th>\n",
       "    </tr>\n",
       "  </thead>\n",
       "  <tbody>\n",
       "    <tr>\n",
       "      <th>Experiment</th>\n",
       "      <td>1_7</td>\n",
       "      <td>1_7</td>\n",
       "      <td>1_7</td>\n",
       "      <td>1_7</td>\n",
       "      <td>1_7</td>\n",
       "    </tr>\n",
       "    <tr>\n",
       "      <th>Temp</th>\n",
       "      <td>0.0</td>\n",
       "      <td>0.5</td>\n",
       "      <td>1.0</td>\n",
       "      <td>1.5</td>\n",
       "      <td>2.0</td>\n",
       "    </tr>\n",
       "    <tr>\n",
       "      <th>p(A)</th>\n",
       "      <td>0.00%</td>\n",
       "      <td>0.00%</td>\n",
       "      <td>2.00%</td>\n",
       "      <td>2.04%</td>\n",
       "      <td>7.14%</td>\n",
       "    </tr>\n",
       "    <tr>\n",
       "      <th>p(B)</th>\n",
       "      <td>0.00%</td>\n",
       "      <td>8.00%</td>\n",
       "      <td>18.00%</td>\n",
       "      <td>36.73%</td>\n",
       "      <td>26.19%</td>\n",
       "    </tr>\n",
       "    <tr>\n",
       "      <th>p(C)</th>\n",
       "      <td>100.00%</td>\n",
       "      <td>92.00%</td>\n",
       "      <td>80.00%</td>\n",
       "      <td>61.22%</td>\n",
       "      <td>66.67%</td>\n",
       "    </tr>\n",
       "    <tr>\n",
       "      <th>Obs.</th>\n",
       "      <td>50</td>\n",
       "      <td>50</td>\n",
       "      <td>50</td>\n",
       "      <td>49</td>\n",
       "      <td>42</td>\n",
       "    </tr>\n",
       "  </tbody>\n",
       "</table>\n",
       "</div>"
      ],
      "text/plain": [
       "                  0       1       2       3       4\n",
       "Experiment      1_7     1_7     1_7     1_7     1_7\n",
       "Temp            0.0     0.5     1.0     1.5     2.0\n",
       "p(A)          0.00%   0.00%   2.00%   2.04%   7.14%\n",
       "p(B)          0.00%   8.00%  18.00%  36.73%  26.19%\n",
       "p(C)        100.00%  92.00%  80.00%  61.22%  66.67%\n",
       "Obs.             50      50      50      49      42"
      ]
     },
     "execution_count": 42,
     "metadata": {},
     "output_type": "execute_result"
    }
   ],
   "source": [
    "results_1_7, probs_1_7 = run_decoy(decoy_function2, experiment_id = \"1_7\", temperature_list = [0, 0.5, 1, 1.5, 2], n = 50, max_tokens = 1)\n",
    "probs_1_7"
   ]
  },
  {
   "cell_type": "markdown",
   "metadata": {},
   "source": [
    "- Prompt 8: Primed & second option (decoy) removed, renamed & reordered"
   ]
  },
  {
   "cell_type": "code",
   "execution_count": 43,
   "metadata": {},
   "outputs": [
    {
     "name": "stdout",
     "output_type": "stream",
     "text": [
      "In this experiment, 50 requests were made per temperature value using model gpt-3.5-turbo and prompt_8.\n"
     ]
    },
    {
     "data": {
      "text/html": [
       "<div>\n",
       "<style scoped>\n",
       "    .dataframe tbody tr th:only-of-type {\n",
       "        vertical-align: middle;\n",
       "    }\n",
       "\n",
       "    .dataframe tbody tr th {\n",
       "        vertical-align: top;\n",
       "    }\n",
       "\n",
       "    .dataframe thead th {\n",
       "        text-align: right;\n",
       "    }\n",
       "</style>\n",
       "<table border=\"1\" class=\"dataframe\">\n",
       "  <thead>\n",
       "    <tr style=\"text-align: right;\">\n",
       "      <th></th>\n",
       "      <th>0</th>\n",
       "      <th>1</th>\n",
       "      <th>2</th>\n",
       "      <th>3</th>\n",
       "      <th>4</th>\n",
       "    </tr>\n",
       "  </thead>\n",
       "  <tbody>\n",
       "    <tr>\n",
       "      <th>Experiment</th>\n",
       "      <td>1_8</td>\n",
       "      <td>1_8</td>\n",
       "      <td>1_8</td>\n",
       "      <td>1_8</td>\n",
       "      <td>1_8</td>\n",
       "    </tr>\n",
       "    <tr>\n",
       "      <th>Temp</th>\n",
       "      <td>0.0</td>\n",
       "      <td>0.5</td>\n",
       "      <td>1.0</td>\n",
       "      <td>1.5</td>\n",
       "      <td>2.0</td>\n",
       "    </tr>\n",
       "    <tr>\n",
       "      <th>p(A)</th>\n",
       "      <td>0.00%</td>\n",
       "      <td>2.00%</td>\n",
       "      <td>8.00%</td>\n",
       "      <td>22.00%</td>\n",
       "      <td>26.19%</td>\n",
       "    </tr>\n",
       "    <tr>\n",
       "      <th>p(B)</th>\n",
       "      <td>0.00%</td>\n",
       "      <td>0.00%</td>\n",
       "      <td>0.00%</td>\n",
       "      <td>0.00%</td>\n",
       "      <td>0.00%</td>\n",
       "    </tr>\n",
       "    <tr>\n",
       "      <th>p(C)</th>\n",
       "      <td>100.00%</td>\n",
       "      <td>98.00%</td>\n",
       "      <td>92.00%</td>\n",
       "      <td>78.00%</td>\n",
       "      <td>73.81%</td>\n",
       "    </tr>\n",
       "    <tr>\n",
       "      <th>Obs.</th>\n",
       "      <td>50</td>\n",
       "      <td>50</td>\n",
       "      <td>50</td>\n",
       "      <td>50</td>\n",
       "      <td>42</td>\n",
       "    </tr>\n",
       "  </tbody>\n",
       "</table>\n",
       "</div>"
      ],
      "text/plain": [
       "                  0       1       2       3       4\n",
       "Experiment      1_8     1_8     1_8     1_8     1_8\n",
       "Temp            0.0     0.5     1.0     1.5     2.0\n",
       "p(A)          0.00%   2.00%   8.00%  22.00%  26.19%\n",
       "p(B)          0.00%   0.00%   0.00%   0.00%   0.00%\n",
       "p(C)        100.00%  98.00%  92.00%  78.00%  73.81%\n",
       "Obs.             50      50      50      50      42"
      ]
     },
     "execution_count": 43,
     "metadata": {},
     "output_type": "execute_result"
    }
   ],
   "source": [
    "results_1_8, probs_1_8 = run_decoy(decoy_function2, experiment_id = \"1_8\", temperature_list = [0, 0.5, 1, 1.5, 2], n = 50, max_tokens = 1)\n",
    "probs_1_8"
   ]
  },
  {
   "cell_type": "markdown",
   "metadata": {},
   "source": [
    "-------------------------------------"
   ]
  },
  {
   "cell_type": "markdown",
   "metadata": {},
   "source": [
    "#### Model 2: GPT-4-1106-preview (Model training ended in April 2023)"
   ]
  },
  {
   "cell_type": "markdown",
   "metadata": {},
   "source": [
    "- Prompt 1: Unprimed & all answer options"
   ]
  },
  {
   "cell_type": "code",
   "execution_count": 46,
   "metadata": {},
   "outputs": [
    {
     "name": "stdout",
     "output_type": "stream",
     "text": [
      "In this experiment, 50 requests were made per temperature value using model gpt-4-1106-preview and prompt_1.\n"
     ]
    },
    {
     "data": {
      "text/html": [
       "<div>\n",
       "<style scoped>\n",
       "    .dataframe tbody tr th:only-of-type {\n",
       "        vertical-align: middle;\n",
       "    }\n",
       "\n",
       "    .dataframe tbody tr th {\n",
       "        vertical-align: top;\n",
       "    }\n",
       "\n",
       "    .dataframe thead th {\n",
       "        text-align: right;\n",
       "    }\n",
       "</style>\n",
       "<table border=\"1\" class=\"dataframe\">\n",
       "  <thead>\n",
       "    <tr style=\"text-align: right;\">\n",
       "      <th></th>\n",
       "      <th>0</th>\n",
       "      <th>1</th>\n",
       "      <th>2</th>\n",
       "      <th>3</th>\n",
       "      <th>4</th>\n",
       "    </tr>\n",
       "  </thead>\n",
       "  <tbody>\n",
       "    <tr>\n",
       "      <th>Experiment</th>\n",
       "      <td>2_1</td>\n",
       "      <td>2_1</td>\n",
       "      <td>2_1</td>\n",
       "      <td>2_1</td>\n",
       "      <td>2_1</td>\n",
       "    </tr>\n",
       "    <tr>\n",
       "      <th>Temp</th>\n",
       "      <td>0.0</td>\n",
       "      <td>0.5</td>\n",
       "      <td>1.0</td>\n",
       "      <td>1.5</td>\n",
       "      <td>2.0</td>\n",
       "    </tr>\n",
       "    <tr>\n",
       "      <th>p(A)</th>\n",
       "      <td>0.00%</td>\n",
       "      <td>0.00%</td>\n",
       "      <td>0.00%</td>\n",
       "      <td>0.00%</td>\n",
       "      <td>2.08%</td>\n",
       "    </tr>\n",
       "    <tr>\n",
       "      <th>p(B)</th>\n",
       "      <td>0.00%</td>\n",
       "      <td>0.00%</td>\n",
       "      <td>0.00%</td>\n",
       "      <td>0.00%</td>\n",
       "      <td>0.00%</td>\n",
       "    </tr>\n",
       "    <tr>\n",
       "      <th>p(C)</th>\n",
       "      <td>100.00%</td>\n",
       "      <td>100.00%</td>\n",
       "      <td>100.00%</td>\n",
       "      <td>100.00%</td>\n",
       "      <td>97.92%</td>\n",
       "    </tr>\n",
       "    <tr>\n",
       "      <th>Obs.</th>\n",
       "      <td>50</td>\n",
       "      <td>50</td>\n",
       "      <td>50</td>\n",
       "      <td>50</td>\n",
       "      <td>48</td>\n",
       "    </tr>\n",
       "  </tbody>\n",
       "</table>\n",
       "</div>"
      ],
      "text/plain": [
       "                  0        1        2        3       4\n",
       "Experiment      2_1      2_1      2_1      2_1     2_1\n",
       "Temp            0.0      0.5      1.0      1.5     2.0\n",
       "p(A)          0.00%    0.00%    0.00%    0.00%   2.08%\n",
       "p(B)          0.00%    0.00%    0.00%    0.00%   0.00%\n",
       "p(C)        100.00%  100.00%  100.00%  100.00%  97.92%\n",
       "Obs.             50       50       50       50      48"
      ]
     },
     "execution_count": 46,
     "metadata": {},
     "output_type": "execute_result"
    }
   ],
   "source": [
    "results_2_1, probs_2_1 = run_decoy(decoy_function, experiment_id = \"2_1\", temperature_list = [0, 0.5, 1, 1.5, 2], n = 50, max_tokens = 1)\n",
    "probs_2_1"
   ]
  },
  {
   "cell_type": "markdown",
   "metadata": {},
   "source": [
    "- Prompt 2: Unprimed & second option (decoy) removed"
   ]
  },
  {
   "cell_type": "code",
   "execution_count": 47,
   "metadata": {},
   "outputs": [
    {
     "name": "stdout",
     "output_type": "stream",
     "text": [
      "In this experiment, 50 requests were made per temperature value using model gpt-4-1106-preview and prompt_2.\n"
     ]
    },
    {
     "data": {
      "text/html": [
       "<div>\n",
       "<style scoped>\n",
       "    .dataframe tbody tr th:only-of-type {\n",
       "        vertical-align: middle;\n",
       "    }\n",
       "\n",
       "    .dataframe tbody tr th {\n",
       "        vertical-align: top;\n",
       "    }\n",
       "\n",
       "    .dataframe thead th {\n",
       "        text-align: right;\n",
       "    }\n",
       "</style>\n",
       "<table border=\"1\" class=\"dataframe\">\n",
       "  <thead>\n",
       "    <tr style=\"text-align: right;\">\n",
       "      <th></th>\n",
       "      <th>0</th>\n",
       "      <th>1</th>\n",
       "      <th>2</th>\n",
       "      <th>3</th>\n",
       "      <th>4</th>\n",
       "    </tr>\n",
       "  </thead>\n",
       "  <tbody>\n",
       "    <tr>\n",
       "      <th>Experiment</th>\n",
       "      <td>2_2</td>\n",
       "      <td>2_2</td>\n",
       "      <td>2_2</td>\n",
       "      <td>2_2</td>\n",
       "      <td>2_2</td>\n",
       "    </tr>\n",
       "    <tr>\n",
       "      <th>Temp</th>\n",
       "      <td>0.0</td>\n",
       "      <td>0.5</td>\n",
       "      <td>1.0</td>\n",
       "      <td>1.5</td>\n",
       "      <td>2.0</td>\n",
       "    </tr>\n",
       "    <tr>\n",
       "      <th>p(A)</th>\n",
       "      <td>0.00%</td>\n",
       "      <td>0.00%</td>\n",
       "      <td>0.00%</td>\n",
       "      <td>0.00%</td>\n",
       "      <td>0.00%</td>\n",
       "    </tr>\n",
       "    <tr>\n",
       "      <th>p(B)</th>\n",
       "      <td>0.00%</td>\n",
       "      <td>0.00%</td>\n",
       "      <td>0.00%</td>\n",
       "      <td>0.00%</td>\n",
       "      <td>0.00%</td>\n",
       "    </tr>\n",
       "    <tr>\n",
       "      <th>p(C)</th>\n",
       "      <td>100.00%</td>\n",
       "      <td>100.00%</td>\n",
       "      <td>100.00%</td>\n",
       "      <td>100.00%</td>\n",
       "      <td>100.00%</td>\n",
       "    </tr>\n",
       "    <tr>\n",
       "      <th>Obs.</th>\n",
       "      <td>50</td>\n",
       "      <td>50</td>\n",
       "      <td>50</td>\n",
       "      <td>50</td>\n",
       "      <td>50</td>\n",
       "    </tr>\n",
       "  </tbody>\n",
       "</table>\n",
       "</div>"
      ],
      "text/plain": [
       "                  0        1        2        3        4\n",
       "Experiment      2_2      2_2      2_2      2_2      2_2\n",
       "Temp            0.0      0.5      1.0      1.5      2.0\n",
       "p(A)          0.00%    0.00%    0.00%    0.00%    0.00%\n",
       "p(B)          0.00%    0.00%    0.00%    0.00%    0.00%\n",
       "p(C)        100.00%  100.00%  100.00%  100.00%  100.00%\n",
       "Obs.             50       50       50       50       50"
      ]
     },
     "execution_count": 47,
     "metadata": {},
     "output_type": "execute_result"
    }
   ],
   "source": [
    "results_2_2, probs_2_2 = run_decoy(decoy_function, experiment_id = \"2_2\", temperature_list = [0, 0.5, 1, 1.5, 2], n = 50, max_tokens = 1)\n",
    "probs_2_2"
   ]
  },
  {
   "cell_type": "markdown",
   "metadata": {},
   "source": [
    "- Prompt 3: Primed & all answer options"
   ]
  },
  {
   "cell_type": "code",
   "execution_count": 48,
   "metadata": {},
   "outputs": [
    {
     "name": "stdout",
     "output_type": "stream",
     "text": [
      "In this experiment, 50 requests were made per temperature value using model gpt-4-1106-preview and prompt_3.\n"
     ]
    },
    {
     "data": {
      "text/html": [
       "<div>\n",
       "<style scoped>\n",
       "    .dataframe tbody tr th:only-of-type {\n",
       "        vertical-align: middle;\n",
       "    }\n",
       "\n",
       "    .dataframe tbody tr th {\n",
       "        vertical-align: top;\n",
       "    }\n",
       "\n",
       "    .dataframe thead th {\n",
       "        text-align: right;\n",
       "    }\n",
       "</style>\n",
       "<table border=\"1\" class=\"dataframe\">\n",
       "  <thead>\n",
       "    <tr style=\"text-align: right;\">\n",
       "      <th></th>\n",
       "      <th>0</th>\n",
       "      <th>1</th>\n",
       "      <th>2</th>\n",
       "      <th>3</th>\n",
       "      <th>4</th>\n",
       "    </tr>\n",
       "  </thead>\n",
       "  <tbody>\n",
       "    <tr>\n",
       "      <th>Experiment</th>\n",
       "      <td>2_3</td>\n",
       "      <td>2_3</td>\n",
       "      <td>2_3</td>\n",
       "      <td>2_3</td>\n",
       "      <td>2_3</td>\n",
       "    </tr>\n",
       "    <tr>\n",
       "      <th>Temp</th>\n",
       "      <td>0.0</td>\n",
       "      <td>0.5</td>\n",
       "      <td>1.0</td>\n",
       "      <td>1.5</td>\n",
       "      <td>2.0</td>\n",
       "    </tr>\n",
       "    <tr>\n",
       "      <th>p(A)</th>\n",
       "      <td>0.00%</td>\n",
       "      <td>0.00%</td>\n",
       "      <td>0.00%</td>\n",
       "      <td>0.00%</td>\n",
       "      <td>0.00%</td>\n",
       "    </tr>\n",
       "    <tr>\n",
       "      <th>p(B)</th>\n",
       "      <td>0.00%</td>\n",
       "      <td>0.00%</td>\n",
       "      <td>0.00%</td>\n",
       "      <td>0.00%</td>\n",
       "      <td>0.00%</td>\n",
       "    </tr>\n",
       "    <tr>\n",
       "      <th>p(C)</th>\n",
       "      <td>100.00%</td>\n",
       "      <td>100.00%</td>\n",
       "      <td>100.00%</td>\n",
       "      <td>100.00%</td>\n",
       "      <td>100.00%</td>\n",
       "    </tr>\n",
       "    <tr>\n",
       "      <th>Obs.</th>\n",
       "      <td>50</td>\n",
       "      <td>50</td>\n",
       "      <td>50</td>\n",
       "      <td>50</td>\n",
       "      <td>49</td>\n",
       "    </tr>\n",
       "  </tbody>\n",
       "</table>\n",
       "</div>"
      ],
      "text/plain": [
       "                  0        1        2        3        4\n",
       "Experiment      2_3      2_3      2_3      2_3      2_3\n",
       "Temp            0.0      0.5      1.0      1.5      2.0\n",
       "p(A)          0.00%    0.00%    0.00%    0.00%    0.00%\n",
       "p(B)          0.00%    0.00%    0.00%    0.00%    0.00%\n",
       "p(C)        100.00%  100.00%  100.00%  100.00%  100.00%\n",
       "Obs.             50       50       50       50       49"
      ]
     },
     "execution_count": 48,
     "metadata": {},
     "output_type": "execute_result"
    }
   ],
   "source": [
    "results_2_3, probs_2_3 = run_decoy(decoy_function, experiment_id = \"2_3\", temperature_list = [0, 0.5, 1, 1.5, 2], n = 50, max_tokens = 1)\n",
    "probs_2_3"
   ]
  },
  {
   "cell_type": "markdown",
   "metadata": {},
   "source": [
    "- Prompt 4: Primed & second option (decoy) removed"
   ]
  },
  {
   "cell_type": "code",
   "execution_count": 49,
   "metadata": {},
   "outputs": [
    {
     "name": "stdout",
     "output_type": "stream",
     "text": [
      "In this experiment, 50 requests were made per temperature value using model gpt-4-1106-preview and prompt_4.\n"
     ]
    },
    {
     "data": {
      "text/html": [
       "<div>\n",
       "<style scoped>\n",
       "    .dataframe tbody tr th:only-of-type {\n",
       "        vertical-align: middle;\n",
       "    }\n",
       "\n",
       "    .dataframe tbody tr th {\n",
       "        vertical-align: top;\n",
       "    }\n",
       "\n",
       "    .dataframe thead th {\n",
       "        text-align: right;\n",
       "    }\n",
       "</style>\n",
       "<table border=\"1\" class=\"dataframe\">\n",
       "  <thead>\n",
       "    <tr style=\"text-align: right;\">\n",
       "      <th></th>\n",
       "      <th>0</th>\n",
       "      <th>1</th>\n",
       "      <th>2</th>\n",
       "      <th>3</th>\n",
       "      <th>4</th>\n",
       "    </tr>\n",
       "  </thead>\n",
       "  <tbody>\n",
       "    <tr>\n",
       "      <th>Experiment</th>\n",
       "      <td>2_4</td>\n",
       "      <td>2_4</td>\n",
       "      <td>2_4</td>\n",
       "      <td>2_4</td>\n",
       "      <td>2_4</td>\n",
       "    </tr>\n",
       "    <tr>\n",
       "      <th>Temp</th>\n",
       "      <td>0.0</td>\n",
       "      <td>0.5</td>\n",
       "      <td>1.0</td>\n",
       "      <td>1.5</td>\n",
       "      <td>2.0</td>\n",
       "    </tr>\n",
       "    <tr>\n",
       "      <th>p(A)</th>\n",
       "      <td>0.00%</td>\n",
       "      <td>0.00%</td>\n",
       "      <td>2.00%</td>\n",
       "      <td>8.00%</td>\n",
       "      <td>10.42%</td>\n",
       "    </tr>\n",
       "    <tr>\n",
       "      <th>p(B)</th>\n",
       "      <td>0.00%</td>\n",
       "      <td>0.00%</td>\n",
       "      <td>0.00%</td>\n",
       "      <td>0.00%</td>\n",
       "      <td>0.00%</td>\n",
       "    </tr>\n",
       "    <tr>\n",
       "      <th>p(C)</th>\n",
       "      <td>100.00%</td>\n",
       "      <td>100.00%</td>\n",
       "      <td>98.00%</td>\n",
       "      <td>92.00%</td>\n",
       "      <td>89.58%</td>\n",
       "    </tr>\n",
       "    <tr>\n",
       "      <th>Obs.</th>\n",
       "      <td>50</td>\n",
       "      <td>50</td>\n",
       "      <td>50</td>\n",
       "      <td>50</td>\n",
       "      <td>48</td>\n",
       "    </tr>\n",
       "  </tbody>\n",
       "</table>\n",
       "</div>"
      ],
      "text/plain": [
       "                  0        1       2       3       4\n",
       "Experiment      2_4      2_4     2_4     2_4     2_4\n",
       "Temp            0.0      0.5     1.0     1.5     2.0\n",
       "p(A)          0.00%    0.00%   2.00%   8.00%  10.42%\n",
       "p(B)          0.00%    0.00%   0.00%   0.00%   0.00%\n",
       "p(C)        100.00%  100.00%  98.00%  92.00%  89.58%\n",
       "Obs.             50       50      50      50      48"
      ]
     },
     "execution_count": 49,
     "metadata": {},
     "output_type": "execute_result"
    }
   ],
   "source": [
    "results_2_4, probs_2_4 = run_decoy(decoy_function, experiment_id = \"2_4\", temperature_list = [0, 0.5, 1, 1.5, 2], n = 50, max_tokens = 1)\n",
    "probs_2_4"
   ]
  },
  {
   "cell_type": "markdown",
   "metadata": {},
   "source": [
    "-----------------------------------------"
   ]
  },
  {
   "cell_type": "markdown",
   "metadata": {},
   "source": [
    "- Prompt 5: Unprimed & all answer options, renamed & reordered"
   ]
  },
  {
   "cell_type": "code",
   "execution_count": 50,
   "metadata": {},
   "outputs": [
    {
     "name": "stdout",
     "output_type": "stream",
     "text": [
      "In this experiment, 50 requests were made per temperature value using model gpt-4-1106-preview and prompt_5.\n"
     ]
    },
    {
     "data": {
      "text/html": [
       "<div>\n",
       "<style scoped>\n",
       "    .dataframe tbody tr th:only-of-type {\n",
       "        vertical-align: middle;\n",
       "    }\n",
       "\n",
       "    .dataframe tbody tr th {\n",
       "        vertical-align: top;\n",
       "    }\n",
       "\n",
       "    .dataframe thead th {\n",
       "        text-align: right;\n",
       "    }\n",
       "</style>\n",
       "<table border=\"1\" class=\"dataframe\">\n",
       "  <thead>\n",
       "    <tr style=\"text-align: right;\">\n",
       "      <th></th>\n",
       "      <th>0</th>\n",
       "      <th>1</th>\n",
       "      <th>2</th>\n",
       "      <th>3</th>\n",
       "      <th>4</th>\n",
       "    </tr>\n",
       "  </thead>\n",
       "  <tbody>\n",
       "    <tr>\n",
       "      <th>Experiment</th>\n",
       "      <td>2_5</td>\n",
       "      <td>2_5</td>\n",
       "      <td>2_5</td>\n",
       "      <td>2_5</td>\n",
       "      <td>2_5</td>\n",
       "    </tr>\n",
       "    <tr>\n",
       "      <th>Temp</th>\n",
       "      <td>0.0</td>\n",
       "      <td>0.5</td>\n",
       "      <td>1.0</td>\n",
       "      <td>1.5</td>\n",
       "      <td>2.0</td>\n",
       "    </tr>\n",
       "    <tr>\n",
       "      <th>p(A)</th>\n",
       "      <td>0.00%</td>\n",
       "      <td>0.00%</td>\n",
       "      <td>0.00%</td>\n",
       "      <td>0.00%</td>\n",
       "      <td>0.00%</td>\n",
       "    </tr>\n",
       "    <tr>\n",
       "      <th>p(B)</th>\n",
       "      <td>0.00%</td>\n",
       "      <td>0.00%</td>\n",
       "      <td>0.00%</td>\n",
       "      <td>0.00%</td>\n",
       "      <td>0.00%</td>\n",
       "    </tr>\n",
       "    <tr>\n",
       "      <th>p(C)</th>\n",
       "      <td>100.00%</td>\n",
       "      <td>100.00%</td>\n",
       "      <td>100.00%</td>\n",
       "      <td>100.00%</td>\n",
       "      <td>100.00%</td>\n",
       "    </tr>\n",
       "    <tr>\n",
       "      <th>Obs.</th>\n",
       "      <td>50</td>\n",
       "      <td>50</td>\n",
       "      <td>50</td>\n",
       "      <td>50</td>\n",
       "      <td>48</td>\n",
       "    </tr>\n",
       "  </tbody>\n",
       "</table>\n",
       "</div>"
      ],
      "text/plain": [
       "                  0        1        2        3        4\n",
       "Experiment      2_5      2_5      2_5      2_5      2_5\n",
       "Temp            0.0      0.5      1.0      1.5      2.0\n",
       "p(A)          0.00%    0.00%    0.00%    0.00%    0.00%\n",
       "p(B)          0.00%    0.00%    0.00%    0.00%    0.00%\n",
       "p(C)        100.00%  100.00%  100.00%  100.00%  100.00%\n",
       "Obs.             50       50       50       50       48"
      ]
     },
     "execution_count": 50,
     "metadata": {},
     "output_type": "execute_result"
    }
   ],
   "source": [
    "results_2_5, probs_2_5 = run_decoy(decoy_function2, experiment_id = \"2_5\", temperature_list = [0, 0.5, 1, 1.5, 2], n = 50, max_tokens = 1)\n",
    "probs_2_5"
   ]
  },
  {
   "cell_type": "markdown",
   "metadata": {},
   "source": [
    "- Prompt 6: Unprimed & second option (decoy) removed, renamed & reordered"
   ]
  },
  {
   "cell_type": "code",
   "execution_count": 51,
   "metadata": {},
   "outputs": [
    {
     "name": "stdout",
     "output_type": "stream",
     "text": [
      "In this experiment, 50 requests were made per temperature value using model gpt-4-1106-preview and prompt_6.\n"
     ]
    },
    {
     "data": {
      "text/html": [
       "<div>\n",
       "<style scoped>\n",
       "    .dataframe tbody tr th:only-of-type {\n",
       "        vertical-align: middle;\n",
       "    }\n",
       "\n",
       "    .dataframe tbody tr th {\n",
       "        vertical-align: top;\n",
       "    }\n",
       "\n",
       "    .dataframe thead th {\n",
       "        text-align: right;\n",
       "    }\n",
       "</style>\n",
       "<table border=\"1\" class=\"dataframe\">\n",
       "  <thead>\n",
       "    <tr style=\"text-align: right;\">\n",
       "      <th></th>\n",
       "      <th>0</th>\n",
       "      <th>1</th>\n",
       "      <th>2</th>\n",
       "      <th>3</th>\n",
       "      <th>4</th>\n",
       "    </tr>\n",
       "  </thead>\n",
       "  <tbody>\n",
       "    <tr>\n",
       "      <th>Experiment</th>\n",
       "      <td>2_6</td>\n",
       "      <td>2_6</td>\n",
       "      <td>2_6</td>\n",
       "      <td>2_6</td>\n",
       "      <td>2_6</td>\n",
       "    </tr>\n",
       "    <tr>\n",
       "      <th>Temp</th>\n",
       "      <td>0.0</td>\n",
       "      <td>0.5</td>\n",
       "      <td>1.0</td>\n",
       "      <td>1.5</td>\n",
       "      <td>2.0</td>\n",
       "    </tr>\n",
       "    <tr>\n",
       "      <th>p(A)</th>\n",
       "      <td>0.00%</td>\n",
       "      <td>0.00%</td>\n",
       "      <td>0.00%</td>\n",
       "      <td>4.00%</td>\n",
       "      <td>12.00%</td>\n",
       "    </tr>\n",
       "    <tr>\n",
       "      <th>p(B)</th>\n",
       "      <td>0.00%</td>\n",
       "      <td>0.00%</td>\n",
       "      <td>0.00%</td>\n",
       "      <td>0.00%</td>\n",
       "      <td>0.00%</td>\n",
       "    </tr>\n",
       "    <tr>\n",
       "      <th>p(C)</th>\n",
       "      <td>100.00%</td>\n",
       "      <td>100.00%</td>\n",
       "      <td>100.00%</td>\n",
       "      <td>96.00%</td>\n",
       "      <td>88.00%</td>\n",
       "    </tr>\n",
       "    <tr>\n",
       "      <th>Obs.</th>\n",
       "      <td>50</td>\n",
       "      <td>50</td>\n",
       "      <td>50</td>\n",
       "      <td>50</td>\n",
       "      <td>50</td>\n",
       "    </tr>\n",
       "  </tbody>\n",
       "</table>\n",
       "</div>"
      ],
      "text/plain": [
       "                  0        1        2       3       4\n",
       "Experiment      2_6      2_6      2_6     2_6     2_6\n",
       "Temp            0.0      0.5      1.0     1.5     2.0\n",
       "p(A)          0.00%    0.00%    0.00%   4.00%  12.00%\n",
       "p(B)          0.00%    0.00%    0.00%   0.00%   0.00%\n",
       "p(C)        100.00%  100.00%  100.00%  96.00%  88.00%\n",
       "Obs.             50       50       50      50      50"
      ]
     },
     "execution_count": 51,
     "metadata": {},
     "output_type": "execute_result"
    }
   ],
   "source": [
    "results_2_6, probs_2_6 = run_decoy(decoy_function2, experiment_id = \"2_6\", temperature_list = [0, 0.5, 1, 1.5, 2], n = 50, max_tokens = 1)\n",
    "probs_2_6"
   ]
  },
  {
   "cell_type": "markdown",
   "metadata": {},
   "source": [
    "- Prompt 7: Primed & all answer options, renamed & reordered"
   ]
  },
  {
   "cell_type": "code",
   "execution_count": 52,
   "metadata": {},
   "outputs": [
    {
     "name": "stdout",
     "output_type": "stream",
     "text": [
      "In this experiment, 50 requests were made per temperature value using model gpt-4-1106-preview and prompt_7.\n"
     ]
    },
    {
     "data": {
      "text/html": [
       "<div>\n",
       "<style scoped>\n",
       "    .dataframe tbody tr th:only-of-type {\n",
       "        vertical-align: middle;\n",
       "    }\n",
       "\n",
       "    .dataframe tbody tr th {\n",
       "        vertical-align: top;\n",
       "    }\n",
       "\n",
       "    .dataframe thead th {\n",
       "        text-align: right;\n",
       "    }\n",
       "</style>\n",
       "<table border=\"1\" class=\"dataframe\">\n",
       "  <thead>\n",
       "    <tr style=\"text-align: right;\">\n",
       "      <th></th>\n",
       "      <th>0</th>\n",
       "      <th>1</th>\n",
       "      <th>2</th>\n",
       "      <th>3</th>\n",
       "      <th>4</th>\n",
       "    </tr>\n",
       "  </thead>\n",
       "  <tbody>\n",
       "    <tr>\n",
       "      <th>Experiment</th>\n",
       "      <td>2_7</td>\n",
       "      <td>2_7</td>\n",
       "      <td>2_7</td>\n",
       "      <td>2_7</td>\n",
       "      <td>2_7</td>\n",
       "    </tr>\n",
       "    <tr>\n",
       "      <th>Temp</th>\n",
       "      <td>0.0</td>\n",
       "      <td>0.5</td>\n",
       "      <td>1.0</td>\n",
       "      <td>1.5</td>\n",
       "      <td>2.0</td>\n",
       "    </tr>\n",
       "    <tr>\n",
       "      <th>p(A)</th>\n",
       "      <td>0.00%</td>\n",
       "      <td>0.00%</td>\n",
       "      <td>0.00%</td>\n",
       "      <td>0.00%</td>\n",
       "      <td>0.00%</td>\n",
       "    </tr>\n",
       "    <tr>\n",
       "      <th>p(B)</th>\n",
       "      <td>0.00%</td>\n",
       "      <td>0.00%</td>\n",
       "      <td>0.00%</td>\n",
       "      <td>0.00%</td>\n",
       "      <td>0.00%</td>\n",
       "    </tr>\n",
       "    <tr>\n",
       "      <th>p(C)</th>\n",
       "      <td>100.00%</td>\n",
       "      <td>100.00%</td>\n",
       "      <td>100.00%</td>\n",
       "      <td>100.00%</td>\n",
       "      <td>100.00%</td>\n",
       "    </tr>\n",
       "    <tr>\n",
       "      <th>Obs.</th>\n",
       "      <td>50</td>\n",
       "      <td>50</td>\n",
       "      <td>50</td>\n",
       "      <td>50</td>\n",
       "      <td>45</td>\n",
       "    </tr>\n",
       "  </tbody>\n",
       "</table>\n",
       "</div>"
      ],
      "text/plain": [
       "                  0        1        2        3        4\n",
       "Experiment      2_7      2_7      2_7      2_7      2_7\n",
       "Temp            0.0      0.5      1.0      1.5      2.0\n",
       "p(A)          0.00%    0.00%    0.00%    0.00%    0.00%\n",
       "p(B)          0.00%    0.00%    0.00%    0.00%    0.00%\n",
       "p(C)        100.00%  100.00%  100.00%  100.00%  100.00%\n",
       "Obs.             50       50       50       50       45"
      ]
     },
     "execution_count": 52,
     "metadata": {},
     "output_type": "execute_result"
    }
   ],
   "source": [
    "results_2_7, probs_2_7 = run_decoy(decoy_function2, experiment_id = \"2_7\", temperature_list = [0, 0.5, 1, 1.5, 2], n = 50, max_tokens = 1)\n",
    "probs_2_7"
   ]
  },
  {
   "cell_type": "markdown",
   "metadata": {},
   "source": [
    "- Prompt 8: Primed & second option (decoy) removed, renamed & reordered"
   ]
  },
  {
   "cell_type": "code",
   "execution_count": 111,
   "metadata": {},
   "outputs": [
    {
     "name": "stdout",
     "output_type": "stream",
     "text": [
      "In this experiment, 20 requests were made per temperature value using model gpt-4-1106-preview and prompt_8.\n"
     ]
    },
    {
     "data": {
      "text/html": [
       "<div>\n",
       "<style scoped>\n",
       "    .dataframe tbody tr th:only-of-type {\n",
       "        vertical-align: middle;\n",
       "    }\n",
       "\n",
       "    .dataframe tbody tr th {\n",
       "        vertical-align: top;\n",
       "    }\n",
       "\n",
       "    .dataframe thead th {\n",
       "        text-align: right;\n",
       "    }\n",
       "</style>\n",
       "<table border=\"1\" class=\"dataframe\">\n",
       "  <thead>\n",
       "    <tr style=\"text-align: right;\">\n",
       "      <th></th>\n",
       "      <th>0</th>\n",
       "      <th>1</th>\n",
       "      <th>2</th>\n",
       "      <th>3</th>\n",
       "      <th>4</th>\n",
       "    </tr>\n",
       "  </thead>\n",
       "  <tbody>\n",
       "    <tr>\n",
       "      <th>Experiment</th>\n",
       "      <td>2_8</td>\n",
       "      <td>2_8</td>\n",
       "      <td>2_8</td>\n",
       "      <td>2_8</td>\n",
       "      <td>2_8</td>\n",
       "    </tr>\n",
       "    <tr>\n",
       "      <th>Temp</th>\n",
       "      <td>0.0</td>\n",
       "      <td>0.5</td>\n",
       "      <td>1.0</td>\n",
       "      <td>1.5</td>\n",
       "      <td>2.0</td>\n",
       "    </tr>\n",
       "    <tr>\n",
       "      <th>p(A)</th>\n",
       "      <td>0.00%</td>\n",
       "      <td>0.00%</td>\n",
       "      <td>0.00%</td>\n",
       "      <td>0.00%</td>\n",
       "      <td>15.79%</td>\n",
       "    </tr>\n",
       "    <tr>\n",
       "      <th>p(B)</th>\n",
       "      <td>0.00%</td>\n",
       "      <td>0.00%</td>\n",
       "      <td>0.00%</td>\n",
       "      <td>0.00%</td>\n",
       "      <td>0.00%</td>\n",
       "    </tr>\n",
       "    <tr>\n",
       "      <th>p(C)</th>\n",
       "      <td>100.00%</td>\n",
       "      <td>100.00%</td>\n",
       "      <td>100.00%</td>\n",
       "      <td>100.00%</td>\n",
       "      <td>84.21%</td>\n",
       "    </tr>\n",
       "    <tr>\n",
       "      <th>Obs.</th>\n",
       "      <td>20</td>\n",
       "      <td>20</td>\n",
       "      <td>20</td>\n",
       "      <td>19</td>\n",
       "      <td>19</td>\n",
       "    </tr>\n",
       "  </tbody>\n",
       "</table>\n",
       "</div>"
      ],
      "text/plain": [
       "                  0        1        2        3       4\n",
       "Experiment      2_8      2_8      2_8      2_8     2_8\n",
       "Temp            0.0      0.5      1.0      1.5     2.0\n",
       "p(A)          0.00%    0.00%    0.00%    0.00%  15.79%\n",
       "p(B)          0.00%    0.00%    0.00%    0.00%   0.00%\n",
       "p(C)        100.00%  100.00%  100.00%  100.00%  84.21%\n",
       "Obs.             20       20       20       19      19"
      ]
     },
     "execution_count": 111,
     "metadata": {},
     "output_type": "execute_result"
    }
   ],
   "source": [
    "results_2_8, probs_2_8 = run_decoy(decoy_function2, experiment_id = \"2_8\", temperature_list = [0, 0.5, 1, 1.5, 2], n = 20, max_tokens = 1)\n",
    "probs_2_8"
   ]
  },
  {
   "cell_type": "code",
   "execution_count": 112,
   "metadata": {},
   "outputs": [
    {
     "data": {
      "image/png": "[encoded data removed]",
      "text/plain": [
       "<Figure size 1000x500 with 1 Axes>"
      ]
     },
     "metadata": {},
     "output_type": "display_data"
    }
   ],
   "source": [
    "plot_results(probs_2_8)"
   ]
  },
  {
   "cell_type": "code",
   "execution_count": null,
   "metadata": {},
   "outputs": [],
   "source": [
    "# Check if priming actually works\n",
    "answer = []\n",
    "response = client.chat.completions.create(\n",
    "        model = \"gpt-3.5-turbo\",\n",
    "        max_tokens = 100,\n",
    "        temperature = 1, # range is 0 to 2\n",
    "        messages = [\n",
    "        {\"role\": \"user\", \"content\": \"\"\"Do you know about the Decoy Effect?\"\"\"},\n",
    "                   ])\n",
    "# Store the answer in the list\n",
    "answer = response.choices[0].message.content\n",
    "\n",
    "answer"
   ]
  },
  {
   "cell_type": "markdown",
   "metadata": {},
   "source": [
    "-----------------------------------------------------"
   ]
  },
  {
   "cell_type": "markdown",
   "metadata": {},
   "source": []
  },
  {
   "cell_type": "markdown",
   "metadata": {},
   "source": [
    "Motivated by the I-bias experiment, we now examine whether labeling bias can be mitigated by using\n",
    "letters that have similar frequency in written English. Therefore, instead of assigning to choices the\n",
    "labels “A”, “B”, etc. we assign the following labels: “R”, “S”, “N”, “L”, “O”, “T”, “M”, “P”, “W”, “U”, “Y”,\n",
    "“V” - Mendler-Dünner paper "
   ]
  }
 ],
 "metadata": {
  "kernelspec": {
   "display_name": "Python 3",
   "language": "python",
   "name": "python3"
  },
  "language_info": {
   "codemirror_mode": {
    "name": "ipython",
    "version": 3
   },
   "file_extension": ".py",
   "mimetype": "text/x-python",
   "name": "python",
   "nbconvert_exporter": "python",
   "pygments_lexer": "ipython3",
   "version": "3.11.6"
  }
 },
 "nbformat": 4,
 "nbformat_minor": 2
}
